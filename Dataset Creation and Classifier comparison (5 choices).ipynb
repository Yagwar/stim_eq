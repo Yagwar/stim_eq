{
 "cells": [
  {
   "cell_type": "markdown",
   "metadata": {
    "collapsed": true
   },
   "source": [
    "# EQUIVALENCE CLASS:\n",
    "A stimulus class (usually produced through conditional discrimination in matching-to-sample) that includes all possible emergent relations among its members. The properties of an equivalence class are derived from the logical relations of reflexivity, symmetry, and transitivity. **Reflexivity** *refers to the matching of a sample to itself*, sometimes called identity matching (AA, BB, CC, in these examples, each letter pair represents a sample and its matching comparison stimulus). **Symmetry** *refers to the reversibility of a relation (if AB, then BA)*. **Transitivity** *refers to the transfer of the relation to new combinations through shared membership (if AB and BC, then AC)*. \n",
    "If these properties are characteristics of a matching to-sample performance, then training AB and BC may produce AC, BA, CA, and CB as emergent relations (reflexivity provides the three other possible relations, AA, BB, and CC). Given AB and BC, for example, the combination of symmetry and transitivity implies the CA relation. The emergence of all possible stimulus relations after only AB and BC are trained through contingencies is the criterion for calling the three stimuli members of an equivalence class. The class can be extended by training new stimulus relations (e.g., if CD is learned, then AD, DA, BD, DB, and DC may be created as emergent relations). Stimuli that are members of an equivalence class are likely also to be functionally equivalent. It remains to be seen whether the logical properties of these classes are fully consistent with their behavioral ones. Cf. ** EQUIVALENCE RELATION**. ([source](http://www.scienceofbehavior.com/lms/mod/glossary/view.php?id=408&mode=letter&hook=E&sortkey=CREATION&sortorder=asc&fullsearch=0&page=3))\n",
    "([Video](https://www.youtube.com/watch?v=En2OgGOICbA))\n"
   ]
  },
  {
   "cell_type": "markdown",
   "metadata": {},
   "source": [
    "# Libraries"
   ]
  },
  {
   "cell_type": "code",
   "execution_count": 1,
   "metadata": {
    "collapsed": true
   },
   "outputs": [],
   "source": [
    "import numpy as np\n",
    "import pandas as pd\n",
    "import random\n",
    "import matplotlib.pyplot as plt\n",
    "from matplotlib.colors import ListedColormap\n",
    "from sklearn.model_selection import train_test_split\n",
    "from sklearn.neural_network import MLPClassifier\n",
    "from sklearn.neighbors import KNeighborsClassifier\n",
    "from sklearn.svm import SVC\n",
    "from sklearn.gaussian_process import GaussianProcessClassifier\n",
    "from sklearn.gaussian_process.kernels import RBF\n",
    "from sklearn.tree import DecisionTreeClassifier\n",
    "from sklearn.ensemble import RandomForestClassifier, AdaBoostClassifier\n",
    "from sklearn.naive_bayes import GaussianNB\n",
    "from sklearn.discriminant_analysis import QuadraticDiscriminantAnalysis\n",
    "\n",
    "from sklearn.multiclass import OneVsRestClassifier\n",
    "from sklearn.metrics import average_precision_score\n",
    "\n",
    "%matplotlib inline\n",
    "plt.style.use('seaborn')"
   ]
  },
  {
   "cell_type": "code",
   "execution_count": 2,
   "metadata": {
    "collapsed": true
   },
   "outputs": [],
   "source": [
    "def view_trial(trial_labels,trial_values,trial_ans, n_trial):\n",
    "    print (n_trial,len(trial_labels))\n",
    "    print (np.array(trial_values[n_trial]).reshape((6,3,6)))\n",
    "    print (trial_labels[n_trial])\n",
    "    print (trial_ans[n_trial])\n",
    "\n",
    "def create_trials(stims,pair):\n",
    "    #Take a set of stimuli and a set of pairs, then find the mode (letter) of the comparatosr and combines them.\n",
    "    filt_tr=[pair[1][0]==stim[0] for stim in stims.keys()]# filter the simulus of the mode of the comparator\n",
    "    comprs=np.array(stims.keys())[filt_tr] # Get the set of comparators\n",
    "    comprs_set_1=np.array([[p,q,r,s,t]for p in comprs for q in comprs for r in comprs for s in comprs for t in comprs])# all the combinations of the comparators\n",
    "    comprs_filt=[(np.sum(cmpr_set==pair[1])==1) for cmpr_set in comprs_set_1]#==1 for the presence of the target comparator ## <2 for target comparator and no answer.\n",
    "    comprs_set=comprs_set_1[comprs_filt]# filtered set of comparators with the sample presented just once.\n",
    "    train_labels=np.insert(comprs_set,0, pair[0], axis=1)# train labels with sample and comparators\n",
    "    train_answers=np.array([(tr_lbl==pair[1])*1 for tr_lbl in comprs_set]) # Encoded answers for the trials. \n",
    "    train_values=np.array([[stims[stml]for stml in stmls] for stmls in train_labels]).reshape(len(train_labels),(6*18))# create a list of the encoded values of the trial\n",
    "    return train_labels,train_values,train_answers\n",
    "\n",
    "def create_set(trials_pairs, stims):\n",
    "    trialset=[create_trials(stims,pair) for pair in trials_pairs]\n",
    "    labels=np.array([tr_lb for tr_pr in trialset for tr_lb in tr_pr[0]])\n",
    "    values=np.array([tr_lb for tr_pr in trialset for tr_lb in tr_pr[1]])\n",
    "    answer=np.array([tr_lb for tr_pr in trialset for tr_lb in tr_pr[2]])\n",
    "    return labels,values,answer"
   ]
  },
  {
   "cell_type": "code",
   "execution_count": 3,
   "metadata": {
    "collapsed": true
   },
   "outputs": [],
   "source": [
    "stims={\"A1\":[1,0,0,0,0,0,0,0,0,0,0,0,0,0,0,0,0,0],\n",
    "       \"A2\":[0,1,0,0,0,0,0,0,0,0,0,0,0,0,0,0,0,0],\n",
    "       \"A3\":[0,0,1,0,0,0,0,0,0,0,0,0,0,0,0,0,0,0],\n",
    "       \"A4\":[0,0,0,1,0,0,0,0,0,0,0,0,0,0,0,0,0,0],\n",
    "       \"A5\":[0,0,0,0,1,0,0,0,0,0,0,0,0,0,0,0,0,0],\n",
    "       \"A6\":[0,0,0,0,0,1,0,0,0,0,0,0,0,0,0,0,0,0],\n",
    "       \"B1\":[0,0,0,0,0,0,1,0,0,0,0,0,0,0,0,0,0,0],\n",
    "       \"B2\":[0,0,0,0,0,0,0,1,0,0,0,0,0,0,0,0,0,0],\n",
    "       \"B3\":[0,0,0,0,0,0,0,0,1,0,0,0,0,0,0,0,0,0],\n",
    "       \"B4\":[0,0,0,0,0,0,0,0,0,1,0,0,0,0,0,0,0,0],\n",
    "       \"B5\":[0,0,0,0,0,0,0,0,0,0,1,0,0,0,0,0,0,0],\n",
    "       \"B6\":[0,0,0,0,0,0,0,0,0,0,0,1,0,0,0,0,0,0],\n",
    "       \"C1\":[0,0,0,0,0,0,0,0,0,0,0,0,1,0,0,0,0,0],\n",
    "       \"C2\":[0,0,0,0,0,0,0,0,0,0,0,0,0,1,0,0,0,0],\n",
    "       \"C3\":[0,0,0,0,0,0,0,0,0,0,0,0,0,0,1,0,0,0],\n",
    "       \"C4\":[0,0,0,0,0,0,0,0,0,0,0,0,0,0,0,1,0,0],\n",
    "       \"C5\":[0,0,0,0,0,0,0,0,0,0,0,0,0,0,0,0,1,0],\n",
    "       \"C6\":[0,0,0,0,0,0,0,0,0,0,0,0,0,0,0,0,0,1]\n",
    "      }\n",
    "\n",
    "options={\"O_1\":[1,0,0,0,0],\n",
    "         \"O_2\":[0,1,0,0,0],\n",
    "         \"O_3\":[0,0,1,0,0],\n",
    "         \"O_4\":[0,0,0,1,0],\n",
    "         \"O_5\":[0,0,0,0,1],\n",
    "         \"O_0\":[0,0,0,0,0],\n",
    "        }\n"
   ]
  },
  {
   "cell_type": "markdown",
   "metadata": {},
   "source": [
    "## Clasifiers"
   ]
  },
  {
   "cell_type": "code",
   "execution_count": 4,
   "metadata": {
    "collapsed": true
   },
   "outputs": [],
   "source": [
    "h = .02  # step size in the mesh\n",
    "\n",
    "names = [\n",
    "    \"Nearest Neighbors\", \n",
    "    \"Linear SVM\", \n",
    "    \"RBF SVM\", \n",
    "#    \"Gaussian Process\",\n",
    "    \"Decision Tree\", \n",
    "    \"Random Forest\", \n",
    "    \"Neural Net\", \n",
    "    \"AdaBoost\",\n",
    "    \"Naive Bayes\", \n",
    "    \"QDA\"\n",
    "]\n",
    "\n",
    "classifiers = [\n",
    "    KNeighborsClassifier(3),\n",
    "    SVC(kernel=\"linear\", C=0.025),\n",
    "    SVC(gamma=2, C=1),\n",
    "#    GaussianProcessClassifier(1.0 * RBF(1.0), warm_start=True),\n",
    "    DecisionTreeClassifier(max_depth=5),\n",
    "    RandomForestClassifier(max_depth=5, n_estimators=10, max_features=1),\n",
    "    MLPClassifier(alpha=1),\n",
    "    AdaBoostClassifier(),\n",
    "    GaussianNB(),\n",
    "    QuadraticDiscriminantAnalysis()\n",
    "]"
   ]
  },
  {
   "cell_type": "markdown",
   "metadata": {},
   "source": [
    "# Trainning \n",
    "### Relation $A_{n}-B_{n}$ and $B_{n}-C_{n}$"
   ]
  },
  {
   "cell_type": "code",
   "execution_count": 5,
   "metadata": {
    "collapsed": true
   },
   "outputs": [],
   "source": [
    "train_pairs=np.array([[\"A1\",\"B1\"],[\"B1\",\"C1\"],\n",
    "                      [\"A2\",\"B2\"],[\"B2\",\"C2\"],\n",
    "                      [\"A3\",\"B3\"],[\"B3\",\"C3\"],\n",
    "                      [\"A4\",\"B4\"],[\"B4\",\"C4\"],\n",
    "                      [\"A5\",\"B5\"],[\"B5\",\"C5\"],\n",
    "                      [\"A6\",\"B6\"],[\"B6\",\"C6\"]\n",
    "                     ])"
   ]
  },
  {
   "cell_type": "code",
   "execution_count": 6,
   "metadata": {
    "collapsed": true
   },
   "outputs": [],
   "source": [
    "train_labels,train_values,train_answer=create_set(train_pairs, stims)"
   ]
  },
  {
   "cell_type": "code",
   "execution_count": 7,
   "metadata": {},
   "outputs": [
    {
     "name": "stdout",
     "output_type": "stream",
     "text": [
      "(4061, 37500)\n",
      "[[[0 0 0 0 0 0]\n",
      "  [1 0 0 0 0 0]\n",
      "  [0 0 0 0 0 0]]\n",
      "\n",
      " [[0 0 0 0 0 0]\n",
      "  [0 0 0 0 0 0]\n",
      "  [0 1 0 0 0 0]]\n",
      "\n",
      " [[0 0 0 0 0 0]\n",
      "  [0 0 0 0 0 0]\n",
      "  [0 0 0 0 1 0]]\n",
      "\n",
      " [[0 0 0 0 0 0]\n",
      "  [0 0 0 0 0 0]\n",
      "  [0 1 0 0 0 0]]\n",
      "\n",
      " [[0 0 0 0 0 0]\n",
      "  [0 0 0 0 0 0]\n",
      "  [0 1 0 0 0 0]]\n",
      "\n",
      " [[0 0 0 0 0 0]\n",
      "  [0 0 0 0 0 0]\n",
      "  [1 0 0 0 0 0]]]\n",
      "['B1' 'C2' 'C5' 'C2' 'C2' 'C1']\n",
      "[0 0 0 0 1]\n"
     ]
    }
   ],
   "source": [
    "view_trial(train_labels,train_values,train_answer,random.randrange(len(train_labels)))"
   ]
  },
  {
   "cell_type": "markdown",
   "metadata": {},
   "source": [
    "### Full Dataset Trainning"
   ]
  },
  {
   "cell_type": "code",
   "execution_count": 8,
   "metadata": {},
   "outputs": [
    {
     "name": "stdout",
     "output_type": "stream",
     "text": [
      "('Nearest Neighbors', 0.98784000000000005)\n",
      "('Linear SVM', 0.59999999999999998)\n",
      "('RBF SVM', 1.0)\n",
      "('Decision Tree', 0.61974129353233842)\n",
      "('Random Forest', 0.59999999999999998)\n",
      "('Neural Net', 1.0)\n",
      "('AdaBoost', 0.59999999999999998)\n",
      "('Naive Bayes', 0.59999999999999998)\n"
     ]
    },
    {
     "name": "stderr",
     "output_type": "stream",
     "text": [
      "/home/yagwar/anaconda2/lib/python2.7/site-packages/sklearn/discriminant_analysis.py:695: UserWarning: Variables are collinear\n",
      "  warnings.warn(\"Variables are collinear\")\n"
     ]
    },
    {
     "name": "stdout",
     "output_type": "stream",
     "text": [
      "('QDA', 0.9305066666666667)\n"
     ]
    }
   ],
   "source": [
    "avg_scores_train=[]\n",
    "train_clasif=[]\n",
    "for name, clf in zip(names, classifiers):\n",
    "    clasif=OneVsRestClassifier(clf).fit(train_values, train_answer)\n",
    "    train_clasif.append(clasif)\n",
    "    scr=average_precision_score(train_answer,clasif.predict(train_values))\n",
    "    avg_scores_train.append(scr)\n",
    "    print(name,scr)"
   ]
  },
  {
   "cell_type": "code",
   "execution_count": 9,
   "metadata": {},
   "outputs": [
    {
     "data": {
      "text/plain": [
       "[OneVsRestClassifier(estimator=KNeighborsClassifier(algorithm='auto', leaf_size=30, metric='minkowski',\n",
       "            metric_params=None, n_jobs=1, n_neighbors=3, p=2,\n",
       "            weights='uniform'),\n",
       "           n_jobs=1),\n",
       " OneVsRestClassifier(estimator=SVC(C=0.025, cache_size=200, class_weight=None, coef0=0.0,\n",
       "   decision_function_shape=None, degree=3, gamma='auto', kernel='linear',\n",
       "   max_iter=-1, probability=False, random_state=None, shrinking=True,\n",
       "   tol=0.001, verbose=False),\n",
       "           n_jobs=1),\n",
       " OneVsRestClassifier(estimator=SVC(C=1, cache_size=200, class_weight=None, coef0=0.0,\n",
       "   decision_function_shape=None, degree=3, gamma=2, kernel='rbf',\n",
       "   max_iter=-1, probability=False, random_state=None, shrinking=True,\n",
       "   tol=0.001, verbose=False),\n",
       "           n_jobs=1),\n",
       " OneVsRestClassifier(estimator=DecisionTreeClassifier(class_weight=None, criterion='gini', max_depth=5,\n",
       "             max_features=None, max_leaf_nodes=None,\n",
       "             min_impurity_split=1e-07, min_samples_leaf=1,\n",
       "             min_samples_split=2, min_weight_fraction_leaf=0.0,\n",
       "             presort=False, random_state=None, splitter='best'),\n",
       "           n_jobs=1),\n",
       " OneVsRestClassifier(estimator=RandomForestClassifier(bootstrap=True, class_weight=None, criterion='gini',\n",
       "             max_depth=5, max_features=1, max_leaf_nodes=None,\n",
       "             min_impurity_split=1e-07, min_samples_leaf=1,\n",
       "             min_samples_split=2, min_weight_fraction_leaf=0.0,\n",
       "             n_estimators=10, n_jobs=1, oob_score=False, random_state=None,\n",
       "             verbose=0, warm_start=False),\n",
       "           n_jobs=1),\n",
       " OneVsRestClassifier(estimator=MLPClassifier(activation='relu', alpha=1, batch_size='auto', beta_1=0.9,\n",
       "        beta_2=0.999, early_stopping=False, epsilon=1e-08,\n",
       "        hidden_layer_sizes=(100,), learning_rate='constant',\n",
       "        learning_rate_init=0.001, max_iter=200, momentum=0.9,\n",
       "        nesterovs_momentum=True, power_t=0.5, random_state=None,\n",
       "        shuffle=True, solver='adam', tol=0.0001, validation_fraction=0.1,\n",
       "        verbose=False, warm_start=False),\n",
       "           n_jobs=1),\n",
       " OneVsRestClassifier(estimator=AdaBoostClassifier(algorithm='SAMME.R', base_estimator=None,\n",
       "           learning_rate=1.0, n_estimators=50, random_state=None),\n",
       "           n_jobs=1),\n",
       " OneVsRestClassifier(estimator=GaussianNB(priors=None), n_jobs=1),\n",
       " OneVsRestClassifier(estimator=QuadraticDiscriminantAnalysis(priors=None, reg_param=0.0,\n",
       "                store_covariances=False, tol=0.0001),\n",
       "           n_jobs=1)]"
      ]
     },
     "execution_count": 9,
     "metadata": {},
     "output_type": "execute_result"
    }
   ],
   "source": [
    "train_clasif"
   ]
  },
  {
   "cell_type": "markdown",
   "metadata": {},
   "source": [
    "# Reflexivity evaluation\n",
    "\n",
    "### Given the sample stimulus $A_{n}$ the agent must select $A_{n}$ among the comparator stimuli"
   ]
  },
  {
   "cell_type": "code",
   "execution_count": 10,
   "metadata": {
    "collapsed": true
   },
   "outputs": [],
   "source": [
    "reflexiv_pairs=np.array([[stm,stm]for stm in stims])\n",
    "reflexivity_labels, reflexivity_values, reflexivity_answer =create_set(reflexiv_pairs, stims)"
   ]
  },
  {
   "cell_type": "code",
   "execution_count": 15,
   "metadata": {},
   "outputs": [
    {
     "name": "stdout",
     "output_type": "stream",
     "text": [
      "(52446, 56250)\n",
      "[[[0 0 0 0 0 0]\n",
      "  [0 0 0 0 0 0]\n",
      "  [0 0 0 0 1 0]]\n",
      "\n",
      " [[0 0 0 0 0 0]\n",
      "  [0 0 0 0 0 0]\n",
      "  [0 0 0 0 0 1]]\n",
      "\n",
      " [[0 0 0 0 0 0]\n",
      "  [0 0 0 0 0 0]\n",
      "  [0 0 0 0 1 0]]\n",
      "\n",
      " [[0 0 0 0 0 0]\n",
      "  [0 0 0 0 0 0]\n",
      "  [1 0 0 0 0 0]]\n",
      "\n",
      " [[0 0 0 0 0 0]\n",
      "  [0 0 0 0 0 0]\n",
      "  [0 0 0 0 0 1]]\n",
      "\n",
      " [[0 0 0 0 0 0]\n",
      "  [0 0 0 0 0 0]\n",
      "  [0 1 0 0 0 0]]]\n",
      "['C5' 'C6' 'C5' 'C1' 'C6' 'C2']\n",
      "[0 1 0 0 0]\n"
     ]
    }
   ],
   "source": [
    "view_trial(reflexivity_labels,reflexivity_values,reflexivity_answer,random.randrange(len(reflexivity_labels)))"
   ]
  },
  {
   "cell_type": "code",
   "execution_count": 16,
   "metadata": {},
   "outputs": [
    {
     "name": "stdout",
     "output_type": "stream",
     "text": [
      "('Nearest Neighbors', 0.34972614525320139)\n",
      "('Linear SVM', 0.59999999999999998)\n",
      "('RBF SVM', 0.59999999999999998)\n",
      "('Decision Tree', 0.37866666666666665)\n",
      "('Random Forest', 0.59999999999999998)\n",
      "('Neural Net', 0.59999999999999998)\n",
      "('AdaBoost', 0.59999999999999998)\n",
      "('Naive Bayes', 0.59999999999999998)\n",
      "('QDA', 0.34845654435421486)\n"
     ]
    }
   ],
   "source": [
    "avg_scores_reflexivity=[]\n",
    "for name, clasif in zip(names, train_clasif):\n",
    "    scr=average_precision_score(reflexivity_answer,clasif.predict(reflexivity_values))\n",
    "    avg_scores_reflexivity.append(scr)\n",
    "    print(name,scr)"
   ]
  },
  {
   "cell_type": "markdown",
   "metadata": {},
   "source": [
    "# Symmetry evaluation\n",
    "### Given the trainning pairs, the agent must select the comparator $A_{n}$ in presence of the sample $B_{n}$  and the comparator $B_{n}$ in presence of the sample $C_{n}$ "
   ]
  },
  {
   "cell_type": "code",
   "execution_count": 18,
   "metadata": {
    "collapsed": true
   },
   "outputs": [],
   "source": [
    "symmetry_pairs=np.array([[tr_pr[1],tr_pr[0]]for tr_pr in train_pairs])\n",
    "symmetry_labels, symmetry_values, symmetry_answer =create_set(symmetry_pairs, stims)"
   ]
  },
  {
   "cell_type": "code",
   "execution_count": 19,
   "metadata": {},
   "outputs": [
    {
     "name": "stdout",
     "output_type": "stream",
     "text": [
      "(21464, 37500)\n",
      "[[[0 0 0 0 0 0]\n",
      "  [0 0 0 1 0 0]\n",
      "  [0 0 0 0 0 0]]\n",
      "\n",
      " [[0 0 0 0 0 1]\n",
      "  [0 0 0 0 0 0]\n",
      "  [0 0 0 0 0 0]]\n",
      "\n",
      " [[0 0 1 0 0 0]\n",
      "  [0 0 0 0 0 0]\n",
      "  [0 0 0 0 0 0]]\n",
      "\n",
      " [[0 0 1 0 0 0]\n",
      "  [0 0 0 0 0 0]\n",
      "  [0 0 0 0 0 0]]\n",
      "\n",
      " [[0 0 0 1 0 0]\n",
      "  [0 0 0 0 0 0]\n",
      "  [0 0 0 0 0 0]]\n",
      "\n",
      " [[1 0 0 0 0 0]\n",
      "  [0 0 0 0 0 0]\n",
      "  [0 0 0 0 0 0]]]\n",
      "['B4' 'A6' 'A3' 'A3' 'A4' 'A1']\n",
      "[0 0 0 1 0]\n"
     ]
    }
   ],
   "source": [
    "view_trial(symmetry_labels,symmetry_values,symmetry_answer,random.randrange(len(symmetry_labels)))"
   ]
  },
  {
   "cell_type": "code",
   "execution_count": 20,
   "metadata": {},
   "outputs": [
    {
     "name": "stdout",
     "output_type": "stream",
     "text": [
      "('Nearest Neighbors', 0.35151462143649342)\n",
      "('Linear SVM', 0.59999999999999998)\n",
      "('RBF SVM', 0.59999999999999998)\n",
      "('Decision Tree', 0.4674666666666667)\n",
      "('Random Forest', 0.59999999999999998)\n",
      "('Neural Net', 0.59999999999999998)\n",
      "('AdaBoost', 0.59999999999999998)\n",
      "('Naive Bayes', 0.59999999999999998)\n",
      "('QDA', 0.41690384626279126)\n"
     ]
    }
   ],
   "source": [
    "avg_scores_symmetry=[]\n",
    "for name, clasif in zip(names, train_clasif):\n",
    "    scr=average_precision_score(symmetry_answer,clasif.predict(symmetry_values))\n",
    "    avg_scores_symmetry.append(scr)\n",
    "    print(name,scr)"
   ]
  },
  {
   "cell_type": "markdown",
   "metadata": {},
   "source": [
    "# Transitivity\n",
    "### Given the trainning pairs, the agent must select the comparator $C_{n}$ in presence of the sample $A_{n}$"
   ]
  },
  {
   "cell_type": "code",
   "execution_count": 21,
   "metadata": {
    "collapsed": true
   },
   "outputs": [],
   "source": [
    "transitivity_pairs=np.array([[\"A1\",\"C1\"],\n",
    "                             [\"A2\",\"C2\"],\n",
    "                             [\"A3\",\"C3\"],\n",
    "                             [\"A4\",\"C4\"],\n",
    "                             [\"A5\",\"C5\"],\n",
    "                             [\"A6\",\"C6\"]\n",
    "                            ])"
   ]
  },
  {
   "cell_type": "code",
   "execution_count": 22,
   "metadata": {
    "collapsed": true
   },
   "outputs": [],
   "source": [
    "transitivity_labels, transitivity_values, transitivity_answer =create_set(transitivity_pairs, stims)"
   ]
  },
  {
   "cell_type": "code",
   "execution_count": 27,
   "metadata": {},
   "outputs": [
    {
     "name": "stdout",
     "output_type": "stream",
     "text": [
      "(11688, 12500)\n",
      "[[[0 0 0 1 0 0]\n",
      "  [0 0 0 0 0 0]\n",
      "  [0 0 0 0 0 0]]\n",
      "\n",
      " [[0 0 0 0 0 0]\n",
      "  [0 0 0 0 0 0]\n",
      "  [0 0 0 0 0 1]]\n",
      "\n",
      " [[0 0 0 0 0 0]\n",
      "  [0 0 0 0 0 0]\n",
      "  [1 0 0 0 0 0]]\n",
      "\n",
      " [[0 0 0 0 0 0]\n",
      "  [0 0 0 0 0 0]\n",
      "  [0 0 0 1 0 0]]\n",
      "\n",
      " [[0 0 0 0 0 0]\n",
      "  [0 0 0 0 0 0]\n",
      "  [0 1 0 0 0 0]]\n",
      "\n",
      " [[0 0 0 0 0 0]\n",
      "  [0 0 0 0 0 0]\n",
      "  [0 0 0 0 0 1]]]\n",
      "['A4' 'C6' 'C1' 'C4' 'C2' 'C6']\n",
      "[0 0 1 0 0]\n"
     ]
    }
   ],
   "source": [
    "view_trial(transitivity_labels,transitivity_values,transitivity_answer,random.randrange(len(transitivity_labels)))"
   ]
  },
  {
   "cell_type": "code",
   "execution_count": 23,
   "metadata": {},
   "outputs": [
    {
     "name": "stdout",
     "output_type": "stream",
     "text": [
      "('Nearest Neighbors', 0.29723207739052071)\n",
      "('Linear SVM', 0.59999999999999998)\n",
      "('RBF SVM', 0.59999999999999998)\n",
      "('Decision Tree', 0.51223111111111108)\n",
      "('Random Forest', 0.59999999999999998)\n",
      "('Neural Net', 0.59999999999999998)\n",
      "('AdaBoost', 0.59999999999999998)\n",
      "('Naive Bayes', 0.59999999999999998)\n",
      "('QDA', 0.59999999999999998)\n"
     ]
    }
   ],
   "source": [
    "avg_scores_transitivity=[]\n",
    "for name, clasif in zip(names, train_clasif):\n",
    "    scr=average_precision_score(transitivity_answer,clasif.predict(transitivity_values))\n",
    "    avg_scores_transitivity.append(scr)\n",
    "    print(name,scr)"
   ]
  },
  {
   "cell_type": "markdown",
   "metadata": {},
   "source": [
    "# Equivalence\n",
    "### Given the trainning pairs, the agent must select the comparator $A_{n}$ in presence of the sample $C_{n}$"
   ]
  },
  {
   "cell_type": "code",
   "execution_count": 24,
   "metadata": {
    "collapsed": true
   },
   "outputs": [],
   "source": [
    "equivalence_pairs=np.array([[tr_pr[1],tr_pr[0]]for tr_pr in transitivity_pairs])"
   ]
  },
  {
   "cell_type": "code",
   "execution_count": 25,
   "metadata": {
    "collapsed": true
   },
   "outputs": [],
   "source": [
    "equivalence_labels, equivalence_values, equivalence_answer =create_set(equivalence_pairs, stims)"
   ]
  },
  {
   "cell_type": "code",
   "execution_count": 28,
   "metadata": {},
   "outputs": [
    {
     "name": "stdout",
     "output_type": "stream",
     "text": [
      "(3004, 12500)\n",
      "[[[0 0 0 0 0 0]\n",
      "  [0 0 0 0 0 0]\n",
      "  [1 0 0 0 0 0]]\n",
      "\n",
      " [[0 0 0 0 0 1]\n",
      "  [0 0 0 0 0 0]\n",
      "  [0 0 0 0 0 0]]\n",
      "\n",
      " [[0 0 0 1 0 0]\n",
      "  [0 0 0 0 0 0]\n",
      "  [0 0 0 0 0 0]]\n",
      "\n",
      " [[0 0 1 0 0 0]\n",
      "  [0 0 0 0 0 0]\n",
      "  [0 0 0 0 0 0]]\n",
      "\n",
      " [[1 0 0 0 0 0]\n",
      "  [0 0 0 0 0 0]\n",
      "  [0 0 0 0 0 0]]\n",
      "\n",
      " [[0 0 0 0 0 1]\n",
      "  [0 0 0 0 0 0]\n",
      "  [0 0 0 0 0 0]]]\n",
      "['C1' 'A6' 'A4' 'A3' 'A1' 'A6']\n",
      "[0 0 0 1 0]\n"
     ]
    }
   ],
   "source": [
    "view_trial(equivalence_labels,equivalence_values,equivalence_answer,random.randrange(len(equivalence_labels)))"
   ]
  },
  {
   "cell_type": "code",
   "execution_count": 26,
   "metadata": {},
   "outputs": [
    {
     "name": "stdout",
     "output_type": "stream",
     "text": [
      "('Nearest Neighbors', 0.59999999999999998)\n",
      "('Linear SVM', 0.59999999999999998)\n",
      "('RBF SVM', 0.59999999999999998)\n",
      "('Decision Tree', 0.59999999999999998)\n",
      "('Random Forest', 0.59999999999999998)\n",
      "('Neural Net', 0.59999999999999998)\n",
      "('AdaBoost', 0.59999999999999998)\n",
      "('Naive Bayes', 0.59999999999999998)\n",
      "('QDA', 0.46113539861485553)\n"
     ]
    }
   ],
   "source": [
    "avg_scores_equivalence=[]\n",
    "for name, clasif in zip(names, train_clasif):\n",
    "    scr=average_precision_score(equivalence_answer,clasif.predict(equivalence_values))\n",
    "    avg_scores_equivalence.append(scr)\n",
    "    print(name,scr)"
   ]
  },
  {
   "cell_type": "markdown",
   "metadata": {},
   "source": [
    "# Results"
   ]
  },
  {
   "cell_type": "code",
   "execution_count": 29,
   "metadata": {},
   "outputs": [
    {
     "data": {
      "text/html": [
       "<div>\n",
       "<style>\n",
       "    .dataframe thead tr:only-child th {\n",
       "        text-align: right;\n",
       "    }\n",
       "\n",
       "    .dataframe thead th {\n",
       "        text-align: left;\n",
       "    }\n",
       "\n",
       "    .dataframe tbody tr th {\n",
       "        vertical-align: top;\n",
       "    }\n",
       "</style>\n",
       "<table border=\"1\" class=\"dataframe\">\n",
       "  <thead>\n",
       "    <tr style=\"text-align: right;\">\n",
       "      <th></th>\n",
       "      <th>Train</th>\n",
       "      <th>Reflexivity</th>\n",
       "      <th>Symmetry</th>\n",
       "      <th>Transitivity</th>\n",
       "      <th>Equivalence</th>\n",
       "    </tr>\n",
       "  </thead>\n",
       "  <tbody>\n",
       "    <tr>\n",
       "      <th>Nearest Neighbors</th>\n",
       "      <td>0.987840</td>\n",
       "      <td>0.349726</td>\n",
       "      <td>0.351515</td>\n",
       "      <td>0.297232</td>\n",
       "      <td>0.600000</td>\n",
       "    </tr>\n",
       "    <tr>\n",
       "      <th>Linear SVM</th>\n",
       "      <td>0.600000</td>\n",
       "      <td>0.600000</td>\n",
       "      <td>0.600000</td>\n",
       "      <td>0.600000</td>\n",
       "      <td>0.600000</td>\n",
       "    </tr>\n",
       "    <tr>\n",
       "      <th>RBF SVM</th>\n",
       "      <td>1.000000</td>\n",
       "      <td>0.600000</td>\n",
       "      <td>0.600000</td>\n",
       "      <td>0.600000</td>\n",
       "      <td>0.600000</td>\n",
       "    </tr>\n",
       "    <tr>\n",
       "      <th>Decision Tree</th>\n",
       "      <td>0.619741</td>\n",
       "      <td>0.378667</td>\n",
       "      <td>0.467467</td>\n",
       "      <td>0.512231</td>\n",
       "      <td>0.600000</td>\n",
       "    </tr>\n",
       "    <tr>\n",
       "      <th>Random Forest</th>\n",
       "      <td>0.600000</td>\n",
       "      <td>0.600000</td>\n",
       "      <td>0.600000</td>\n",
       "      <td>0.600000</td>\n",
       "      <td>0.600000</td>\n",
       "    </tr>\n",
       "    <tr>\n",
       "      <th>Neural Net</th>\n",
       "      <td>1.000000</td>\n",
       "      <td>0.600000</td>\n",
       "      <td>0.600000</td>\n",
       "      <td>0.600000</td>\n",
       "      <td>0.600000</td>\n",
       "    </tr>\n",
       "    <tr>\n",
       "      <th>AdaBoost</th>\n",
       "      <td>0.600000</td>\n",
       "      <td>0.600000</td>\n",
       "      <td>0.600000</td>\n",
       "      <td>0.600000</td>\n",
       "      <td>0.600000</td>\n",
       "    </tr>\n",
       "    <tr>\n",
       "      <th>Naive Bayes</th>\n",
       "      <td>0.600000</td>\n",
       "      <td>0.600000</td>\n",
       "      <td>0.600000</td>\n",
       "      <td>0.600000</td>\n",
       "      <td>0.600000</td>\n",
       "    </tr>\n",
       "    <tr>\n",
       "      <th>QDA</th>\n",
       "      <td>0.930507</td>\n",
       "      <td>0.348457</td>\n",
       "      <td>0.416904</td>\n",
       "      <td>0.600000</td>\n",
       "      <td>0.461135</td>\n",
       "    </tr>\n",
       "  </tbody>\n",
       "</table>\n",
       "</div>"
      ],
      "text/plain": [
       "                      Train  Reflexivity  Symmetry  Transitivity  Equivalence\n",
       "Nearest Neighbors  0.987840     0.349726  0.351515      0.297232     0.600000\n",
       "Linear SVM         0.600000     0.600000  0.600000      0.600000     0.600000\n",
       "RBF SVM            1.000000     0.600000  0.600000      0.600000     0.600000\n",
       "Decision Tree      0.619741     0.378667  0.467467      0.512231     0.600000\n",
       "Random Forest      0.600000     0.600000  0.600000      0.600000     0.600000\n",
       "Neural Net         1.000000     0.600000  0.600000      0.600000     0.600000\n",
       "AdaBoost           0.600000     0.600000  0.600000      0.600000     0.600000\n",
       "Naive Bayes        0.600000     0.600000  0.600000      0.600000     0.600000\n",
       "QDA                0.930507     0.348457  0.416904      0.600000     0.461135"
      ]
     },
     "execution_count": 29,
     "metadata": {},
     "output_type": "execute_result"
    }
   ],
   "source": [
    "results_df=pd.DataFrame(np.column_stack([avg_scores_train,avg_scores_reflexivity,avg_scores_symmetry,avg_scores_transitivity,avg_scores_equivalence]),index=names, columns=[\"Train\", \"Reflexivity\", \"Symmetry\",\"Transitivity\",\"Equivalence\"])\n",
    "results_df"
   ]
  },
  {
   "cell_type": "code",
   "execution_count": 30,
   "metadata": {},
   "outputs": [
    {
     "data": {
      "text/plain": [
       "<matplotlib.axes._subplots.AxesSubplot at 0x7f91ec961ad0>"
      ]
     },
     "execution_count": 30,
     "metadata": {},
     "output_type": "execute_result"
    },
    {
     "data": {
      "image/png": "[encoded data removed]",
      "text/plain": [
       "<matplotlib.figure.Figure at 0x7f91ec908290>"
      ]
     },
     "metadata": {},
     "output_type": "display_data"
    }
   ],
   "source": [
    "results_df.T.plot(kind=\"bar\", figsize=(17,7))"
   ]
  }
 ],
 "metadata": {
  "kernelspec": {
   "display_name": "Python [default]",
   "language": "python",
   "name": "python2"
  },
  "language_info": {
   "codemirror_mode": {
    "name": "ipython",
    "version": 2
   },
   "file_extension": ".py",
   "mimetype": "text/x-python",
   "name": "python",
   "nbconvert_exporter": "python",
   "pygments_lexer": "ipython2",
   "version": "2.7.13"
  }
 },
 "nbformat": 4,
 "nbformat_minor": 2
}
