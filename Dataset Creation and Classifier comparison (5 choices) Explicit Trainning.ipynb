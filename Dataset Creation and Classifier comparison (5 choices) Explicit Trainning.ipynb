{
 "cells": [
  {
   "cell_type": "markdown",
   "metadata": {},
   "source": [
    "# EQUIVALENCE CLASS:\n",
    "A stimulus class (usually produced through conditional discrimination in matching-to-sample) that includes all possible emergent relations among its members. The properties of an equivalence class are derived from the logical relations of reflexivity, symmetry, and transitivity. **Reflexivity** *refers to the matching of a sample to itself*, sometimes called identity matching (AA, BB, CC, in these examples, each letter pair represents a sample and its matching comparison stimulus). **Symmetry** *refers to the reversibility of a relation (if AB, then BA)*. **Transitivity** *refers to the transfer of the relation to new combinations through shared membership (if AB and BC, then AC)*. \n",
    "If these properties are characteristics of a matching to-sample performance, then training AB and BC may produce AC, BA, CA, and CB as emergent relations (reflexivity provides the three other possible relations, AA, BB, and CC). Given AB and BC, for example, the combination of symmetry and transitivity implies the CA relation. The emergence of all possible stimulus relations after only AB and BC are trained through contingencies is the criterion for calling the three stimuli members of an equivalence class. The class can be extended by training new stimulus relations (e.g., if CD is learned, then AD, DA, BD, DB, and DC may be created as emergent relations). Stimuli that are members of an equivalence class are likely also to be functionally equivalent. It remains to be seen whether the logical properties of these classes are fully consistent with their behavioral ones. Cf. ** EQUIVALENCE RELATION**. ([source](http://www.scienceofbehavior.com/lms/mod/glossary/view.php?id=408&mode=letter&hook=E&sortkey=CREATION&sortorder=asc&fullsearch=0&page=3))\n",
    "([Video](https://www.youtube.com/watch?v=En2OgGOICbA))\n"
   ]
  },
  {
   "cell_type": "markdown",
   "metadata": {},
   "source": [
    "# Libraries"
   ]
  },
  {
   "cell_type": "code",
   "execution_count": 1,
   "metadata": {},
   "outputs": [],
   "source": [
    "import numpy as np\n",
    "import pandas as pd\n",
    "import random\n",
    "import matplotlib.pyplot as plt\n",
    "from matplotlib.colors import ListedColormap\n",
    "from sklearn.model_selection import train_test_split\n",
    "from sklearn.neural_network import MLPClassifier\n",
    "from sklearn.neighbors import KNeighborsClassifier\n",
    "from sklearn.svm import SVC\n",
    "from sklearn.gaussian_process import GaussianProcessClassifier\n",
    "from sklearn.gaussian_process.kernels import RBF\n",
    "from sklearn.tree import DecisionTreeClassifier\n",
    "from sklearn.ensemble import RandomForestClassifier, AdaBoostClassifier\n",
    "from sklearn.naive_bayes import GaussianNB\n",
    "from sklearn.discriminant_analysis import QuadraticDiscriminantAnalysis\n",
    "\n",
    "from sklearn.multiclass import OneVsRestClassifier\n",
    "from sklearn.metrics import average_precision_score\n",
    "\n",
    "%matplotlib inline\n",
    "plt.style.use('seaborn')"
   ]
  },
  {
   "cell_type": "code",
   "execution_count": 2,
   "metadata": {},
   "outputs": [],
   "source": [
    "def view_trial(trial_labels,trial_values,trial_ans, n_trial, n_stimuli=6, n_classes=3, n_modes=6):\n",
    "    print (n_trial,len(trial_labels))\n",
    "    print (np.array(trial_values[n_trial]).reshape((n_stimuli,n_classes,n_modes)))\n",
    "    print (trial_labels[n_trial])\n",
    "    print (trial_ans[n_trial])\n",
    "\n",
    "def create_trials(stims,pair):\n",
    "    #Take a set of stimuli and a set of pairs, then find the mode (letter) of the comparators and combines them.\n",
    "    filt_tr=[pair[1][0]==stim[0] for stim in stims.keys()]# filter the simulus of the mode of the comparator\n",
    "    comprs=np.array(list(stims.keys()))[filt_tr] # Get the set of comparators\n",
    "    comprs_set_1=np.array([[p,q,r,s,t]for p in comprs for q in comprs for r in comprs for s in comprs for t in comprs])# all the combinations of the comparators\n",
    "    comprs_filt=[(np.sum(cmpr_set==pair[1])==1) for cmpr_set in comprs_set_1]#==1 for the presence of the target comparator ## <2 for target comparator and no answer.\n",
    "    comprs_set=comprs_set_1[comprs_filt]# filtered set of comparators with the sample presented just once.\n",
    "    train_labels=np.insert(comprs_set,0, pair[0], axis=1)# train labels with sample and comparators\n",
    "    train_answers=np.array([(tr_lbl==pair[1])*1 for tr_lbl in comprs_set]) # Encoded answers for the trials. \n",
    "    train_values=np.array([[stims[stml]for stml in stmls] for stmls in train_labels])\n",
    "    train_values=train_values.reshape((train_values.shape[0],(train_values.shape[1]*train_values.shape[2])))# create a list of the encoded values of the trial\n",
    "    return train_labels,train_values,train_answers\n",
    "\n",
    "def create_set(trials_pairs, stims):\n",
    "    trialset=[create_trials(stims,pair) for pair in trials_pairs]\n",
    "    labels=np.array([tr_lb for tr_pr in trialset for tr_lb in tr_pr[0]])\n",
    "    values=np.array([tr_lb for tr_pr in trialset for tr_lb in tr_pr[1]])\n",
    "    answer=np.array([tr_lb for tr_pr in trialset for tr_lb in tr_pr[2]])\n",
    "    return labels,values,answer"
   ]
  },
  {
   "cell_type": "code",
   "execution_count": 3,
   "metadata": {},
   "outputs": [],
   "source": [
    "stims={\"A1\":[1,0,0,0,0,0,0,0,0,0,0,0,0,0,0,0,0,0,0,0,0],\n",
    "       \"A2\":[0,1,0,0,0,0,0,0,0,0,0,0,0,0,0,0,0,0,0,0,0],\n",
    "       \"A3\":[0,0,1,0,0,0,0,0,0,0,0,0,0,0,0,0,0,0,0,0,0],\n",
    "       \"A4\":[0,0,0,1,0,0,0,0,0,0,0,0,0,0,0,0,0,0,0,0,0],\n",
    "       \"A5\":[0,0,0,0,1,0,0,0,0,0,0,0,0,0,0,0,0,0,0,0,0],\n",
    "       \"A6\":[0,0,0,0,0,1,0,0,0,0,0,0,0,0,0,0,0,0,0,0,0],\n",
    "       \"TX\":[0,0,0,0,0,0,1,0,0,0,0,0,0,0,0,0,0,0,0,0,0],\n",
    "       \"B1\":[0,0,0,0,0,0,0,1,0,0,0,0,0,0,0,0,0,0,0,0,0],\n",
    "       \"B2\":[0,0,0,0,0,0,0,0,1,0,0,0,0,0,0,0,0,0,0,0,0],\n",
    "       \"B3\":[0,0,0,0,0,0,0,0,0,1,0,0,0,0,0,0,0,0,0,0,0],\n",
    "       \"B4\":[0,0,0,0,0,0,0,0,0,0,1,0,0,0,0,0,0,0,0,0,0],\n",
    "       \"B5\":[0,0,0,0,0,0,0,0,0,0,0,1,0,0,0,0,0,0,0,0,0],\n",
    "       \"B6\":[0,0,0,0,0,0,0,0,0,0,0,0,1,0,0,0,0,0,0,0,0],\n",
    "       \"TY\":[0,0,0,0,0,0,0,0,0,0,0,0,0,1,0,0,0,0,0,0,0],\n",
    "       \"C1\":[0,0,0,0,0,0,0,0,0,0,0,0,0,0,1,0,0,0,0,0,0],\n",
    "       \"C2\":[0,0,0,0,0,0,0,0,0,0,0,0,0,0,0,1,0,0,0,0,0],\n",
    "       \"C3\":[0,0,0,0,0,0,0,0,0,0,0,0,0,0,0,0,1,0,0,0,0],\n",
    "       \"C4\":[0,0,0,0,0,0,0,0,0,0,0,0,0,0,0,0,0,1,0,0,0],\n",
    "       \"C5\":[0,0,0,0,0,0,0,0,0,0,0,0,0,0,0,0,0,0,1,0,0], # For explicitly train class emergency\n",
    "       \"C6\":[0,0,0,0,0,0,0,0,0,0,0,0,0,0,0,0,0,0,0,1,0], # For explicitly train class emergency\n",
    "       \"TZ\":[0,0,0,0,0,0,0,0,0,0,0,0,0,0,0,0,0,0,0,0,1] # For explicitly train class emergency\n",
    "      }\n",
    "\n",
    "options={\"O_1\":[1,0,0,0,0],\n",
    "         \"O_2\":[0,1,0,0,0],\n",
    "         \"O_3\":[0,0,1,0,0],\n",
    "         \"O_4\":[0,0,0,1,0],\n",
    "         \"O_5\":[0,0,0,0,1],\n",
    "         \"O_0\":[0,0,0,0,0],\n",
    "        }"
   ]
  },
  {
   "cell_type": "markdown",
   "metadata": {},
   "source": [
    "## Clasifiers"
   ]
  },
  {
   "cell_type": "code",
   "execution_count": 4,
   "metadata": {},
   "outputs": [],
   "source": [
    "h = .02  # step size in the mesh\n",
    "\n",
    "names = [\n",
    "    \"Nearest Neighbors\", \n",
    "    \"Linear SVM\", \n",
    "    \"RBF SVM\", \n",
    "#    \"Gaussian Process\",\n",
    "    \"Decision Tree\", \n",
    "    \"Random Forest\", \n",
    "    \"Neural Net\", \n",
    "    \"AdaBoost\",\n",
    "    \"Naive Bayes\", \n",
    "    \"QDA\"\n",
    "]\n",
    "\n",
    "classifiers = [\n",
    "    KNeighborsClassifier(3),\n",
    "    SVC(kernel=\"linear\", C=0.025),\n",
    "    SVC(gamma=2, C=1),\n",
    "#    GaussianProcessClassifier(1.0 * RBF(1.0), warm_start=True),\n",
    "    DecisionTreeClassifier(max_depth=5),\n",
    "    RandomForestClassifier(max_depth=5, n_estimators=10, max_features=1),\n",
    "    MLPClassifier(alpha=1),\n",
    "    AdaBoostClassifier(),\n",
    "    GaussianNB(),\n",
    "    QuadraticDiscriminantAnalysis()\n",
    "]"
   ]
  },
  {
   "cell_type": "markdown",
   "metadata": {},
   "source": [
    "# Trainning \n",
    "### Relation $A_{n}-B_{n}$ and $B_{n}-C_{n}$"
   ]
  },
  {
   "cell_type": "code",
   "execution_count": 5,
   "metadata": {},
   "outputs": [],
   "source": [
    "train_pairs=np.array([[\"A1\",\"B1\"],[\"B1\",\"C1\"],\n",
    "                      [\"A2\",\"B2\"],[\"B2\",\"C2\"],\n",
    "                      [\"A3\",\"B3\"],[\"B3\",\"C3\"],\n",
    "                      [\"A4\",\"B4\"],[\"B4\",\"C4\"],\n",
    "                      [\"A5\",\"B5\"],[\"B5\",\"C5\"],\n",
    "                      [\"A6\",\"B6\"],[\"B6\",\"C6\"],\n",
    "                      [\"TX\",\"TY\"],[\"TY\",\"TZ\"],\n",
    "                      [\"TX\",\"TZ\"], # Transitivity\n",
    "                      [\"TZ\",\"TX\"], # Equivalence \n",
    "                      [\"TX\",\"TX\"],[\"TY\",\"TY\"],[\"TZ\",\"TZ\"], # Reflexivity\n",
    "                      [\"TY\",\"TX\"],[\"TZ\",\"TY\"]# Symmetry\n",
    "                     ])"
   ]
  },
  {
   "cell_type": "code",
   "execution_count": 6,
   "metadata": {},
   "outputs": [],
   "source": [
    "train_labels,train_values,train_answer=create_set(train_pairs, stims)"
   ]
  },
  {
   "cell_type": "code",
   "execution_count": 7,
   "metadata": {},
   "outputs": [
    {
     "name": "stdout",
     "output_type": "stream",
     "text": [
      "29534 38220\n",
      "[[[0 0 0 0 0 0 0]\n",
      "  [0 0 0 0 1 0 0]\n",
      "  [0 0 0 0 0 0 0]]\n",
      "\n",
      " [[0 0 0 0 0 0 0]\n",
      "  [0 0 0 0 0 0 0]\n",
      "  [0 0 1 0 0 0 0]]\n",
      "\n",
      " [[0 0 0 0 0 0 0]\n",
      "  [0 0 0 0 0 0 0]\n",
      "  [0 0 0 0 1 0 0]]\n",
      "\n",
      " [[0 0 0 0 0 0 0]\n",
      "  [0 0 0 0 0 0 0]\n",
      "  [0 0 0 0 0 1 0]]\n",
      "\n",
      " [[0 0 0 0 0 0 0]\n",
      "  [0 0 0 0 0 0 0]\n",
      "  [0 1 0 0 0 0 0]]\n",
      "\n",
      " [[0 0 0 0 0 0 0]\n",
      "  [0 0 0 0 0 0 0]\n",
      "  [0 0 0 0 0 1 0]]]\n",
      "['B5' 'C3' 'C5' 'C6' 'C2' 'C6']\n",
      "[0 1 0 0 0]\n"
     ]
    }
   ],
   "source": [
    "view_trial(train_labels,train_values,train_answer,random.randrange(len(train_labels)),n_modes=7)"
   ]
  },
  {
   "cell_type": "markdown",
   "metadata": {},
   "source": [
    "### Full Dataset Trainning"
   ]
  },
  {
   "cell_type": "code",
   "execution_count": 8,
   "metadata": {},
   "outputs": [
    {
     "name": "stdout",
     "output_type": "stream",
     "text": [
      "Nearest Neighbors 0.9537969697106229\n",
      "Linear SVM 0.2\n",
      "RBF SVM 0.9924646781789639\n",
      "Decision Tree 0.2654833948635097\n",
      "Random Forest 0.2\n",
      "Neural Net 0.9849293563579277\n",
      "AdaBoost 0.2\n",
      "Naive Bayes 0.2\n"
     ]
    },
    {
     "name": "stderr",
     "output_type": "stream",
     "text": [
      "C:\\Users\\Usuario\\.conda\\envs\\sociadisticas\\lib\\site-packages\\sklearn\\discriminant_analysis.py:691: UserWarning: Variables are collinear\n",
      "  warnings.warn(\"Variables are collinear\")\n",
      "C:\\Users\\Usuario\\.conda\\envs\\sociadisticas\\lib\\site-packages\\sklearn\\discriminant_analysis.py:691: UserWarning: Variables are collinear\n",
      "  warnings.warn(\"Variables are collinear\")\n",
      "C:\\Users\\Usuario\\.conda\\envs\\sociadisticas\\lib\\site-packages\\sklearn\\discriminant_analysis.py:691: UserWarning: Variables are collinear\n",
      "  warnings.warn(\"Variables are collinear\")\n",
      "C:\\Users\\Usuario\\.conda\\envs\\sociadisticas\\lib\\site-packages\\sklearn\\discriminant_analysis.py:691: UserWarning: Variables are collinear\n",
      "  warnings.warn(\"Variables are collinear\")\n",
      "C:\\Users\\Usuario\\.conda\\envs\\sociadisticas\\lib\\site-packages\\sklearn\\discriminant_analysis.py:691: UserWarning: Variables are collinear\n",
      "  warnings.warn(\"Variables are collinear\")\n"
     ]
    },
    {
     "name": "stdout",
     "output_type": "stream",
     "text": [
      "QDA 0.9080803465148085\n"
     ]
    }
   ],
   "source": [
    "avg_scores_train=[]\n",
    "train_clasif=[]\n",
    "for name, clf in zip(names, classifiers):\n",
    "    clasif=OneVsRestClassifier(clf).fit(train_values, train_answer)\n",
    "    train_clasif.append(clasif)\n",
    "    scr=average_precision_score(train_answer,clasif.predict(train_values))\n",
    "    avg_scores_train.append(scr)\n",
    "    print(name,scr)"
   ]
  },
  {
   "cell_type": "code",
   "execution_count": 9,
   "metadata": {},
   "outputs": [
    {
     "data": {
      "text/plain": [
       "[OneVsRestClassifier(estimator=KNeighborsClassifier(algorithm='auto',\n",
       "                                                    leaf_size=30,\n",
       "                                                    metric='minkowski',\n",
       "                                                    metric_params=None,\n",
       "                                                    n_jobs=None, n_neighbors=3,\n",
       "                                                    p=2, weights='uniform'),\n",
       "                     n_jobs=None),\n",
       " OneVsRestClassifier(estimator=SVC(C=0.025, break_ties=False, cache_size=200,\n",
       "                                   class_weight=None, coef0=0.0,\n",
       "                                   decision_function_shape='ovr', degree=3,\n",
       "                                   gamma='scale', kernel='linear', max_iter=-1,\n",
       "                                   probability=False, random_state=None,\n",
       "                                   shrinking=True, tol=0.001, verbose=False),\n",
       "                     n_jobs=None),\n",
       " OneVsRestClassifier(estimator=SVC(C=1, break_ties=False, cache_size=200,\n",
       "                                   class_weight=None, coef0=0.0,\n",
       "                                   decision_function_shape='ovr', degree=3,\n",
       "                                   gamma=2, kernel='rbf', max_iter=-1,\n",
       "                                   probability=False, random_state=None,\n",
       "                                   shrinking=True, tol=0.001, verbose=False),\n",
       "                     n_jobs=None),\n",
       " OneVsRestClassifier(estimator=DecisionTreeClassifier(ccp_alpha=0.0,\n",
       "                                                      class_weight=None,\n",
       "                                                      criterion='gini',\n",
       "                                                      max_depth=5,\n",
       "                                                      max_features=None,\n",
       "                                                      max_leaf_nodes=None,\n",
       "                                                      min_impurity_decrease=0.0,\n",
       "                                                      min_impurity_split=None,\n",
       "                                                      min_samples_leaf=1,\n",
       "                                                      min_samples_split=2,\n",
       "                                                      min_weight_fraction_leaf=0.0,\n",
       "                                                      presort='deprecated',\n",
       "                                                      random_state=None,\n",
       "                                                      splitter='best'),\n",
       "                     n_jobs=None),\n",
       " OneVsRestClassifier(estimator=RandomForestClassifier(bootstrap=True,\n",
       "                                                      ccp_alpha=0.0,\n",
       "                                                      class_weight=None,\n",
       "                                                      criterion='gini',\n",
       "                                                      max_depth=5,\n",
       "                                                      max_features=1,\n",
       "                                                      max_leaf_nodes=None,\n",
       "                                                      max_samples=None,\n",
       "                                                      min_impurity_decrease=0.0,\n",
       "                                                      min_impurity_split=None,\n",
       "                                                      min_samples_leaf=1,\n",
       "                                                      min_samples_split=2,\n",
       "                                                      min_weight_fraction_leaf=0.0,\n",
       "                                                      n_estimators=10,\n",
       "                                                      n_jobs=None,\n",
       "                                                      oob_score=False,\n",
       "                                                      random_state=None,\n",
       "                                                      verbose=0,\n",
       "                                                      warm_start=False),\n",
       "                     n_jobs=None),\n",
       " OneVsRestClassifier(estimator=MLPClassifier(activation='relu', alpha=1,\n",
       "                                             batch_size='auto', beta_1=0.9,\n",
       "                                             beta_2=0.999, early_stopping=False,\n",
       "                                             epsilon=1e-08,\n",
       "                                             hidden_layer_sizes=(100,),\n",
       "                                             learning_rate='constant',\n",
       "                                             learning_rate_init=0.001,\n",
       "                                             max_fun=15000, max_iter=200,\n",
       "                                             momentum=0.9, n_iter_no_change=10,\n",
       "                                             nesterovs_momentum=True,\n",
       "                                             power_t=0.5, random_state=None,\n",
       "                                             shuffle=True, solver='adam',\n",
       "                                             tol=0.0001, validation_fraction=0.1,\n",
       "                                             verbose=False, warm_start=False),\n",
       "                     n_jobs=None),\n",
       " OneVsRestClassifier(estimator=AdaBoostClassifier(algorithm='SAMME.R',\n",
       "                                                  base_estimator=None,\n",
       "                                                  learning_rate=1.0,\n",
       "                                                  n_estimators=50,\n",
       "                                                  random_state=None),\n",
       "                     n_jobs=None),\n",
       " OneVsRestClassifier(estimator=GaussianNB(priors=None, var_smoothing=1e-09),\n",
       "                     n_jobs=None),\n",
       " OneVsRestClassifier(estimator=QuadraticDiscriminantAnalysis(priors=None,\n",
       "                                                             reg_param=0.0,\n",
       "                                                             store_covariance=False,\n",
       "                                                             tol=0.0001),\n",
       "                     n_jobs=None)]"
      ]
     },
     "execution_count": 9,
     "metadata": {},
     "output_type": "execute_result"
    }
   ],
   "source": [
    "train_clasif"
   ]
  },
  {
   "cell_type": "markdown",
   "metadata": {},
   "source": [
    "# Reflexivity evaluation\n",
    "\n",
    "### Given the sample stimulus $A_{n}$ the agent must select $A_{n}$ among the comparator stimuli"
   ]
  },
  {
   "cell_type": "code",
   "execution_count": 10,
   "metadata": {},
   "outputs": [],
   "source": [
    "reflexiv_pairs=np.array([[stm,stm]for stm in stims])\n",
    "reflexivity_labels, reflexivity_values, reflexivity_answer =create_set(reflexiv_pairs, stims)"
   ]
  },
  {
   "cell_type": "code",
   "execution_count": 11,
   "metadata": {},
   "outputs": [
    {
     "name": "stdout",
     "output_type": "stream",
     "text": [
      "53605 56490\n",
      "[[[0 0 0 0 0 0 0]\n",
      "  [0 0 0 0 0 0 0]\n",
      "  [0 0 0 0 0 1 0]]\n",
      "\n",
      " [[0 0 0 0 0 0 0]\n",
      "  [0 0 0 0 0 0 0]\n",
      "  [1 0 0 0 0 0 0]]\n",
      "\n",
      " [[0 0 0 0 0 0 0]\n",
      "  [0 0 0 0 0 0 0]\n",
      "  [0 0 0 0 1 0 0]]\n",
      "\n",
      " [[0 0 0 0 0 0 0]\n",
      "  [0 0 0 0 0 0 0]\n",
      "  [0 0 1 0 0 0 0]]\n",
      "\n",
      " [[0 0 0 0 0 0 0]\n",
      "  [0 0 0 0 0 0 0]\n",
      "  [1 0 0 0 0 0 0]]\n",
      "\n",
      " [[0 0 0 0 0 0 0]\n",
      "  [0 0 0 0 0 0 0]\n",
      "  [0 0 0 0 0 1 0]]]\n",
      "['C6' 'C1' 'C5' 'C3' 'C1' 'C6']\n",
      "[0 0 0 0 1]\n"
     ]
    }
   ],
   "source": [
    "view_trial(reflexivity_labels,reflexivity_values,reflexivity_answer,random.randrange(len(reflexivity_labels)),n_modes=7)"
   ]
  },
  {
   "cell_type": "code",
   "execution_count": 12,
   "metadata": {},
   "outputs": [
    {
     "name": "stdout",
     "output_type": "stream",
     "text": [
      "Nearest Neighbors 0.22994616631313317\n",
      "Linear SVM 0.2\n",
      "RBF SVM 0.2016994158258099\n",
      "Decision Tree 0.2006294132688185\n",
      "Random Forest 0.2\n",
      "Neural Net 0.2\n",
      "AdaBoost 0.2\n",
      "Naive Bayes 0.2\n",
      "QDA 0.20346482905938315\n"
     ]
    }
   ],
   "source": [
    "avg_scores_reflexivity=[]\n",
    "for name, clasif in zip(names, train_clasif):\n",
    "    scr=average_precision_score(reflexivity_answer,clasif.predict(reflexivity_values))\n",
    "    avg_scores_reflexivity.append(scr)\n",
    "    print(name,scr)"
   ]
  },
  {
   "cell_type": "markdown",
   "metadata": {},
   "source": [
    "# Symmetry evaluation\n",
    "### Given the trainning pairs, the agent must select the comparator $A_{n}$ in presence of the sample $B_{n}$  and the comparator $B_{n}$ in presence of the sample $C_{n}$ "
   ]
  },
  {
   "cell_type": "code",
   "execution_count": 13,
   "metadata": {},
   "outputs": [],
   "source": [
    "symmetry_pairs=np.array([[tr_pr[1],tr_pr[0]]for tr_pr in train_pairs])\n",
    "symmetry_labels, symmetry_values, symmetry_answer =create_set(symmetry_pairs, stims)"
   ]
  },
  {
   "cell_type": "code",
   "execution_count": 14,
   "metadata": {},
   "outputs": [
    {
     "name": "stdout",
     "output_type": "stream",
     "text": [
      "21461 38220\n",
      "[[[0 0 0 0 0 0 0]\n",
      "  [0 0 0 1 0 0 0]\n",
      "  [0 0 0 0 0 0 0]]\n",
      "\n",
      " [[0 0 0 0 0 1 0]\n",
      "  [0 0 0 0 0 0 0]\n",
      "  [0 0 0 0 0 0 0]]\n",
      "\n",
      " [[0 1 0 0 0 0 0]\n",
      "  [0 0 0 0 0 0 0]\n",
      "  [0 0 0 0 0 0 0]]\n",
      "\n",
      " [[0 1 0 0 0 0 0]\n",
      "  [0 0 0 0 0 0 0]\n",
      "  [0 0 0 0 0 0 0]]\n",
      "\n",
      " [[0 1 0 0 0 0 0]\n",
      "  [0 0 0 0 0 0 0]\n",
      "  [0 0 0 0 0 0 0]]\n",
      "\n",
      " [[0 0 0 1 0 0 0]\n",
      "  [0 0 0 0 0 0 0]\n",
      "  [0 0 0 0 0 0 0]]]\n",
      "['B4' 'A6' 'A2' 'A2' 'A2' 'A4']\n",
      "[0 0 0 0 1]\n"
     ]
    }
   ],
   "source": [
    "view_trial(symmetry_labels,symmetry_values,symmetry_answer,random.randrange(len(symmetry_labels)),n_modes=7)"
   ]
  },
  {
   "cell_type": "code",
   "execution_count": 15,
   "metadata": {},
   "outputs": [
    {
     "name": "stdout",
     "output_type": "stream",
     "text": [
      "Nearest Neighbors 0.21287939929494626\n",
      "Linear SVM 0.2\n",
      "RBF SVM 0.20753532182103612\n",
      "Decision Tree 0.20018605732891448\n",
      "Random Forest 0.2\n",
      "Neural Net 0.2\n",
      "AdaBoost 0.2\n",
      "Naive Bayes 0.2\n",
      "QDA 0.20271913067651312\n"
     ]
    }
   ],
   "source": [
    "avg_scores_symmetry=[]\n",
    "for name, clasif in zip(names, train_clasif):\n",
    "    scr=average_precision_score(symmetry_answer,clasif.predict(symmetry_values))\n",
    "    avg_scores_symmetry.append(scr)\n",
    "    print(name,scr)"
   ]
  },
  {
   "cell_type": "markdown",
   "metadata": {},
   "source": [
    "# Transitivity\n",
    "### Given the trainning pairs, the agent must select the comparator $C_{n}$ in presence of the sample $A_{n}$"
   ]
  },
  {
   "cell_type": "code",
   "execution_count": 16,
   "metadata": {},
   "outputs": [],
   "source": [
    "transitivity_pairs=np.array([[\"A1\",\"C1\"],\n",
    "                             [\"A2\",\"C2\"],\n",
    "                             [\"A3\",\"C3\"],\n",
    "                             [\"A4\",\"C4\"],\n",
    "                             [\"A5\",\"C5\"],\n",
    "                             [\"A6\",\"C6\"]\n",
    "                            ])"
   ]
  },
  {
   "cell_type": "code",
   "execution_count": 17,
   "metadata": {},
   "outputs": [],
   "source": [
    "transitivity_labels, transitivity_values, transitivity_answer =create_set(transitivity_pairs, stims)"
   ]
  },
  {
   "cell_type": "code",
   "execution_count": 18,
   "metadata": {},
   "outputs": [
    {
     "name": "stdout",
     "output_type": "stream",
     "text": [
      "687 18750\n",
      "[[[1 0 0 0 0 0 0]\n",
      "  [0 0 0 0 0 0 0]\n",
      "  [0 0 0 0 0 0 0]]\n",
      "\n",
      " [[0 0 0 0 0 0 0]\n",
      "  [0 0 0 0 0 0 0]\n",
      "  [0 1 0 0 0 0 0]]\n",
      "\n",
      " [[0 0 0 0 0 0 0]\n",
      "  [0 0 0 0 0 0 0]\n",
      "  [1 0 0 0 0 0 0]]\n",
      "\n",
      " [[0 0 0 0 0 0 0]\n",
      "  [0 0 0 0 0 0 0]\n",
      "  [0 0 0 1 0 0 0]]\n",
      "\n",
      " [[0 0 0 0 0 0 0]\n",
      "  [0 0 0 0 0 0 0]\n",
      "  [0 0 0 1 0 0 0]]\n",
      "\n",
      " [[0 0 0 0 0 0 0]\n",
      "  [0 0 0 0 0 0 0]\n",
      "  [0 0 0 1 0 0 0]]]\n",
      "['A1' 'C2' 'C1' 'C4' 'C4' 'C4']\n",
      "[0 1 0 0 0]\n"
     ]
    }
   ],
   "source": [
    "view_trial(transitivity_labels,transitivity_values,transitivity_answer,random.randrange(len(transitivity_labels)),n_modes=7)"
   ]
  },
  {
   "cell_type": "code",
   "execution_count": 19,
   "metadata": {},
   "outputs": [
    {
     "name": "stdout",
     "output_type": "stream",
     "text": [
      "Nearest Neighbors 0.2256324158907704\n",
      "Linear SVM 0.2\n",
      "RBF SVM 0.2\n",
      "Decision Tree 0.2018962962962963\n",
      "Random Forest 0.2\n",
      "Neural Net 0.2\n",
      "AdaBoost 0.2\n",
      "Naive Bayes 0.2\n",
      "QDA 0.2\n"
     ]
    }
   ],
   "source": [
    "avg_scores_transitivity=[]\n",
    "for name, clasif in zip(names, train_clasif):\n",
    "    scr=average_precision_score(transitivity_answer,clasif.predict(transitivity_values))\n",
    "    avg_scores_transitivity.append(scr)\n",
    "    print(name,scr)"
   ]
  },
  {
   "cell_type": "markdown",
   "metadata": {},
   "source": [
    "# Equivalence\n",
    "### Given the trainning pairs, the agent must select the comparator $A_{n}$ in presence of the sample $C_{n}$"
   ]
  },
  {
   "cell_type": "code",
   "execution_count": 20,
   "metadata": {},
   "outputs": [],
   "source": [
    "equivalence_pairs=np.array([[tr_pr[1],tr_pr[0]]for tr_pr in transitivity_pairs])"
   ]
  },
  {
   "cell_type": "code",
   "execution_count": 21,
   "metadata": {},
   "outputs": [],
   "source": [
    "equivalence_labels, equivalence_values, equivalence_answer =create_set(equivalence_pairs, stims)"
   ]
  },
  {
   "cell_type": "code",
   "execution_count": 22,
   "metadata": {},
   "outputs": [
    {
     "name": "stdout",
     "output_type": "stream",
     "text": [
      "487 18750\n",
      "[[[0 0 0 0 0 0 0]\n",
      "  [0 0 0 0 0 0 0]\n",
      "  [1 0 0 0 0 0 0]]\n",
      "\n",
      " [[1 0 0 0 0 0 0]\n",
      "  [0 0 0 0 0 0 0]\n",
      "  [0 0 0 0 0 0 0]]\n",
      "\n",
      " [[0 0 0 0 1 0 0]\n",
      "  [0 0 0 0 0 0 0]\n",
      "  [0 0 0 0 0 0 0]]\n",
      "\n",
      " [[0 0 0 0 0 1 0]\n",
      "  [0 0 0 0 0 0 0]\n",
      "  [0 0 0 0 0 0 0]]\n",
      "\n",
      " [[0 0 0 1 0 0 0]\n",
      "  [0 0 0 0 0 0 0]\n",
      "  [0 0 0 0 0 0 0]]\n",
      "\n",
      " [[0 0 0 1 0 0 0]\n",
      "  [0 0 0 0 0 0 0]\n",
      "  [0 0 0 0 0 0 0]]]\n",
      "['C1' 'A1' 'A5' 'A6' 'A4' 'A4']\n",
      "[1 0 0 0 0]\n"
     ]
    }
   ],
   "source": [
    "view_trial(equivalence_labels,equivalence_values,equivalence_answer,random.randrange(len(equivalence_labels)),n_modes=7)"
   ]
  },
  {
   "cell_type": "code",
   "execution_count": 23,
   "metadata": {},
   "outputs": [
    {
     "name": "stdout",
     "output_type": "stream",
     "text": [
      "Nearest Neighbors 0.2\n",
      "Linear SVM 0.2\n",
      "RBF SVM 0.2\n",
      "Decision Tree 0.2\n",
      "Random Forest 0.2\n",
      "Neural Net 0.2\n",
      "AdaBoost 0.2\n",
      "Naive Bayes 0.2\n",
      "QDA 0.20140388087215588\n"
     ]
    }
   ],
   "source": [
    "avg_scores_equivalence=[]\n",
    "for name, clasif in zip(names, train_clasif):\n",
    "    scr=average_precision_score(equivalence_answer,clasif.predict(equivalence_values))\n",
    "    avg_scores_equivalence.append(scr)\n",
    "    print(name,scr)"
   ]
  },
  {
   "cell_type": "markdown",
   "metadata": {},
   "source": [
    "# Results"
   ]
  },
  {
   "cell_type": "code",
   "execution_count": 24,
   "metadata": {},
   "outputs": [
    {
     "data": {
      "text/html": [
       "<div>\n",
       "<style scoped>\n",
       "    .dataframe tbody tr th:only-of-type {\n",
       "        vertical-align: middle;\n",
       "    }\n",
       "\n",
       "    .dataframe tbody tr th {\n",
       "        vertical-align: top;\n",
       "    }\n",
       "\n",
       "    .dataframe thead th {\n",
       "        text-align: right;\n",
       "    }\n",
       "</style>\n",
       "<table border=\"1\" class=\"dataframe\">\n",
       "  <thead>\n",
       "    <tr style=\"text-align: right;\">\n",
       "      <th></th>\n",
       "      <th>Train</th>\n",
       "      <th>Reflexivity</th>\n",
       "      <th>Symmetry</th>\n",
       "      <th>Transitivity</th>\n",
       "      <th>Equivalence</th>\n",
       "    </tr>\n",
       "  </thead>\n",
       "  <tbody>\n",
       "    <tr>\n",
       "      <th>Nearest Neighbors</th>\n",
       "      <td>0.953797</td>\n",
       "      <td>0.229946</td>\n",
       "      <td>0.212879</td>\n",
       "      <td>0.225632</td>\n",
       "      <td>0.200000</td>\n",
       "    </tr>\n",
       "    <tr>\n",
       "      <th>Linear SVM</th>\n",
       "      <td>0.200000</td>\n",
       "      <td>0.200000</td>\n",
       "      <td>0.200000</td>\n",
       "      <td>0.200000</td>\n",
       "      <td>0.200000</td>\n",
       "    </tr>\n",
       "    <tr>\n",
       "      <th>RBF SVM</th>\n",
       "      <td>0.992465</td>\n",
       "      <td>0.201699</td>\n",
       "      <td>0.207535</td>\n",
       "      <td>0.200000</td>\n",
       "      <td>0.200000</td>\n",
       "    </tr>\n",
       "    <tr>\n",
       "      <th>Decision Tree</th>\n",
       "      <td>0.265483</td>\n",
       "      <td>0.200629</td>\n",
       "      <td>0.200186</td>\n",
       "      <td>0.201896</td>\n",
       "      <td>0.200000</td>\n",
       "    </tr>\n",
       "    <tr>\n",
       "      <th>Random Forest</th>\n",
       "      <td>0.200000</td>\n",
       "      <td>0.200000</td>\n",
       "      <td>0.200000</td>\n",
       "      <td>0.200000</td>\n",
       "      <td>0.200000</td>\n",
       "    </tr>\n",
       "    <tr>\n",
       "      <th>Neural Net</th>\n",
       "      <td>0.984929</td>\n",
       "      <td>0.200000</td>\n",
       "      <td>0.200000</td>\n",
       "      <td>0.200000</td>\n",
       "      <td>0.200000</td>\n",
       "    </tr>\n",
       "    <tr>\n",
       "      <th>AdaBoost</th>\n",
       "      <td>0.200000</td>\n",
       "      <td>0.200000</td>\n",
       "      <td>0.200000</td>\n",
       "      <td>0.200000</td>\n",
       "      <td>0.200000</td>\n",
       "    </tr>\n",
       "    <tr>\n",
       "      <th>Naive Bayes</th>\n",
       "      <td>0.200000</td>\n",
       "      <td>0.200000</td>\n",
       "      <td>0.200000</td>\n",
       "      <td>0.200000</td>\n",
       "      <td>0.200000</td>\n",
       "    </tr>\n",
       "    <tr>\n",
       "      <th>QDA</th>\n",
       "      <td>0.908080</td>\n",
       "      <td>0.203465</td>\n",
       "      <td>0.202719</td>\n",
       "      <td>0.200000</td>\n",
       "      <td>0.201404</td>\n",
       "    </tr>\n",
       "  </tbody>\n",
       "</table>\n",
       "</div>"
      ],
      "text/plain": [
       "                      Train  Reflexivity  Symmetry  Transitivity  Equivalence\n",
       "Nearest Neighbors  0.953797     0.229946  0.212879      0.225632     0.200000\n",
       "Linear SVM         0.200000     0.200000  0.200000      0.200000     0.200000\n",
       "RBF SVM            0.992465     0.201699  0.207535      0.200000     0.200000\n",
       "Decision Tree      0.265483     0.200629  0.200186      0.201896     0.200000\n",
       "Random Forest      0.200000     0.200000  0.200000      0.200000     0.200000\n",
       "Neural Net         0.984929     0.200000  0.200000      0.200000     0.200000\n",
       "AdaBoost           0.200000     0.200000  0.200000      0.200000     0.200000\n",
       "Naive Bayes        0.200000     0.200000  0.200000      0.200000     0.200000\n",
       "QDA                0.908080     0.203465  0.202719      0.200000     0.201404"
      ]
     },
     "execution_count": 24,
     "metadata": {},
     "output_type": "execute_result"
    }
   ],
   "source": [
    "results_df=pd.DataFrame(np.column_stack([avg_scores_train,avg_scores_reflexivity,avg_scores_symmetry,avg_scores_transitivity,avg_scores_equivalence]),index=names, columns=[\"Train\", \"Reflexivity\", \"Symmetry\",\"Transitivity\",\"Equivalence\"])\n",
    "results_df"
   ]
  },
  {
   "cell_type": "code",
   "execution_count": 25,
   "metadata": {},
   "outputs": [
    {
     "data": {
      "text/plain": [
       "<matplotlib.axes._subplots.AxesSubplot at 0x180c4979588>"
      ]
     },
     "execution_count": 25,
     "metadata": {},
     "output_type": "execute_result"
    },
    {
     "data": {
      "image/png": "[encoded data removed]",
      "text/plain": [
       "<Figure size 1224x504 with 1 Axes>"
      ]
     },
     "metadata": {},
     "output_type": "display_data"
    }
   ],
   "source": [
    "results_df.T.plot(kind=\"bar\", figsize=(17,7))"
   ]
  },
  {
   "cell_type": "markdown",
   "metadata": {},
   "source": [
    "# Vernucio Debert Model ANN"
   ]
  },
  {
   "cell_type": "code",
   "execution_count": 26,
   "metadata": {},
   "outputs": [],
   "source": [
    "from sklearn.neural_network import MLPRegressor"
   ]
  },
  {
   "cell_type": "code",
   "execution_count": 27,
   "metadata": {},
   "outputs": [
    {
     "data": {
      "text/plain": [
       "MLPClassifier(activation='relu', alpha=1, batch_size='auto', beta_1=0.9,\n",
       "              beta_2=0.999, early_stopping=False, epsilon=1e-08,\n",
       "              hidden_layer_sizes=(540, 90), learning_rate='adaptive',\n",
       "              learning_rate_init=1, max_fun=15000, max_iter=200000,\n",
       "              momentum=0.9, n_iter_no_change=10, nesterovs_momentum=True,\n",
       "              power_t=0.5, random_state=None, shuffle=True, solver='adam',\n",
       "              tol=1e-12, validation_fraction=0.1, verbose=True,\n",
       "              warm_start=False)"
      ]
     },
     "execution_count": 27,
     "metadata": {},
     "output_type": "execute_result"
    }
   ],
   "source": [
    "mlp = MLPClassifier(#MLPClassifier #MLPRegressor # Regrehas lower performance\n",
    "#     activation='logistic', # logistic has lower performance\n",
    "#    solver='sgd',\n",
    "    learning_rate='adaptive',# experiment sets constant to 0.3 # I rather prefer adaptive (the other option: invscaling)\n",
    "   learning_rate_init=1,\n",
    "#    momentum=0,\n",
    "    max_iter=200000,\n",
    "#    validation_fraction=0,\n",
    "    verbose=True,\n",
    "    hidden_layer_sizes=(108*5,18*5),\n",
    "    tol=1e-12,\n",
    "    alpha=1\n",
    ")\n",
    "mlp"
   ]
  },
  {
   "cell_type": "code",
   "execution_count": 28,
   "metadata": {
    "scrolled": true
   },
   "outputs": [
    {
     "name": "stdout",
     "output_type": "stream",
     "text": [
      "Iteration 1, loss = inf\n",
      "Iteration 2, loss = 13.10163460\n",
      "Iteration 3, loss = 8.95681548\n",
      "Iteration 4, loss = 7.35466709\n",
      "Iteration 5, loss = 6.01463582\n",
      "Iteration 6, loss = 4.95473348\n",
      "Iteration 7, loss = 4.15613717\n",
      "Iteration 8, loss = 3.57988513\n",
      "Iteration 9, loss = 3.17975771\n",
      "Iteration 10, loss = 2.92070828\n",
      "Iteration 11, loss = 3.18822832\n",
      "Iteration 12, loss = 3.88626094\n",
      "Iteration 13, loss = 2.78644501\n",
      "Iteration 14, loss = 2.64216829\n",
      "Iteration 15, loss = 2.67671214\n",
      "Iteration 16, loss = 2.73987064\n",
      "Iteration 17, loss = 3.04937793\n",
      "Iteration 18, loss = 2.92101019\n",
      "Iteration 19, loss = 2.99370743\n",
      "Iteration 20, loss = 2.85806440\n",
      "Iteration 21, loss = 3.03955401\n",
      "Iteration 22, loss = 3.02648386\n",
      "Iteration 23, loss = 2.96289925\n",
      "Iteration 24, loss = 3.01450285\n",
      "Iteration 25, loss = 3.01588197\n",
      "Training loss did not improve more than tol=0.000000 for 10 consecutive epochs. Stopping.\n"
     ]
    },
    {
     "data": {
      "text/plain": [
       "MLPClassifier(activation='relu', alpha=1, batch_size='auto', beta_1=0.9,\n",
       "              beta_2=0.999, early_stopping=False, epsilon=1e-08,\n",
       "              hidden_layer_sizes=(540, 90), learning_rate='adaptive',\n",
       "              learning_rate_init=1, max_fun=15000, max_iter=200000,\n",
       "              momentum=0.9, n_iter_no_change=10, nesterovs_momentum=True,\n",
       "              power_t=0.5, random_state=None, shuffle=True, solver='adam',\n",
       "              tol=1e-12, validation_fraction=0.1, verbose=True,\n",
       "              warm_start=False)"
      ]
     },
     "execution_count": 28,
     "metadata": {},
     "output_type": "execute_result"
    }
   ],
   "source": [
    "mlp.fit(train_values, train_answer)"
   ]
  },
  {
   "cell_type": "code",
   "execution_count": 30,
   "metadata": {},
   "outputs": [
    {
     "name": "stdout",
     "output_type": "stream",
     "text": [
      "3037 38220\n",
      "[[[1 0 0 0 0 0 0]\n",
      "  [0 0 0 0 0 0 0]\n",
      "  [0 0 0 0 0 0 0]]\n",
      "\n",
      " [[0 0 0 0 0 0 0]\n",
      "  [0 0 0 0 0 1 0]\n",
      "  [0 0 0 0 0 0 0]]\n",
      "\n",
      " [[0 0 0 0 0 0 0]\n",
      "  [0 0 0 0 1 0 0]\n",
      "  [0 0 0 0 0 0 0]]\n",
      "\n",
      " [[0 0 0 0 0 0 0]\n",
      "  [0 0 0 0 1 0 0]\n",
      "  [0 0 0 0 0 0 0]]\n",
      "\n",
      " [[0 0 0 0 0 0 0]\n",
      "  [0 0 0 1 0 0 0]\n",
      "  [0 0 0 0 0 0 0]]\n",
      "\n",
      " [[0 0 0 0 0 0 0]\n",
      "  [1 0 0 0 0 0 0]\n",
      "  [0 0 0 0 0 0 0]]]\n",
      "['A1' 'B6' 'B5' 'B5' 'B4' 'B1']\n",
      "[0 0 0 0 1]\n"
     ]
    },
    {
     "data": {
      "text/plain": [
       "array([[0, 0, 0, 0, 0]])"
      ]
     },
     "execution_count": 30,
     "metadata": {},
     "output_type": "execute_result"
    }
   ],
   "source": [
    "n_example=random.randrange(len(train_labels))\n",
    "view_trial(train_labels,train_values,train_answer,n_example, n_modes=7)\n",
    "mlp.predict(train_values[n_example].reshape(1,-1))"
   ]
  },
  {
   "cell_type": "code",
   "execution_count": 31,
   "metadata": {},
   "outputs": [
    {
     "data": {
      "text/plain": [
       "0.2"
      ]
     },
     "execution_count": 31,
     "metadata": {},
     "output_type": "execute_result"
    }
   ],
   "source": [
    "average_precision_score(train_answer,mlp.predict(train_values))"
   ]
  },
  {
   "cell_type": "code",
   "execution_count": 33,
   "metadata": {},
   "outputs": [
    {
     "name": "stdout",
     "output_type": "stream",
     "text": [
      "15590 56490\n",
      "[[[0 0 0 0 1 0 0]\n",
      "  [0 0 0 0 0 0 0]\n",
      "  [0 0 0 0 0 0 0]]\n",
      "\n",
      " [[0 0 0 0 0 1 0]\n",
      "  [0 0 0 0 0 0 0]\n",
      "  [0 0 0 0 0 0 0]]\n",
      "\n",
      " [[0 0 0 0 0 1 0]\n",
      "  [0 0 0 0 0 0 0]\n",
      "  [0 0 0 0 0 0 0]]\n",
      "\n",
      " [[0 0 0 0 1 0 0]\n",
      "  [0 0 0 0 0 0 0]\n",
      "  [0 0 0 0 0 0 0]]\n",
      "\n",
      " [[1 0 0 0 0 0 0]\n",
      "  [0 0 0 0 0 0 0]\n",
      "  [0 0 0 0 0 0 0]]\n",
      "\n",
      " [[1 0 0 0 0 0 0]\n",
      "  [0 0 0 0 0 0 0]\n",
      "  [0 0 0 0 0 0 0]]]\n",
      "['A5' 'A6' 'A6' 'A5' 'A1' 'A1']\n",
      "[0 0 1 0 0]\n"
     ]
    },
    {
     "data": {
      "text/plain": [
       "array([[0, 0, 0, 0, 0]])"
      ]
     },
     "execution_count": 33,
     "metadata": {},
     "output_type": "execute_result"
    }
   ],
   "source": [
    "n_example=random.randrange(len(reflexivity_labels))\n",
    "view_trial(reflexivity_labels,reflexivity_values,reflexivity_answer,n_example, n_modes=7)\n",
    "mlp.predict(reflexivity_values[n_example].reshape(1,-1))"
   ]
  },
  {
   "cell_type": "code",
   "execution_count": 34,
   "metadata": {},
   "outputs": [
    {
     "data": {
      "text/plain": [
       "0.2"
      ]
     },
     "execution_count": 34,
     "metadata": {},
     "output_type": "execute_result"
    }
   ],
   "source": [
    "average_precision_score(reflexivity_answer,mlp.predict(reflexivity_values))"
   ]
  },
  {
   "cell_type": "code",
   "execution_count": 35,
   "metadata": {},
   "outputs": [
    {
     "name": "stdout",
     "output_type": "stream",
     "text": [
      "20024 38220\n",
      "[[[0 0 0 0 0 0 0]\n",
      "  [0 0 0 1 0 0 0]\n",
      "  [0 0 0 0 0 0 0]]\n",
      "\n",
      " [[0 0 1 0 0 0 0]\n",
      "  [0 0 0 0 0 0 0]\n",
      "  [0 0 0 0 0 0 0]]\n",
      "\n",
      " [[0 0 0 1 0 0 0]\n",
      "  [0 0 0 0 0 0 0]\n",
      "  [0 0 0 0 0 0 0]]\n",
      "\n",
      " [[0 1 0 0 0 0 0]\n",
      "  [0 0 0 0 0 0 0]\n",
      "  [0 0 0 0 0 0 0]]\n",
      "\n",
      " [[0 0 0 0 0 1 0]\n",
      "  [0 0 0 0 0 0 0]\n",
      "  [0 0 0 0 0 0 0]]\n",
      "\n",
      " [[0 0 0 0 0 1 0]\n",
      "  [0 0 0 0 0 0 0]\n",
      "  [0 0 0 0 0 0 0]]]\n",
      "['B4' 'A3' 'A4' 'A2' 'A6' 'A6']\n",
      "[0 1 0 0 0]\n"
     ]
    },
    {
     "data": {
      "text/plain": [
       "array([[0, 0, 0, 0, 0]])"
      ]
     },
     "execution_count": 35,
     "metadata": {},
     "output_type": "execute_result"
    }
   ],
   "source": [
    "n_example=random.randrange(len(symmetry_labels))\n",
    "view_trial(symmetry_labels,symmetry_values,symmetry_answer,n_example, n_modes=7)\n",
    "mlp.predict(symmetry_values[n_example].reshape(1,-1))"
   ]
  },
  {
   "cell_type": "code",
   "execution_count": 36,
   "metadata": {},
   "outputs": [
    {
     "data": {
      "text/plain": [
       "0.2"
      ]
     },
     "execution_count": 36,
     "metadata": {},
     "output_type": "execute_result"
    }
   ],
   "source": [
    "average_precision_score(symmetry_answer,mlp.predict(symmetry_values))"
   ]
  },
  {
   "cell_type": "code",
   "execution_count": 37,
   "metadata": {},
   "outputs": [
    {
     "name": "stdout",
     "output_type": "stream",
     "text": [
      "11918 18750\n",
      "[[[0 0 0 1 0 0 0]\n",
      "  [0 0 0 0 0 0 0]\n",
      "  [0 0 0 0 0 0 0]]\n",
      "\n",
      " [[0 0 0 0 0 0 0]\n",
      "  [0 0 0 0 0 0 0]\n",
      "  [0 0 0 0 1 0 0]]\n",
      "\n",
      " [[0 0 0 0 0 0 0]\n",
      "  [0 0 0 0 0 0 0]\n",
      "  [0 0 0 0 1 0 0]]\n",
      "\n",
      " [[0 0 0 0 0 0 0]\n",
      "  [0 0 0 0 0 0 0]\n",
      "  [0 0 0 0 0 1 0]]\n",
      "\n",
      " [[0 0 0 0 0 0 0]\n",
      "  [0 0 0 0 0 0 0]\n",
      "  [0 0 0 1 0 0 0]]\n",
      "\n",
      " [[0 0 0 0 0 0 0]\n",
      "  [0 0 0 0 0 0 0]\n",
      "  [1 0 0 0 0 0 0]]]\n",
      "['A4' 'C5' 'C5' 'C6' 'C4' 'C1']\n",
      "[0 0 0 1 0]\n"
     ]
    },
    {
     "data": {
      "text/plain": [
       "array([[0, 0, 0, 0, 0]])"
      ]
     },
     "execution_count": 37,
     "metadata": {},
     "output_type": "execute_result"
    }
   ],
   "source": [
    "n_example=random.randrange(len(transitivity_labels))\n",
    "view_trial(transitivity_labels,transitivity_values,transitivity_answer,n_example, n_modes=7)\n",
    "mlp.predict(transitivity_values[n_example].reshape(1,-1))"
   ]
  },
  {
   "cell_type": "code",
   "execution_count": 39,
   "metadata": {},
   "outputs": [
    {
     "data": {
      "text/plain": [
       "0.2"
      ]
     },
     "execution_count": 39,
     "metadata": {},
     "output_type": "execute_result"
    }
   ],
   "source": [
    "average_precision_score(transitivity_answer,mlp.predict(transitivity_values))"
   ]
  },
  {
   "cell_type": "code",
   "execution_count": 38,
   "metadata": {},
   "outputs": [
    {
     "name": "stdout",
     "output_type": "stream",
     "text": [
      "16543 18750\n",
      "[[[0 0 0 0 0 0 0]\n",
      "  [0 0 0 0 0 0 0]\n",
      "  [0 0 0 0 0 1 0]]\n",
      "\n",
      " [[0 1 0 0 0 0 0]\n",
      "  [0 0 0 0 0 0 0]\n",
      "  [0 0 0 0 0 0 0]]\n",
      "\n",
      " [[0 0 0 0 0 1 0]\n",
      "  [0 0 0 0 0 0 0]\n",
      "  [0 0 0 0 0 0 0]]\n",
      "\n",
      " [[0 1 0 0 0 0 0]\n",
      "  [0 0 0 0 0 0 0]\n",
      "  [0 0 0 0 0 0 0]]\n",
      "\n",
      " [[0 0 0 1 0 0 0]\n",
      "  [0 0 0 0 0 0 0]\n",
      "  [0 0 0 0 0 0 0]]\n",
      "\n",
      " [[0 0 0 1 0 0 0]\n",
      "  [0 0 0 0 0 0 0]\n",
      "  [0 0 0 0 0 0 0]]]\n",
      "['C6' 'A2' 'A6' 'A2' 'A4' 'A4']\n",
      "[0 1 0 0 0]\n"
     ]
    },
    {
     "data": {
      "text/plain": [
       "array([[0, 0, 0, 0, 0]])"
      ]
     },
     "execution_count": 38,
     "metadata": {},
     "output_type": "execute_result"
    }
   ],
   "source": [
    "n_example=random.randrange(len(equivalence_labels))\n",
    "view_trial(equivalence_labels,equivalence_values,equivalence_answer,n_example, n_modes=7)\n",
    "mlp.predict(equivalence_values[n_example].reshape(1,-1))"
   ]
  },
  {
   "cell_type": "code",
   "execution_count": 40,
   "metadata": {},
   "outputs": [
    {
     "data": {
      "text/plain": [
       "0.2"
      ]
     },
     "execution_count": 40,
     "metadata": {},
     "output_type": "execute_result"
    }
   ],
   "source": [
    "average_precision_score(equivalence_answer,mlp.predict(equivalence_values))"
   ]
  }
 ],
 "metadata": {
  "kernelspec": {
   "display_name": "Python 3",
   "language": "python",
   "name": "python3"
  },
  "language_info": {
   "codemirror_mode": {
    "name": "ipython",
    "version": 3
   },
   "file_extension": ".py",
   "mimetype": "text/x-python",
   "name": "python",
   "nbconvert_exporter": "python",
   "pygments_lexer": "ipython3",
   "version": "3.7.7"
  }
 },
 "nbformat": 4,
 "nbformat_minor": 4
}
