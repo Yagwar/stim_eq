{
 "cells": [
  {
   "cell_type": "code",
   "execution_count": 1,
   "id": "180c53ef-2ae8-4848-83cd-6cf05dc39e4b",
   "metadata": {},
   "outputs": [],
   "source": [
    "import numpy as np\n",
    "import pandas as pd\n",
    "import matplotlib.pyplot as plt\n",
    "\n",
    "import torch\n",
    "import torch.nn as nn\n",
    "import torch.optim as optim\n",
    "from collections import deque\n",
    "from torch.utils.data import TensorDataset, DataLoader\n",
    "\n",
    "%matplotlib inline\n",
    "import time\n",
    "import pylab as pl\n",
    "from IPython import display\n",
    "\n",
    "import seaborn as sns\n",
    "from matplotlib.colors import BoundaryNorm, ListedColormap\n",
    "pd.options.display.float_format = \"{:,.3f}\".format\n",
    "\n",
    "from IPython.display import clear_output"
   ]
  },
  {
   "cell_type": "code",
   "execution_count": 2,
   "id": "e411232d-5cc8-469a-a673-2637c98cfe76",
   "metadata": {},
   "outputs": [
    {
     "name": "stdout",
     "output_type": "stream",
     "text": [
      "Using device: cuda\n"
     ]
    }
   ],
   "source": [
    "# Check if CUDA is available and set PyTorch to use the GPU\n",
    "device = torch.device(\"cuda\" if torch.cuda.is_available() else \"cpu\")\n",
    "print(f\"Using device: {device}\")"
   ]
  },
  {
   "cell_type": "code",
   "execution_count": 3,
   "id": "b59680fd-0894-4c8a-ad75-8a4f7e24c31b",
   "metadata": {},
   "outputs": [],
   "source": [
    "# import numpy as np\n",
    "# from sklearn.utils import shuffle\n",
    "\n",
    "# import torch\n",
    "# import torch.nn as nn\n",
    "# import torch.optim as optim\n",
    "\n",
    "# ##### Agent Environment\n",
    "# class Bandit_multi:\n",
    "#     def __init__(self, X, y, is_shuffle=True, seed=None):\n",
    "#         # No need to fetch data, use provided arrays\n",
    "#         self.X = X\n",
    "#         self.y = y\n",
    "    \n",
    "#         # Shuffle data if needed\n",
    "#         if is_shuffle:\n",
    "#             self.X, self.y = shuffle(X, y, random_state=seed)\n",
    "    \n",
    "#         # Cursor and other variables\n",
    "#         self.cursor = 0\n",
    "#         self.size = self.y.shape[0]\n",
    "#         self.n_arm = self.y.shape[1]  # Number of arms based on one-hot encoding shape\n",
    "#         self.dim = self.X.shape[1] * self.n_arm\n",
    "#         self.act_dim = self.X.shape[1]\n",
    "    \n",
    "#     def step(self):\n",
    "#         assert self.cursor < self.size\n",
    "#         X = np.zeros((self.n_arm, self.dim))\n",
    "#         for a in range(self.n_arm):\n",
    "#             X[a, a * self.act_dim:a * self.act_dim + self.act_dim] = self.X[self.cursor]\n",
    "#         arm = np.argmax(self.y[self.cursor])  # Get index of the active arm\n",
    "#         rwd = self.y[self.cursor].copy()  # Reward based on one-hot encoded response\n",
    "#         self.cursor += 1\n",
    "#         return X, rwd\n",
    "    \n",
    "#     def finish(self):\n",
    "#         return self.cursor == self.size\n",
    "    \n",
    "#     def reset(self):\n",
    "#         self.cursor = 0\n",
    "\n",
    "# ##### Neural UCB agent\n",
    "# class Network(nn.Module):\n",
    "#     def __init__(self, dim, hidden_size=50000):\n",
    "#         super(Network, self).__init__()\n",
    "#         self.fc1 = nn.Linear(dim, hidden_size)\n",
    "#         self.activate = nn.ReLU()\n",
    "#         self.fc2 = nn.Linear(hidden_size, 1)\n",
    "    \n",
    "#     def forward(self, x):\n",
    "#         return self.fc2(self.activate(self.fc1(x)))\n",
    "\n",
    "\n",
    "# class NeuralUCBDiag:\n",
    "#     def __init__(self, dim, lamdba=1, nu=1, hidden=50000, device=\"cuda\" if torch.cuda.is_available() else \"cpu\"):\n",
    "#         self.func = Network(dim, hidden_size=hidden).to(device)\n",
    "#         self.context_list = []\n",
    "#         self.reward = []\n",
    "#         self.lamdba = lamdba\n",
    "#         self.total_param = sum(p.numel() for p in self.func.parameters() if p.requires_grad)\n",
    "#         self.U = lamdba * torch.ones((self.total_param,), device=device)\n",
    "#         self.nu = nu\n",
    "#         self.device = device\n",
    "    \n",
    "#     def select(self, context):\n",
    "#         # tensor = torch.from_numpy(context).float().to(self.device)\n",
    "#         # mu = self.func(tensor)\n",
    "#         mu = self.func(context)\n",
    "#         g_list = []\n",
    "#         sampled = []\n",
    "#         ave_sigma = 0\n",
    "#         ave_rew = 0\n",
    "        \n",
    "#         for fx in mu:\n",
    "#             self.func.zero_grad()\n",
    "#             fx.backward(retain_graph=True)\n",
    "#             g = torch.cat([p.grad.flatten().detach() for p in self.func.parameters()])\n",
    "#             g_list.append(g)\n",
    "            \n",
    "#             sigma2 = self.lamdba * self.nu * g * g / self.U\n",
    "#             sigma = torch.sqrt(torch.sum(sigma2))\n",
    "            \n",
    "#             sample_r = fx.item() + sigma.item()\n",
    "#             sampled.append(sample_r)\n",
    "#             ave_sigma += sigma.item()\n",
    "#             ave_rew += sample_r\n",
    "    \n",
    "#         arm = np.argmax(sampled)\n",
    "#         self.U += g_list[arm] * g_list[arm]\n",
    "#         return arm, g_list[arm].norm().item(), ave_sigma, ave_rew\n",
    "\n",
    "#     def train(self, context, reward):\n",
    "#         self.context_list.append(context.to(self.device))  \n",
    "#         #self.context_list.append(torch.from_numpy(context.reshape(1, -1)).float().to(self.device))\n",
    "#         self.reward.append(reward)\n",
    "#         optimizer = optim.SGD(self.func.parameters(), lr=1e-2, weight_decay=self.lamdba)\n",
    "#         length = len(self.reward)\n",
    "#         index = np.arange(length)\n",
    "#         np.random.shuffle(index)\n",
    "#         cnt = 0\n",
    "#         tot_loss = 0\n",
    "\n",
    "#         while True:\n",
    "#             batch_loss = 0\n",
    "#             for idx in index:\n",
    "#                 c = self.context_list[idx]\n",
    "#                 r = self.reward[idx]\n",
    "#                 optimizer.zero_grad()\n",
    "#                 delta = self.func(c.to(self.device)) - r\n",
    "#                 loss = delta * delta\n",
    "#                 loss.backward()\n",
    "#                 optimizer.step()\n",
    "#                 batch_loss += loss.item()\n",
    "#                 tot_loss += loss.item()\n",
    "#                 cnt += 1\n",
    "#                 if cnt >= 1000:\n",
    "#                     return tot_loss / 1000\n",
    "#                 if batch_loss / length <= 1e-3:\n",
    "#                     return batch_loss / length\n",
    "\n",
    "# def run_evaluation(agent, test_trials, test_answers):\n",
    "#     test_environment = Bandit_multi(test_trials, test_answers, is_shuffle=False)\n",
    "#     selected_arm_list = []\n",
    "#     reward_selection_list = []\n",
    "#     agent_response_list = []\n",
    "    \n",
    "#     # with torch.no_grad():\n",
    "#     for t in range(test_environment.size): # All trials must pass\n",
    "#         # Get context and reward from Bandit environment\n",
    "#         context, rwd = test_environment.step()\n",
    "#         context = torch.from_numpy(context).float().to(device)  # Move context to device\n",
    "        \n",
    "#         # Select arm, norm, sigma, and average reward\n",
    "#         arm_select, _, _, _ = agent.select(context)\n",
    "#         # arm_select\n",
    "#         action_reward = rwd[arm_select]\n",
    "        \n",
    "#         # Create one-hot encoded vector for the selected arm\n",
    "#         arm_one_hot = np.zeros(test_environment.n_arm)\n",
    "#         arm_one_hot[arm_select] = 1\n",
    "#         agent_response = arm_one_hot\n",
    "    \n",
    "#         selected_arm_list.append(arm_select)\n",
    "#         reward_selection_list.append(action_reward)\n",
    "#         agent_response_list.append(agent_response)\n",
    "            \n",
    "#     return selected_arm_list, reward_selection_list#, np.array(agent_response_list)"
   ]
  },
  {
   "cell_type": "code",
   "execution_count": 4,
   "id": "c93e4946-3a08-4101-8023-a069d8ab027d",
   "metadata": {},
   "outputs": [],
   "source": [
    "rng = np.random.default_rng()"
   ]
  },
  {
   "cell_type": "code",
   "execution_count": 5,
   "id": "3866f9a7-6875-4071-aa24-5075f71ec0c1",
   "metadata": {},
   "outputs": [],
   "source": [
    "%run ../utils/trials_v03.py "
   ]
  },
  {
   "cell_type": "code",
   "execution_count": 6,
   "id": "12e97b1a-218c-4d70-809b-a72eb5519a3b",
   "metadata": {},
   "outputs": [
    {
     "name": "stdout",
     "output_type": "stream",
     "text": [
      "Using device: cuda\n"
     ]
    }
   ],
   "source": [
    "%run experiment.py "
   ]
  },
  {
   "cell_type": "code",
   "execution_count": 7,
   "id": "8f5fc196-663a-4d02-bdc9-aaa166fbd211",
   "metadata": {},
   "outputs": [],
   "source": [
    "members_number = 5\n",
    "classes_number = 4\n",
    "\n",
    "members_stim, class_stim, stimuli_set, dummy_set = get_stimuli_list(members_n = members_number, classes_n = classes_number)"
   ]
  },
  {
   "cell_type": "code",
   "execution_count": 8,
   "id": "29610912-6c41-4554-8211-fbf311854e13",
   "metadata": {},
   "outputs": [
    {
     "data": {
      "text/plain": [
       "['LS_select_only',\n",
       " 'LS_select_reject',\n",
       " 'OTM_select_only',\n",
       " 'OTM_select_reject',\n",
       " 'MTO_select_only',\n",
       " 'MTO_select_reject']"
      ]
     },
     "execution_count": 8,
     "metadata": {},
     "output_type": "execute_result"
    }
   ],
   "source": [
    "protocols_dict = {f\"{ts}_{relation}\": {'train_structure': ts, 'relation_type': relation} \n",
    "                  for ts in [\"LS\", \"OTM\", \"MTO\"] for relation in ['select_only', 'select_reject']}\n",
    "list(protocols_dict.keys())"
   ]
  },
  {
   "cell_type": "code",
   "execution_count": 9,
   "id": "defadeb4-3e19-44b6-ab88-a614a6fc0584",
   "metadata": {},
   "outputs": [
    {
     "name": "stdout",
     "output_type": "stream",
     "text": [
      "LS_select_only\n"
     ]
    }
   ],
   "source": [
    "protocol_names=list(protocols_dict.keys())\n",
    "prt_nm = 0\n",
    "print(protocol_names[prt_nm])\n",
    "protocol = protocols_dict[protocol_names[prt_nm]]\n",
    "member_pairs_df = create_pair_members(members_stim, train_structure = protocol[\"train_structure\"])\n",
    "experimental_pairs = create_pairs_classes(member_pairs_df, class_stim)"
   ]
  },
  {
   "cell_type": "code",
   "execution_count": 10,
   "id": "0e99f862-c778-4fda-b7ab-5ae3ad14f780",
   "metadata": {},
   "outputs": [],
   "source": [
    "baseline_train_trials_info = create_trials(\n",
    "    subset_to_trials = \"baseline\", \n",
    "    pairs_dataset_df = experimental_pairs, \n",
    "    stimuli_list = stimuli_set, \n",
    "    dummy_list = dummy_set, \n",
    "    relation_type = protocol['relation_type'])\n",
    "\n",
    "reflexivity_trials_info = create_trials(\n",
    "    subset_to_trials = \"reflexivity\", \n",
    "    pairs_dataset_df = experimental_pairs, \n",
    "    stimuli_list = stimuli_set, \n",
    "    dummy_list = dummy_set, \n",
    "    relation_type = \"select_reject\")\n",
    "\n",
    "symmetry_trials_info = create_trials(\n",
    "    subset_to_trials = \"symmetry\", \n",
    "    pairs_dataset_df = experimental_pairs, \n",
    "    stimuli_list = stimuli_set, \n",
    "    dummy_list = dummy_set, \n",
    "    relation_type = \"select_reject\")\n",
    "\n",
    "transitivity_trials_info = create_trials(\n",
    "    subset_to_trials = \"transitivity\", \n",
    "    pairs_dataset_df = experimental_pairs, \n",
    "    stimuli_list = stimuli_set, \n",
    "    dummy_list = dummy_set, \n",
    "    relation_type = \"select_reject\")"
   ]
  },
  {
   "cell_type": "code",
   "execution_count": 11,
   "id": "fae8d2ea-d4df-46a9-8923-d9766df7b1f7",
   "metadata": {},
   "outputs": [],
   "source": [
    "# This encoding can be used in a loop for validate stability across several experiments avoiding learning related to feature encoding positioning. \n",
    "stimuli_dict_encoded = encode_stims (stimuli_set, dummy_set)"
   ]
  },
  {
   "cell_type": "code",
   "execution_count": 12,
   "id": "32f41d6f-e9ec-433d-aaca-e8b0708088c8",
   "metadata": {},
   "outputs": [],
   "source": [
    "baseline_train_trials, baseline_train_answers = process_trial_values(baseline_train_trials_info, stimuli_dict_encoded)\n",
    "reflexivity_trials, reflexivity_answers = process_trial_values(reflexivity_trials_info, stimuli_dict_encoded)\n",
    "symmetry_trials, symmetry_answers = process_trial_values(symmetry_trials_info, stimuli_dict_encoded)\n",
    "transitivity_trials, transitivity_answers = process_trial_values(transitivity_trials_info, stimuli_dict_encoded)"
   ]
  },
  {
   "cell_type": "code",
   "execution_count": 13,
   "id": "eb88ad30-4015-43e7-807b-e2e6bbf69270",
   "metadata": {},
   "outputs": [
    {
     "name": "stdout",
     "output_type": "stream",
     "text": [
      "(1512, 80)\n"
     ]
    }
   ],
   "source": [
    "print (baseline_train_trials.shape)"
   ]
  },
  {
   "cell_type": "code",
   "execution_count": 14,
   "id": "8ba77ddd-cb6f-4be4-94bb-762ddfe41786",
   "metadata": {},
   "outputs": [],
   "source": [
    "# Define training parameters\n",
    "args = {\n",
    "    'shuffle': True,  \n",
    "    'seed': 0,  # Random seed (0 for None)\n",
    "    'nu': 1,  # Control variance parameter\n",
    "    'lamdba': 0.001,  # Regularization parameter\n",
    "    'hidden': 50000,  # Network hidden size\n",
    "}\n",
    "\n",
    "# Create Bandit environment\n",
    "b = Bandit_multi(baseline_train_trials, baseline_train_answers)\n",
    "\n",
    "# Create NeuralUCB agent on device\n",
    "bandit_info = 'user_data'  # Information about your data\n",
    "ucb_info = '_{:.3e}_{:.3e}_{}'.format(args['lamdba'], args['nu'], args['hidden'])\n",
    "agent = NeuralUCBDiag(b.dim, args['lamdba'], args['nu'], args['hidden'])#.to(device)\n",
    "\n",
    "# Training loop\n",
    "regrets = []\n",
    "summ = 0"
   ]
  },
  {
   "cell_type": "code",
   "execution_count": 15,
   "id": "89147b62-68fa-4311-9fd0-6c588f145cfa",
   "metadata": {},
   "outputs": [
    {
     "name": "stdout",
     "output_type": "stream",
     "text": [
      "1500: 74.000, 2.245e-07, 9.739e+00, 3.992e+00, 5.014e+00\n"
     ]
    },
    {
     "data": {
      "image/png": "[encoded data removed]",
      "text/plain": [
       "<Figure size 640x480 with 1 Axes>"
      ]
     },
     "metadata": {},
     "output_type": "display_data"
    },
    {
     "name": "stdout",
     "output_type": "stream",
     "text": [
      "Training complete!\n"
     ]
    }
   ],
   "source": [
    "for t in range(b.size): # All trials must pass\n",
    "  # Get context and reward from Bandit environment\n",
    "  context, rwd = b.step()\n",
    "  context = torch.from_numpy(context).float().to(device)  # Move context to device\n",
    "\n",
    "  # Select arm, norm, sigma, and average reward\n",
    "  arm_select, nrm, sig, ave_rwd = agent.select(context)\n",
    "\n",
    "  # Get actual reward and calculate regret\n",
    "  r = rwd[arm_select]\n",
    "  reg = np.max(rwd) - r\n",
    "  summ += reg\n",
    "\n",
    "  # Train agent\n",
    "  loss = agent.train(context[arm_select], r)\n",
    "\n",
    "  # Track regrets and print progress\n",
    "  regrets.append(summ)\n",
    "  if t % 100 == 0:\n",
    "      clear_output(wait=True)\n",
    "      print('{}: {:.3f}, {:.3e}, {:.3e}, {:.3e}, {:.3e}'.format(t, summ, loss, nrm, sig, ave_rwd))\n",
    "      plt.plot(range(len(regrets)), regrets)\n",
    "      plt.title (protocol_names[prt_nm])\n",
    "      plt.xlabel(\"Trials\")\n",
    "      plt.ylabel(\"Cumulative Regret\")\n",
    "      plt.show()\n",
    "      \n",
    "\n",
    "## Save regrets (path includes bandit and agent info with timestamp)\n",
    "path = \"salidas/\"+protocol_names[prt_nm]+\"regrets\"# '{}_{}'.format(bandit_info, ucb_info, protocol_names[prt_nm])\n",
    "with open(path, 'w') as fr:\n",
    "  for i in regrets:\n",
    "    fr.write(str(i) + \"\\n\")\n",
    "\n",
    "print(\"Training complete!\")"
   ]
  },
  {
   "cell_type": "code",
   "execution_count": 16,
   "id": "ad7d48b4-02f6-46d1-8bdc-92cf22213c54",
   "metadata": {
    "scrolled": true
   },
   "outputs": [],
   "source": [
    "baseline_response, baseline_reward = run_evaluation(agent, baseline_train_trials, baseline_train_answers)\n",
    "reflexivity_response, reflexivity_reward = run_evaluation(agent, reflexivity_trials, reflexivity_answers)\n",
    "transitivity_response, transitivity_reward = run_evaluation(agent, transitivity_trials, transitivity_answers)\n",
    "symmetry_response, symmetry_reward = run_evaluation(agent, symmetry_trials, symmetry_answers)"
   ]
  },
  {
   "cell_type": "code",
   "execution_count": 17,
   "id": "e81102f3-d0bc-4f90-a847-efb7351b30a9",
   "metadata": {},
   "outputs": [
    {
     "name": "stdout",
     "output_type": "stream",
     "text": [
      "0.9808201058201058 0.38938492063492064 0.27744708994708994 0.30423280423280424\n"
     ]
    }
   ],
   "source": [
    "print(np.mean(baseline_reward),\n",
    "      np.mean(reflexivity_reward), \n",
    "      np.mean(transitivity_reward),\n",
    "      np.mean(symmetry_reward))"
   ]
  },
  {
   "cell_type": "code",
   "execution_count": 18,
   "id": "22e63d1b-8e6b-4990-8bf2-407f47d5f4f9",
   "metadata": {},
   "outputs": [],
   "source": [
    "# Add evaluation to experiment info to plot results."
   ]
  },
  {
   "cell_type": "code",
   "execution_count": 19,
   "id": "895dca98-629e-44f7-93c1-cbf29218aabf",
   "metadata": {},
   "outputs": [],
   "source": [
    "baseline_train_trials_info[\"agent_response\"] = baseline_response\n",
    "baseline_train_trials_info[\"response_score\"] = baseline_reward\n",
    "\n",
    "reflexivity_trials_info[\"agent_response\"] = reflexivity_response\n",
    "reflexivity_trials_info[\"response_score\"] = reflexivity_reward\n",
    "\n",
    "symmetry_trials_info[\"agent_response\"] = symmetry_response\n",
    "symmetry_trials_info[\"response_score\"] = symmetry_reward\n",
    "\n",
    "transitivity_trials_info[\"agent_response\"] = transitivity_response\n",
    "transitivity_trials_info[\"response_score\"] = transitivity_reward"
   ]
  },
  {
   "cell_type": "code",
   "execution_count": 20,
   "id": "cf02be3c-398c-4bd5-aae7-8eccb494d21f",
   "metadata": {},
   "outputs": [],
   "source": [
    "protocol_output = pd.concat([\n",
    "    baseline_train_trials_info,\n",
    "    reflexivity_trials_info,\n",
    "    symmetry_trials_info,\n",
    "    transitivity_trials_info],\n",
    "    axis=0, \n",
    "    ignore_index=True)\n",
    "\n",
    "protocol_output['agent_response']=[\"O_\"+str(arm+1) for arm in protocol_output['agent_response']]\n",
    "protocol_output['sample_member']=[stim[0] for stim in protocol_output.st_sample]\n",
    "protocol_output['comparison_member']=[stim[0] for stim in protocol_output.st_comparison]"
   ]
  },
  {
   "cell_type": "code",
   "execution_count": null,
   "id": "3be54f2b-cffe-498c-b607-de01cfd187e6",
   "metadata": {},
   "outputs": [],
   "source": [
    "# protocol_output.to_pickle(\"salidas/\"+protocol_names[prt_nm]+\".pkl\")"
   ]
  }
 ],
 "metadata": {
  "kernelspec": {
   "display_name": "Python 3 (ipykernel)",
   "language": "python",
   "name": "python3"
  },
  "language_info": {
   "codemirror_mode": {
    "name": "ipython",
    "version": 3
   },
   "file_extension": ".py",
   "mimetype": "text/x-python",
   "name": "python",
   "nbconvert_exporter": "python",
   "pygments_lexer": "ipython3",
   "version": "3.12.1"
  }
 },
 "nbformat": 4,
 "nbformat_minor": 5
}
