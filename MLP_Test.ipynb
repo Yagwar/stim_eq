{
 "cells": [
  {
   "cell_type": "code",
   "execution_count": 1,
   "metadata": {},
   "outputs": [],
   "source": [
    "import numpy as np\n",
    "import pandas as pd\n",
    "from matplotlib import pyplot as plt\n",
    "%matplotlib inline\n",
    "\n",
    "#pybrain net\n",
    "import pybrain\n",
    "from pybrain.datasets import UnsupervisedDataSet, SupervisedDataSet\n",
    "from pybrain.tools.shortcuts import buildNetwork\n",
    "from pybrain.supervised.trainers import BackpropTrainer\n",
    "from pybrain.tools.validation import Validator\n",
    "\n",
    "#scikit-learn\n",
    "from sklearn.neural_network import MLPClassifier"
   ]
  },
  {
   "cell_type": "code",
   "execution_count": 2,
   "metadata": {
    "collapsed": true
   },
   "outputs": [],
   "source": [
    "def print_pred2(dataset, network):\n",
    "    df = pd.DataFrame(dataset.data['sample'][:dataset.getLength()])\n",
    "    prediction = np.round(network.activateOnDataset(dataset),3)\n",
    "    df['output'] = pd.DataFrame(prediction)\n",
    "    return df"
   ]
  },
  {
   "cell_type": "code",
   "execution_count": 3,
   "metadata": {},
   "outputs": [],
   "source": [
    "a_b=[[[1,0,0,0,0,0,1,0,0,0,0,0,1,0,0,0,0,0,1,0],[1,0,0]],\n",
    "[[1,0,0,0,0,0,1,0,0,0,0,0,1,0,0,0,0,0,0,1],[1,0,0]],#\n",
    "[[1,0,0,0,0,0,1,0,0,0,0,0,0,1,0,0,0,1,0,0],[1,0,0]],\n",
    "[[1,0,0,0,0,0,1,0,0,0,0,0,0,1,0,0,0,0,0,1],[1,0,0]],\n",
    "[[1,0,0,0,0,0,1,0,0,0,0,0,0,0,1,0,0,1,0,0],[1,0,0]],\n",
    "[[1,0,0,0,0,0,1,0,0,0,0,0,0,0,1,0,0,0,1,0],[1,0,0]],\n",
    "[[1,0,0,0,0,0,0,1,0,0,0,1,0,0,0,0,0,0,1,0],[0,1,0]],\n",
    "[[1,0,0,0,0,0,0,1,0,0,0,1,0,0,0,0,0,0,0,1],[0,1,0]],\n",
    "[[1,0,0,0,0,0,0,0,1,0,0,1,0,0,0,0,0,1,0,0],[0,1,0]],#\n",
    "[[1,0,0,0,0,0,0,0,1,0,0,1,0,0,0,0,0,0,0,1],[0,1,0]],\n",
    "[[1,0,0,0,0,0,0,0,0,1,0,1,0,0,0,0,0,1,0,0],[0,1,0]],\n",
    "[[1,0,0,0,0,0,0,0,0,1,0,1,0,0,0,0,0,0,1,0],[0,1,0]],\n",
    "[[1,0,0,0,0,0,0,1,0,0,0,0,0,1,0,0,1,0,0,0],[0,0,1]],#\n",
    "[[1,0,0,0,0,0,0,1,0,0,0,0,0,0,1,0,1,0,0,0],[0,0,1]],\n",
    "[[1,0,0,0,0,0,0,0,1,0,0,0,1,0,0,0,1,0,0,0],[0,0,1]],\n",
    "[[1,0,0,0,0,0,0,0,1,0,0,0,0,0,1,0,1,0,0,0],[0,0,1]],\n",
    "[[1,0,0,0,0,0,0,0,0,1,0,0,1,0,0,0,1,0,0,0],[0,0,1]],\n",
    "[[1,0,0,0,0,0,0,0,0,1,0,0,0,1,0,0,1,0,0,0],[0,0,1]]]\n",
    "#a_b"
   ]
  },
  {
   "cell_type": "code",
   "execution_count": 4,
   "metadata": {},
   "outputs": [
    {
     "name": "stdout",
     "output_type": "stream",
     "text": [
      "input: dim(30, 20)\n",
      "[[ 1.  0.  0.  0.  0.  0.  1.  0.  0.  0.  0.  0.  1.  0.  0.  0.  0.  0.\n",
      "   1.  0.]\n",
      " [ 1.  0.  0.  0.  0.  0.  1.  0.  0.  0.  0.  0.  1.  0.  0.  0.  0.  0.\n",
      "   0.  1.]\n",
      " [ 1.  0.  0.  0.  0.  0.  1.  0.  0.  0.  0.  0.  0.  1.  0.  0.  0.  1.\n",
      "   0.  0.]\n",
      " [ 1.  0.  0.  0.  0.  0.  1.  0.  0.  0.  0.  0.  0.  1.  0.  0.  0.  0.\n",
      "   0.  1.]\n",
      " [ 1.  0.  0.  0.  0.  0.  1.  0.  0.  0.  0.  0.  0.  0.  1.  0.  0.  1.\n",
      "   0.  0.]\n",
      " [ 1.  0.  0.  0.  0.  0.  1.  0.  0.  0.  0.  0.  0.  0.  1.  0.  0.  0.\n",
      "   1.  0.]\n",
      " [ 1.  0.  0.  0.  0.  0.  0.  1.  0.  0.  0.  1.  0.  0.  0.  0.  0.  0.\n",
      "   1.  0.]\n",
      " [ 1.  0.  0.  0.  0.  0.  0.  1.  0.  0.  0.  1.  0.  0.  0.  0.  0.  0.\n",
      "   0.  1.]\n",
      " [ 1.  0.  0.  0.  0.  0.  0.  0.  1.  0.  0.  1.  0.  0.  0.  0.  0.  1.\n",
      "   0.  0.]\n",
      " [ 1.  0.  0.  0.  0.  0.  0.  0.  1.  0.  0.  1.  0.  0.  0.  0.  0.  0.\n",
      "   0.  1.]\n",
      " [ 1.  0.  0.  0.  0.  0.  0.  0.  0.  1.  0.  1.  0.  0.  0.  0.  0.  1.\n",
      "   0.  0.]\n",
      " [ 1.  0.  0.  0.  0.  0.  0.  0.  0.  1.  0.  1.  0.  0.  0.  0.  0.  0.\n",
      "   1.  0.]\n",
      " [ 1.  0.  0.  0.  0.  0.  0.  1.  0.  0.  0.  0.  0.  1.  0.  0.  1.  0.\n",
      "   0.  0.]\n",
      " [ 1.  0.  0.  0.  0.  0.  0.  1.  0.  0.  0.  0.  0.  0.  1.  0.  1.  0.\n",
      "   0.  0.]\n",
      " [ 1.  0.  0.  0.  0.  0.  0.  0.  1.  0.  0.  0.  1.  0.  0.  0.  1.  0.\n",
      "   0.  0.]\n",
      " [ 1.  0.  0.  0.  0.  0.  0.  0.  1.  0.  0.  0.  0.  0.  1.  0.  1.  0.\n",
      "   0.  0.]\n",
      " [ 1.  0.  0.  0.  0.  0.  0.  0.  0.  1.  0.  0.  1.  0.  0.  0.  1.  0.\n",
      "   0.  0.]\n",
      " [ 1.  0.  0.  0.  0.  0.  0.  0.  0.  1.  0.  0.  0.  1.  0.  0.  1.  0.\n",
      "   0.  0.]]\n",
      "\n",
      "target: dim(30, 3)\n",
      "[[ 1.  0.  0.]\n",
      " [ 1.  0.  0.]\n",
      " [ 1.  0.  0.]\n",
      " [ 1.  0.  0.]\n",
      " [ 1.  0.  0.]\n",
      " [ 1.  0.  0.]\n",
      " [ 0.  1.  0.]\n",
      " [ 0.  1.  0.]\n",
      " [ 0.  1.  0.]\n",
      " [ 0.  1.  0.]\n",
      " [ 0.  1.  0.]\n",
      " [ 0.  1.  0.]\n",
      " [ 0.  0.  1.]\n",
      " [ 0.  0.  1.]\n",
      " [ 0.  0.  1.]\n",
      " [ 0.  0.  1.]\n",
      " [ 0.  0.  1.]\n",
      " [ 0.  0.  1.]]\n",
      "\n",
      "\n"
     ]
    }
   ],
   "source": [
    "Dtrain = SupervisedDataSet(20,3) # define a dataset in pybrain\n",
    "#Dtrain.addSample([0,0],[0])\n",
    "[Dtrain.addSample(smpl[0],smpl[1]) for smpl in a_b]\n",
    "print(Dtrain)"
   ]
  },
  {
   "cell_type": "code",
   "execution_count": 5,
   "metadata": {},
   "outputs": [],
   "source": [
    "validator =  Validator()\n",
    "net = buildNetwork(20,4,3, hiddenclass=pybrain.SigmoidLayer, outclass=pybrain.SigmoidLayer)\n",
    "T = BackpropTrainer(net, learningrate=0.01, momentum=0.99)"
   ]
  },
  {
   "cell_type": "code",
   "execution_count": 6,
   "metadata": {},
   "outputs": [
    {
     "data": {
      "text/plain": [
       "[<matplotlib.lines.Line2D at 0x7fa428dd7990>]"
      ]
     },
     "execution_count": 6,
     "metadata": {},
     "output_type": "execute_result"
    },
    {
     "data": {
      "image/png": "[encoded data removed]",
      "text/plain": [
       "<matplotlib.figure.Figure at 0x7fa42abf4f10>"
      ]
     },
     "metadata": {},
     "output_type": "display_data"
    }
   ],
   "source": [
    "scores = []\n",
    "for i in xrange(1500):\n",
    "    T.trainOnDataset(Dtrain, 1)\n",
    "    prediction = net.activateOnDataset(Dtrain)\n",
    "    scores.append(validator.MSE(prediction, Dtrain.getField('target')))\n",
    "plt.ylabel('Mean Square Error')\n",
    "plt.xlabel('Iteration')\n",
    "plt.plot(scores)"
   ]
  },
  {
   "cell_type": "code",
   "execution_count": 7,
   "metadata": {},
   "outputs": [],
   "source": [
    "#T.trainOnDataset(Dtrain, 1000)\n",
    "#print net.params"
   ]
  },
  {
   "cell_type": "code",
   "execution_count": 8,
   "metadata": {},
   "outputs": [
    {
     "data": {
      "text/plain": [
       "array([ 0.04127812,  0.51567794,  0.16667522])"
      ]
     },
     "execution_count": 8,
     "metadata": {},
     "output_type": "execute_result"
    }
   ],
   "source": [
    "#[[1,0,0,0,0,0,1,0,0,0,0,0,1,0,0,0,0,0,0,1],[1,0,0]], #A-BCE #No entrenado\n",
    "#[[1,0,0,0,0,0,0,0,1,0,0,1,0,0,0,0,0,1,0,0],[0,1,0]], #A-DBC #No entrenado\n",
    "#[[1,0,0,0,0,0,0,1,0,0,0,0,0,1,0,0,1,0,0,0],[0,0,1]], #A-CDB #No entrenado\n",
    "#[1,0,0,0,0,0,0,1,0,0,0,0,0,1,0,0,0,0,0,1]# A-CDE #No entrenado\n",
    "#[1,0,0,0,0,0,0,0,1,0,0,0,1,0,0,0,0,0,0,1]# A-DCE #No entrenado\n",
    "#[0,1,0,0,0,0,0,1,0,0,1,0,0,0,0,0,0,0,1,0]#B-CAD #Test de simetría #No entrenado\n",
    "in_vals=[0,1,0,0,0,0,0,1,0,0,1,0,0,0,0,0,0,0,1,0]\n",
    "\n",
    "net.activate(in_vals)"
   ]
  },
  {
   "cell_type": "code",
   "execution_count": 9,
   "metadata": {},
   "outputs": [
    {
     "data": {
      "text/plain": [
       "[[array([ 0.99125815,  0.00738035,  0.00484676]), [1, 0, 0]],\n",
       " [array([ 0.99041646,  0.00696987,  0.00561261]), [1, 0, 0]],\n",
       " [array([ 0.99160415,  0.00598634,  0.00536235]), [1, 0, 0]],\n",
       " [array([ 0.99165637,  0.00651177,  0.00505679]), [1, 0, 0]],\n",
       " [array([ 0.99288614,  0.00655925,  0.00458241]), [1, 0, 0]],\n",
       " [array([ 0.99315129,  0.0070941 ,  0.00411608]), [1, 0, 0]],\n",
       " [array([ 0.01066339,  0.98924907,  0.0080637 ]), [0, 1, 0]],\n",
       " [array([ 0.01041506,  0.98888184,  0.00854584]), [0, 1, 0]],\n",
       " [array([ 0.00965856,  0.9883254 ,  0.00969718]), [0, 1, 0]],\n",
       " [array([ 0.00947304,  0.98889163,  0.00944802]), [0, 1, 0]],\n",
       " [array([ 0.01067725,  0.98849723,  0.00865245]), [0, 1, 0]],\n",
       " [array([ 0.0108285 ,  0.98908884,  0.00808917]), [0, 1, 0]],\n",
       " [array([ 0.00450206,  0.00479973,  0.99252516]), [0, 0, 1]],\n",
       " [array([ 0.00506648,  0.00484658,  0.99225759]), [0, 0, 1]],\n",
       " [array([ 0.0033069 ,  0.0052817 ,  0.99414681]), [0, 0, 1]],\n",
       " [array([ 0.00458072,  0.00449223,  0.99328872]), [0, 0, 1]],\n",
       " [array([ 0.00397686,  0.00470427,  0.99382818]), [0, 0, 1]],\n",
       " [array([ 0.00452682,  0.00474928,  0.99268642]), [0, 0, 1]]]"
      ]
     },
     "execution_count": 9,
     "metadata": {},
     "output_type": "execute_result"
    }
   ],
   "source": [
    "[[net.activate(in_val[0]),in_val[1]] for in_val in a_b]"
   ]
  },
  {
   "cell_type": "code",
   "execution_count": 10,
   "metadata": {
    "collapsed": true
   },
   "outputs": [],
   "source": [
    "test_simetr_AB=[[[0,1,0,0,0,1,0,0,0,0,0,0,1,0,0,0,0,0,1,0],[1,0,0]],\n",
    "                [[0,1,0,0,0,1,0,0,0,0,0,0,1,0,0,0,0,0,0,1],[1,0,0]],\n",
    "                [[0,1,0,0,0,1,0,0,0,0,0,0,0,1,0,0,0,1,0,0],[1,0,0]],\n",
    "                [[0,1,0,0,0,1,0,0,0,0,0,0,0,1,0,0,0,0,0,1],[1,0,0]],\n",
    "                [[0,1,0,0,0,1,0,0,0,0,0,0,0,0,1,0,0,1,0,0],[1,0,0]],\n",
    "                [[0,1,0,0,0,1,0,0,0,0,0,0,0,0,1,0,0,0,1,0],[1,0,0]],\n",
    "                [[0,1,0,0,0,0,0,1,0,0,1,0,0,0,0,0,0,0,1,0],[0,1,0]],\n",
    "                [[0,1,0,0,0,0,0,1,0,0,1,0,0,0,0,0,0,0,0,1],[0,1,0]],\n",
    "                [[0,1,0,0,0,0,0,0,1,0,1,0,0,0,0,0,0,1,0,0],[0,1,0]],\n",
    "                [[0,1,0,0,0,0,0,0,1,0,1,0,0,0,0,0,0,0,0,1],[0,1,0]],\n",
    "                [[0,1,0,0,0,0,0,0,0,1,1,0,0,0,0,0,0,1,0,0],[0,1,0]],\n",
    "                [[0,1,0,0,0,0,0,0,0,1,1,0,0,0,0,0,0,0,1,0],[0,1,0]],\n",
    "                [[0,1,0,0,0,0,0,1,0,0,0,0,0,1,0,1,0,0,0,0],[0,0,1]],\n",
    "                [[0,1,0,0,0,0,0,1,0,0,0,0,0,0,1,1,0,0,0,0],[0,0,1]],\n",
    "                [[0,1,0,0,0,0,0,0,1,0,0,0,1,0,0,1,0,0,0,0],[0,0,1]],\n",
    "                [[0,1,0,0,0,0,0,0,1,0,0,0,0,0,1,1,0,0,0,0],[0,0,1]],\n",
    "                [[0,1,0,0,0,0,0,0,0,1,0,0,1,0,0,1,0,0,0,0],[0,0,1]],\n",
    "                [[0,1,0,0,0,0,0,0,0,1,0,0,0,1,0,1,0,0,0,0],[0,0,1]]\n",
    "               ]"
   ]
  },
  {
   "cell_type": "code",
   "execution_count": 11,
   "metadata": {},
   "outputs": [
    {
     "data": {
      "text/plain": [
       "[[array([ 0.80600883,  0.00689755,  0.15063466]), [1, 0, 0]],\n",
       " [array([ 0.60479153,  0.00875537,  0.28352666]), [1, 0, 0]],\n",
       " [array([ 0.91366263,  0.00369745,  0.09447618]), [1, 0, 0]],\n",
       " [array([ 0.86204901,  0.00646539,  0.09831489]), [1, 0, 0]],\n",
       " [array([ 0.93788084,  0.00329002,  0.09821448]), [1, 0, 0]],\n",
       " [array([ 0.94920494,  0.00429473,  0.06310057]), [1, 0, 0]],\n",
       " [array([ 0.04127812,  0.51567794,  0.16667522]), [0, 1, 0]],\n",
       " [array([ 0.02825573,  0.39324211,  0.32999677]), [0, 1, 0]],\n",
       " [array([ 0.0357158 ,  0.57793225,  0.16371873]), [0, 1, 0]],\n",
       " [array([ 0.01569439,  0.64605237,  0.25997104]), [0, 1, 0]],\n",
       " [array([ 0.074012  ,  0.27559189,  0.22986599]), [0, 1, 0]],\n",
       " [array([ 0.05776914,  0.42631832,  0.16675897]), [0, 1, 0]],\n",
       " [array([ 0.11844661,  0.0338713 ,  0.58511682]), [0, 0, 1]],\n",
       " [array([ 0.40585223,  0.01331513,  0.44367664]), [0, 0, 1]],\n",
       " [array([ 0.03588298,  0.08082373,  0.67989199]), [0, 0, 1]],\n",
       " [array([ 0.43129443,  0.01534033,  0.37499288]), [0, 0, 1]],\n",
       " [array([ 0.07063128,  0.0440925 ,  0.68514293]), [0, 0, 1]],\n",
       " [array([ 0.18099127,  0.02776012,  0.52136847]), [0, 0, 1]]]"
      ]
     },
     "execution_count": 11,
     "metadata": {},
     "output_type": "execute_result"
    }
   ],
   "source": [
    "[[net.activate(in_val[0]),in_val[1]] for in_val in test_simetr_AB]"
   ]
  },
  {
   "cell_type": "code",
   "execution_count": null,
   "metadata": {
    "collapsed": true
   },
   "outputs": [],
   "source": [
    "def simmetry test"
   ]
  }
 ],
 "metadata": {
  "kernelspec": {
   "display_name": "Python [default]",
   "language": "python",
   "name": "python2"
  },
  "language_info": {
   "codemirror_mode": {
    "name": "ipython",
    "version": 2
   },
   "file_extension": ".py",
   "mimetype": "text/x-python",
   "name": "python",
   "nbconvert_exporter": "python",
   "pygments_lexer": "ipython2",
   "version": "2.7.13"
  }
 },
 "nbformat": 4,
 "nbformat_minor": 2
}
