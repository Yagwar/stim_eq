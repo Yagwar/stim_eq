{
 "cells": [
  {
   "cell_type": "markdown",
   "metadata": {},
   "source": [
    "# EQUIVALENCE CLASS:\n",
    "A stimulus class (usually produced through conditional discrimination in matching-to-sample) that includes all possible emergent relations among its members. The properties of an equivalence class are derived from the logical relations of reflexivity, symmetry, and transitivity. **Reflexivity** *refers to the matching of a sample to itself*, sometimes called identity matching (AA, BB, CC, in these examples, each letter pair represents a sample and its matching comparison stimulus). **Symmetry** *refers to the reversibility of a relation (if AB, then BA)*. **Transitivity** *refers to the transfer of the relation to new combinations through shared membership (if AB and BC, then AC)*. \n",
    "If these properties are characteristics of a matching to-sample performance, then training AB and BC may produce AC, BA, CA, and CB as emergent relations (reflexivity provides the three other possible relations, AA, BB, and CC). Given AB and BC, for example, the combination of symmetry and transitivity implies the CA relation. The emergence of all possible stimulus relations after only AB and BC are trained through contingencies is the criterion for calling the three stimuli members of an equivalence class. The class can be extended by training new stimulus relations (e.g., if CD is learned, then AD, DA, BD, DB, and DC may be created as emergent relations). Stimuli that are members of an equivalence class are likely also to be functionally equivalent. It remains to be seen whether the logical properties of these classes are fully consistent with their behavioral ones. Cf. **EQUIVALENCE RELATION**. ([source](http://www.scienceofbehavior.com/lms/mod/glossary/view.php?id=408&mode=letter&hook=E&sortkey=CREATION&sortorder=asc&fullsearch=0&page=3))\n"
   ]
  },
  {
   "cell_type": "markdown",
   "metadata": {},
   "source": [
    "# Libraries"
   ]
  },
  {
   "cell_type": "code",
   "execution_count": 1,
   "metadata": {},
   "outputs": [],
   "source": [
    "import sys\n",
    "import numpy as np\n",
    "import pandas as pd\n",
    "import random\n",
    "import matplotlib.pyplot as plt\n",
    "from time import localtime, strftime\n",
    "\n",
    "%matplotlib inline\n",
    "plt.style.use('seaborn')\n",
    "\n",
    "### Clasifiers dependences\n",
    "from sklearn.utils import shuffle\n",
    "from matplotlib.colors import ListedColormap\n",
    "from sklearn.model_selection import train_test_split\n",
    "from sklearn.neural_network import MLPClassifier\n",
    "from sklearn.neighbors import KNeighborsClassifier\n",
    "from sklearn.svm import SVC\n",
    "from sklearn.gaussian_process import GaussianProcessClassifier\n",
    "from sklearn.gaussian_process.kernels import RBF\n",
    "from sklearn.tree import DecisionTreeClassifier\n",
    "from sklearn.ensemble import RandomForestClassifier, AdaBoostClassifier\n",
    "from sklearn.naive_bayes import GaussianNB\n",
    "from sklearn.discriminant_analysis import QuadraticDiscriminantAnalysis\n",
    "\n",
    "from sklearn.multiclass import OneVsRestClassifier\n",
    "from sklearn.metrics import average_precision_score"
   ]
  },
  {
   "cell_type": "code",
   "execution_count": 2,
   "metadata": {},
   "outputs": [
    {
     "name": "stdout",
     "output_type": "stream",
     "text": [
      "Python 3.7.7 (default, May  6 2020, 11:45:54) [MSC v.1916 64 bit (AMD64)]\n"
     ]
    }
   ],
   "source": [
    "print(\"Python\", sys.version)"
   ]
  },
  {
   "cell_type": "code",
   "execution_count": 3,
   "metadata": {},
   "outputs": [
    {
     "name": "stdout",
     "output_type": "stream",
     "text": [
      "\n",
      "     active environment : sociadisticas\n",
      "    active env location : C:\\Users\\Usuario\\.conda\\envs\\sociadisticas\n",
      "            shell level : 2\n",
      "       user config file : C:\\Users\\Usuario\\.condarc\n",
      " populated config files : C:\\Users\\Usuario\\.condarc\n",
      "          conda version : 4.8.3\n",
      "    conda-build version : 3.18.11\n",
      "         python version : 3.7.7.final.0\n",
      "       virtual packages : \n",
      "       base environment : C:\\ProgramData\\Anaconda3  (writable)\n",
      "           channel URLs : https://repo.anaconda.com/pkgs/main/win-64\n",
      "                          https://repo.anaconda.com/pkgs/main/noarch\n",
      "                          https://repo.anaconda.com/pkgs/r/win-64\n",
      "                          https://repo.anaconda.com/pkgs/r/noarch\n",
      "                          https://repo.anaconda.com/pkgs/msys2/win-64\n",
      "                          https://repo.anaconda.com/pkgs/msys2/noarch\n",
      "          package cache : C:\\ProgramData\\Anaconda3\\pkgs\n",
      "                          C:\\Users\\Usuario\\.conda\\pkgs\n",
      "                          C:\\Users\\Usuario\\AppData\\Local\\conda\\conda\\pkgs\n",
      "       envs directories : C:\\ProgramData\\Anaconda3\\envs\n",
      "                          C:\\Users\\Usuario\\.conda\\envs\n",
      "                          C:\\Users\\Usuario\\AppData\\Local\\conda\\conda\\envs\n",
      "               platform : win-64\n",
      "             user-agent : conda/4.8.3 requests/2.23.0 CPython/3.7.7 Windows/10 Windows/10.0.18362\n",
      "          administrator : True\n",
      "             netrc file : None\n",
      "           offline mode : False\n",
      "\n"
     ]
    }
   ],
   "source": [
    "!conda info"
   ]
  },
  {
   "cell_type": "code",
   "execution_count": 4,
   "metadata": {},
   "outputs": [],
   "source": [
    "def get_trials_subset(trials_info_df, trial_subset_name, array_embeddings_trials, array_answers_trials):\n",
    "    # No-go Trials can not be filtered with this...\n",
    "    element = array_embeddings_trials[:,0]\n",
    "    test_elements = list(trials_info_df.index[((trials_info_df[[\"sample_c1_subset\",\"sample_c2_subset\",\"sample_c3_subset\"]]==trial_subset_name).sum(axis=1)>0)])\n",
    "    mask = np.isin(element, test_elements)\n",
    "    values_subset= array_embeddings_trials[mask][:,1:]\n",
    "    answers_subset=array_answers_trials[mask][:,1:]\n",
    "    info_subset=trials_info_df.loc[test_elements,:]\n",
    "    return values_subset,answers_subset,info_subset\n",
    "\n",
    "def view_trial(trials_info_df,trial_values,trial_ans, n_trial, n_stimuli=4, n_modes=3, n_classes=5):\n",
    "    print (trials_info_df.iloc[n_trial,:])\n",
    "    print (np.array(trial_values[n_trial]).reshape((n_stimuli,n_modes,n_classes)))\n",
    "    print (trial_ans[n_trial])"
   ]
  },
  {
   "cell_type": "code",
   "execution_count": 5,
   "metadata": {},
   "outputs": [],
   "source": [
    "stims={\"A1\":[1,0,0,0,0,0,0,0,0,0,0,0,0,0,0],\n",
    "       \"A2\":[0,1,0,0,0,0,0,0,0,0,0,0,0,0,0],\n",
    "       \"A3\":[0,0,1,0,0,0,0,0,0,0,0,0,0,0,0],\n",
    "       \"A4\":[0,0,0,1,0,0,0,0,0,0,0,0,0,0,0],\n",
    "       \"TX\":[0,0,0,0,1,0,0,0,0,0,0,0,0,0,0],# For explicitly train class emergency\n",
    "       \"B1\":[0,0,0,0,0,1,0,0,0,0,0,0,0,0,0],\n",
    "       \"B2\":[0,0,0,0,0,0,1,0,0,0,0,0,0,0,0],\n",
    "       \"B3\":[0,0,0,0,0,0,0,1,0,0,0,0,0,0,0],\n",
    "       \"B4\":[0,0,0,0,0,0,0,0,1,0,0,0,0,0,0],\n",
    "       \"TY\":[0,0,0,0,0,0,0,0,0,1,0,0,0,0,0],# For explicitly train class emergency\n",
    "       \"C1\":[0,0,0,0,0,0,0,0,0,0,1,0,0,0,0],\n",
    "       \"C2\":[0,0,0,0,0,0,0,0,0,0,0,1,0,0,0],\n",
    "       \"C3\":[0,0,0,0,0,0,0,0,0,0,0,0,1,0,0],\n",
    "       \"C4\":[0,0,0,0,0,0,0,0,0,0,0,0,0,1,0],\n",
    "       \"TZ\":[0,0,0,0,0,0,0,0,0,0,0,0,0,0,1]# For explicitly train class emergency\n",
    "      }\n",
    "\n",
    "options={\"O_1\":[1,0,0],\n",
    "         \"O_2\":[0,1,0],\n",
    "         \"O_3\":[0,0,1],\n",
    "         \"O_0\":[0,0,0],\n",
    "        }"
   ]
  },
  {
   "cell_type": "markdown",
   "metadata": {},
   "source": [
    "# Stimuli subsets"
   ]
  },
  {
   "cell_type": "markdown",
   "metadata": {},
   "source": [
    "## Trainning \n",
    "### Relation $A_{n}-B_{n}$ and $B_{n}-C_{n}$"
   ]
  },
  {
   "cell_type": "code",
   "execution_count": 6,
   "metadata": {},
   "outputs": [],
   "source": [
    "train_pairs=np.array([[\"A1\",\"B1\"],[\"B1\",\"C1\"],\n",
    "                      [\"A2\",\"B2\"],[\"B2\",\"C2\"],\n",
    "                      [\"A3\",\"B3\"],[\"B3\",\"C3\"],\n",
    "                      [\"A4\",\"B4\"],[\"B4\",\"C4\"],\n",
    "                      [\"A5\",\"B5\"],[\"B5\",\"C5\"],\n",
    "                      [\"A6\",\"B6\"],[\"B6\",\"C6\"]\n",
    "                     ])\n",
    "explicit_train_pairs=np.array([[\"TX\",\"TY\"],[\"TY\",\"TZ\"], # Pairs for Explicit Training\n",
    "                               [\"TX\",\"TZ\"], # Transitivity trainning\n",
    "                               [\"TZ\",\"TX\"], # Equivalence  trainning\n",
    "                               [\"TX\",\"TX\"],[\"TY\",\"TY\"],[\"TZ\",\"TZ\"], # Reflexivity trainning\n",
    "                               [\"TY\",\"TX\"],[\"TZ\",\"TY\"]# Symmetry trainning\n",
    "                              ])"
   ]
  },
  {
   "cell_type": "markdown",
   "metadata": {},
   "source": [
    "## Reflexivity evaluation\n",
    "\n",
    "### Given the sample stimulus $A_{n}$ the agent must select $A_{n}$ among the comparator stimuli"
   ]
  },
  {
   "cell_type": "code",
   "execution_count": 7,
   "metadata": {},
   "outputs": [
    {
     "data": {
      "text/plain": [
       "array([['A1', 'A1'],\n",
       "       ['A2', 'A2'],\n",
       "       ['A3', 'A3'],\n",
       "       ['A4', 'A4'],\n",
       "       ['A5', 'A5'],\n",
       "       ['A6', 'A6'],\n",
       "       ['B1', 'B1'],\n",
       "       ['B2', 'B2'],\n",
       "       ['B3', 'B3'],\n",
       "       ['B4', 'B4'],\n",
       "       ['B5', 'B5'],\n",
       "       ['B6', 'B6'],\n",
       "       ['C1', 'C1'],\n",
       "       ['C2', 'C2'],\n",
       "       ['C3', 'C3'],\n",
       "       ['C4', 'C4'],\n",
       "       ['C5', 'C5'],\n",
       "       ['C6', 'C6']], dtype='<U2')"
      ]
     },
     "execution_count": 7,
     "metadata": {},
     "output_type": "execute_result"
    }
   ],
   "source": [
    "reflexiv_pairs=np.array([[stm,stm]for stm in [let+str(num) for let in [\"A\",\"B\",\"C\"] for num in range(1,7)]])\n",
    "reflexiv_pairs"
   ]
  },
  {
   "cell_type": "markdown",
   "metadata": {},
   "source": [
    "## Symmetry evaluation\n",
    "### Given the trainning pairs, the agent must select the comparator $A_{n}$ in presence of the sample $B_{n}$  and the comparator $B_{n}$ in presence of the sample $C_{n}$ "
   ]
  },
  {
   "cell_type": "code",
   "execution_count": 8,
   "metadata": {},
   "outputs": [
    {
     "data": {
      "text/plain": [
       "array([['B1', 'A1'],\n",
       "       ['C1', 'B1'],\n",
       "       ['B2', 'A2'],\n",
       "       ['C2', 'B2'],\n",
       "       ['B3', 'A3'],\n",
       "       ['C3', 'B3'],\n",
       "       ['B4', 'A4'],\n",
       "       ['C4', 'B4'],\n",
       "       ['B5', 'A5'],\n",
       "       ['C5', 'B5'],\n",
       "       ['B6', 'A6'],\n",
       "       ['C6', 'B6']], dtype='<U2')"
      ]
     },
     "execution_count": 8,
     "metadata": {},
     "output_type": "execute_result"
    }
   ],
   "source": [
    "symmetry_pairs=np.array([[tr_pr[1],tr_pr[0]]for tr_pr in train_pairs])\n",
    "symmetry_pairs"
   ]
  },
  {
   "cell_type": "markdown",
   "metadata": {},
   "source": [
    "## Transitivity\n",
    "### Given the trainning pairs, the agent must select the comparator $C_{n}$ in presence of the sample $A_{n}$"
   ]
  },
  {
   "cell_type": "code",
   "execution_count": 9,
   "metadata": {},
   "outputs": [],
   "source": [
    "transitivity_pairs=np.array([[\"A1\",\"C1\"],\n",
    "                             [\"A2\",\"C2\"],\n",
    "                             [\"A3\",\"C3\"],\n",
    "                             [\"A4\",\"C4\"],\n",
    "                             [\"A5\",\"C5\"],\n",
    "                             [\"A6\",\"C6\"]\n",
    "                            ])"
   ]
  },
  {
   "cell_type": "markdown",
   "metadata": {},
   "source": [
    "## Equivalence\n",
    "### Given the trainning pairs, the agent must select the comparator $A_{n}$ in presence of the sample $C_{n}$"
   ]
  },
  {
   "cell_type": "code",
   "execution_count": 10,
   "metadata": {},
   "outputs": [],
   "source": [
    "equivalence_pairs=np.array([[tr_pr[1],tr_pr[0]]for tr_pr in transitivity_pairs])"
   ]
  },
  {
   "cell_type": "code",
   "execution_count": 11,
   "metadata": {},
   "outputs": [],
   "source": [
    "train_df=pd.DataFrame(train_pairs, columns=[\"st_sample\", \"st_comparator\"])\n",
    "train_df[\"pair_subset\"]=\"train\"\n",
    "\n",
    "explicit_train_df=pd.DataFrame(explicit_train_pairs, columns=[\"st_sample\", \"st_comparator\"])\n",
    "explicit_train_df[\"pair_subset\"]=\"explicit_train\"\n",
    "\n",
    "reflexivity_df=pd.DataFrame(reflexiv_pairs, columns=[\"st_sample\", \"st_comparator\"])\n",
    "reflexivity_df[\"pair_subset\"]=\"reflexivity\"\n",
    "\n",
    "symmetry_df=pd.DataFrame(symmetry_pairs, columns=[\"st_sample\", \"st_comparator\"])\n",
    "symmetry_df[\"pair_subset\"]=\"symmetry\"\n",
    "\n",
    "transitivity_df=pd.DataFrame(transitivity_pairs, columns=[\"st_sample\", \"st_comparator\"])\n",
    "transitivity_df[\"pair_subset\"]=\"transitivity\"\n",
    "\n",
    "equivalence_df=pd.DataFrame(equivalence_pairs, columns=[\"st_sample\", \"st_comparator\"])\n",
    "equivalence_df[\"pair_subset\"]=\"equivalence\"\n",
    "\n",
    "pairs_dataset=pd.concat([train_df,\n",
    "                         explicit_train_df,\n",
    "                         reflexivity_df,\n",
    "                         symmetry_df,\n",
    "                         transitivity_df,\n",
    "                         equivalence_df], \n",
    "                        ignore_index=True, sort=False)"
   ]
  },
  {
   "cell_type": "code",
   "execution_count": 12,
   "metadata": {},
   "outputs": [
    {
     "name": "stdout",
     "output_type": "stream",
     "text": [
      "(63, 3)\n"
     ]
    },
    {
     "data": {
      "text/html": [
       "<div>\n",
       "<style scoped>\n",
       "    .dataframe tbody tr th:only-of-type {\n",
       "        vertical-align: middle;\n",
       "    }\n",
       "\n",
       "    .dataframe tbody tr th {\n",
       "        vertical-align: top;\n",
       "    }\n",
       "\n",
       "    .dataframe thead th {\n",
       "        text-align: right;\n",
       "    }\n",
       "</style>\n",
       "<table border=\"1\" class=\"dataframe\">\n",
       "  <thead>\n",
       "    <tr style=\"text-align: right;\">\n",
       "      <th></th>\n",
       "      <th>st_sample</th>\n",
       "      <th>st_comparator</th>\n",
       "      <th>pair_subset</th>\n",
       "    </tr>\n",
       "  </thead>\n",
       "  <tbody>\n",
       "    <tr>\n",
       "      <th>0</th>\n",
       "      <td>A1</td>\n",
       "      <td>B1</td>\n",
       "      <td>train</td>\n",
       "    </tr>\n",
       "    <tr>\n",
       "      <th>1</th>\n",
       "      <td>B1</td>\n",
       "      <td>C1</td>\n",
       "      <td>train</td>\n",
       "    </tr>\n",
       "    <tr>\n",
       "      <th>2</th>\n",
       "      <td>A2</td>\n",
       "      <td>B2</td>\n",
       "      <td>train</td>\n",
       "    </tr>\n",
       "    <tr>\n",
       "      <th>3</th>\n",
       "      <td>B2</td>\n",
       "      <td>C2</td>\n",
       "      <td>train</td>\n",
       "    </tr>\n",
       "    <tr>\n",
       "      <th>4</th>\n",
       "      <td>A3</td>\n",
       "      <td>B3</td>\n",
       "      <td>train</td>\n",
       "    </tr>\n",
       "    <tr>\n",
       "      <th>...</th>\n",
       "      <td>...</td>\n",
       "      <td>...</td>\n",
       "      <td>...</td>\n",
       "    </tr>\n",
       "    <tr>\n",
       "      <th>58</th>\n",
       "      <td>C2</td>\n",
       "      <td>A2</td>\n",
       "      <td>equivalence</td>\n",
       "    </tr>\n",
       "    <tr>\n",
       "      <th>59</th>\n",
       "      <td>C3</td>\n",
       "      <td>A3</td>\n",
       "      <td>equivalence</td>\n",
       "    </tr>\n",
       "    <tr>\n",
       "      <th>60</th>\n",
       "      <td>C4</td>\n",
       "      <td>A4</td>\n",
       "      <td>equivalence</td>\n",
       "    </tr>\n",
       "    <tr>\n",
       "      <th>61</th>\n",
       "      <td>C5</td>\n",
       "      <td>A5</td>\n",
       "      <td>equivalence</td>\n",
       "    </tr>\n",
       "    <tr>\n",
       "      <th>62</th>\n",
       "      <td>C6</td>\n",
       "      <td>A6</td>\n",
       "      <td>equivalence</td>\n",
       "    </tr>\n",
       "  </tbody>\n",
       "</table>\n",
       "<p>63 rows × 3 columns</p>\n",
       "</div>"
      ],
      "text/plain": [
       "   st_sample st_comparator  pair_subset\n",
       "0         A1            B1        train\n",
       "1         B1            C1        train\n",
       "2         A2            B2        train\n",
       "3         B2            C2        train\n",
       "4         A3            B3        train\n",
       "..       ...           ...          ...\n",
       "58        C2            A2  equivalence\n",
       "59        C3            A3  equivalence\n",
       "60        C4            A4  equivalence\n",
       "61        C5            A5  equivalence\n",
       "62        C6            A6  equivalence\n",
       "\n",
       "[63 rows x 3 columns]"
      ]
     },
     "execution_count": 12,
     "metadata": {},
     "output_type": "execute_result"
    }
   ],
   "source": [
    "print(pairs_dataset.shape)\n",
    "pairs_dataset"
   ]
  },
  {
   "cell_type": "code",
   "execution_count": 13,
   "metadata": {},
   "outputs": [
    {
     "data": {
      "text/plain": [
       "reflexivity       18\n",
       "symmetry          12\n",
       "train             12\n",
       "explicit_train     9\n",
       "transitivity       6\n",
       "equivalence        6\n",
       "Name: pair_subset, dtype: int64"
      ]
     },
     "execution_count": 13,
     "metadata": {},
     "output_type": "execute_result"
    }
   ],
   "source": [
    "pairs_dataset.pair_subset.value_counts()"
   ]
  },
  {
   "cell_type": "markdown",
   "metadata": {},
   "source": [
    "## Complete combination creation\n",
    "Complete combination creation with 5 options and 7 classes costs time and memory. 21 stimuli combinations are $21^{6}=85766121$. Too much for a local machine.\n",
    "\n",
    "Alternative  (until you find a better method): \n",
    "1. create loop for every combination. (for for for...)\n",
    "2. evaluate each pair on trial. (train-eq-sym-tran-refl) inside the creation of the pair\n",
    "3. Select trials with one pair identified. If pair not in subsets, then no-go pair (Marked as str_zero)"
   ]
  },
  {
   "cell_type": "code",
   "execution_count": 14,
   "metadata": {},
   "outputs": [
    {
     "data": {
      "text/plain": [
       "50625"
      ]
     },
     "execution_count": 14,
     "metadata": {},
     "output_type": "execute_result"
    }
   ],
   "source": [
    "15**4"
   ]
  },
  {
   "cell_type": "code",
   "execution_count": 15,
   "metadata": {},
   "outputs": [
    {
     "data": {
      "text/plain": [
       "(50625, 4)"
      ]
     },
     "execution_count": 15,
     "metadata": {},
     "output_type": "execute_result"
    }
   ],
   "source": [
    "test_combinations=np.array([[st_sample, st_comp1, st_comp2,st_comp3] \n",
    "                            for st_sample in list(stims.keys()) \n",
    "                            for st_comp1 in list(stims.keys())\n",
    "                            for st_comp2 in list(stims.keys())\n",
    "                            for st_comp3 in list(stims.keys())\n",
    "])\n",
    "test_combinations.shape"
   ]
  },
  {
   "cell_type": "code",
   "execution_count": 16,
   "metadata": {},
   "outputs": [
    {
     "name": "stdout",
     "output_type": "stream",
     "text": [
      "Start::::::: Mon, 25 May 2020 09:36:13\n",
      "A1 processed Mon, 25 May 2020 09:36:24\n",
      "A2 processed Mon, 25 May 2020 09:36:35\n",
      "A3 processed Mon, 25 May 2020 09:36:46\n",
      "A4 processed Mon, 25 May 2020 09:36:58\n",
      "TX processed Mon, 25 May 2020 09:37:12\n",
      "B1 processed Mon, 25 May 2020 09:37:24\n",
      "B2 processed Mon, 25 May 2020 09:37:34\n",
      "B3 processed Mon, 25 May 2020 09:37:44\n",
      "B4 processed Mon, 25 May 2020 09:37:55\n",
      "TY processed Mon, 25 May 2020 09:38:05\n",
      "C1 processed Mon, 25 May 2020 09:38:16\n",
      "C2 processed Mon, 25 May 2020 09:38:27\n",
      "C3 processed Mon, 25 May 2020 09:38:37\n",
      "C4 processed Mon, 25 May 2020 09:38:47\n",
      "TZ processed Mon, 25 May 2020 09:38:58\n"
     ]
    }
   ],
   "source": [
    "# break_loop=500\n",
    "print(\"Start:::::::\",strftime(\"%a, %d %b %Y %H:%M:%S\", localtime()))\n",
    "pair_info=[]\n",
    "trial_comb=[]\n",
    "trial_select=[]\n",
    "trial_answer=[]\n",
    "trial_values=[]\n",
    "id_trial=0\n",
    "for st_sample in list(stims.keys()):\n",
    "    for st_comp1 in list(stims.keys()):\n",
    "        for st_comp2 in list(stims.keys()):\n",
    "            for st_comp3 in list(stims.keys()):\n",
    "                trial=[id_trial,st_sample,\n",
    "                       st_comp1,st_comp2,st_comp3]#,st_comp4,st_comp5\n",
    "                trial_comb.append(trial)\n",
    "                trial_pairs=[]\n",
    "                for st_comparator_loop in [st_comp1,st_comp2,st_comp3]:#,st_comp4,st_comp5\n",
    "                    search_pair=pairs_dataset.pair_subset[(pairs_dataset.st_sample==st_sample)&\n",
    "                                                          (pairs_dataset.st_comparator==st_comparator_loop)]\n",
    "                    trial_pairs.append(str(search_pair.sum()))\n",
    "                    pair_info.append([id_trial,st_sample, st_comparator_loop, search_pair.sum()])# export line to file\n",
    "                if (sum([pair_eval==\"0\" for pair_eval in trial_pairs])>1)&(len(list(set(trial_pairs)))<3):\n",
    "                    option_filter=([not(pair_eval==\"0\") for pair_eval in trial_pairs])*1\n",
    "                    option_key=list(options.keys())[list(options.values()).index(option_filter)]\n",
    "                    trial_select.append([id_trial,st_sample,\n",
    "                                         st_comp1,st_comp2,st_comp3,#st_comp4,st_comp5,\n",
    "                                         trial_pairs[0],trial_pairs[1],trial_pairs[2],#,trial_pairs[3],trial_pairs[4]\n",
    "                                         option_key\n",
    "                                        ])\n",
    "                    trial_embedding=[bit_emb for stml in [st_sample,st_comp1,st_comp2,st_comp3] for bit_emb in stims[stml]]\n",
    "                    trial_embedding.insert(0,id_trial)\n",
    "                    trial_values.append(trial_embedding)\n",
    "                    option_embedding=options[option_key].copy()\n",
    "                    option_embedding.insert(0,id_trial)\n",
    "                    trial_answer.append(option_embedding)\n",
    "                id_trial+=1\n",
    "    print(st_sample, \"processed\", strftime(\"%a, %d %b %Y %H:%M:%S\", localtime()))\n",
    "#     if id_trial>break_loop:\n",
    "#         print(\"break loop\")\n",
    "#         break\n"
   ]
  },
  {
   "cell_type": "code",
   "execution_count": 17,
   "metadata": {},
   "outputs": [
    {
     "name": "stdout",
     "output_type": "stream",
     "text": [
      "pair_info (151875, 4)\n",
      "trial_comb (50625, 5)\n",
      "trial_select (45360, 9)\n",
      "trial_answer (45360, 4)\n",
      "trial_values (45360, 61)\n"
     ]
    }
   ],
   "source": [
    "pair_info_array=np.array(pair_info)\n",
    "trial_comb_array=np.array(trial_comb)\n",
    "trial_select_array=np.array(trial_select)\n",
    "trial_answer_array=np.array(trial_answer)\n",
    "trial_values_array=np.array(trial_values)\n",
    "\n",
    "print(\"pair_info\",pair_info_array.shape)\n",
    "print(\"trial_comb\",trial_comb_array.shape)\n",
    "print(\"trial_select\",trial_select_array.shape)\n",
    "print(\"trial_answer\",trial_answer_array.shape)\n",
    "print(\"trial_values\",trial_values_array.shape)"
   ]
  },
  {
   "cell_type": "code",
   "execution_count": 18,
   "metadata": {},
   "outputs": [],
   "source": [
    "# pd.DataFrame(pair_info_array).to_csv(\"pair_info_array.csv\")\n",
    "# pd.DataFrame(trial_comb_array).to_csv(\"trial_comb_array.csv\")\n",
    "# pd.DataFrame(trial_select_array).to_csv(\"trial_select_array.csv\")\n",
    "# pd.DataFrame(trial_answer_array).to_csv(\"trial_answer_array.csv\")\n",
    "# pd.DataFrame(trial_values_array).to_csv(\"trial_values_array.csv\")"
   ]
  },
  {
   "cell_type": "code",
   "execution_count": 19,
   "metadata": {},
   "outputs": [],
   "source": [
    "dat_selected_df=pd.DataFrame(trial_select_array)\n",
    "dat_selected_df.columns=[\"id_trial\",\"st_sample\",\n",
    "                      \"st_comp1\",\"st_comp2\",\"st_comp3\",\n",
    "                      \"sample_c1_subset\",\"sample_c2_subset\",\"sample_c3_subset\",\n",
    "                      \"option_answer\"\n",
    "                     ]\n",
    "dat_selected_df.id_trial=pd.to_numeric(dat_selected_df.id_trial)\n",
    "dat_selected_df.set_index(\"id_trial\", inplace=True)"
   ]
  },
  {
   "cell_type": "code",
   "execution_count": 20,
   "metadata": {},
   "outputs": [
    {
     "name": "stdout",
     "output_type": "stream",
     "text": [
      "no-go trials  25920\n",
      "train trials  3456\n",
      "explicit_train trials  3888\n",
      "reflexivity trials  5184\n",
      "symmetry trials  3456\n",
      "transitivity trials  1728\n",
      "equivalence trials  1728\n"
     ]
    }
   ],
   "source": [
    "print(\"no-go trials \",((dat_selected_df[[\"sample_c1_subset\",\"sample_c2_subset\",\"sample_c3_subset\"]]==\"0\").sum(axis=1)>2).sum())\n",
    "print(\"train trials \",((dat_selected_df[[\"sample_c1_subset\",\"sample_c2_subset\",\"sample_c3_subset\"]]==\"train\").sum(axis=1)>0).sum())\n",
    "print(\"explicit_train trials \",((dat_selected_df[[\"sample_c1_subset\",\"sample_c2_subset\",\"sample_c3_subset\"]]==\"explicit_train\").sum(axis=1)>0).sum())\n",
    "print(\"reflexivity trials \",((dat_selected_df[[\"sample_c1_subset\",\"sample_c2_subset\",\"sample_c3_subset\"]]==\"reflexivity\").sum(axis=1)>0).sum())\n",
    "print(\"symmetry trials \",((dat_selected_df[[\"sample_c1_subset\",\"sample_c2_subset\",\"sample_c3_subset\"]]==\"symmetry\").sum(axis=1)>0).sum())\n",
    "print(\"transitivity trials \",((dat_selected_df[[\"sample_c1_subset\",\"sample_c2_subset\",\"sample_c3_subset\"]]==\"transitivity\").sum(axis=1)>0).sum())\n",
    "print(\"equivalence trials \",((dat_selected_df[[\"sample_c1_subset\",\"sample_c2_subset\",\"sample_c3_subset\"]]==\"equivalence\").sum(axis=1)>0).sum())"
   ]
  },
  {
   "cell_type": "code",
   "execution_count": 21,
   "metadata": {},
   "outputs": [],
   "source": [
    "nogo_elements = list(dat_selected_df.index[((dat_selected_df[[\"sample_c1_subset\",\"sample_c2_subset\",\"sample_c3_subset\"]]==\"0\").sum(axis=1)>2)])\n",
    "nogo_mask = np.isin(trial_values_array[:,0], nogo_elements)\n",
    "nogo_values= trial_values_array[nogo_mask][:,1:]\n",
    "nogo_answers=trial_answer_array[nogo_mask][:,1:]\n",
    "nogo_info=dat_selected_df.loc[nogo_elements,:]\n",
    "\n",
    "######Randomize nogo trials\n",
    "nogo_values, nogo_answers, nogo_info= shuffle(nogo_values, nogo_answers, nogo_info)"
   ]
  },
  {
   "cell_type": "code",
   "execution_count": 22,
   "metadata": {},
   "outputs": [],
   "source": [
    "train_values, train_answers, train_info=get_trials_subset(dat_selected_df,\"train\",trial_values_array,trial_answer_array)"
   ]
  },
  {
   "cell_type": "code",
   "execution_count": 23,
   "metadata": {},
   "outputs": [],
   "source": [
    "explicit_train_values, explicit_train_answers, explicit_train_info=get_trials_subset(dat_selected_df,\"explicit_train\",trial_values_array,trial_answer_array)"
   ]
  },
  {
   "cell_type": "code",
   "execution_count": 24,
   "metadata": {},
   "outputs": [],
   "source": [
    "reflexivity_values, reflexivity_answers, reflexivity_info=get_trials_subset(dat_selected_df,\"reflexivity\",trial_values_array,trial_answer_array)"
   ]
  },
  {
   "cell_type": "code",
   "execution_count": 25,
   "metadata": {},
   "outputs": [],
   "source": [
    "symmetry_values, symmetry_answers, symmetry_info=get_trials_subset(dat_selected_df,\"symmetry\",trial_values_array,trial_answer_array)"
   ]
  },
  {
   "cell_type": "code",
   "execution_count": 26,
   "metadata": {},
   "outputs": [],
   "source": [
    "transitivity_values, transitivity_answers, transitivity_info=get_trials_subset(dat_selected_df,\"transitivity\",trial_values_array,trial_answer_array)"
   ]
  },
  {
   "cell_type": "code",
   "execution_count": 27,
   "metadata": {},
   "outputs": [],
   "source": [
    "equivalence_values, equivalence_answers, equivalence_info=get_trials_subset(dat_selected_df,\"equivalence\",trial_values_array,trial_answer_array)"
   ]
  },
  {
   "cell_type": "markdown",
   "metadata": {},
   "source": [
    "## Split no-go trials\n",
    "for balancing trainning and tests"
   ]
  },
  {
   "cell_type": "code",
   "execution_count": 28,
   "metadata": {},
   "outputs": [],
   "source": [
    "n_nogo_train=int(train_info.option_answer.value_counts().mean())\n",
    "n_nogo_explicit_train=int(explicit_train_info.option_answer.value_counts().mean())\n",
    "n_nogo_reflexivity=int(reflexivity_info.option_answer.value_counts().mean())\n",
    "n_nogo_symmetry=int(symmetry_info.option_answer.value_counts().mean())\n",
    "n_nogo_transitivity=int(transitivity_info.option_answer.value_counts().mean())\n",
    "n_nogo_equivalence=int(equivalence_info.option_answer.value_counts().mean())"
   ]
  },
  {
   "cell_type": "code",
   "execution_count": 29,
   "metadata": {},
   "outputs": [],
   "source": [
    "n_bottom=np.cumsum([0,n_nogo_train,n_nogo_explicit_train,n_nogo_reflexivity,n_nogo_symmetry,n_nogo_transitivity])\n",
    "n_top=np.cumsum([n_nogo_train,n_nogo_explicit_train,n_nogo_reflexivity,n_nogo_symmetry,n_nogo_transitivity,n_nogo_equivalence])"
   ]
  },
  {
   "cell_type": "code",
   "execution_count": 30,
   "metadata": {},
   "outputs": [
    {
     "data": {
      "text/html": [
       "<div>\n",
       "<style scoped>\n",
       "    .dataframe tbody tr th:only-of-type {\n",
       "        vertical-align: middle;\n",
       "    }\n",
       "\n",
       "    .dataframe tbody tr th {\n",
       "        vertical-align: top;\n",
       "    }\n",
       "\n",
       "    .dataframe thead th {\n",
       "        text-align: right;\n",
       "    }\n",
       "</style>\n",
       "<table border=\"1\" class=\"dataframe\">\n",
       "  <thead>\n",
       "    <tr style=\"text-align: right;\">\n",
       "      <th></th>\n",
       "      <th>bottom_limit</th>\n",
       "      <th>top_limit</th>\n",
       "    </tr>\n",
       "  </thead>\n",
       "  <tbody>\n",
       "    <tr>\n",
       "      <th>train</th>\n",
       "      <td>0</td>\n",
       "      <td>1152</td>\n",
       "    </tr>\n",
       "    <tr>\n",
       "      <th>explicit_train</th>\n",
       "      <td>1152</td>\n",
       "      <td>2448</td>\n",
       "    </tr>\n",
       "    <tr>\n",
       "      <th>reflexivity</th>\n",
       "      <td>2448</td>\n",
       "      <td>4176</td>\n",
       "    </tr>\n",
       "    <tr>\n",
       "      <th>symmetry</th>\n",
       "      <td>4176</td>\n",
       "      <td>5328</td>\n",
       "    </tr>\n",
       "    <tr>\n",
       "      <th>transitivity</th>\n",
       "      <td>5328</td>\n",
       "      <td>5904</td>\n",
       "    </tr>\n",
       "    <tr>\n",
       "      <th>equivalence</th>\n",
       "      <td>5904</td>\n",
       "      <td>6480</td>\n",
       "    </tr>\n",
       "  </tbody>\n",
       "</table>\n",
       "</div>"
      ],
      "text/plain": [
       "                bottom_limit  top_limit\n",
       "train                      0       1152\n",
       "explicit_train          1152       2448\n",
       "reflexivity             2448       4176\n",
       "symmetry                4176       5328\n",
       "transitivity            5328       5904\n",
       "equivalence             5904       6480"
      ]
     },
     "execution_count": 30,
     "metadata": {},
     "output_type": "execute_result"
    }
   ],
   "source": [
    "nogo_select_indexers=pd.DataFrame({\"bottom_limit\":n_bottom, \"top_limit\":n_top}, index=[\"train\",\"explicit_train\",\"reflexivity\",\"symmetry\",\"transitivity\",\"equivalence\"])\n",
    "nogo_select_indexers"
   ]
  },
  {
   "cell_type": "code",
   "execution_count": 31,
   "metadata": {},
   "outputs": [],
   "source": [
    "train_nogo_values=nogo_values[nogo_select_indexers.loc[\"train\",\"bottom_limit\"]:nogo_select_indexers.loc[\"train\",\"top_limit\"]]\n",
    "train_nogo_answers=nogo_answers[nogo_select_indexers.loc[\"train\",\"bottom_limit\"]:nogo_select_indexers.loc[\"train\",\"top_limit\"]]\n",
    "\n",
    "explicit_train_nogo_values=nogo_values[nogo_select_indexers.loc[\"explicit_train\",\"bottom_limit\"]:nogo_select_indexers.loc[\"train\",\"top_limit\"]]\n",
    "explicit_train_nogo_answers=nogo_answers[nogo_select_indexers.loc[\"explicit_train\",\"bottom_limit\"]:nogo_select_indexers.loc[\"train\",\"top_limit\"]]\n",
    "\n",
    "reflexivity_nogo_values=nogo_values[nogo_select_indexers.loc[\"reflexivity\",\"bottom_limit\"]:nogo_select_indexers.loc[\"train\",\"top_limit\"]]\n",
    "reflexivity_nogo_answers=nogo_answers[nogo_select_indexers.loc[\"reflexivity\",\"bottom_limit\"]:nogo_select_indexers.loc[\"train\",\"top_limit\"]]\n",
    "\n",
    "symmetry_nogo_values=nogo_values[nogo_select_indexers.loc[\"symmetry\",\"bottom_limit\"]:nogo_select_indexers.loc[\"train\",\"top_limit\"]]\n",
    "symmetry_nogo_answers=nogo_answers[nogo_select_indexers.loc[\"symmetry\",\"bottom_limit\"]:nogo_select_indexers.loc[\"train\",\"top_limit\"]]\n",
    "\n",
    "transitivity_nogo_values=nogo_values[nogo_select_indexers.loc[\"transitivity\",\"bottom_limit\"]:nogo_select_indexers.loc[\"train\",\"top_limit\"]]\n",
    "transitivity_nogo_answers=nogo_answers[nogo_select_indexers.loc[\"transitivity\",\"bottom_limit\"]:nogo_select_indexers.loc[\"train\",\"top_limit\"]]\n",
    "\n",
    "equivalence_nogo_values=nogo_values[nogo_select_indexers.loc[\"equivalence\",\"bottom_limit\"]:nogo_select_indexers.loc[\"train\",\"top_limit\"]]\n",
    "equivalence_nogo_answers=nogo_answers[nogo_select_indexers.loc[\"equivalence\",\"bottom_limit\"]:nogo_select_indexers.loc[\"train\",\"top_limit\"]]"
   ]
  },
  {
   "cell_type": "markdown",
   "metadata": {},
   "source": [
    "### Train assignation and randomization"
   ]
  },
  {
   "cell_type": "code",
   "execution_count": 32,
   "metadata": {},
   "outputs": [
    {
     "name": "stdout",
     "output_type": "stream",
     "text": [
      "(8496, 60)\n",
      "(8496, 3)\n"
     ]
    }
   ],
   "source": [
    "# train_trials_values=train_values\n",
    "# train_trials_values=np.concatenate((train_values,explicit_train_values), axis=0)\n",
    "# train_trials_values=np.concatenate((train_values,train_nogo_values), axis=0)\n",
    "train_trials_values=np.concatenate((train_values,explicit_train_values,train_nogo_values,explicit_train_nogo_values), axis=0)\n",
    "print (train_trials_values.shape)\n",
    "\n",
    "# train_trials_answers=train_answers\n",
    "# train_trials_answers=np.concatenate((train_answers, explicit_train_answers), axis=0)\n",
    "# train_trials_answers=np.concatenate((train_answers, train_nogo_answers), axis=0)\n",
    "train_trials_answers=np.concatenate((train_answers, explicit_train_answers, train_nogo_answers,explicit_train_nogo_answers), axis=0)\n",
    "print(train_trials_answers.shape)\n",
    "\n"
   ]
  },
  {
   "cell_type": "code",
   "execution_count": 33,
   "metadata": {},
   "outputs": [],
   "source": [
    "# Randomize \n",
    "train_trials_values, train_trials_answers= shuffle(train_trials_values, train_trials_answers)"
   ]
  },
  {
   "cell_type": "markdown",
   "metadata": {},
   "source": [
    "# Training Clasifiers"
   ]
  },
  {
   "cell_type": "code",
   "execution_count": 34,
   "metadata": {},
   "outputs": [],
   "source": [
    "names = [\n",
    "    \"Nearest Neighbors\", \n",
    "    \"Linear SVM\", \n",
    "    \"RBF SVM\", \n",
    "#    \"Gaussian Process\",\n",
    "    \"Decision Tree\", \n",
    "    \"Random Forest\", \n",
    "    \"Neural Net\", \n",
    "    \"AdaBoost\",\n",
    "    \"Naive Bayes\", \n",
    "    \"QDA\"\n",
    "]\n",
    "\n",
    "classifiers = [\n",
    "    KNeighborsClassifier(3),\n",
    "    SVC(kernel=\"linear\", C=0.025),\n",
    "    SVC(gamma=2, C=1),\n",
    "#    GaussianProcessClassifier(1.0 * RBF(1.0), warm_start=True),\n",
    "    DecisionTreeClassifier(max_depth=5),\n",
    "    RandomForestClassifier(max_depth=5, n_estimators=10, max_features=1),\n",
    "    MLPClassifier(alpha=1),\n",
    "    AdaBoostClassifier(),\n",
    "    GaussianNB(),\n",
    "    QuadraticDiscriminantAnalysis()\n",
    "]"
   ]
  },
  {
   "cell_type": "code",
   "execution_count": 35,
   "metadata": {},
   "outputs": [
    {
     "name": "stdout",
     "output_type": "stream",
     "text": [
      "Nearest Neighbors 0.9729134233658705\n",
      "Linear SVM 0.5128665049315713\n",
      "RBF SVM 1.0\n",
      "Decision Tree 0.6231306081754736\n",
      "Random Forest 0.28920183892766144\n",
      "Neural Net 1.0\n",
      "AdaBoost 0.5196973114722364\n",
      "Naive Bayes 0.37599871861839573\n"
     ]
    },
    {
     "name": "stderr",
     "output_type": "stream",
     "text": [
      "C:\\Users\\Usuario\\.conda\\envs\\sociadisticas\\lib\\site-packages\\sklearn\\discriminant_analysis.py:691: UserWarning: Variables are collinear\n",
      "  warnings.warn(\"Variables are collinear\")\n",
      "C:\\Users\\Usuario\\.conda\\envs\\sociadisticas\\lib\\site-packages\\sklearn\\discriminant_analysis.py:691: UserWarning: Variables are collinear\n",
      "  warnings.warn(\"Variables are collinear\")\n",
      "C:\\Users\\Usuario\\.conda\\envs\\sociadisticas\\lib\\site-packages\\sklearn\\discriminant_analysis.py:691: UserWarning: Variables are collinear\n",
      "  warnings.warn(\"Variables are collinear\")\n"
     ]
    },
    {
     "name": "stdout",
     "output_type": "stream",
     "text": [
      "QDA 0.999515342860308\n"
     ]
    }
   ],
   "source": [
    "avg_scores_train=[]\n",
    "train_clasif=[]\n",
    "for name, clf in zip(names, classifiers):\n",
    "    clasif=OneVsRestClassifier(clf).fit(train_trials_values, train_trials_answers)\n",
    "    train_clasif.append(clasif)\n",
    "    scr=average_precision_score(train_trials_answers,clasif.predict(train_trials_values))\n",
    "    avg_scores_train.append(scr)\n",
    "    print(name,scr)"
   ]
  },
  {
   "cell_type": "code",
   "execution_count": 36,
   "metadata": {},
   "outputs": [
    {
     "name": "stdout",
     "output_type": "stream",
     "text": [
      "Nearest Neighbors 0.37417229342608604\n",
      "Linear SVM 0.3333333333333333\n",
      "RBF SVM 0.3333333333333333\n",
      "Decision Tree 0.3333333333333333\n",
      "Random Forest 0.3333333333333333\n",
      "Neural Net 0.522119341563786\n",
      "AdaBoost 0.3274821941710292\n",
      "Naive Bayes 0.3055555555555556\n",
      "QDA 0.3333333333333333\n"
     ]
    }
   ],
   "source": [
    "avg_scores_reflexivity=[]\n",
    "for name, clasif in zip(names, train_clasif):\n",
    "#     scr=average_precision_score(reflexivity_answers,clasif.predict(reflexivity_values))\n",
    "    scr=average_precision_score(np.concatenate((reflexivity_answers, reflexivity_nogo_answers), axis=0),\n",
    "                                clasif.predict(np.concatenate((reflexivity_values, reflexivity_nogo_values), axis=0)))\n",
    "    avg_scores_reflexivity.append(scr)\n",
    "    print(name,scr)"
   ]
  },
  {
   "cell_type": "code",
   "execution_count": 37,
   "metadata": {},
   "outputs": [
    {
     "name": "stdout",
     "output_type": "stream",
     "text": [
      "Nearest Neighbors 0.3244351193247895\n",
      "Linear SVM 0.3333333333333333\n",
      "RBF SVM 0.3333333333333333\n",
      "Decision Tree 0.3333333333333333\n",
      "Random Forest 0.3333333333333333\n",
      "Neural Net 0.3333333333333333\n",
      "AdaBoost 0.3333333333333333\n",
      "Naive Bayes 0.3333333333333333\n",
      "QDA 0.3333333333333333\n"
     ]
    }
   ],
   "source": [
    "avg_scores_symmetry=[]\n",
    "for name, clasif in zip(names, train_clasif):\n",
    "#     scr=average_precision_score(symmetry_answers,clasif.predict(symmetry_values))\n",
    "    scr=average_precision_score(np.concatenate((symmetry_answers, symmetry_nogo_answers), axis=0),\n",
    "                                clasif.predict(np.concatenate((symmetry_values, symmetry_nogo_values), axis=0)))\n",
    "    avg_scores_symmetry.append(scr)\n",
    "    print(name,scr)"
   ]
  },
  {
   "cell_type": "code",
   "execution_count": 38,
   "metadata": {},
   "outputs": [
    {
     "name": "stdout",
     "output_type": "stream",
     "text": [
      "Nearest Neighbors 0.6021214912386622\n",
      "Linear SVM 0.3333333333333333\n",
      "RBF SVM 0.3333333333333333\n",
      "Decision Tree 0.3333333333333333\n",
      "Random Forest 0.3333333333333333\n",
      "Neural Net 0.9054783950617283\n",
      "AdaBoost 0.3214168078298513\n",
      "Naive Bayes 0.4000000000000001\n",
      "QDA 0.3333333333333333\n"
     ]
    }
   ],
   "source": [
    "avg_scores_transitivity=[]\n",
    "for name, clasif in zip(names, train_clasif):\n",
    "#     scr=average_precision_score(transitivity_answers,clasif.predict(transitivity_values))\n",
    "    scr=average_precision_score(np.concatenate((transitivity_answers, transitivity_nogo_answers), axis=0),\n",
    "                                clasif.predict(np.concatenate((transitivity_values, transitivity_nogo_values), axis=0)))\n",
    "    avg_scores_transitivity.append(scr)\n",
    "    print(name,scr)"
   ]
  },
  {
   "cell_type": "code",
   "execution_count": 39,
   "metadata": {},
   "outputs": [
    {
     "name": "stdout",
     "output_type": "stream",
     "text": [
      "Nearest Neighbors 0.32929718005251285\n",
      "Linear SVM 0.3333333333333333\n",
      "RBF SVM 0.3333333333333333\n",
      "Decision Tree 0.3333333333333333\n",
      "Random Forest 0.3333333333333333\n",
      "Neural Net 0.3333333333333333\n",
      "AdaBoost 0.3333333333333333\n",
      "Naive Bayes 0.3333333333333333\n",
      "QDA 0.3333333333333333\n"
     ]
    }
   ],
   "source": [
    "avg_scores_equivalence=[]\n",
    "for name, clasif in zip(names, train_clasif):\n",
    "#     scr=average_precision_score(equivalence_answers,clasif.predict(equivalence_values))\n",
    "    scr=average_precision_score(np.concatenate((equivalence_answers, equivalence_nogo_answers), axis=0),\n",
    "                                clasif.predict(np.concatenate((equivalence_values, equivalence_nogo_values), axis=0)))\n",
    "    avg_scores_equivalence.append(scr)\n",
    "    print(name,scr)"
   ]
  },
  {
   "cell_type": "code",
   "execution_count": 40,
   "metadata": {},
   "outputs": [
    {
     "data": {
      "text/html": [
       "<div>\n",
       "<style scoped>\n",
       "    .dataframe tbody tr th:only-of-type {\n",
       "        vertical-align: middle;\n",
       "    }\n",
       "\n",
       "    .dataframe tbody tr th {\n",
       "        vertical-align: top;\n",
       "    }\n",
       "\n",
       "    .dataframe thead th {\n",
       "        text-align: right;\n",
       "    }\n",
       "</style>\n",
       "<table border=\"1\" class=\"dataframe\">\n",
       "  <thead>\n",
       "    <tr style=\"text-align: right;\">\n",
       "      <th></th>\n",
       "      <th>Train</th>\n",
       "      <th>Reflexivity</th>\n",
       "      <th>Symmetry</th>\n",
       "      <th>Transitivity</th>\n",
       "      <th>Equivalence</th>\n",
       "    </tr>\n",
       "  </thead>\n",
       "  <tbody>\n",
       "    <tr>\n",
       "      <th>Nearest Neighbors</th>\n",
       "      <td>0.972913</td>\n",
       "      <td>0.374172</td>\n",
       "      <td>0.324435</td>\n",
       "      <td>0.602121</td>\n",
       "      <td>0.329297</td>\n",
       "    </tr>\n",
       "    <tr>\n",
       "      <th>Linear SVM</th>\n",
       "      <td>0.512867</td>\n",
       "      <td>0.333333</td>\n",
       "      <td>0.333333</td>\n",
       "      <td>0.333333</td>\n",
       "      <td>0.333333</td>\n",
       "    </tr>\n",
       "    <tr>\n",
       "      <th>RBF SVM</th>\n",
       "      <td>1.000000</td>\n",
       "      <td>0.333333</td>\n",
       "      <td>0.333333</td>\n",
       "      <td>0.333333</td>\n",
       "      <td>0.333333</td>\n",
       "    </tr>\n",
       "    <tr>\n",
       "      <th>Decision Tree</th>\n",
       "      <td>0.623131</td>\n",
       "      <td>0.333333</td>\n",
       "      <td>0.333333</td>\n",
       "      <td>0.333333</td>\n",
       "      <td>0.333333</td>\n",
       "    </tr>\n",
       "    <tr>\n",
       "      <th>Random Forest</th>\n",
       "      <td>0.289202</td>\n",
       "      <td>0.333333</td>\n",
       "      <td>0.333333</td>\n",
       "      <td>0.333333</td>\n",
       "      <td>0.333333</td>\n",
       "    </tr>\n",
       "    <tr>\n",
       "      <th>Neural Net</th>\n",
       "      <td>1.000000</td>\n",
       "      <td>0.522119</td>\n",
       "      <td>0.333333</td>\n",
       "      <td>0.905478</td>\n",
       "      <td>0.333333</td>\n",
       "    </tr>\n",
       "    <tr>\n",
       "      <th>AdaBoost</th>\n",
       "      <td>0.519697</td>\n",
       "      <td>0.327482</td>\n",
       "      <td>0.333333</td>\n",
       "      <td>0.321417</td>\n",
       "      <td>0.333333</td>\n",
       "    </tr>\n",
       "    <tr>\n",
       "      <th>Naive Bayes</th>\n",
       "      <td>0.375999</td>\n",
       "      <td>0.305556</td>\n",
       "      <td>0.333333</td>\n",
       "      <td>0.400000</td>\n",
       "      <td>0.333333</td>\n",
       "    </tr>\n",
       "    <tr>\n",
       "      <th>QDA</th>\n",
       "      <td>0.999515</td>\n",
       "      <td>0.333333</td>\n",
       "      <td>0.333333</td>\n",
       "      <td>0.333333</td>\n",
       "      <td>0.333333</td>\n",
       "    </tr>\n",
       "  </tbody>\n",
       "</table>\n",
       "</div>"
      ],
      "text/plain": [
       "                      Train  Reflexivity  Symmetry  Transitivity  Equivalence\n",
       "Nearest Neighbors  0.972913     0.374172  0.324435      0.602121     0.329297\n",
       "Linear SVM         0.512867     0.333333  0.333333      0.333333     0.333333\n",
       "RBF SVM            1.000000     0.333333  0.333333      0.333333     0.333333\n",
       "Decision Tree      0.623131     0.333333  0.333333      0.333333     0.333333\n",
       "Random Forest      0.289202     0.333333  0.333333      0.333333     0.333333\n",
       "Neural Net         1.000000     0.522119  0.333333      0.905478     0.333333\n",
       "AdaBoost           0.519697     0.327482  0.333333      0.321417     0.333333\n",
       "Naive Bayes        0.375999     0.305556  0.333333      0.400000     0.333333\n",
       "QDA                0.999515     0.333333  0.333333      0.333333     0.333333"
      ]
     },
     "execution_count": 40,
     "metadata": {},
     "output_type": "execute_result"
    }
   ],
   "source": [
    "results_df=pd.DataFrame(np.column_stack([avg_scores_train,avg_scores_reflexivity,avg_scores_symmetry,avg_scores_transitivity,avg_scores_equivalence]),index=names, columns=[\"Train\", \"Reflexivity\", \"Symmetry\",\"Transitivity\",\"Equivalence\"])\n",
    "results_df"
   ]
  },
  {
   "cell_type": "code",
   "execution_count": 41,
   "metadata": {},
   "outputs": [],
   "source": [
    "# results_df.to_csv(\"train_only.csv\")\n",
    "#results_df.to_csv(\"train_wexplicit.csv\")\n",
    "# results_df.to_csv(\"train_wnogo.csv\")\n",
    "results_df.to_csv(\"train_wexplicit_wnogo.csv\")\n"
   ]
  },
  {
   "cell_type": "code",
   "execution_count": 42,
   "metadata": {},
   "outputs": [
    {
     "data": {
      "text/plain": [
       "<matplotlib.axes._subplots.AxesSubplot at 0x20d62ee0e88>"
      ]
     },
     "execution_count": 42,
     "metadata": {},
     "output_type": "execute_result"
    },
    {
     "data": {
      "image/png": "[encoded data removed]",
      "text/plain": [
       "<Figure size 1152x648 with 1 Axes>"
      ]
     },
     "metadata": {},
     "output_type": "display_data"
    }
   ],
   "source": [
    "# results_df.T.plot(kind=\"bar\", figsize=(16,9), title=\"Train only\")\n",
    "# results_df.T.plot(kind=\"bar\", figsize=(16,9), title=\"Train with explicit relations\")\n",
    "# results_df.T.plot(kind=\"bar\", figsize=(16,9), title=\"Train with no-go trials\")\n",
    "results_df.T.plot(kind=\"bar\", figsize=(16,9), title=\"Train with explicit relations and no-go trials\")"
   ]
  }
 ],
 "metadata": {
  "kernelspec": {
   "display_name": "Python 3",
   "language": "python",
   "name": "python3"
  },
  "language_info": {
   "codemirror_mode": {
    "name": "ipython",
    "version": 3
   },
   "file_extension": ".py",
   "mimetype": "text/x-python",
   "name": "python",
   "nbconvert_exporter": "python",
   "pygments_lexer": "ipython3",
   "version": "3.7.7"
  }
 },
 "nbformat": 4,
 "nbformat_minor": 4
}
