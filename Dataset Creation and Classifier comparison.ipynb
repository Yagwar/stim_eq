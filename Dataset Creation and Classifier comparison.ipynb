{
 "cells": [
  {
   "cell_type": "markdown",
   "metadata": {
    "collapsed": true
   },
   "source": [
    "# EQUIVALENCE CLASS:\n",
    "A stimulus class (usually produced through conditional discrimination in matching-to-sample) that includes all possible emergent relations among its members. The properties of an equivalence class are derived from the logical relations of reflexivity, symmetry, and transitivity. **Reflexivity** *refers to the matching of a sample to itself*, sometimes called identity matching (AA, BB, CC, in these examples, each letter pair represents a sample and its matching comparison stimulus). **Symmetry** *refers to the reversibility of a relation (if AB, then BA)*. **Transitivity** *refers to the transfer of the relation to new combinations through shared membership (if AB and BC, then AC)*. \n",
    "If these properties are characteristics of a matching to-sample performance, then training AB and BC may produce AC, BA, CA, and CB as emergent relations (reflexivity provides the three other possible relations, AA, BB, and CC). Given AB and BC, for example, the combination of symmetry and transitivity implies the CA relation. The emergence of all possible stimulus relations after only AB and BC are trained through contingencies is the criterion for calling the three stimuli members of an equivalence class. The class can be extended by training new stimulus relations (e.g., if CD is learned, then AD, DA, BD, DB, and DC may be created as emergent relations). Stimuli that are members of an equivalence class are likely also to be functionally equivalent. It remains to be seen whether the logical properties of these classes are fully consistent with their behavioral ones. Cf. ** EQUIVALENCE RELATION**. ([source](http://www.scienceofbehavior.com/lms/mod/glossary/view.php?id=408&mode=letter&hook=E&sortkey=CREATION&sortorder=asc&fullsearch=0&page=3))\n"
   ]
  },
  {
   "cell_type": "markdown",
   "metadata": {},
   "source": [
    "# Libraries"
   ]
  },
  {
   "cell_type": "code",
   "execution_count": 1,
   "metadata": {
    "collapsed": true
   },
   "outputs": [],
   "source": [
    "import numpy as np\n",
    "import pandas as pd\n",
    "import random\n",
    "import matplotlib.pyplot as plt\n",
    "from matplotlib.colors import ListedColormap\n",
    "from sklearn.model_selection import train_test_split\n",
    "from sklearn.neural_network import MLPClassifier\n",
    "from sklearn.neighbors import KNeighborsClassifier\n",
    "from sklearn.svm import SVC\n",
    "from sklearn.gaussian_process import GaussianProcessClassifier\n",
    "from sklearn.gaussian_process.kernels import RBF\n",
    "from sklearn.tree import DecisionTreeClassifier\n",
    "from sklearn.ensemble import RandomForestClassifier, AdaBoostClassifier\n",
    "from sklearn.naive_bayes import GaussianNB\n",
    "from sklearn.discriminant_analysis import QuadraticDiscriminantAnalysis\n",
    "\n",
    "from sklearn.multiclass import OneVsRestClassifier\n",
    "from sklearn.metrics import average_precision_score"
   ]
  },
  {
   "cell_type": "code",
   "execution_count": 2,
   "metadata": {
    "collapsed": true
   },
   "outputs": [],
   "source": [
    "stims={\"A1\":[1,0,0,0,0,0,0,0,0,0,0,0],\n",
    "       \"A2\":[0,1,0,0,0,0,0,0,0,0,0,0],\n",
    "       \"A3\":[0,0,1,0,0,0,0,0,0,0,0,0],\n",
    "       \"A4\":[0,0,0,1,0,0,0,0,0,0,0,0],\n",
    "       \"B1\":[0,0,0,0,1,0,0,0,0,0,0,0],\n",
    "       \"B2\":[0,0,0,0,0,1,0,0,0,0,0,0],\n",
    "       \"B3\":[0,0,0,0,0,0,1,0,0,0,0,0],\n",
    "       \"B4\":[0,0,0,0,0,0,0,1,0,0,0,0],\n",
    "       \"C1\":[0,0,0,0,0,0,0,0,1,0,0,0],\n",
    "       \"C2\":[0,0,0,0,0,0,0,0,0,1,0,0],\n",
    "       \"C3\":[0,0,0,0,0,0,0,0,0,0,1,0],\n",
    "       \"C4\":[0,0,0,0,0,0,0,0,0,0,0,1]\n",
    "      }\n",
    "\n",
    "options={\"O_1\":[1,0,0],\n",
    "         \"O_2\":[0,1,0],\n",
    "         \"O_3\":[0,0,1],\n",
    "         \"O_0\":[0,0,0],\n",
    "        }\n",
    "\n",
    "labels=np.array([[i,j,k,l] for i in stims.keys() for j in stims.keys()for k in stims.keys()for l in stims.keys()])\n",
    "values_x=np.array([np.array(i+j+k+l) for i in stims.values() for j in stims.values()for k in stims.values()for l in stims.values()])"
   ]
  },
  {
   "cell_type": "markdown",
   "metadata": {},
   "source": [
    "# Test 1: Identify\n",
    "\n",
    "### Can a shallow classifier identify the stimulus presented in the set?\n",
    "\n",
    "The first step is check if a classifier can indentify the stimulus presented in the group of stimulus."
   ]
  },
  {
   "cell_type": "code",
   "execution_count": 3,
   "metadata": {
    "collapsed": true
   },
   "outputs": [],
   "source": [
    "h = .02  # step size in the mesh\n",
    "\n",
    "names = [\n",
    "    \"Nearest Neighbors\", \n",
    "    \"Linear SVM\", \n",
    "    \"RBF SVM\", \n",
    "#    \"Gaussian Process\",\n",
    "    \"Decision Tree\", \n",
    "    \"Random Forest\", \n",
    "    \"Neural Net\", \n",
    "    \"AdaBoost\",\n",
    "    \"Naive Bayes\", \n",
    "    \"QDA\"\n",
    "]\n",
    "\n",
    "classifiers = [\n",
    "    KNeighborsClassifier(3),\n",
    "    SVC(kernel=\"linear\", C=0.025),\n",
    "    SVC(gamma=2, C=1),\n",
    "#    GaussianProcessClassifier(1.0 * RBF(1.0), warm_start=True),\n",
    "    DecisionTreeClassifier(max_depth=5),\n",
    "    RandomForestClassifier(max_depth=5, n_estimators=10, max_features=1),\n",
    "    MLPClassifier(alpha=1),\n",
    "    AdaBoostClassifier(),\n",
    "    GaussianNB(),\n",
    "    QuadraticDiscriminantAnalysis()\n",
    "]"
   ]
  },
  {
   "cell_type": "code",
   "execution_count": 4,
   "metadata": {
    "collapsed": true
   },
   "outputs": [],
   "source": [
    "test1_y=np.array([list(np.bitwise_or(np.bitwise_or(np.bitwise_or(i,j),k),l)) for i in stims.values() for j in stims.values()for k in stims.values()for l in stims.values()])"
   ]
  },
  {
   "cell_type": "code",
   "execution_count": 5,
   "metadata": {
    "collapsed": true
   },
   "outputs": [],
   "source": [
    "def test_1_view ():\n",
    "    # Selects a random stimulus and shows the corresponding encoding, labels and y value\n",
    "    n_dat=random.randrange(len(values_x))\n",
    "    print(n_dat)\n",
    "    print(values_x[n_dat,0:12])\n",
    "    print(values_x[n_dat,12:24])\n",
    "    print(values_x[n_dat,24:36])\n",
    "    print(values_x[n_dat,36:48])\n",
    "    print(test1_y[n_dat,:])\n",
    "    print(labels[n_dat,:])"
   ]
  },
  {
   "cell_type": "code",
   "execution_count": 6,
   "metadata": {},
   "outputs": [
    {
     "name": "stdout",
     "output_type": "stream",
     "text": [
      "14442\n",
      "[0 0 0 0 0 0 0 0 0 1 0 0]\n",
      "[0 0 0 1 0 0 0 0 0 0 0 0]\n",
      "[0 1 0 0 0 0 0 0 0 0 0 0]\n",
      "[0 0 0 0 0 0 1 0 0 0 0 0]\n",
      "[0 1 0 1 0 0 1 0 0 1 0 0]\n",
      "['C2' 'A4' 'A2' 'B3']\n"
     ]
    }
   ],
   "source": [
    "test_1_view ()"
   ]
  },
  {
   "cell_type": "code",
   "execution_count": 7,
   "metadata": {
    "collapsed": true
   },
   "outputs": [],
   "source": [
    "X_train, X_test, y_train, y_test = train_test_split(values_x, test1_y, test_size=.4, random_state=42)"
   ]
  },
  {
   "cell_type": "code",
   "execution_count": 9,
   "metadata": {},
   "outputs": [
    {
     "name": "stdout",
     "output_type": "stream",
     "text": [
      "('Nearest Neighbors', 0.92683252486606327)\n",
      "('Linear SVM', 1.0)\n",
      "('RBF SVM', 0.71860933879274969)\n",
      "('Decision Tree', 1.0)\n",
      "('Random Forest', 0.68005305813397376)\n",
      "('Neural Net', 1.0)\n",
      "('AdaBoost', 1.0)\n",
      "('Naive Bayes', 1.0)\n"
     ]
    },
    {
     "name": "stderr",
     "output_type": "stream",
     "text": [
      "/home/yagwar/anaconda2/lib/python2.7/site-packages/sklearn/discriminant_analysis.py:695: UserWarning: Variables are collinear\n",
      "  warnings.warn(\"Variables are collinear\")\n"
     ]
    },
    {
     "name": "stdout",
     "output_type": "stream",
     "text": [
      "('QDA', 0.94934961967977338)\n"
     ]
    }
   ],
   "source": [
    "avg_scores=[]\n",
    "for name, clf in zip(names, classifiers):\n",
    "    clasif=OneVsRestClassifier(clf).fit(X_train, y_train)\n",
    "    scr=average_precision_score(y_test,clasif.predict(X_test))\n",
    "    avg_scores.append(scr)\n",
    "    print(name,scr)\n"
   ]
  },
  {
   "cell_type": "markdown",
   "metadata": {},
   "source": [
    "# Reflexivity test\n",
    "### Can a shallow classificator mark the correct position of the sample when it's presented in the comparators?"
   ]
  },
  {
   "cell_type": "code",
   "execution_count": 10,
   "metadata": {
    "collapsed": true
   },
   "outputs": [],
   "source": [
    "reflexivity_labels=[]\n",
    "reflexivity_values=[]\n",
    "reflexivity_y=[]\n",
    "for lab in stims.keys(): \n",
    "    rflxvt_labels=labels[(labels[:,0]==lab)&((labels[:,1]==lab)|(labels[:,2]==lab)|(labels[:,3]==lab))]\n",
    "    rflxvt_values=values_x[(labels[:,0]==lab)&((labels[:,1]==lab)|(labels[:,2]==lab)|(labels[:,3]==lab))]\n",
    "\n",
    "    rflxvt_values=rflxvt_values[np.sum((rflxvt_labels[:,1:]==lab)*1.0, axis=1)==1]\n",
    "    rflxvt_labels=rflxvt_labels[np.sum((rflxvt_labels[:,1:]==lab)*1.0, axis=1)==1]\n",
    "    rflxvt_y=(rflxvt_labels[:,1:]==lab)*1\n",
    "    \n",
    "    [reflexivity_labels.append(lbl) for lbl in rflxvt_labels]\n",
    "    [reflexivity_values.append(vle) for vle in rflxvt_values]\n",
    "    [reflexivity_y.append(vly) for vly in rflxvt_y]\n",
    "\n",
    "reflexivity_labels=np.array(reflexivity_labels)\n",
    "reflexivity_values=np.array(reflexivity_values)\n",
    "reflexivity_y=np.array(reflexivity_y)"
   ]
  },
  {
   "cell_type": "code",
   "execution_count": 11,
   "metadata": {
    "collapsed": true
   },
   "outputs": [],
   "source": [
    "def reflexivity_view():\n",
    "    n_dat=random.randrange(len(reflexivity_values))\n",
    "    print(n_dat)\n",
    "    print(reflexivity_values[n_dat,0:12])\n",
    "    print(reflexivity_values[n_dat,12:24])\n",
    "    print(reflexivity_values[n_dat,24:36])\n",
    "    print(reflexivity_values[n_dat,36:48])\n",
    "    print(reflexivity_y[n_dat,:])\n",
    "    print(reflexivity_labels[n_dat,:])"
   ]
  },
  {
   "cell_type": "code",
   "execution_count": 12,
   "metadata": {},
   "outputs": [
    {
     "name": "stdout",
     "output_type": "stream",
     "text": [
      "434\n",
      "[1 0 0 0 0 0 0 0 0 0 0 0]\n",
      "[1 0 0 0 0 0 0 0 0 0 0 0]\n",
      "[0 0 0 0 0 1 0 0 0 0 0 0]\n",
      "[0 0 0 0 0 0 1 0 0 0 0 0]\n",
      "[1 0 0]\n",
      "['A1' 'A1' 'B2' 'B3']\n"
     ]
    }
   ],
   "source": [
    "reflexivity_view()"
   ]
  },
  {
   "cell_type": "code",
   "execution_count": 13,
   "metadata": {
    "collapsed": true
   },
   "outputs": [],
   "source": [
    "X_train_reflexivity, X_test_reflexivity, y_train_reflexivity, y_test_reflexivity = train_test_split(reflexivity_values, reflexivity_y, test_size=.4, random_state=42)"
   ]
  },
  {
   "cell_type": "code",
   "execution_count": 14,
   "metadata": {},
   "outputs": [
    {
     "name": "stdout",
     "output_type": "stream",
     "text": [
      "('Nearest Neighbors', 0.9982837483511231)\n",
      "('Linear SVM', 0.66666666666666663)\n",
      "('RBF SVM', 0.66666666666666663)\n",
      "('Decision Tree', 0.60496364084008458)\n",
      "('Random Forest', 0.66706022083320748)\n",
      "('Neural Net', 1.0)\n",
      "('AdaBoost', 0.66666666666666663)\n",
      "('Naive Bayes', 0.37867934583291024)\n",
      "('QDA', 0.96594258222349527)\n"
     ]
    }
   ],
   "source": [
    "avg_scores_reflexivity=[]\n",
    "for name, clf in zip(names, classifiers):\n",
    "    clasif=OneVsRestClassifier(clf).fit(X_train_reflexivity, y_train_reflexivity)\n",
    "    scr=average_precision_score(y_test_reflexivity,clasif.predict(X_test_reflexivity))\n",
    "    avg_scores_reflexivity.append(scr)\n",
    "    print(name,scr)"
   ]
  },
  {
   "cell_type": "markdown",
   "metadata": {},
   "source": [
    "# Equivalence Trainning\n",
    "\n",
    "Trainning the classes relations"
   ]
  },
  {
   "cell_type": "code",
   "execution_count": 15,
   "metadata": {
    "collapsed": true
   },
   "outputs": [],
   "source": [
    "train_pairs=np.array([[\"A1\",\"B1\"],[\"B1\",\"C1\"],\n",
    "                           [\"A2\",\"B2\"],[\"B2\",\"C2\"],\n",
    "                           [\"A3\",\"B3\"],[\"B3\",\"C3\"],\n",
    "                           [\"A4\",\"B4\"],[\"B4\",\"C4\"]])"
   ]
  },
  {
   "cell_type": "code",
   "execution_count": 16,
   "metadata": {},
   "outputs": [],
   "source": [
    "filt_train_x=np.any(\n",
    "    [\n",
    "        [((lbl[0]==pair[0])& #The sample is the first element of the pair\n",
    "          (lbl[1][0]==pair[1][0])& #The comparator 1 has the same mode (letter) of the second element of the pair\n",
    "          (lbl[2][0]==pair[1][0])& #The comparator 2 has the same mode (letter) of the second element of the pair\n",
    "          (lbl[3][0]==pair[1][0])& #The comparator 3 has the same mode (letter) of the second element of the pair\n",
    "          ((lbl[1]==pair[1])|(lbl[2]==pair[1])|(lbl[3]==pair[1]))&# any of the comparators is the second element of the pair\n",
    "          ((lbl[1]==pair[1])+(lbl[2]==pair[1])+(lbl[3]==pair[1])==1)# the second element of the pair is presented once in the comparators\n",
    "         ) for pair in train_pairs] for lbl in labels],# for any of the pairs on every label\n",
    "axis=1)\n",
    "\n",
    "train_values=values_x[filt_train_x]\n",
    "train_labels=  labels[filt_train_x]\n",
    "\n",
    "train_response=np.any(np.array([\n",
    "    [[\n",
    "        ((lbl[0]==pair[0])&(lbl[1]==pair[1])), #The sample is the first element of the pair and the first  comparator is the second element of the pair\n",
    "        ((lbl[0]==pair[0])&(lbl[2]==pair[1])), #The sample is the first element of the pair and the second comparator is the second element of the pair\n",
    "        ((lbl[0]==pair[0])&(lbl[3]==pair[1])) #The sample is the first element of the pair and the third  comparator is the second element of the pair\n",
    "    ] for pair in train_pairs] for lbl in train_labels]# for any of the pairs on every label\n",
    "), axis=1)*1"
   ]
  },
  {
   "cell_type": "code",
   "execution_count": 17,
   "metadata": {
    "collapsed": true
   },
   "outputs": [],
   "source": [
    "def view_train():\n",
    "    n_dat=random.randrange(len(train_labels))\n",
    "    print(n_dat)\n",
    "    print(train_values[n_dat,0:12])\n",
    "    print(train_values[n_dat,12:24])\n",
    "    print(train_values[n_dat,24:36])\n",
    "    print(train_values[n_dat,36:48])\n",
    "    print(train_response[n_dat,:])\n",
    "    print(train_labels[n_dat,:])"
   ]
  },
  {
   "cell_type": "code",
   "execution_count": 18,
   "metadata": {},
   "outputs": [
    {
     "name": "stdout",
     "output_type": "stream",
     "text": [
      "90\n",
      "[0 1 0 0 0 0 0 0 0 0 0 0]\n",
      "[0 0 0 0 0 1 0 0 0 0 0 0]\n",
      "[0 0 0 0 0 0 1 0 0 0 0 0]\n",
      "[0 0 0 0 0 0 0 1 0 0 0 0]\n",
      "[1 0 0]\n",
      "['A2' 'B2' 'B3' 'B4']\n"
     ]
    }
   ],
   "source": [
    "view_train()"
   ]
  },
  {
   "cell_type": "code",
   "execution_count": 19,
   "metadata": {
    "collapsed": true
   },
   "outputs": [],
   "source": [
    "X_train, X_test, y_train, y_test = train_test_split(train_values, train_response, test_size=.4, random_state=42)"
   ]
  },
  {
   "cell_type": "code",
   "execution_count": 25,
   "metadata": {},
   "outputs": [
    {
     "name": "stdout",
     "output_type": "stream",
     "text": [
      "('Nearest Neighbors', 0.93576999575562791)\n",
      "('Linear SVM', 0.66666666666666663)\n",
      "('RBF SVM', 0.66666666666666663)\n",
      "('Decision Tree', 0.62081472300581497)\n",
      "('Random Forest', 0.51905712157148931)\n",
      "('Neural Net', 0.8464943288937542)\n",
      "('AdaBoost', 0.2445858419996351)\n",
      "('Naive Bayes', 0.35310188991941871)\n",
      "('QDA', 0.86705303928723465)\n"
     ]
    }
   ],
   "source": [
    "avg_scores_train=[]\n",
    "train_clasif=[]\n",
    "for name, clf in zip(names, classifiers):\n",
    "    clasif=OneVsRestClassifier(clf).fit(X_train, y_train)\n",
    "    train_clasif.append(clasif)\n",
    "    scr=average_precision_score(y_test,clasif.predict(X_test))\n",
    "    avg_scores_train.append(scr)\n",
    "    print(name,scr)"
   ]
  },
  {
   "cell_type": "code",
   "execution_count": 26,
   "metadata": {},
   "outputs": [
    {
     "data": {
      "text/plain": [
       "[OneVsRestClassifier(estimator=KNeighborsClassifier(algorithm='auto', leaf_size=30, metric='minkowski',\n",
       "            metric_params=None, n_jobs=1, n_neighbors=3, p=2,\n",
       "            weights='uniform'),\n",
       "           n_jobs=1),\n",
       " OneVsRestClassifier(estimator=SVC(C=0.025, cache_size=200, class_weight=None, coef0=0.0,\n",
       "   decision_function_shape=None, degree=3, gamma='auto', kernel='linear',\n",
       "   max_iter=-1, probability=False, random_state=None, shrinking=True,\n",
       "   tol=0.001, verbose=False),\n",
       "           n_jobs=1),\n",
       " OneVsRestClassifier(estimator=SVC(C=1, cache_size=200, class_weight=None, coef0=0.0,\n",
       "   decision_function_shape=None, degree=3, gamma=2, kernel='rbf',\n",
       "   max_iter=-1, probability=False, random_state=None, shrinking=True,\n",
       "   tol=0.001, verbose=False),\n",
       "           n_jobs=1),\n",
       " OneVsRestClassifier(estimator=DecisionTreeClassifier(class_weight=None, criterion='gini', max_depth=5,\n",
       "             max_features=None, max_leaf_nodes=None,\n",
       "             min_impurity_split=1e-07, min_samples_leaf=1,\n",
       "             min_samples_split=2, min_weight_fraction_leaf=0.0,\n",
       "             presort=False, random_state=None, splitter='best'),\n",
       "           n_jobs=1),\n",
       " OneVsRestClassifier(estimator=RandomForestClassifier(bootstrap=True, class_weight=None, criterion='gini',\n",
       "             max_depth=5, max_features=1, max_leaf_nodes=None,\n",
       "             min_impurity_split=1e-07, min_samples_leaf=1,\n",
       "             min_samples_split=2, min_weight_fraction_leaf=0.0,\n",
       "             n_estimators=10, n_jobs=1, oob_score=False, random_state=None,\n",
       "             verbose=0, warm_start=False),\n",
       "           n_jobs=1),\n",
       " OneVsRestClassifier(estimator=MLPClassifier(activation='relu', alpha=1, batch_size='auto', beta_1=0.9,\n",
       "        beta_2=0.999, early_stopping=False, epsilon=1e-08,\n",
       "        hidden_layer_sizes=(100,), learning_rate='constant',\n",
       "        learning_rate_init=0.001, max_iter=200, momentum=0.9,\n",
       "        nesterovs_momentum=True, power_t=0.5, random_state=None,\n",
       "        shuffle=True, solver='adam', tol=0.0001, validation_fraction=0.1,\n",
       "        verbose=False, warm_start=False),\n",
       "           n_jobs=1),\n",
       " OneVsRestClassifier(estimator=AdaBoostClassifier(algorithm='SAMME.R', base_estimator=None,\n",
       "           learning_rate=1.0, n_estimators=50, random_state=None),\n",
       "           n_jobs=1),\n",
       " OneVsRestClassifier(estimator=GaussianNB(priors=None), n_jobs=1),\n",
       " OneVsRestClassifier(estimator=QuadraticDiscriminantAnalysis(priors=None, reg_param=0.0,\n",
       "                store_covariances=False, tol=0.0001),\n",
       "           n_jobs=1)]"
      ]
     },
     "execution_count": 26,
     "metadata": {},
     "output_type": "execute_result"
    }
   ],
   "source": [
    "train_clasif"
   ]
  },
  {
   "cell_type": "markdown",
   "metadata": {},
   "source": [
    "# Symmetry evaluation"
   ]
  },
  {
   "cell_type": "code",
   "execution_count": 22,
   "metadata": {
    "collapsed": true
   },
   "outputs": [],
   "source": [
    "filt_symm_x=np.any(\n",
    "    [\n",
    "        [((lbl[0]==pair[1])& #The sample is the second element of the pair\n",
    "          (lbl[1][0]==pair[0][0])& #The comparator 1 has the same mode (letter) of the first element of the pair\n",
    "          (lbl[2][0]==pair[0][0])& #The comparator 2 has the same mode (letter) of the first element of the pair\n",
    "          (lbl[3][0]==pair[0][0])& #The comparator 3 has the same mode (letter) of the first element of the pair\n",
    "          ((lbl[1]==pair[0])|(lbl[2]==pair[0])|(lbl[3]==pair[0]))&# any of the comparators is the first element of the pair\n",
    "          ((lbl[1]==pair[0])+(lbl[2]==pair[0])+(lbl[3]==pair[0])==1)# the first element of the pair is presented once in the comparators\n",
    "         ) for pair in train_pairs] for lbl in labels],# for any of the pairs on every label\n",
    "axis=1)\n",
    "\n",
    "symmetry_values=values_x[filt_symm_x]\n",
    "symmetry_labels=  labels[filt_symm_x]\n",
    "\n",
    "symmetry_response=np.any(np.array([\n",
    "    [[\n",
    "        ((lbl[0]==pair[1])&(lbl[1]==pair[0])), #The sample is the second element of the pair and the first  comparator is the first element of the pair\n",
    "        ((lbl[0]==pair[1])&(lbl[2]==pair[0])), #The sample is the second element of the pair and the second comparator is the first element of the pair\n",
    "        ((lbl[0]==pair[1])&(lbl[3]==pair[0]))  #The sample is the second element of the pair and the third  comparator is the first element of the pair\n",
    "    ] for pair in train_pairs] for lbl in symmetry_labels]# for any of the pairs on every label\n",
    "), axis=1)*1"
   ]
  },
  {
   "cell_type": "code",
   "execution_count": 23,
   "metadata": {
    "collapsed": true
   },
   "outputs": [],
   "source": [
    "def view_symmetry():\n",
    "    n_dat=random.randrange(len(symmetry_labels))\n",
    "    print(n_dat)\n",
    "    print(symmetry_values[n_dat,0:12])\n",
    "    print(symmetry_values[n_dat,12:24])\n",
    "    print(symmetry_values[n_dat,24:36])\n",
    "    print(symmetry_values[n_dat,36:48])\n",
    "    print(symmetry_response[n_dat,:])\n",
    "    print(symmetry_labels[n_dat,:])"
   ]
  },
  {
   "cell_type": "code",
   "execution_count": 24,
   "metadata": {},
   "outputs": [
    {
     "name": "stdout",
     "output_type": "stream",
     "text": [
      "68\n",
      "[0 0 0 0 0 0 1 0 0 0 0 0]\n",
      "[0 0 1 0 0 0 0 0 0 0 0 0]\n",
      "[0 0 0 1 0 0 0 0 0 0 0 0]\n",
      "[0 0 0 1 0 0 0 0 0 0 0 0]\n",
      "[1 0 0]\n",
      "['B3' 'A3' 'A4' 'A4']\n"
     ]
    }
   ],
   "source": [
    "view_symmetry()"
   ]
  },
  {
   "cell_type": "code",
   "execution_count": 27,
   "metadata": {},
   "outputs": [
    {
     "name": "stdout",
     "output_type": "stream",
     "text": [
      "('Nearest Neighbors', 0.45825046139511549)\n",
      "('Linear SVM', 0.66666666666666663)\n",
      "('RBF SVM', 0.66666666666666663)\n",
      "('Decision Tree', 0.57942992011619454)\n",
      "('Random Forest', 0.60462962962962952)\n",
      "('Neural Net', 0.58641975308641969)\n",
      "('AdaBoost', 0.4030864197530864)\n",
      "('Naive Bayes', 0.45342204322303825)\n",
      "('QDA', 0.58857656852248674)\n"
     ]
    }
   ],
   "source": [
    "avg_scores_symmetry=[]\n",
    "for name, clasif in zip(names, train_clasif):\n",
    "    scr=average_precision_score(symmetry_response,clasif.predict(symmetry_values))\n",
    "    avg_scores_symmetry.append(scr)\n",
    "    print(name,scr)"
   ]
  },
  {
   "cell_type": "markdown",
   "metadata": {},
   "source": [
    "# Transitivity and Equivalence evaluation"
   ]
  },
  {
   "cell_type": "code",
   "execution_count": 29,
   "metadata": {
    "collapsed": true
   },
   "outputs": [],
   "source": [
    "eval_pairs=np.array([[\"A1\",\"C1\"],\n",
    "                      [\"A2\",\"C2\"],\n",
    "                      [\"A3\",\"C3\"],\n",
    "                      [\"A4\",\"C4\"]])"
   ]
  },
  {
   "cell_type": "markdown",
   "metadata": {},
   "source": [
    "## Transitivity"
   ]
  },
  {
   "cell_type": "code",
   "execution_count": 30,
   "metadata": {
    "collapsed": true
   },
   "outputs": [],
   "source": [
    "#Transitivity\n",
    "filt_transitivity_x=np.any(\n",
    "    [\n",
    "        [((lbl[0]==pair[0])& #The sample is the first element of the pair\n",
    "          (lbl[1][0]==pair[1][0])& #The comparator 1 has the same mode (letter) of the second element of the pair\n",
    "          (lbl[2][0]==pair[1][0])& #The comparator 2 has the same mode (letter) of the second element of the pair\n",
    "          (lbl[3][0]==pair[1][0])& #The comparator 3 has the same mode (letter) of the second element of the pair\n",
    "          ((lbl[1]==pair[1])|(lbl[2]==pair[1])|(lbl[3]==pair[1]))&# any of the comparators is the second element of the pair\n",
    "          ((lbl[1]==pair[1])+(lbl[2]==pair[1])+(lbl[3]==pair[1])==1)# the second element of the pair is presented once in the comparators\n",
    "         ) for pair in eval_pairs] for lbl in labels],# for any of the pairs on every label\n",
    "axis=1)\n",
    "\n",
    "transitivity_values=values_x[filt_transitivity_x]\n",
    "transitivity_labels=  labels[filt_transitivity_x]\n",
    "\n",
    "transitivity_response=np.any(np.array([\n",
    "    [[\n",
    "        ((lbl[0]==pair[0])&(lbl[1]==pair[1])), #The sample is the first element of the pair and the first  comparator is the second element of the pair\n",
    "        ((lbl[0]==pair[0])&(lbl[2]==pair[1])), #The sample is the first element of the pair and the second comparator is the second element of the pair\n",
    "        ((lbl[0]==pair[0])&(lbl[3]==pair[1])) #The sample is the first element of the pair and the third  comparator is the second element of the pair\n",
    "    ] for pair in eval_pairs] for lbl in transitivity_labels]# for any of the pairs on every label\n",
    "), axis=1)*1"
   ]
  },
  {
   "cell_type": "code",
   "execution_count": 31,
   "metadata": {
    "collapsed": true
   },
   "outputs": [],
   "source": [
    "def view_transitivity():\n",
    "    n_dat=random.randrange(len(transitivity_labels))\n",
    "    print(n_dat)\n",
    "    print(transitivity_values[n_dat,0:12])\n",
    "    print(transitivity_values[n_dat,12:24])\n",
    "    print(transitivity_values[n_dat,24:36])\n",
    "    print(transitivity_values[n_dat,36:48])\n",
    "    print(transitivity_response[n_dat,:])\n",
    "    print(transitivity_labels[n_dat,:])"
   ]
  },
  {
   "cell_type": "code",
   "execution_count": 32,
   "metadata": {},
   "outputs": [
    {
     "name": "stdout",
     "output_type": "stream",
     "text": [
      "64\n",
      "[0 1 0 0 0 0 0 0 0 0 0 0]\n",
      "[0 0 0 0 0 0 0 0 0 1 0 0]\n",
      "[0 0 0 0 0 0 0 0 1 0 0 0]\n",
      "[0 0 0 0 0 0 0 0 1 0 0 0]\n",
      "[1 0 0]\n",
      "['A2' 'C2' 'C1' 'C1']\n"
     ]
    }
   ],
   "source": [
    "view_transitivity()"
   ]
  },
  {
   "cell_type": "code",
   "execution_count": 40,
   "metadata": {},
   "outputs": [
    {
     "name": "stdout",
     "output_type": "stream",
     "text": [
      "('Nearest Neighbors', 0.52988724611708482)\n",
      "('Linear SVM', 0.66666666666666663)\n",
      "('RBF SVM', 0.66666666666666663)\n",
      "('Decision Tree', 0.50458424110384892)\n",
      "('Random Forest', 0.16666666666666666)\n",
      "('Neural Net', 0.53647586980920314)\n",
      "('AdaBoost', 0.49938033271366605)\n",
      "('Naive Bayes', 0.48121693121693121)\n",
      "('QDA', 0.66666666666666663)\n"
     ]
    }
   ],
   "source": [
    "avg_scores_transitivity=[]\n",
    "for name, clasif in zip(names, train_clasif):\n",
    "    scr=average_precision_score(transitivity_response,clasif.predict(transitivity_values))\n",
    "    avg_scores_transitivity.append(scr)\n",
    "    print(name,scr)"
   ]
  },
  {
   "cell_type": "markdown",
   "metadata": {},
   "source": [
    " ## Equivalence"
   ]
  },
  {
   "cell_type": "code",
   "execution_count": 33,
   "metadata": {
    "collapsed": true
   },
   "outputs": [],
   "source": [
    "# Equivalence\n",
    "filt_equivalence=np.any(\n",
    "    [\n",
    "        [((lbl[0]==pair[1])& #The sample is the second element of the pair\n",
    "          (lbl[1][0]==pair[0][0])& #The comparator 1 has the same mode (letter) of the first element of the pair\n",
    "          (lbl[2][0]==pair[0][0])& #The comparator 2 has the same mode (letter) of the first element of the pair\n",
    "          (lbl[3][0]==pair[0][0])& #The comparator 3 has the same mode (letter) of the first element of the pair\n",
    "          ((lbl[1]==pair[0])|(lbl[2]==pair[0])|(lbl[3]==pair[0]))&# any of the comparators is the first element of the pair\n",
    "          ((lbl[1]==pair[0])+(lbl[2]==pair[0])+(lbl[3]==pair[0])==1)# the first element of the pair is presented once in the comparators\n",
    "         ) for pair in eval_pairs] for lbl in labels],# for any of the pairs on every label\n",
    "axis=1)\n",
    "\n",
    "equivalence_values=values_x[filt_equivalence]\n",
    "equivalence_labels=  labels[filt_equivalence]\n",
    "\n",
    "equivalence_response=np.any(np.array([\n",
    "    [[\n",
    "        ((lbl[0]==pair[1])&(lbl[1]==pair[0])), #The sample is the second element of the pair and the first  comparator is the first element of the pair\n",
    "        ((lbl[0]==pair[1])&(lbl[2]==pair[0])), #The sample is the second element of the pair and the second comparator is the first element of the pair\n",
    "        ((lbl[0]==pair[1])&(lbl[3]==pair[0]))  #The sample is the second element of the pair and the third  comparator is the first element of the pair\n",
    "    ] for pair in eval_pairs] for lbl in equivalence_labels]# for any of the pairs on every label\n",
    "), axis=1)*1"
   ]
  },
  {
   "cell_type": "code",
   "execution_count": 34,
   "metadata": {
    "collapsed": true
   },
   "outputs": [],
   "source": [
    "def view_equivalence():\n",
    "    n_dat=random.randrange(len(equivalence_labels))\n",
    "    print(n_dat)\n",
    "    print(equivalence_values[n_dat,0:12])\n",
    "    print(equivalence_values[n_dat,12:24])\n",
    "    print(equivalence_values[n_dat,24:36])\n",
    "    print(equivalence_values[n_dat,36:48])\n",
    "    print(equivalence_response[n_dat,:])\n",
    "    print(equivalence_labels[n_dat,:])"
   ]
  },
  {
   "cell_type": "code",
   "execution_count": 35,
   "metadata": {},
   "outputs": [
    {
     "name": "stdout",
     "output_type": "stream",
     "text": [
      "87\n",
      "[0 0 0 0 0 0 0 0 0 0 0 1]\n",
      "[0 0 1 0 0 0 0 0 0 0 0 0]\n",
      "[1 0 0 0 0 0 0 0 0 0 0 0]\n",
      "[0 0 0 1 0 0 0 0 0 0 0 0]\n",
      "[0 0 1]\n",
      "['C4' 'A3' 'A1' 'A4']\n"
     ]
    }
   ],
   "source": [
    "view_equivalence()"
   ]
  },
  {
   "cell_type": "code",
   "execution_count": 41,
   "metadata": {},
   "outputs": [
    {
     "name": "stdout",
     "output_type": "stream",
     "text": [
      "('Nearest Neighbors', 0.66666666666666663)\n",
      "('Linear SVM', 0.66666666666666663)\n",
      "('RBF SVM', 0.66666666666666663)\n",
      "('Decision Tree', 0.66666666666666663)\n",
      "('Random Forest', 0.66666666666666663)\n",
      "('Neural Net', 0.66666666666666663)\n",
      "('AdaBoost', 0.66666666666666663)\n",
      "('Naive Bayes', 0.66666666666666663)\n",
      "('QDA', 0.68007662835249028)\n"
     ]
    }
   ],
   "source": [
    "avg_scores_equivalence=[]\n",
    "for name, clasif in zip(names, train_clasif):\n",
    "    scr=average_precision_score(equivalence_response,clasif.predict(equivalence_values))\n",
    "    avg_scores_equivalence.append(scr)\n",
    "    print(name,scr)"
   ]
  },
  {
   "cell_type": "markdown",
   "metadata": {},
   "source": [
    "# Results"
   ]
  },
  {
   "cell_type": "code",
   "execution_count": 42,
   "metadata": {},
   "outputs": [
    {
     "data": {
      "text/html": [
       "<div>\n",
       "<style>\n",
       "    .dataframe thead tr:only-child th {\n",
       "        text-align: right;\n",
       "    }\n",
       "\n",
       "    .dataframe thead th {\n",
       "        text-align: left;\n",
       "    }\n",
       "\n",
       "    .dataframe tbody tr th {\n",
       "        vertical-align: top;\n",
       "    }\n",
       "</style>\n",
       "<table border=\"1\" class=\"dataframe\">\n",
       "  <thead>\n",
       "    <tr style=\"text-align: right;\">\n",
       "      <th></th>\n",
       "      <th>Identify</th>\n",
       "      <th>Reflexivity</th>\n",
       "      <th>Train</th>\n",
       "      <th>Symmetry</th>\n",
       "      <th>Transitivity</th>\n",
       "      <th>Equivalence</th>\n",
       "    </tr>\n",
       "  </thead>\n",
       "  <tbody>\n",
       "    <tr>\n",
       "      <th>Nearest Neighbors</th>\n",
       "      <td>0.926833</td>\n",
       "      <td>0.998284</td>\n",
       "      <td>0.935770</td>\n",
       "      <td>0.458250</td>\n",
       "      <td>0.529887</td>\n",
       "      <td>0.666667</td>\n",
       "    </tr>\n",
       "    <tr>\n",
       "      <th>Linear SVM</th>\n",
       "      <td>1.000000</td>\n",
       "      <td>0.666667</td>\n",
       "      <td>0.666667</td>\n",
       "      <td>0.666667</td>\n",
       "      <td>0.666667</td>\n",
       "      <td>0.666667</td>\n",
       "    </tr>\n",
       "    <tr>\n",
       "      <th>RBF SVM</th>\n",
       "      <td>0.718609</td>\n",
       "      <td>0.666667</td>\n",
       "      <td>0.666667</td>\n",
       "      <td>0.666667</td>\n",
       "      <td>0.666667</td>\n",
       "      <td>0.666667</td>\n",
       "    </tr>\n",
       "    <tr>\n",
       "      <th>Decision Tree</th>\n",
       "      <td>1.000000</td>\n",
       "      <td>0.604964</td>\n",
       "      <td>0.620815</td>\n",
       "      <td>0.579430</td>\n",
       "      <td>0.504584</td>\n",
       "      <td>0.666667</td>\n",
       "    </tr>\n",
       "    <tr>\n",
       "      <th>Random Forest</th>\n",
       "      <td>0.680053</td>\n",
       "      <td>0.667060</td>\n",
       "      <td>0.519057</td>\n",
       "      <td>0.604630</td>\n",
       "      <td>0.166667</td>\n",
       "      <td>0.666667</td>\n",
       "    </tr>\n",
       "    <tr>\n",
       "      <th>Neural Net</th>\n",
       "      <td>1.000000</td>\n",
       "      <td>1.000000</td>\n",
       "      <td>0.846494</td>\n",
       "      <td>0.586420</td>\n",
       "      <td>0.536476</td>\n",
       "      <td>0.666667</td>\n",
       "    </tr>\n",
       "    <tr>\n",
       "      <th>AdaBoost</th>\n",
       "      <td>1.000000</td>\n",
       "      <td>0.666667</td>\n",
       "      <td>0.244586</td>\n",
       "      <td>0.403086</td>\n",
       "      <td>0.499380</td>\n",
       "      <td>0.666667</td>\n",
       "    </tr>\n",
       "    <tr>\n",
       "      <th>Naive Bayes</th>\n",
       "      <td>1.000000</td>\n",
       "      <td>0.378679</td>\n",
       "      <td>0.353102</td>\n",
       "      <td>0.453422</td>\n",
       "      <td>0.481217</td>\n",
       "      <td>0.666667</td>\n",
       "    </tr>\n",
       "    <tr>\n",
       "      <th>QDA</th>\n",
       "      <td>0.949350</td>\n",
       "      <td>0.965943</td>\n",
       "      <td>0.867053</td>\n",
       "      <td>0.588577</td>\n",
       "      <td>0.666667</td>\n",
       "      <td>0.680077</td>\n",
       "    </tr>\n",
       "  </tbody>\n",
       "</table>\n",
       "</div>"
      ],
      "text/plain": [
       "                   Identify  Reflexivity     Train  Symmetry  Transitivity  \\\n",
       "Nearest Neighbors  0.926833     0.998284  0.935770  0.458250      0.529887   \n",
       "Linear SVM         1.000000     0.666667  0.666667  0.666667      0.666667   \n",
       "RBF SVM            0.718609     0.666667  0.666667  0.666667      0.666667   \n",
       "Decision Tree      1.000000     0.604964  0.620815  0.579430      0.504584   \n",
       "Random Forest      0.680053     0.667060  0.519057  0.604630      0.166667   \n",
       "Neural Net         1.000000     1.000000  0.846494  0.586420      0.536476   \n",
       "AdaBoost           1.000000     0.666667  0.244586  0.403086      0.499380   \n",
       "Naive Bayes        1.000000     0.378679  0.353102  0.453422      0.481217   \n",
       "QDA                0.949350     0.965943  0.867053  0.588577      0.666667   \n",
       "\n",
       "                   Equivalence  \n",
       "Nearest Neighbors     0.666667  \n",
       "Linear SVM            0.666667  \n",
       "RBF SVM               0.666667  \n",
       "Decision Tree         0.666667  \n",
       "Random Forest         0.666667  \n",
       "Neural Net            0.666667  \n",
       "AdaBoost              0.666667  \n",
       "Naive Bayes           0.666667  \n",
       "QDA                   0.680077  "
      ]
     },
     "execution_count": 42,
     "metadata": {},
     "output_type": "execute_result"
    }
   ],
   "source": [
    "pd.DataFrame(np.column_stack([avg_scores,avg_scores_reflexivity,avg_scores_train,avg_scores_symmetry,avg_scores_transitivity,avg_scores_equivalence]),index=names, columns=[\"Identify\", \"Reflexivity\", \"Train\", \"Symmetry\",\"Transitivity\",\"Equivalence\"])"
   ]
  }
 ],
 "metadata": {
  "kernelspec": {
   "display_name": "Python [default]",
   "language": "python",
   "name": "python2"
  },
  "language_info": {
   "codemirror_mode": {
    "name": "ipython",
    "version": 2
   },
   "file_extension": ".py",
   "mimetype": "text/x-python",
   "name": "python",
   "nbconvert_exporter": "python",
   "pygments_lexer": "ipython2",
   "version": "2.7.13"
  }
 },
 "nbformat": 4,
 "nbformat_minor": 2
}
