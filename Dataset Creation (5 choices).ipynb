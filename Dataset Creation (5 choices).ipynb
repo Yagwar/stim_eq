{
 "cells": [
  {
   "cell_type": "markdown",
   "metadata": {
    "collapsed": true
   },
   "source": [
    "# EQUIVALENCE CLASS:\n",
    "A stimulus class (usually produced through conditional discrimination in matching-to-sample) that includes all possible emergent relations among its members. The properties of an equivalence class are derived from the logical relations of reflexivity, symmetry, and transitivity. **Reflexivity** *refers to the matching of a sample to itself*, sometimes called identity matching (AA, BB, CC, in these examples, each letter pair represents a sample and its matching comparison stimulus). **Symmetry** *refers to the reversibility of a relation (if AB, then BA)*. **Transitivity** *refers to the transfer of the relation to new combinations through shared membership (if AB and BC, then AC)*. \n",
    "If these properties are characteristics of a matching to-sample performance, then training AB and BC may produce AC, BA, CA, and CB as emergent relations (reflexivity provides the three other possible relations, AA, BB, and CC). Given AB and BC, for example, the combination of symmetry and transitivity implies the CA relation. The emergence of all possible stimulus relations after only AB and BC are trained through contingencies is the criterion for calling the three stimuli members of an equivalence class. The class can be extended by training new stimulus relations (e.g., if CD is learned, then AD, DA, BD, DB, and DC may be created as emergent relations). Stimuli that are members of an equivalence class are likely also to be functionally equivalent. It remains to be seen whether the logical properties of these classes are fully consistent with their behavioral ones. Cf. ** EQUIVALENCE RELATION**. ([source](http://www.scienceofbehavior.com/lms/mod/glossary/view.php?id=408&mode=letter&hook=E&sortkey=CREATION&sortorder=asc&fullsearch=0&page=3))\n"
   ]
  },
  {
   "cell_type": "markdown",
   "metadata": {},
   "source": [
    "# Libraries"
   ]
  },
  {
   "cell_type": "code",
   "execution_count": 1,
   "metadata": {
    "collapsed": true
   },
   "outputs": [],
   "source": [
    "import numpy as np\n",
    "import pandas as pd\n",
    "import random\n",
    "import matplotlib.pyplot as plt\n",
    "\n",
    "%matplotlib inline\n",
    "plt.style.use('seaborn')"
   ]
  },
  {
   "cell_type": "code",
   "execution_count": 2,
   "metadata": {
    "collapsed": true
   },
   "outputs": [],
   "source": [
    "def view_trial(trial_labels,trial_values,trial_ans, n_trial):\n",
    "    print (n_trial,len(trial_labels))\n",
    "    print (np.array(trial_values[n_trial]).reshape((6,3,6)))\n",
    "    print (trial_labels[n_trial])\n",
    "    print (trial_ans[n_trial])\n",
    "\n",
    "def create_trials(stims,pair):\n",
    "    #Take a set of stimuli and a set of pairs, then find the mode (letter) of the comparatosr and combines them.\n",
    "    filt_tr=[pair[1][0]==stim[0] for stim in stims.keys()]# filter the simulus of the mode of the comparator\n",
    "    comprs=np.array(stims.keys())[filt_tr] # Get the set of comparators\n",
    "    comprs_set_1=np.array([[p,q,r,s,t]for p in comprs for q in comprs for r in comprs for s in comprs for t in comprs])# all the combinations of the comparators\n",
    "    comprs_filt=[(np.sum(cmpr_set==pair[1])==1) for cmpr_set in comprs_set_1]#==1 for the presence of the target comparator ## <2 for target comparator and no answer.\n",
    "    comprs_set=comprs_set_1[comprs_filt]# filtered set of comparators with the sample presented just once.\n",
    "    train_labels=np.insert(comprs_set,0, pair[0], axis=1)# train labels with sample and comparators\n",
    "    train_answers=np.array([(tr_lbl==pair[1])*1 for tr_lbl in comprs_set]) # Encoded answers for the trials. \n",
    "    train_values=np.array([[stims[stml]for stml in stmls] for stmls in train_labels]).reshape(len(train_labels),(6*18))# create a list of the encoded values of the trial\n",
    "    return train_labels,train_values,train_answers\n",
    "\n",
    "def create_set(trials_pairs, stims):\n",
    "    trialset=[create_trials(stims,pair) for pair in trials_pairs]\n",
    "    labels=np.array([tr_lb for tr_pr in trialset for tr_lb in tr_pr[0]])\n",
    "    values=np.array([tr_lb for tr_pr in trialset for tr_lb in tr_pr[1]])\n",
    "    answer=np.array([tr_lb for tr_pr in trialset for tr_lb in tr_pr[2]])\n",
    "    return labels,values,answer"
   ]
  },
  {
   "cell_type": "code",
   "execution_count": 3,
   "metadata": {
    "collapsed": true
   },
   "outputs": [],
   "source": [
    "stims={\"A1\":[1,0,0,0,0,0,0,0,0,0,0,0,0,0,0,0,0,0],\n",
    "       \"A2\":[0,1,0,0,0,0,0,0,0,0,0,0,0,0,0,0,0,0],\n",
    "       \"A3\":[0,0,1,0,0,0,0,0,0,0,0,0,0,0,0,0,0,0],\n",
    "       \"A4\":[0,0,0,1,0,0,0,0,0,0,0,0,0,0,0,0,0,0],\n",
    "       \"A5\":[0,0,0,0,1,0,0,0,0,0,0,0,0,0,0,0,0,0],\n",
    "       \"A6\":[0,0,0,0,0,1,0,0,0,0,0,0,0,0,0,0,0,0],\n",
    "       \"B1\":[0,0,0,0,0,0,1,0,0,0,0,0,0,0,0,0,0,0],\n",
    "       \"B2\":[0,0,0,0,0,0,0,1,0,0,0,0,0,0,0,0,0,0],\n",
    "       \"B3\":[0,0,0,0,0,0,0,0,1,0,0,0,0,0,0,0,0,0],\n",
    "       \"B4\":[0,0,0,0,0,0,0,0,0,1,0,0,0,0,0,0,0,0],\n",
    "       \"B5\":[0,0,0,0,0,0,0,0,0,0,1,0,0,0,0,0,0,0],\n",
    "       \"B6\":[0,0,0,0,0,0,0,0,0,0,0,1,0,0,0,0,0,0],\n",
    "       \"C1\":[0,0,0,0,0,0,0,0,0,0,0,0,1,0,0,0,0,0],\n",
    "       \"C2\":[0,0,0,0,0,0,0,0,0,0,0,0,0,1,0,0,0,0],\n",
    "       \"C3\":[0,0,0,0,0,0,0,0,0,0,0,0,0,0,1,0,0,0],\n",
    "       \"C4\":[0,0,0,0,0,0,0,0,0,0,0,0,0,0,0,1,0,0],\n",
    "       \"C5\":[0,0,0,0,0,0,0,0,0,0,0,0,0,0,0,0,1,0],\n",
    "       \"C6\":[0,0,0,0,0,0,0,0,0,0,0,0,0,0,0,0,0,1]\n",
    "      }\n",
    "\n",
    "options={\"O_1\":[1,0,0,0,0],\n",
    "         \"O_2\":[0,1,0,0,0],\n",
    "         \"O_3\":[0,0,1,0,0],\n",
    "         \"O_4\":[0,0,0,1,0],\n",
    "         \"O_5\":[0,0,0,0,1],\n",
    "         \"O_0\":[0,0,0,0,0],\n",
    "        }"
   ]
  },
  {
   "cell_type": "markdown",
   "metadata": {},
   "source": [
    "# Trainning \n",
    "### Relation $A_{n}-B_{n}$ and $B_{n}-C_{n}$"
   ]
  },
  {
   "cell_type": "code",
   "execution_count": 4,
   "metadata": {
    "collapsed": true
   },
   "outputs": [],
   "source": [
    "train_pairs=np.array([[\"A1\",\"B1\"],[\"B1\",\"C1\"],\n",
    "                      [\"A2\",\"B2\"],[\"B2\",\"C2\"],\n",
    "                      [\"A3\",\"B3\"],[\"B3\",\"C3\"],\n",
    "                      [\"A4\",\"B4\"],[\"B4\",\"C4\"],\n",
    "                      [\"A5\",\"B5\"],[\"B5\",\"C5\"],\n",
    "                      [\"A6\",\"B6\"],[\"B6\",\"C6\"]\n",
    "                     ])"
   ]
  },
  {
   "cell_type": "code",
   "execution_count": 5,
   "metadata": {
    "collapsed": true
   },
   "outputs": [],
   "source": [
    "train_labels,train_values,train_answer=create_set(train_pairs, stims)"
   ]
  },
  {
   "cell_type": "code",
   "execution_count": 6,
   "metadata": {},
   "outputs": [],
   "source": [
    "pd.DataFrame(train_labels, columns=[\"Sample\",\n",
    "                                    \"Comparator_1\",\n",
    "                                    \"Comparator_2\",\n",
    "                                    \"Comparator_3\",\n",
    "                                    \"Comparator_4\",\n",
    "                                    \"Comparator_5\"]).to_csv('train_labels.csv',index=False)#train_labels\n",
    "pd.DataFrame(train_values).to_csv('train_values.csv',index=False)#train_values\n",
    "pd.DataFrame(train_answer,columns=[\"Choice_1\",\n",
    "                        \"Choice_2\",\n",
    "                        \"Choice_3\",\n",
    "                        \"Choice_4\",\n",
    "                        \"Choice_5\"]).to_csv('train_answer.csv',index=False)#train_answer"
   ]
  },
  {
   "cell_type": "code",
   "execution_count": 7,
   "metadata": {},
   "outputs": [
    {
     "name": "stdout",
     "output_type": "stream",
     "text": [
      "(20138, 37500)\n",
      "[[[0 0 0 1 0 0]\n",
      "  [0 0 0 0 0 0]\n",
      "  [0 0 0 0 0 0]]\n",
      "\n",
      " [[0 0 0 0 0 0]\n",
      "  [0 0 0 0 0 1]\n",
      "  [0 0 0 0 0 0]]\n",
      "\n",
      " [[0 0 0 0 0 0]\n",
      "  [0 0 0 0 0 1]\n",
      "  [0 0 0 0 0 0]]\n",
      "\n",
      " [[0 0 0 0 0 0]\n",
      "  [0 1 0 0 0 0]\n",
      "  [0 0 0 0 0 0]]\n",
      "\n",
      " [[0 0 0 0 0 0]\n",
      "  [0 1 0 0 0 0]\n",
      "  [0 0 0 0 0 0]]\n",
      "\n",
      " [[0 0 0 0 0 0]\n",
      "  [0 0 0 1 0 0]\n",
      "  [0 0 0 0 0 0]]]\n",
      "['A4' 'B6' 'B6' 'B2' 'B2' 'B4']\n",
      "[0 0 0 0 1]\n"
     ]
    }
   ],
   "source": [
    "view_trial(train_labels,train_values,train_answer,random.randrange(len(train_labels)))"
   ]
  },
  {
   "cell_type": "markdown",
   "metadata": {},
   "source": [
    "# Reflexivity evaluation\n",
    "\n",
    "### Given the sample stimulus $A_{n}$ the agent must select $A_{n}$ among the comparator stimuli"
   ]
  },
  {
   "cell_type": "code",
   "execution_count": 8,
   "metadata": {
    "collapsed": true
   },
   "outputs": [],
   "source": [
    "reflexiv_pairs=np.array([[stm,stm]for stm in stims])\n",
    "reflexivity_labels, reflexivity_values, reflexivity_answer =create_set(reflexiv_pairs, stims)"
   ]
  },
  {
   "cell_type": "code",
   "execution_count": 9,
   "metadata": {
    "collapsed": true
   },
   "outputs": [],
   "source": [
    "pd.DataFrame(reflexivity_labels, columns=[\"Sample\",\n",
    "                                    \"Comparator_1\",\n",
    "                                    \"Comparator_2\",\n",
    "                                    \"Comparator_3\",\n",
    "                                    \"Comparator_4\",\n",
    "                                    \"Comparator_5\"]).to_csv('reflexivity_labels.csv',index=False)#reflexivity_labels\n",
    "pd.DataFrame(reflexivity_values).to_csv('reflexivity_values.csv',index=False)#reflexivity_values\n",
    "pd.DataFrame(reflexivity_answer,columns=[\"Choice_1\",\n",
    "                        \"Choice_2\",\n",
    "                        \"Choice_3\",\n",
    "                        \"Choice_4\",\n",
    "                        \"Choice_5\"]).to_csv('reflexivity_answer.csv',index=False)#reflexivity_answer"
   ]
  },
  {
   "cell_type": "code",
   "execution_count": 10,
   "metadata": {},
   "outputs": [
    {
     "name": "stdout",
     "output_type": "stream",
     "text": [
      "(10474, 56250)\n",
      "[[[1 0 0 0 0 0]\n",
      "  [0 0 0 0 0 0]\n",
      "  [0 0 0 0 0 0]]\n",
      "\n",
      " [[0 0 1 0 0 0]\n",
      "  [0 0 0 0 0 0]\n",
      "  [0 0 0 0 0 0]]\n",
      "\n",
      " [[0 0 0 0 0 1]\n",
      "  [0 0 0 0 0 0]\n",
      "  [0 0 0 0 0 0]]\n",
      "\n",
      " [[0 0 0 0 1 0]\n",
      "  [0 0 0 0 0 0]\n",
      "  [0 0 0 0 0 0]]\n",
      "\n",
      " [[1 0 0 0 0 0]\n",
      "  [0 0 0 0 0 0]\n",
      "  [0 0 0 0 0 0]]\n",
      "\n",
      " [[0 0 0 0 0 1]\n",
      "  [0 0 0 0 0 0]\n",
      "  [0 0 0 0 0 0]]]\n",
      "['A1' 'A3' 'A6' 'A5' 'A1' 'A6']\n",
      "[0 0 0 1 0]\n"
     ]
    }
   ],
   "source": [
    "view_trial(reflexivity_labels,reflexivity_values,reflexivity_answer,random.randrange(len(reflexivity_labels)))"
   ]
  },
  {
   "cell_type": "markdown",
   "metadata": {},
   "source": [
    "# Symmetry evaluation\n",
    "### Given the trainning pairs, the agent must select the comparator $A_{n}$ in presence of the sample $B_{n}$  and the comparator $B_{n}$ in presence of the sample $C_{n}$ "
   ]
  },
  {
   "cell_type": "code",
   "execution_count": 11,
   "metadata": {
    "collapsed": true
   },
   "outputs": [],
   "source": [
    "symmetry_pairs=np.array([[tr_pr[1],tr_pr[0]]for tr_pr in train_pairs])\n",
    "symmetry_labels, symmetry_values, symmetry_answer =create_set(symmetry_pairs, stims)"
   ]
  },
  {
   "cell_type": "code",
   "execution_count": 12,
   "metadata": {
    "collapsed": true
   },
   "outputs": [],
   "source": [
    "pd.DataFrame(symmetry_labels, columns=[\"Sample\",\n",
    "                                    \"Comparator_1\",\n",
    "                                    \"Comparator_2\",\n",
    "                                    \"Comparator_3\",\n",
    "                                    \"Comparator_4\",\n",
    "                                    \"Comparator_5\"]).to_csv('symmetry_labels.csv',index=False)#symmetry_labels\n",
    "pd.DataFrame(symmetry_values).to_csv('symmetry_values.csv',index=False)#symmetry_values\n",
    "pd.DataFrame(symmetry_answer,columns=[\"Choice_1\",\n",
    "                        \"Choice_2\",\n",
    "                        \"Choice_3\",\n",
    "                        \"Choice_4\",\n",
    "                        \"Choice_5\"]).to_csv('symmetry_answer.csv',index=False)#symmetry_answer"
   ]
  },
  {
   "cell_type": "code",
   "execution_count": 13,
   "metadata": {},
   "outputs": [
    {
     "name": "stdout",
     "output_type": "stream",
     "text": [
      "(16456, 37500)\n",
      "[[[0 0 0 0 0 0]\n",
      "  [0 0 0 0 0 0]\n",
      "  [0 0 1 0 0 0]]\n",
      "\n",
      " [[0 0 0 0 0 0]\n",
      "  [0 0 1 0 0 0]\n",
      "  [0 0 0 0 0 0]]\n",
      "\n",
      " [[0 0 0 0 0 0]\n",
      "  [0 0 0 0 1 0]\n",
      "  [0 0 0 0 0 0]]\n",
      "\n",
      " [[0 0 0 0 0 0]\n",
      "  [0 1 0 0 0 0]\n",
      "  [0 0 0 0 0 0]]\n",
      "\n",
      " [[0 0 0 0 0 0]\n",
      "  [0 0 0 0 0 1]\n",
      "  [0 0 0 0 0 0]]\n",
      "\n",
      " [[0 0 0 0 0 0]\n",
      "  [0 0 0 0 0 1]\n",
      "  [0 0 0 0 0 0]]]\n",
      "['C3' 'B3' 'B5' 'B2' 'B6' 'B6']\n",
      "[1 0 0 0 0]\n"
     ]
    }
   ],
   "source": [
    "view_trial(symmetry_labels,symmetry_values,symmetry_answer,random.randrange(len(symmetry_labels)))"
   ]
  },
  {
   "cell_type": "markdown",
   "metadata": {},
   "source": [
    "# Transitivity\n",
    "### Given the trainning pairs, the agent must select the comparator $C_{n}$ in presence of the sample $A_{n}$"
   ]
  },
  {
   "cell_type": "code",
   "execution_count": 14,
   "metadata": {
    "collapsed": true
   },
   "outputs": [],
   "source": [
    "transitivity_pairs=np.array([[\"A1\",\"C1\"],\n",
    "                             [\"A2\",\"C2\"],\n",
    "                             [\"A3\",\"C3\"],\n",
    "                             [\"A4\",\"C4\"],\n",
    "                             [\"A5\",\"C5\"],\n",
    "                             [\"A6\",\"C6\"]\n",
    "                            ])"
   ]
  },
  {
   "cell_type": "code",
   "execution_count": 15,
   "metadata": {
    "collapsed": true
   },
   "outputs": [],
   "source": [
    "transitivity_labels, transitivity_values, transitivity_answer =create_set(transitivity_pairs, stims)"
   ]
  },
  {
   "cell_type": "code",
   "execution_count": 16,
   "metadata": {
    "collapsed": true
   },
   "outputs": [],
   "source": [
    "pd.DataFrame(transitivity_labels, columns=[\"Sample\",\n",
    "                                    \"Comparator_1\",\n",
    "                                    \"Comparator_2\",\n",
    "                                    \"Comparator_3\",\n",
    "                                    \"Comparator_4\",\n",
    "                                    \"Comparator_5\"]).to_csv('transitivity_labels.csv',index=False)#transitivity_labels\n",
    "pd.DataFrame(transitivity_values).to_csv('transitivity_values.csv',index=False)#transitivity_values\n",
    "pd.DataFrame(transitivity_answer,columns=[\"Choice_1\",\n",
    "                        \"Choice_2\",\n",
    "                        \"Choice_3\",\n",
    "                        \"Choice_4\",\n",
    "                        \"Choice_5\"]).to_csv('transitivity_answer.csv',index=False)#transitivity_answer"
   ]
  },
  {
   "cell_type": "code",
   "execution_count": 17,
   "metadata": {},
   "outputs": [
    {
     "name": "stdout",
     "output_type": "stream",
     "text": [
      "(3287, 18750)\n",
      "[[[0 1 0 0 0 0]\n",
      "  [0 0 0 0 0 0]\n",
      "  [0 0 0 0 0 0]]\n",
      "\n",
      " [[0 0 0 0 0 0]\n",
      "  [0 0 0 0 0 0]\n",
      "  [0 0 1 0 0 0]]\n",
      "\n",
      " [[0 0 0 0 0 0]\n",
      "  [0 0 0 0 0 0]\n",
      "  [0 1 0 0 0 0]]\n",
      "\n",
      " [[0 0 0 0 0 0]\n",
      "  [0 0 0 0 0 0]\n",
      "  [0 0 0 0 0 1]]\n",
      "\n",
      " [[0 0 0 0 0 0]\n",
      "  [0 0 0 0 0 0]\n",
      "  [0 0 0 1 0 0]]\n",
      "\n",
      " [[0 0 0 0 0 0]\n",
      "  [0 0 0 0 0 0]\n",
      "  [0 0 0 1 0 0]]]\n",
      "['A2' 'C3' 'C2' 'C6' 'C4' 'C4']\n",
      "[0 1 0 0 0]\n"
     ]
    }
   ],
   "source": [
    "view_trial(transitivity_labels,transitivity_values,transitivity_answer,random.randrange(len(transitivity_labels)))"
   ]
  },
  {
   "cell_type": "markdown",
   "metadata": {},
   "source": [
    "# Equivalence\n",
    "### Given the trainning pairs, the agent must select the comparator $A_{n}$ in presence of the sample $C_{n}$"
   ]
  },
  {
   "cell_type": "code",
   "execution_count": 18,
   "metadata": {},
   "outputs": [],
   "source": [
    "equivalence_pairs=np.array([[tr_pr[1],tr_pr[0]]for tr_pr in transitivity_pairs])"
   ]
  },
  {
   "cell_type": "code",
   "execution_count": 19,
   "metadata": {
    "collapsed": true
   },
   "outputs": [],
   "source": [
    "equivalence_labels, equivalence_values, equivalence_answer =create_set(equivalence_pairs, stims)"
   ]
  },
  {
   "cell_type": "code",
   "execution_count": 20,
   "metadata": {
    "collapsed": true
   },
   "outputs": [],
   "source": [
    "pd.DataFrame(equivalence_labels, columns=[\"Sample\",\n",
    "                                    \"Comparator_1\",\n",
    "                                    \"Comparator_2\",\n",
    "                                    \"Comparator_3\",\n",
    "                                    \"Comparator_4\",\n",
    "                                    \"Comparator_5\"]).to_csv('equivalence_labels.csv',index=False)#equivalence_labels\n",
    "pd.DataFrame(equivalence_values).to_csv('equivalence_values.csv',index=False)#equivalence_values\n",
    "pd.DataFrame(equivalence_answer,columns=[\"Choice_1\",\n",
    "                        \"Choice_2\",\n",
    "                        \"Choice_3\",\n",
    "                        \"Choice_4\",\n",
    "                        \"Choice_5\"]).to_csv('equivalence_answer.csv',index=False)#equivalence_answer"
   ]
  },
  {
   "cell_type": "code",
   "execution_count": 21,
   "metadata": {},
   "outputs": [
    {
     "name": "stdout",
     "output_type": "stream",
     "text": [
      "(16458, 18750)\n",
      "[[[0 0 0 0 0 0]\n",
      "  [0 0 0 0 0 0]\n",
      "  [0 0 0 0 0 1]]\n",
      "\n",
      " [[0 0 1 0 0 0]\n",
      "  [0 0 0 0 0 0]\n",
      "  [0 0 0 0 0 0]]\n",
      "\n",
      " [[0 0 0 1 0 0]\n",
      "  [0 0 0 0 0 0]\n",
      "  [0 0 0 0 0 0]]\n",
      "\n",
      " [[0 0 0 0 1 0]\n",
      "  [0 0 0 0 0 0]\n",
      "  [0 0 0 0 0 0]]\n",
      "\n",
      " [[0 0 0 0 1 0]\n",
      "  [0 0 0 0 0 0]\n",
      "  [0 0 0 0 0 0]]\n",
      "\n",
      " [[0 0 0 0 0 1]\n",
      "  [0 0 0 0 0 0]\n",
      "  [0 0 0 0 0 0]]]\n",
      "['C6' 'A3' 'A4' 'A5' 'A5' 'A6']\n",
      "[0 0 0 0 1]\n"
     ]
    }
   ],
   "source": [
    "view_trial(equivalence_labels,equivalence_values,equivalence_answer,random.randrange(len(equivalence_labels)))"
   ]
  },
  {
   "cell_type": "code",
   "execution_count": null,
   "metadata": {
    "collapsed": true
   },
   "outputs": [],
   "source": []
  }
 ],
 "metadata": {
  "kernelspec": {
   "display_name": "Python [default]",
   "language": "python",
   "name": "python2"
  },
  "language_info": {
   "codemirror_mode": {
    "name": "ipython",
    "version": 2
   },
   "file_extension": ".py",
   "mimetype": "text/x-python",
   "name": "python",
   "nbconvert_exporter": "python",
   "pygments_lexer": "ipython2",
   "version": "2.7.13"
  }
 },
 "nbformat": 4,
 "nbformat_minor": 2
}
