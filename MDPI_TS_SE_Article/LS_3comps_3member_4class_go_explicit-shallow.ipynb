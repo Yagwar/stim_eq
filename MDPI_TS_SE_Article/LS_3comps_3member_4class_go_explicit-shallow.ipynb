{
 "cells": [
  {
   "cell_type": "markdown",
   "metadata": {},
   "source": [
    "# EQUIVALENCE CLASS:\n",
    "A stimulus class (usually produced through conditional discrimination in matching-to-sample) that includes all possible emergent relations among its members. The properties of an equivalence class are derived from the logical relations of reflexivity, symmetry, and transitivity. **Reflexivity** *refers to the matching of a sample to itself*, sometimes called identity matching (AA, BB, CC, in these examples, each letter pair represents a sample and its matching comparison stimulus). **Symmetry** *refers to the reversibility of a relation (if AB, then BA)*. **Transitivity** *refers to the transfer of the relation to new combinations through shared membership (if AB and BC, then AC)*. \n",
    "If these properties are characteristics of a matching to-sample performance, then training AB and BC may produce AC, BA, CA, and CB as emergent relations (reflexivity provides the three other possible relations, AA, BB, and CC). Given AB and BC, for example, the combination of symmetry and transitivity implies the CA relation. The emergence of all possible stimulus relations after only AB and BC are trained through contingencies is the criterion for calling the three stimuli members of an equivalence class. The class can be extended by training new stimulus relations (e.g., if CD is learned, then AD, DA, BD, DB, and DC may be created as emergent relations). Stimuli that are members of an equivalence class are likely also to be functionally equivalent. It remains to be seen whether the logical properties of these classes are fully consistent with their behavioral ones. Cf. **EQUIVALENCE RELATION**. ([source](http://www.scienceofbehavior.com/lms/mod/glossary/view.php?id=408&mode=letter&hook=E&sortkey=CREATION&sortorder=asc&fullsearch=0&page=3))\n"
   ]
  },
  {
   "cell_type": "markdown",
   "metadata": {},
   "source": [
    "# Libraries"
   ]
  },
  {
   "cell_type": "code",
   "execution_count": 1,
   "metadata": {},
   "outputs": [],
   "source": [
    "import sys\n",
    "import numpy as np\n",
    "import pandas as pd\n",
    "import random\n",
    "import matplotlib.pyplot as plt\n",
    "import seaborn as sns\n",
    "from time import localtime, strftime\n",
    "\n",
    "%matplotlib inline\n",
    "plt.style.use('seaborn')\n",
    "\n",
    "### Clasifiers dependences\n",
    "from sklearn.utils import shuffle\n",
    "from matplotlib.colors import ListedColormap\n",
    "from sklearn.model_selection import train_test_split\n",
    "from sklearn.neural_network import MLPClassifier\n",
    "from sklearn.neighbors import KNeighborsClassifier\n",
    "from sklearn.svm import SVC\n",
    "from sklearn.gaussian_process import GaussianProcessClassifier\n",
    "from sklearn.gaussian_process.kernels import RBF\n",
    "from sklearn.tree import DecisionTreeClassifier\n",
    "from sklearn.ensemble import RandomForestClassifier, AdaBoostClassifier\n",
    "from sklearn.naive_bayes import GaussianNB\n",
    "from sklearn.discriminant_analysis import QuadraticDiscriminantAnalysis\n",
    "\n",
    "from sklearn.multiclass import OneVsRestClassifier\n",
    "from sklearn.metrics import average_precision_score\n",
    "from sklearn.metrics import f1_score"
   ]
  },
  {
   "cell_type": "code",
   "execution_count": 2,
   "metadata": {},
   "outputs": [
    {
     "name": "stdout",
     "output_type": "stream",
     "text": [
      "Python 3.7.12 | packaged by conda-forge | (default, Oct 26 2021, 05:37:49) [MSC v.1916 64 bit (AMD64)]\n"
     ]
    }
   ],
   "source": [
    "print(\"Python\", sys.version)"
   ]
  },
  {
   "cell_type": "code",
   "execution_count": 3,
   "metadata": {},
   "outputs": [
    {
     "name": "stdout",
     "output_type": "stream",
     "text": [
      "\n",
      "     active environment : sociadisticas\n",
      "    active env location : C:\\Users\\Alexis\\.conda\\envs\\sociadisticas\n",
      "            shell level : 2\n",
      "       user config file : C:\\Users\\Alexis\\.condarc\n",
      " populated config files : C:\\Users\\Alexis\\.condarc\n",
      "          conda version : 4.14.0\n",
      "    conda-build version : 3.22.0\n",
      "         python version : 3.7.12.final.0\n",
      "       virtual packages : __cuda=11.7=0\n",
      "                          __win=0=0\n",
      "                          __archspec=1=x86_64\n",
      "       base environment : C:\\ProgramData\\Anaconda3  (writable)\n",
      "      conda av data dir : C:\\ProgramData\\Anaconda3\\etc\\conda\n",
      "  conda av metadata url : None\n",
      "           channel URLs : https://conda.anaconda.org/conda-forge/win-64\n",
      "                          https://conda.anaconda.org/conda-forge/noarch\n",
      "                          https://repo.anaconda.com/pkgs/main/win-64\n",
      "                          https://repo.anaconda.com/pkgs/main/noarch\n",
      "                          https://repo.anaconda.com/pkgs/r/win-64\n",
      "                          https://repo.anaconda.com/pkgs/r/noarch\n",
      "                          https://repo.anaconda.com/pkgs/msys2/win-64\n",
      "                          https://repo.anaconda.com/pkgs/msys2/noarch\n",
      "          package cache : C:\\ProgramData\\Anaconda3\\pkgs\n",
      "                          C:\\Users\\Alexis\\.conda\\pkgs\n",
      "                          C:\\Users\\Alexis\\AppData\\Local\\conda\\conda\\pkgs\n",
      "       envs directories : C:\\ProgramData\\Anaconda3\\envs\n",
      "                          C:\\Users\\Alexis\\.conda\\envs\n",
      "                          C:\\Users\\Alexis\\AppData\\Local\\conda\\conda\\envs\n",
      "               platform : win-64\n",
      "             user-agent : conda/4.14.0 requests/2.28.1 CPython/3.7.12 Windows/10 Windows/10.0.19041\n",
      "          administrator : True\n",
      "             netrc file : None\n",
      "           offline mode : False\n",
      "\n"
     ]
    }
   ],
   "source": [
    "!conda info"
   ]
  },
  {
   "cell_type": "code",
   "execution_count": 4,
   "metadata": {},
   "outputs": [],
   "source": [
    "def get_trials_subset(trials_info_df, trial_subset_name, array_embeddings_trials, array_answers_trials):\n",
    "    # No-go Trials can not be filtered with this...\n",
    "    element = array_embeddings_trials[:,0]\n",
    "    test_elements = list(trials_info_df.index[((trials_info_df[[\"sample_c1_subset\",\"sample_c2_subset\",\"sample_c3_subset\"]]==trial_subset_name).sum(axis=1)>0)])\n",
    "    mask = np.isin(element, test_elements)\n",
    "    values_subset= array_embeddings_trials[mask][:,1:]\n",
    "    answers_subset=array_answers_trials[mask][:,1:]\n",
    "    info_subset=trials_info_df.loc[test_elements,:]\n",
    "    return values_subset,answers_subset,info_subset\n",
    "\n",
    "def view_trial(trials_info_df,trial_values,trial_ans, n_trial, n_stimuli=4, n_modes=3, n_classes=5):\n",
    "    print (trials_info_df.iloc[n_trial,:])\n",
    "    print (np.array(trial_values[n_trial]).reshape((n_stimuli,n_modes,n_classes)))\n",
    "    print (trial_ans[n_trial])"
   ]
  },
  {
   "cell_type": "code",
   "execution_count": 5,
   "metadata": {},
   "outputs": [],
   "source": [
    "plt.style.use('apa')"
   ]
  },
  {
   "cell_type": "markdown",
   "metadata": {},
   "source": [
    "# Stimuli subsets"
   ]
  },
  {
   "cell_type": "markdown",
   "metadata": {},
   "source": [
    "## Trainning \n",
    "### Relation $A_{n}-B_{n}$ and $B_{n}-C_{n}$"
   ]
  },
  {
   "cell_type": "code",
   "execution_count": 6,
   "metadata": {},
   "outputs": [],
   "source": [
    "train_pairs=np.array([[\"A1\",\"B1\"],[\"B1\",\"C1\"],\n",
    "                      [\"A2\",\"B2\"],[\"B2\",\"C2\"],\n",
    "                      [\"A3\",\"B3\"],[\"B3\",\"C3\"],\n",
    "                      [\"A4\",\"B4\"],[\"B4\",\"C4\"]#,\n",
    "#                       [\"A5\",\"B5\"],[\"B5\",\"C5\"],\n",
    "#                       [\"A6\",\"B6\"],[\"B6\",\"C6\"]\n",
    "                     ])\n",
    "explicit_train_pairs=np.array([[\"TX\",\"TY\"],[\"TY\",\"TZ\"], # Pairs for Explicit Training\n",
    "                               [\"TX\",\"TZ\"], # Transitivity trainning\n",
    "                               [\"TZ\",\"TX\"], # Equivalence  trainning\n",
    "                               [\"TX\",\"TX\"],[\"TY\",\"TY\"],[\"TZ\",\"TZ\"], # Reflexivity trainning\n",
    "                               [\"TY\",\"TX\"],[\"TZ\",\"TY\"]# Symmetry trainning\n",
    "                              ])"
   ]
  },
  {
   "cell_type": "markdown",
   "metadata": {},
   "source": [
    "## Reflexivity evaluation\n",
    "\n",
    "### Given the sample stimulus $A_{n}$ the agent must select $A_{n}$ among the comparator stimuli"
   ]
  },
  {
   "cell_type": "code",
   "execution_count": 7,
   "metadata": {},
   "outputs": [
    {
     "data": {
      "text/plain": [
       "array([['A1', 'A1'],\n",
       "       ['A2', 'A2'],\n",
       "       ['A3', 'A3'],\n",
       "       ['A4', 'A4'],\n",
       "       ['B1', 'B1'],\n",
       "       ['B2', 'B2'],\n",
       "       ['B3', 'B3'],\n",
       "       ['B4', 'B4'],\n",
       "       ['C1', 'C1'],\n",
       "       ['C2', 'C2'],\n",
       "       ['C3', 'C3'],\n",
       "       ['C4', 'C4']], dtype='<U2')"
      ]
     },
     "execution_count": 7,
     "metadata": {},
     "output_type": "execute_result"
    }
   ],
   "source": [
    "reflexiv_pairs=np.array([[stm,stm]for stm in [let+str(num) for let in [\"A\",\"B\",\"C\"] for num in range(1,5)]])\n",
    "reflexiv_pairs"
   ]
  },
  {
   "cell_type": "markdown",
   "metadata": {},
   "source": [
    "## Symmetry evaluation\n",
    "### Given the trainning pairs, the agent must select the comparator $A_{n}$ in presence of the sample $B_{n}$  and the comparator $B_{n}$ in presence of the sample $C_{n}$ "
   ]
  },
  {
   "cell_type": "code",
   "execution_count": 8,
   "metadata": {},
   "outputs": [
    {
     "data": {
      "text/plain": [
       "array([['B1', 'A1'],\n",
       "       ['C1', 'B1'],\n",
       "       ['B2', 'A2'],\n",
       "       ['C2', 'B2'],\n",
       "       ['B3', 'A3'],\n",
       "       ['C3', 'B3'],\n",
       "       ['B4', 'A4'],\n",
       "       ['C4', 'B4']], dtype='<U2')"
      ]
     },
     "execution_count": 8,
     "metadata": {},
     "output_type": "execute_result"
    }
   ],
   "source": [
    "symmetry_pairs=np.array([[tr_pr[1],tr_pr[0]]for tr_pr in train_pairs])\n",
    "symmetry_pairs"
   ]
  },
  {
   "cell_type": "markdown",
   "metadata": {},
   "source": [
    "## Transitivity\n",
    "### Given the trainning pairs, the agent must select the comparator $C_{n}$ in presence of the sample $A_{n}$"
   ]
  },
  {
   "cell_type": "code",
   "execution_count": 9,
   "metadata": {},
   "outputs": [],
   "source": [
    "transitivity_pairs=np.array([[\"A1\",\"C1\"],\n",
    "                             [\"A2\",\"C2\"],\n",
    "                             [\"A3\",\"C3\"],\n",
    "                             [\"A4\",\"C4\"]#,\n",
    "#                              [\"A5\",\"C5\"],\n",
    "#                              [\"A6\",\"C6\"]\n",
    "                            ])"
   ]
  },
  {
   "cell_type": "markdown",
   "metadata": {},
   "source": [
    "## Equivalence\n",
    "### Given the trainning pairs, the agent must select the comparator $A_{n}$ in presence of the sample $C_{n}$"
   ]
  },
  {
   "cell_type": "code",
   "execution_count": 10,
   "metadata": {},
   "outputs": [
    {
     "data": {
      "text/plain": [
       "array([['C1', 'A1'],\n",
       "       ['C2', 'A2'],\n",
       "       ['C3', 'A3'],\n",
       "       ['C4', 'A4']], dtype='<U2')"
      ]
     },
     "execution_count": 10,
     "metadata": {},
     "output_type": "execute_result"
    }
   ],
   "source": [
    "equivalence_pairs=np.array([[tr_pr[1],tr_pr[0]]for tr_pr in transitivity_pairs])\n",
    "equivalence_pairs"
   ]
  },
  {
   "cell_type": "code",
   "execution_count": 11,
   "metadata": {},
   "outputs": [],
   "source": [
    "train_df=pd.DataFrame(train_pairs, columns=[\"st_sample\", \"st_comparison\"])\n",
    "train_df[\"pair_subset\"]=\"train\"\n",
    "\n",
    "explicit_train_df=pd.DataFrame(explicit_train_pairs, columns=[\"st_sample\", \"st_comparison\"])\n",
    "explicit_train_df[\"pair_subset\"]=\"explicit_train\"\n",
    "\n",
    "reflexivity_df=pd.DataFrame(reflexiv_pairs, columns=[\"st_sample\", \"st_comparison\"])\n",
    "reflexivity_df[\"pair_subset\"]=\"reflexivity\"\n",
    "\n",
    "symmetry_df=pd.DataFrame(symmetry_pairs, columns=[\"st_sample\", \"st_comparison\"])\n",
    "symmetry_df[\"pair_subset\"]=\"symmetry\"\n",
    "\n",
    "transitivity_df=pd.DataFrame(transitivity_pairs, columns=[\"st_sample\", \"st_comparison\"])\n",
    "transitivity_df[\"pair_subset\"]=\"transitivity\"\n",
    "\n",
    "equivalence_df=pd.DataFrame(equivalence_pairs, columns=[\"st_sample\", \"st_comparison\"])\n",
    "equivalence_df[\"pair_subset\"]=\"equivalence\"\n",
    "\n",
    "pairs_dataset=pd.concat([train_df,\n",
    "                         explicit_train_df,\n",
    "                         reflexivity_df,\n",
    "                         symmetry_df,\n",
    "                         transitivity_df,\n",
    "                         equivalence_df], \n",
    "                        ignore_index=True, sort=False)"
   ]
  },
  {
   "cell_type": "code",
   "execution_count": 12,
   "metadata": {},
   "outputs": [
    {
     "name": "stdout",
     "output_type": "stream",
     "text": [
      "(45, 3)\n"
     ]
    },
    {
     "data": {
      "text/html": [
       "<div>\n",
       "<style scoped>\n",
       "    .dataframe tbody tr th:only-of-type {\n",
       "        vertical-align: middle;\n",
       "    }\n",
       "\n",
       "    .dataframe tbody tr th {\n",
       "        vertical-align: top;\n",
       "    }\n",
       "\n",
       "    .dataframe thead th {\n",
       "        text-align: right;\n",
       "    }\n",
       "</style>\n",
       "<table border=\"1\" class=\"dataframe\">\n",
       "  <thead>\n",
       "    <tr style=\"text-align: right;\">\n",
       "      <th></th>\n",
       "      <th>st_sample</th>\n",
       "      <th>st_comparison</th>\n",
       "      <th>pair_subset</th>\n",
       "    </tr>\n",
       "  </thead>\n",
       "  <tbody>\n",
       "    <tr>\n",
       "      <th>0</th>\n",
       "      <td>A1</td>\n",
       "      <td>B1</td>\n",
       "      <td>train</td>\n",
       "    </tr>\n",
       "    <tr>\n",
       "      <th>1</th>\n",
       "      <td>B1</td>\n",
       "      <td>C1</td>\n",
       "      <td>train</td>\n",
       "    </tr>\n",
       "    <tr>\n",
       "      <th>2</th>\n",
       "      <td>A2</td>\n",
       "      <td>B2</td>\n",
       "      <td>train</td>\n",
       "    </tr>\n",
       "    <tr>\n",
       "      <th>3</th>\n",
       "      <td>B2</td>\n",
       "      <td>C2</td>\n",
       "      <td>train</td>\n",
       "    </tr>\n",
       "    <tr>\n",
       "      <th>4</th>\n",
       "      <td>A3</td>\n",
       "      <td>B3</td>\n",
       "      <td>train</td>\n",
       "    </tr>\n",
       "    <tr>\n",
       "      <th>5</th>\n",
       "      <td>B3</td>\n",
       "      <td>C3</td>\n",
       "      <td>train</td>\n",
       "    </tr>\n",
       "    <tr>\n",
       "      <th>6</th>\n",
       "      <td>A4</td>\n",
       "      <td>B4</td>\n",
       "      <td>train</td>\n",
       "    </tr>\n",
       "    <tr>\n",
       "      <th>7</th>\n",
       "      <td>B4</td>\n",
       "      <td>C4</td>\n",
       "      <td>train</td>\n",
       "    </tr>\n",
       "    <tr>\n",
       "      <th>8</th>\n",
       "      <td>TX</td>\n",
       "      <td>TY</td>\n",
       "      <td>explicit_train</td>\n",
       "    </tr>\n",
       "    <tr>\n",
       "      <th>9</th>\n",
       "      <td>TY</td>\n",
       "      <td>TZ</td>\n",
       "      <td>explicit_train</td>\n",
       "    </tr>\n",
       "    <tr>\n",
       "      <th>10</th>\n",
       "      <td>TX</td>\n",
       "      <td>TZ</td>\n",
       "      <td>explicit_train</td>\n",
       "    </tr>\n",
       "    <tr>\n",
       "      <th>11</th>\n",
       "      <td>TZ</td>\n",
       "      <td>TX</td>\n",
       "      <td>explicit_train</td>\n",
       "    </tr>\n",
       "    <tr>\n",
       "      <th>12</th>\n",
       "      <td>TX</td>\n",
       "      <td>TX</td>\n",
       "      <td>explicit_train</td>\n",
       "    </tr>\n",
       "    <tr>\n",
       "      <th>13</th>\n",
       "      <td>TY</td>\n",
       "      <td>TY</td>\n",
       "      <td>explicit_train</td>\n",
       "    </tr>\n",
       "    <tr>\n",
       "      <th>14</th>\n",
       "      <td>TZ</td>\n",
       "      <td>TZ</td>\n",
       "      <td>explicit_train</td>\n",
       "    </tr>\n",
       "    <tr>\n",
       "      <th>15</th>\n",
       "      <td>TY</td>\n",
       "      <td>TX</td>\n",
       "      <td>explicit_train</td>\n",
       "    </tr>\n",
       "    <tr>\n",
       "      <th>16</th>\n",
       "      <td>TZ</td>\n",
       "      <td>TY</td>\n",
       "      <td>explicit_train</td>\n",
       "    </tr>\n",
       "    <tr>\n",
       "      <th>17</th>\n",
       "      <td>A1</td>\n",
       "      <td>A1</td>\n",
       "      <td>reflexivity</td>\n",
       "    </tr>\n",
       "    <tr>\n",
       "      <th>18</th>\n",
       "      <td>A2</td>\n",
       "      <td>A2</td>\n",
       "      <td>reflexivity</td>\n",
       "    </tr>\n",
       "    <tr>\n",
       "      <th>19</th>\n",
       "      <td>A3</td>\n",
       "      <td>A3</td>\n",
       "      <td>reflexivity</td>\n",
       "    </tr>\n",
       "    <tr>\n",
       "      <th>20</th>\n",
       "      <td>A4</td>\n",
       "      <td>A4</td>\n",
       "      <td>reflexivity</td>\n",
       "    </tr>\n",
       "    <tr>\n",
       "      <th>21</th>\n",
       "      <td>B1</td>\n",
       "      <td>B1</td>\n",
       "      <td>reflexivity</td>\n",
       "    </tr>\n",
       "    <tr>\n",
       "      <th>22</th>\n",
       "      <td>B2</td>\n",
       "      <td>B2</td>\n",
       "      <td>reflexivity</td>\n",
       "    </tr>\n",
       "    <tr>\n",
       "      <th>23</th>\n",
       "      <td>B3</td>\n",
       "      <td>B3</td>\n",
       "      <td>reflexivity</td>\n",
       "    </tr>\n",
       "    <tr>\n",
       "      <th>24</th>\n",
       "      <td>B4</td>\n",
       "      <td>B4</td>\n",
       "      <td>reflexivity</td>\n",
       "    </tr>\n",
       "    <tr>\n",
       "      <th>25</th>\n",
       "      <td>C1</td>\n",
       "      <td>C1</td>\n",
       "      <td>reflexivity</td>\n",
       "    </tr>\n",
       "    <tr>\n",
       "      <th>26</th>\n",
       "      <td>C2</td>\n",
       "      <td>C2</td>\n",
       "      <td>reflexivity</td>\n",
       "    </tr>\n",
       "    <tr>\n",
       "      <th>27</th>\n",
       "      <td>C3</td>\n",
       "      <td>C3</td>\n",
       "      <td>reflexivity</td>\n",
       "    </tr>\n",
       "    <tr>\n",
       "      <th>28</th>\n",
       "      <td>C4</td>\n",
       "      <td>C4</td>\n",
       "      <td>reflexivity</td>\n",
       "    </tr>\n",
       "    <tr>\n",
       "      <th>29</th>\n",
       "      <td>B1</td>\n",
       "      <td>A1</td>\n",
       "      <td>symmetry</td>\n",
       "    </tr>\n",
       "    <tr>\n",
       "      <th>30</th>\n",
       "      <td>C1</td>\n",
       "      <td>B1</td>\n",
       "      <td>symmetry</td>\n",
       "    </tr>\n",
       "    <tr>\n",
       "      <th>31</th>\n",
       "      <td>B2</td>\n",
       "      <td>A2</td>\n",
       "      <td>symmetry</td>\n",
       "    </tr>\n",
       "    <tr>\n",
       "      <th>32</th>\n",
       "      <td>C2</td>\n",
       "      <td>B2</td>\n",
       "      <td>symmetry</td>\n",
       "    </tr>\n",
       "    <tr>\n",
       "      <th>33</th>\n",
       "      <td>B3</td>\n",
       "      <td>A3</td>\n",
       "      <td>symmetry</td>\n",
       "    </tr>\n",
       "    <tr>\n",
       "      <th>34</th>\n",
       "      <td>C3</td>\n",
       "      <td>B3</td>\n",
       "      <td>symmetry</td>\n",
       "    </tr>\n",
       "    <tr>\n",
       "      <th>35</th>\n",
       "      <td>B4</td>\n",
       "      <td>A4</td>\n",
       "      <td>symmetry</td>\n",
       "    </tr>\n",
       "    <tr>\n",
       "      <th>36</th>\n",
       "      <td>C4</td>\n",
       "      <td>B4</td>\n",
       "      <td>symmetry</td>\n",
       "    </tr>\n",
       "    <tr>\n",
       "      <th>37</th>\n",
       "      <td>A1</td>\n",
       "      <td>C1</td>\n",
       "      <td>transitivity</td>\n",
       "    </tr>\n",
       "    <tr>\n",
       "      <th>38</th>\n",
       "      <td>A2</td>\n",
       "      <td>C2</td>\n",
       "      <td>transitivity</td>\n",
       "    </tr>\n",
       "    <tr>\n",
       "      <th>39</th>\n",
       "      <td>A3</td>\n",
       "      <td>C3</td>\n",
       "      <td>transitivity</td>\n",
       "    </tr>\n",
       "    <tr>\n",
       "      <th>40</th>\n",
       "      <td>A4</td>\n",
       "      <td>C4</td>\n",
       "      <td>transitivity</td>\n",
       "    </tr>\n",
       "    <tr>\n",
       "      <th>41</th>\n",
       "      <td>C1</td>\n",
       "      <td>A1</td>\n",
       "      <td>equivalence</td>\n",
       "    </tr>\n",
       "    <tr>\n",
       "      <th>42</th>\n",
       "      <td>C2</td>\n",
       "      <td>A2</td>\n",
       "      <td>equivalence</td>\n",
       "    </tr>\n",
       "    <tr>\n",
       "      <th>43</th>\n",
       "      <td>C3</td>\n",
       "      <td>A3</td>\n",
       "      <td>equivalence</td>\n",
       "    </tr>\n",
       "    <tr>\n",
       "      <th>44</th>\n",
       "      <td>C4</td>\n",
       "      <td>A4</td>\n",
       "      <td>equivalence</td>\n",
       "    </tr>\n",
       "  </tbody>\n",
       "</table>\n",
       "</div>"
      ],
      "text/plain": [
       "   st_sample st_comparison     pair_subset\n",
       "0         A1            B1           train\n",
       "1         B1            C1           train\n",
       "2         A2            B2           train\n",
       "3         B2            C2           train\n",
       "4         A3            B3           train\n",
       "5         B3            C3           train\n",
       "6         A4            B4           train\n",
       "7         B4            C4           train\n",
       "8         TX            TY  explicit_train\n",
       "9         TY            TZ  explicit_train\n",
       "10        TX            TZ  explicit_train\n",
       "11        TZ            TX  explicit_train\n",
       "12        TX            TX  explicit_train\n",
       "13        TY            TY  explicit_train\n",
       "14        TZ            TZ  explicit_train\n",
       "15        TY            TX  explicit_train\n",
       "16        TZ            TY  explicit_train\n",
       "17        A1            A1     reflexivity\n",
       "18        A2            A2     reflexivity\n",
       "19        A3            A3     reflexivity\n",
       "20        A4            A4     reflexivity\n",
       "21        B1            B1     reflexivity\n",
       "22        B2            B2     reflexivity\n",
       "23        B3            B3     reflexivity\n",
       "24        B4            B4     reflexivity\n",
       "25        C1            C1     reflexivity\n",
       "26        C2            C2     reflexivity\n",
       "27        C3            C3     reflexivity\n",
       "28        C4            C4     reflexivity\n",
       "29        B1            A1        symmetry\n",
       "30        C1            B1        symmetry\n",
       "31        B2            A2        symmetry\n",
       "32        C2            B2        symmetry\n",
       "33        B3            A3        symmetry\n",
       "34        C3            B3        symmetry\n",
       "35        B4            A4        symmetry\n",
       "36        C4            B4        symmetry\n",
       "37        A1            C1    transitivity\n",
       "38        A2            C2    transitivity\n",
       "39        A3            C3    transitivity\n",
       "40        A4            C4    transitivity\n",
       "41        C1            A1     equivalence\n",
       "42        C2            A2     equivalence\n",
       "43        C3            A3     equivalence\n",
       "44        C4            A4     equivalence"
      ]
     },
     "execution_count": 12,
     "metadata": {},
     "output_type": "execute_result"
    }
   ],
   "source": [
    "print(pairs_dataset.shape)\n",
    "pairs_dataset"
   ]
  },
  {
   "cell_type": "code",
   "execution_count": 13,
   "metadata": {},
   "outputs": [
    {
     "data": {
      "text/plain": [
       "reflexivity       12\n",
       "explicit_train     9\n",
       "train              8\n",
       "symmetry           8\n",
       "transitivity       4\n",
       "equivalence        4\n",
       "Name: pair_subset, dtype: int64"
      ]
     },
     "execution_count": 13,
     "metadata": {},
     "output_type": "execute_result"
    }
   ],
   "source": [
    "pairs_dataset.pair_subset.value_counts()"
   ]
  },
  {
   "cell_type": "markdown",
   "metadata": {},
   "source": [
    "# Complete combination creation\n",
    "\n",
    "1. create loop for every combination. (for for for...)\n",
    "2. evaluate each pair on trial. (train-eq-sym-tran-refl) inside the creation of the pair\n",
    "3. Select trials with one pair identified. If pair not in subsets, then no-go pair (Marked as str_zero)"
   ]
  },
  {
   "cell_type": "code",
   "execution_count": 14,
   "metadata": {},
   "outputs": [],
   "source": [
    "stims={\"A1\":[1,0,0,0,0,0,0,0,0,0,0,0,0,0,0],\n",
    "       \"A2\":[0,1,0,0,0,0,0,0,0,0,0,0,0,0,0],\n",
    "       \"A3\":[0,0,1,0,0,0,0,0,0,0,0,0,0,0,0],\n",
    "       \"A4\":[0,0,0,1,0,0,0,0,0,0,0,0,0,0,0],\n",
    "       \"TX\":[0,0,0,0,1,0,0,0,0,0,0,0,0,0,0],# For explicitly train class emergency\n",
    "       \"B1\":[0,0,0,0,0,1,0,0,0,0,0,0,0,0,0],\n",
    "       \"B2\":[0,0,0,0,0,0,1,0,0,0,0,0,0,0,0],\n",
    "       \"B3\":[0,0,0,0,0,0,0,1,0,0,0,0,0,0,0],\n",
    "       \"B4\":[0,0,0,0,0,0,0,0,1,0,0,0,0,0,0],\n",
    "       \"TY\":[0,0,0,0,0,0,0,0,0,1,0,0,0,0,0],# For explicitly train class emergency\n",
    "       \"C1\":[0,0,0,0,0,0,0,0,0,0,1,0,0,0,0],\n",
    "       \"C2\":[0,0,0,0,0,0,0,0,0,0,0,1,0,0,0],\n",
    "       \"C3\":[0,0,0,0,0,0,0,0,0,0,0,0,1,0,0],\n",
    "       \"C4\":[0,0,0,0,0,0,0,0,0,0,0,0,0,1,0],\n",
    "       \"TZ\":[0,0,0,0,0,0,0,0,0,0,0,0,0,0,1]# For explicitly train class emergency\n",
    "      }\n",
    "\n",
    "options={\"O_1\":[1,0,0],\n",
    "         \"O_2\":[0,1,0],\n",
    "         \"O_3\":[0,0,1],\n",
    "         \"O_0\":[0,0,0],\n",
    "        }"
   ]
  },
  {
   "cell_type": "code",
   "execution_count": 15,
   "metadata": {},
   "outputs": [
    {
     "data": {
      "text/plain": [
       "(50625, 4)"
      ]
     },
     "execution_count": 15,
     "metadata": {},
     "output_type": "execute_result"
    }
   ],
   "source": [
    "test_combinations=np.array([[st_sample, st_comp1, st_comp2,st_comp3] \n",
    "                            for st_sample in list(stims.keys()) \n",
    "                            for st_comp1 in list(stims.keys())\n",
    "                            for st_comp2 in list(stims.keys())\n",
    "                            for st_comp3 in list(stims.keys())\n",
    "])\n",
    "test_combinations.shape"
   ]
  },
  {
   "cell_type": "code",
   "execution_count": 16,
   "metadata": {},
   "outputs": [
    {
     "data": {
      "text/plain": [
       "50625"
      ]
     },
     "execution_count": 16,
     "metadata": {},
     "output_type": "execute_result"
    }
   ],
   "source": [
    "15**4"
   ]
  },
  {
   "cell_type": "code",
   "execution_count": 17,
   "metadata": {},
   "outputs": [
    {
     "data": {
      "text/plain": [
       "array([['A1', 'A1', 'A1', 'A1'],\n",
       "       ['A1', 'A1', 'A1', 'A2'],\n",
       "       ['A1', 'A1', 'A1', 'A3'],\n",
       "       ...,\n",
       "       ['TZ', 'TZ', 'TZ', 'C3'],\n",
       "       ['TZ', 'TZ', 'TZ', 'C4'],\n",
       "       ['TZ', 'TZ', 'TZ', 'TZ']], dtype='<U2')"
      ]
     },
     "execution_count": 17,
     "metadata": {},
     "output_type": "execute_result"
    }
   ],
   "source": [
    "test_combinations"
   ]
  },
  {
   "cell_type": "code",
   "execution_count": 18,
   "metadata": {},
   "outputs": [
    {
     "name": "stdout",
     "output_type": "stream",
     "text": [
      "Start::::::: Thu, 09 Mar 2023 12:43:10\n",
      "A1 processed Thu, 09 Mar 2023 12:43:16\n",
      "A2 processed Thu, 09 Mar 2023 12:43:22\n",
      "A3 processed Thu, 09 Mar 2023 12:43:28\n",
      "A4 processed Thu, 09 Mar 2023 12:43:33\n",
      "TX processed Thu, 09 Mar 2023 12:43:39\n",
      "B1 processed Thu, 09 Mar 2023 12:43:45\n",
      "B2 processed Thu, 09 Mar 2023 12:43:51\n",
      "B3 processed Thu, 09 Mar 2023 12:43:57\n",
      "B4 processed Thu, 09 Mar 2023 12:44:03\n",
      "TY processed Thu, 09 Mar 2023 12:44:09\n",
      "C1 processed Thu, 09 Mar 2023 12:44:15\n",
      "C2 processed Thu, 09 Mar 2023 12:44:21\n",
      "C3 processed Thu, 09 Mar 2023 12:44:27\n",
      "C4 processed Thu, 09 Mar 2023 12:44:33\n",
      "TZ processed Thu, 09 Mar 2023 12:44:39\n"
     ]
    }
   ],
   "source": [
    "print(\"Start:::::::\",strftime(\"%a, %d %b %Y %H:%M:%S\", localtime()))\n",
    "pair_info=[]\n",
    "trial_comb=[]\n",
    "trial_select=[]\n",
    "trial_answer=[]\n",
    "trial_values=[]\n",
    "id_trial=0\n",
    "for st_sample in list(stims.keys()):\n",
    "    for st_comp1 in list(stims.keys()):\n",
    "        for st_comp2 in list(stims.keys()):\n",
    "            for st_comp3 in list(stims.keys()):\n",
    "                trial=[id_trial,st_sample,\n",
    "                       st_comp1,st_comp2,st_comp3]#,st_comp4,st_comp5\n",
    "                trial_comb.append(trial)\n",
    "                trial_pairs=[]\n",
    "                for st_comparator_loop in [st_comp1,st_comp2,st_comp3]:#,st_comp4,st_comp5\n",
    "                    search_pair=pairs_dataset.pair_subset[(pairs_dataset.st_sample==st_sample)&\n",
    "                                                          (pairs_dataset.st_comparison==st_comparator_loop)]\n",
    "                    trial_pairs.append(str(search_pair.sum()))\n",
    "                    pair_info.append([id_trial,st_sample, st_comparator_loop, search_pair.sum()])# export line to file\n",
    "#                 if (sum([pair_eval==\"0\" for pair_eval in trial_pairs])==2)&(len(list(set(trial_pairs)))<3):# Only GO answers\n",
    "                if (sum([pair_eval==\"0\" for pair_eval in trial_pairs])>1)&(len(list(set(trial_pairs)))<3): # NO-GO trials\n",
    "                    option_filter=([not(pair_eval==\"0\") for pair_eval in trial_pairs])*1\n",
    "                    option_key=list(options.keys())[list(options.values()).index(option_filter)]\n",
    "                    trial_select.append([id_trial,st_sample,\n",
    "                                         st_comp1,st_comp2,st_comp3,#st_comp4,st_comp5,\n",
    "                                         trial_pairs[0],trial_pairs[1],trial_pairs[2],#,trial_pairs[3],trial_pairs[4]\n",
    "                                         option_key\n",
    "                                        ])\n",
    "                    trial_embedding=[bit_emb for stml in [st_sample,st_comp1,st_comp2,st_comp3] for bit_emb in stims[stml]]\n",
    "                    trial_embedding.insert(0,id_trial)\n",
    "                    trial_values.append(trial_embedding)\n",
    "                    option_embedding=options[option_key].copy()\n",
    "                    option_embedding.insert(0,id_trial)\n",
    "                    trial_answer.append(option_embedding)\n",
    "                id_trial+=1\n",
    "    print(st_sample, \"processed\", strftime(\"%a, %d %b %Y %H:%M:%S\", localtime()))"
   ]
  },
  {
   "cell_type": "code",
   "execution_count": 19,
   "metadata": {},
   "outputs": [
    {
     "name": "stdout",
     "output_type": "stream",
     "text": [
      "pair_info (151875, 4)\n",
      "trial_comb (50625, 5)\n",
      "trial_select (45360, 9)\n",
      "trial_answer (45360, 4)\n",
      "trial_values (45360, 61)\n"
     ]
    }
   ],
   "source": [
    "pair_info_array=np.array(pair_info)\n",
    "trial_comb_array=np.array(trial_comb)\n",
    "trial_select_array=np.array(trial_select)\n",
    "trial_answer_array=np.array(trial_answer)\n",
    "trial_values_array=np.array(trial_values)\n",
    "\n",
    "print(\"pair_info\",pair_info_array.shape)\n",
    "print(\"trial_comb\",trial_comb_array.shape)\n",
    "print(\"trial_select\",trial_select_array.shape)\n",
    "print(\"trial_answer\",trial_answer_array.shape)\n",
    "print(\"trial_values\",trial_values_array.shape)"
   ]
  },
  {
   "cell_type": "code",
   "execution_count": 20,
   "metadata": {},
   "outputs": [],
   "source": [
    "dat_selected_df=pd.DataFrame(trial_select_array)\n",
    "dat_selected_df.columns=[\"id_trial\",\"st_sample\",\n",
    "                         \"st_comp1\",\"st_comp2\",\"st_comp3\",\n",
    "                         \"sample_c1_subset\",\"sample_c2_subset\",\"sample_c3_subset\",\n",
    "                         \"option_answer\"\n",
    "                     ]\n",
    "dat_selected_df.id_trial=pd.to_numeric(dat_selected_df.id_trial)\n",
    "dat_selected_df.set_index(\"id_trial\", inplace=True)"
   ]
  },
  {
   "cell_type": "code",
   "execution_count": 21,
   "metadata": {},
   "outputs": [
    {
     "name": "stdout",
     "output_type": "stream",
     "text": [
      "no-go trials  25920\n",
      "train trials  3456\n",
      "explicit_train trials  3888\n",
      "reflexivity trials  5184\n",
      "symmetry trials  3456\n",
      "transitivity trials  1728\n",
      "equivalence trials  1728\n"
     ]
    }
   ],
   "source": [
    "print(\"no-go trials \",((dat_selected_df[[\"sample_c1_subset\",\"sample_c2_subset\",\"sample_c3_subset\"]]==\"0\").sum(axis=1)>2).sum())\n",
    "print(\"train trials \",((dat_selected_df[[\"sample_c1_subset\",\"sample_c2_subset\",\"sample_c3_subset\"]]==\"train\").sum(axis=1)>0).sum())\n",
    "print(\"explicit_train trials \",((dat_selected_df[[\"sample_c1_subset\",\"sample_c2_subset\",\"sample_c3_subset\"]]==\"explicit_train\").sum(axis=1)>0).sum())\n",
    "print(\"reflexivity trials \",((dat_selected_df[[\"sample_c1_subset\",\"sample_c2_subset\",\"sample_c3_subset\"]]==\"reflexivity\").sum(axis=1)>0).sum())\n",
    "print(\"symmetry trials \",((dat_selected_df[[\"sample_c1_subset\",\"sample_c2_subset\",\"sample_c3_subset\"]]==\"symmetry\").sum(axis=1)>0).sum())\n",
    "print(\"transitivity trials \",((dat_selected_df[[\"sample_c1_subset\",\"sample_c2_subset\",\"sample_c3_subset\"]]==\"transitivity\").sum(axis=1)>0).sum())\n",
    "print(\"equivalence trials \",((dat_selected_df[[\"sample_c1_subset\",\"sample_c2_subset\",\"sample_c3_subset\"]]==\"equivalence\").sum(axis=1)>0).sum())"
   ]
  },
  {
   "cell_type": "code",
   "execution_count": 22,
   "metadata": {},
   "outputs": [],
   "source": [
    "nogo_elements = list(dat_selected_df.index[((dat_selected_df[[\"sample_c1_subset\",\"sample_c2_subset\",\"sample_c3_subset\"]]==\"0\").sum(axis=1)>2)])\n",
    "nogo_mask = np.isin(trial_values_array[:,0], nogo_elements)\n",
    "nogo_values= trial_values_array[nogo_mask][:,1:]\n",
    "nogo_answers=trial_answer_array[nogo_mask][:,1:]\n",
    "nogo_info=dat_selected_df.loc[nogo_elements,:]\n",
    "\n",
    "######Randomize nogo trials\n",
    "nogo_values, nogo_answers, nogo_info= shuffle(nogo_values, nogo_answers, nogo_info)"
   ]
  },
  {
   "cell_type": "code",
   "execution_count": 23,
   "metadata": {},
   "outputs": [],
   "source": [
    "train_values, train_answers, train_info=get_trials_subset(dat_selected_df,\"train\",trial_values_array,trial_answer_array)"
   ]
  },
  {
   "cell_type": "code",
   "execution_count": 24,
   "metadata": {},
   "outputs": [],
   "source": [
    "explicit_train_values, explicit_train_answers, explicit_train_info=get_trials_subset(dat_selected_df,\"explicit_train\",trial_values_array,trial_answer_array)"
   ]
  },
  {
   "cell_type": "code",
   "execution_count": 25,
   "metadata": {},
   "outputs": [],
   "source": [
    "reflexivity_values, reflexivity_answers, reflexivity_info=get_trials_subset(dat_selected_df,\"reflexivity\",trial_values_array,trial_answer_array)"
   ]
  },
  {
   "cell_type": "code",
   "execution_count": 26,
   "metadata": {},
   "outputs": [],
   "source": [
    "symmetry_values, symmetry_answers, symmetry_info=get_trials_subset(dat_selected_df,\"symmetry\",trial_values_array,trial_answer_array)"
   ]
  },
  {
   "cell_type": "code",
   "execution_count": 27,
   "metadata": {},
   "outputs": [],
   "source": [
    "transitivity_values, transitivity_answers, transitivity_info=get_trials_subset(dat_selected_df,\"transitivity\",trial_values_array,trial_answer_array)"
   ]
  },
  {
   "cell_type": "code",
   "execution_count": 28,
   "metadata": {},
   "outputs": [],
   "source": [
    "equivalence_values, equivalence_answers, equivalence_info=get_trials_subset(dat_selected_df,\"equivalence\",trial_values_array,trial_answer_array)"
   ]
  },
  {
   "cell_type": "markdown",
   "metadata": {},
   "source": [
    "## Example"
   ]
  },
  {
   "cell_type": "code",
   "execution_count": 29,
   "metadata": {},
   "outputs": [],
   "source": [
    "idx_example=1841#np.random.randint(train_info.shape[0])"
   ]
  },
  {
   "cell_type": "code",
   "execution_count": 30,
   "metadata": {},
   "outputs": [
    {
     "data": {
      "text/plain": [
       "st_sample              B1\n",
       "st_comp1               B2\n",
       "st_comp2               C1\n",
       "st_comp3               C3\n",
       "sample_c1_subset        0\n",
       "sample_c2_subset    train\n",
       "sample_c3_subset        0\n",
       "option_answer         O_2\n",
       "Name: 18387, dtype: object"
      ]
     },
     "execution_count": 30,
     "metadata": {},
     "output_type": "execute_result"
    }
   ],
   "source": [
    "train_info.iloc[idx_example,:]"
   ]
  },
  {
   "cell_type": "code",
   "execution_count": 31,
   "metadata": {},
   "outputs": [
    {
     "data": {
      "text/plain": [
       "array([[0, 0, 0, 0, 0, 1, 0, 0, 0, 0, 0, 0, 0, 0, 0],\n",
       "       [0, 0, 0, 0, 0, 0, 1, 0, 0, 0, 0, 0, 0, 0, 0],\n",
       "       [0, 0, 0, 0, 0, 0, 0, 0, 0, 0, 1, 0, 0, 0, 0],\n",
       "       [0, 0, 0, 0, 0, 0, 0, 0, 0, 0, 0, 0, 1, 0, 0]])"
      ]
     },
     "execution_count": 31,
     "metadata": {},
     "output_type": "execute_result"
    }
   ],
   "source": [
    "train_values[idx_example].reshape(4,15)"
   ]
  },
  {
   "cell_type": "markdown",
   "metadata": {},
   "source": [
    "# **Experiment 1**\n",
    "* Explicit trainning\n",
    "* No go trials"
   ]
  },
  {
   "cell_type": "markdown",
   "metadata": {},
   "source": [
    "## Split no-go trials\n",
    "for balancing trainning and tests"
   ]
  },
  {
   "cell_type": "code",
   "execution_count": 32,
   "metadata": {},
   "outputs": [],
   "source": [
    "n_nogo_train=int(train_info.option_answer.value_counts().mean())\n",
    "n_nogo_explicit_train=int(explicit_train_info.option_answer.value_counts().mean())\n",
    "n_nogo_reflexivity=int(reflexivity_info.option_answer.value_counts().mean())\n",
    "n_nogo_symmetry=int(symmetry_info.option_answer.value_counts().mean())\n",
    "n_nogo_transitivity=int(transitivity_info.option_answer.value_counts().mean())\n",
    "n_nogo_equivalence=int(equivalence_info.option_answer.value_counts().mean())"
   ]
  },
  {
   "cell_type": "code",
   "execution_count": 33,
   "metadata": {},
   "outputs": [],
   "source": [
    "n_bottom=np.cumsum([0,n_nogo_train,n_nogo_explicit_train,n_nogo_reflexivity,n_nogo_symmetry,n_nogo_transitivity])\n",
    "n_top=np.cumsum([n_nogo_train,n_nogo_explicit_train,n_nogo_reflexivity,n_nogo_symmetry,n_nogo_transitivity,n_nogo_equivalence])"
   ]
  },
  {
   "cell_type": "code",
   "execution_count": 34,
   "metadata": {},
   "outputs": [
    {
     "data": {
      "text/html": [
       "<div>\n",
       "<style scoped>\n",
       "    .dataframe tbody tr th:only-of-type {\n",
       "        vertical-align: middle;\n",
       "    }\n",
       "\n",
       "    .dataframe tbody tr th {\n",
       "        vertical-align: top;\n",
       "    }\n",
       "\n",
       "    .dataframe thead th {\n",
       "        text-align: right;\n",
       "    }\n",
       "</style>\n",
       "<table border=\"1\" class=\"dataframe\">\n",
       "  <thead>\n",
       "    <tr style=\"text-align: right;\">\n",
       "      <th></th>\n",
       "      <th>bottom_limit</th>\n",
       "      <th>top_limit</th>\n",
       "    </tr>\n",
       "  </thead>\n",
       "  <tbody>\n",
       "    <tr>\n",
       "      <th>train</th>\n",
       "      <td>0</td>\n",
       "      <td>1152</td>\n",
       "    </tr>\n",
       "    <tr>\n",
       "      <th>explicit_train</th>\n",
       "      <td>1152</td>\n",
       "      <td>2448</td>\n",
       "    </tr>\n",
       "    <tr>\n",
       "      <th>reflexivity</th>\n",
       "      <td>2448</td>\n",
       "      <td>4176</td>\n",
       "    </tr>\n",
       "    <tr>\n",
       "      <th>symmetry</th>\n",
       "      <td>4176</td>\n",
       "      <td>5328</td>\n",
       "    </tr>\n",
       "    <tr>\n",
       "      <th>transitivity</th>\n",
       "      <td>5328</td>\n",
       "      <td>5904</td>\n",
       "    </tr>\n",
       "    <tr>\n",
       "      <th>equivalence</th>\n",
       "      <td>5904</td>\n",
       "      <td>6480</td>\n",
       "    </tr>\n",
       "  </tbody>\n",
       "</table>\n",
       "</div>"
      ],
      "text/plain": [
       "                bottom_limit  top_limit\n",
       "train                      0       1152\n",
       "explicit_train          1152       2448\n",
       "reflexivity             2448       4176\n",
       "symmetry                4176       5328\n",
       "transitivity            5328       5904\n",
       "equivalence             5904       6480"
      ]
     },
     "execution_count": 34,
     "metadata": {},
     "output_type": "execute_result"
    }
   ],
   "source": [
    "nogo_select_indexers=pd.DataFrame({\"bottom_limit\":n_bottom, \"top_limit\":n_top}, index=[\"train\",\"explicit_train\",\"reflexivity\",\"symmetry\",\"transitivity\",\"equivalence\"])\n",
    "nogo_select_indexers"
   ]
  },
  {
   "cell_type": "code",
   "execution_count": 35,
   "metadata": {},
   "outputs": [],
   "source": [
    "train_nogo_values=nogo_values[nogo_select_indexers.loc[\"train\",\"bottom_limit\"]:nogo_select_indexers.loc[\"train\",\"top_limit\"]]\n",
    "train_nogo_answers=nogo_answers[nogo_select_indexers.loc[\"train\",\"bottom_limit\"]:nogo_select_indexers.loc[\"train\",\"top_limit\"]]\n",
    "\n",
    "explicit_train_nogo_values=nogo_values[nogo_select_indexers.loc[\"explicit_train\",\"bottom_limit\"]:nogo_select_indexers.loc[\"explicit_train\",\"top_limit\"]]\n",
    "explicit_train_nogo_answers=nogo_answers[nogo_select_indexers.loc[\"explicit_train\",\"bottom_limit\"]:nogo_select_indexers.loc[\"explicit_train\",\"top_limit\"]]\n",
    "\n",
    "reflexivity_nogo_values=nogo_values[nogo_select_indexers.loc[\"reflexivity\",\"bottom_limit\"]:nogo_select_indexers.loc[\"reflexivity\",\"top_limit\"]]\n",
    "reflexivity_nogo_answers=nogo_answers[nogo_select_indexers.loc[\"reflexivity\",\"bottom_limit\"]:nogo_select_indexers.loc[\"reflexivity\",\"top_limit\"]]\n",
    "\n",
    "symmetry_nogo_values=nogo_values[nogo_select_indexers.loc[\"symmetry\",\"bottom_limit\"]:nogo_select_indexers.loc[\"symmetry\",\"top_limit\"]]\n",
    "symmetry_nogo_answers=nogo_answers[nogo_select_indexers.loc[\"symmetry\",\"bottom_limit\"]:nogo_select_indexers.loc[\"symmetry\",\"top_limit\"]]\n",
    "\n",
    "transitivity_nogo_values=nogo_values[nogo_select_indexers.loc[\"transitivity\",\"bottom_limit\"]:nogo_select_indexers.loc[\"transitivity\",\"top_limit\"]]\n",
    "transitivity_nogo_answers=nogo_answers[nogo_select_indexers.loc[\"transitivity\",\"bottom_limit\"]:nogo_select_indexers.loc[\"transitivity\",\"top_limit\"]]\n",
    "\n",
    "equivalence_nogo_values=nogo_values[nogo_select_indexers.loc[\"equivalence\",\"bottom_limit\"]:nogo_select_indexers.loc[\"equivalence\",\"top_limit\"]]\n",
    "equivalence_nogo_answers=nogo_answers[nogo_select_indexers.loc[\"equivalence\",\"bottom_limit\"]:nogo_select_indexers.loc[\"equivalence\",\"top_limit\"]]"
   ]
  },
  {
   "cell_type": "markdown",
   "metadata": {},
   "source": [
    "### Train assignation and randomization"
   ]
  },
  {
   "cell_type": "code",
   "execution_count": 36,
   "metadata": {},
   "outputs": [
    {
     "name": "stdout",
     "output_type": "stream",
     "text": [
      "(9792, 60)\n",
      "(9792, 3)\n"
     ]
    }
   ],
   "source": [
    "# train_trials_values=train_values\n",
    "# train_trials_values=np.concatenate((train_values,explicit_train_values), axis=0)\n",
    "# train_trials_values=np.concatenate((train_values,train_nogo_values), axis=0)\n",
    "train_trials_values=np.concatenate((train_values, explicit_train_values, train_nogo_values, explicit_train_nogo_values), axis=0)\n",
    "print (train_trials_values.shape)\n",
    "\n",
    "# train_trials_answers=train_answers\n",
    "# train_trials_answers=np.concatenate((train_answers, explicit_train_answers), axis=0)\n",
    "# train_trials_answers=np.concatenate((train_answers, train_nogo_answers), axis=0)\n",
    "train_trials_answers=np.concatenate((train_answers, explicit_train_answers, train_nogo_answers,explicit_train_nogo_answers), axis=0)\n",
    "print(train_trials_answers.shape)\n",
    "\n"
   ]
  },
  {
   "cell_type": "code",
   "execution_count": 37,
   "metadata": {},
   "outputs": [],
   "source": [
    "# Randomize \n",
    "train_trials_values, train_trials_answers= shuffle(train_trials_values, train_trials_answers)"
   ]
  },
  {
   "cell_type": "markdown",
   "metadata": {},
   "source": [
    "# Training Clasifiers"
   ]
  },
  {
   "cell_type": "code",
   "execution_count": 38,
   "metadata": {},
   "outputs": [],
   "source": [
    "# names = [\n",
    "#     \"FFN (20000)\",\n",
    "#     \"FFN (2000,2000)\",\n",
    "#     \"FFN (15*7,15*6,15*5,15*4,15*3,15*2)\",\n",
    "#     \"FFN (100,100,100,100,100,100,100,100,100,100)\",\n",
    "# ]\n",
    "\n",
    "# classifiers = [\n",
    "#     MLPClassifier(alpha=1, activation=\"relu\", hidden_layer_sizes=(20000,),learning_rate=\"adaptive\",max_iter=20000),\n",
    "#     MLPClassifier(alpha=1, activation=\"relu\", hidden_layer_sizes=(2000,2000),learning_rate=\"adaptive\",max_iter=20000),\n",
    "#     MLPClassifier(alpha=1, activation=\"relu\", hidden_layer_sizes=(15*7,15*6,15*5,15*4,15*3,15*2),learning_rate=\"adaptive\",max_iter=20000),\n",
    "#     MLPClassifier(alpha=1, activation=\"relu\", hidden_layer_sizes=(100,100,100,100,100,100,100,100,100,100),learning_rate=\"adaptive\",max_iter=20000),\n",
    "# ]\n",
    "\n",
    "names = [\n",
    "    \"Nearest Neighbors\", \n",
    "    \"Linear SVM\", \n",
    "    \"RBF SVM\", \n",
    "#    \"Gaussian Process\",\n",
    "#     \"Decision Tree\", \n",
    "    \"Random Forest\", \n",
    "#     \"Neural Net\", \n",
    "    \"AdaBoost\",\n",
    "    \"Naive Bayes\", \n",
    "    \"QDA\"\n",
    "]\n",
    "\n",
    "classifiers = [\n",
    "    KNeighborsClassifier(3),\n",
    "    SVC(kernel=\"linear\", C=0.025),\n",
    "    SVC(gamma=2, C=1),\n",
    "#    GaussianProcessClassifier(1.0 * RBF(1.0), warm_start=True),\n",
    "#     DecisionTreeClassifier(max_depth=5),\n",
    "    RandomForestClassifier(max_depth=20, n_estimators=200, max_features=60),\n",
    "#     MLPClassifier(alpha=1, activation=\"relu\", hidden_layer_sizes=(2000),learning_rate=\"adaptive\",max_iter=20000),\n",
    "    AdaBoostClassifier(),\n",
    "    GaussianNB(),\n",
    "    QuadraticDiscriminantAnalysis()\n",
    "]"
   ]
  },
  {
   "cell_type": "code",
   "execution_count": 39,
   "metadata": {},
   "outputs": [
    {
     "name": "stdout",
     "output_type": "stream",
     "text": [
      "Nearest Neighbors 0.9756893284343505\n",
      "Linear SVM 0.602782075773258\n",
      "RBF SVM 1.0\n",
      "Random Forest 0.7879271749525806\n",
      "AdaBoost 0.5876696954613475\n",
      "Naive Bayes 0.5055242110246319\n",
      "QDA 0.9996592380562939\n"
     ]
    },
    {
     "name": "stderr",
     "output_type": "stream",
     "text": [
      "C:\\Users\\Alexis\\.conda\\envs\\sociadisticas\\lib\\site-packages\\sklearn\\discriminant_analysis.py:808: UserWarning: Variables are collinear\n",
      "  warnings.warn(\"Variables are collinear\")\n",
      "C:\\Users\\Alexis\\.conda\\envs\\sociadisticas\\lib\\site-packages\\sklearn\\discriminant_analysis.py:808: UserWarning: Variables are collinear\n",
      "  warnings.warn(\"Variables are collinear\")\n",
      "C:\\Users\\Alexis\\.conda\\envs\\sociadisticas\\lib\\site-packages\\sklearn\\discriminant_analysis.py:808: UserWarning: Variables are collinear\n",
      "  warnings.warn(\"Variables are collinear\")\n"
     ]
    }
   ],
   "source": [
    "avg_scores_train=[]\n",
    "train_clasif=[]\n",
    "for name, clf in zip(names, classifiers):\n",
    "    clasif=OneVsRestClassifier(clf).fit(train_trials_values, train_trials_answers)\n",
    "    train_clasif.append(clasif)\n",
    "    train_clasif_predict=clasif.predict(train_trials_values)\n",
    "    scr=f1_score(train_trials_answers,train_clasif_predict, average='weighted')\n",
    "#     print(pd.crosstab(pd.DataFrame(train_trials_answers, columns=[\"O_1\",\"O_2\",\"O_3\"]).idxmax(1),\n",
    "#                       pd.DataFrame(train_clasif_predict, columns=[\"O_1\",\"O_2\",\"O_3\"]).idxmax(1), \n",
    "#                       margins=True, rownames=['Correct'], colnames=[name]))\n",
    "    avg_scores_train.append(scr)\n",
    "    print(name,scr)"
   ]
  },
  {
   "cell_type": "code",
   "execution_count": 40,
   "metadata": {},
   "outputs": [
    {
     "name": "stdout",
     "output_type": "stream",
     "text": [
      "Nearest Neighbors 0.19898114818827387\n",
      "Linear SVM 0.0\n",
      "RBF SVM 0.0\n",
      "Random Forest 0.04455505160476997\n",
      "AdaBoost 0.0\n",
      "Naive Bayes 0.23208777962626653\n",
      "QDA 0.0\n"
     ]
    }
   ],
   "source": [
    "avg_scores_reflexivity=[]\n",
    "for name, clasif in zip(names, train_clasif):\n",
    "#     scr=average_precision_score(reflexivity_answers,clasif.predict(reflexivity_values))\n",
    "    scr=f1_score(np.concatenate((reflexivity_answers, reflexivity_nogo_answers), axis=0),\n",
    "                 clasif.predict(np.concatenate((reflexivity_values, reflexivity_nogo_values), axis=0)), average='weighted')\n",
    "#     print(pd.crosstab(pd.DataFrame(reflexivity_answers, columns=[\"O_1\",\"O_2\",\"O_3\"]).idxmax(1),\n",
    "#                       pd.DataFrame(clasif.predict(reflexivity_values), columns=[\"O_1\",\"O_2\",\"O_3\"]).idxmax(1), \n",
    "#                       margins=True, rownames=['Correct'], colnames=[name]))\n",
    "    avg_scores_reflexivity.append(scr)\n",
    "    print(name,scr)"
   ]
  },
  {
   "cell_type": "code",
   "execution_count": 41,
   "metadata": {},
   "outputs": [
    {
     "name": "stdout",
     "output_type": "stream",
     "text": [
      "Nearest Neighbors 0.05290504462405998\n",
      "Linear SVM 0.0\n",
      "RBF SVM 0.0\n",
      "Random Forest 0.0\n",
      "AdaBoost 0.0\n",
      "Naive Bayes 0.0\n",
      "QDA 0.0\n"
     ]
    }
   ],
   "source": [
    "avg_scores_symmetry=[]\n",
    "for name, clasif in zip(names, train_clasif):\n",
    "#     scr=average_precision_score(symmetry_answers,clasif.predict(symmetry_values))\n",
    "    scr=f1_score(np.concatenate((symmetry_answers, symmetry_nogo_answers), axis=0),\n",
    "                 clasif.predict(np.concatenate((symmetry_values, symmetry_nogo_values), axis=0)), average='weighted')\n",
    "#     print(pd.crosstab(pd.DataFrame(symmetry_answers, columns=[\"O_1\",\"O_2\",\"O_3\"]).idxmax(1),\n",
    "#                       pd.DataFrame(clasif.predict(symmetry_values), columns=[\"O_1\",\"O_2\",\"O_3\"]).idxmax(1), \n",
    "#                       margins=True, rownames=['Correct'], colnames=[name]))\n",
    "    avg_scores_symmetry.append(scr)\n",
    "    print(name,scr)"
   ]
  },
  {
   "cell_type": "code",
   "execution_count": 42,
   "metadata": {},
   "outputs": [
    {
     "name": "stdout",
     "output_type": "stream",
     "text": [
      "Nearest Neighbors 0.457697604794357\n",
      "Linear SVM 0.0\n",
      "RBF SVM 0.0\n",
      "Random Forest 0.1188512477717041\n",
      "AdaBoost 0.0\n",
      "Naive Bayes 0.49548980888026245\n",
      "QDA 0.0\n"
     ]
    }
   ],
   "source": [
    "avg_scores_transitivity=[]\n",
    "for name, clasif in zip(names, train_clasif):\n",
    "#     scr=average_precision_score(transitivity_answers,clasif.predict(transitivity_values))\n",
    "    scr=f1_score(np.concatenate((transitivity_answers, transitivity_nogo_answers), axis=0),\n",
    "                 clasif.predict(np.concatenate((transitivity_values, transitivity_nogo_values), axis=0)), average='weighted')\n",
    "#     print(pd.crosstab(pd.DataFrame(transitivity_answers, columns=[\"O_1\",\"O_2\",\"O_3\"]).idxmax(1),\n",
    "#                       pd.DataFrame(clasif.predict(transitivity_values), columns=[\"O_1\",\"O_2\",\"O_3\"]).idxmax(1), \n",
    "#                       margins=True, rownames=['Correct'], colnames=[name]))\n",
    "    avg_scores_transitivity.append(scr)\n",
    "    print(name,scr)"
   ]
  },
  {
   "cell_type": "code",
   "execution_count": 43,
   "metadata": {},
   "outputs": [
    {
     "name": "stdout",
     "output_type": "stream",
     "text": [
      "Nearest Neighbors 0.004956175764290081\n",
      "Linear SVM 0.0\n",
      "RBF SVM 0.0\n",
      "Random Forest 0.0\n",
      "AdaBoost 0.0\n",
      "Naive Bayes 0.0\n",
      "QDA 0.0\n"
     ]
    }
   ],
   "source": [
    "avg_scores_equivalence=[]\n",
    "for name, clasif in zip(names, train_clasif):\n",
    "#     scr=average_precision_score(equivalence_answers,clasif.predict(equivalence_values))\n",
    "    scr=f1_score(np.concatenate((equivalence_answers, equivalence_nogo_answers), axis=0),\n",
    "                 clasif.predict(np.concatenate((equivalence_values, equivalence_nogo_values), axis=0)), average='weighted')\n",
    "#     print(pd.crosstab(pd.DataFrame(equivalence_answers, columns=[\"O_1\",\"O_2\",\"O_3\"]).idxmax(1),\n",
    "#                       pd.DataFrame(clasif.predict(equivalence_values), columns=[\"O_1\",\"O_2\",\"O_3\"]).idxmax(1), \n",
    "#                       margins=True, rownames=['Correct'], colnames=[name]))\n",
    "    avg_scores_equivalence.append(scr)\n",
    "    print(name,scr)"
   ]
  },
  {
   "cell_type": "code",
   "execution_count": 44,
   "metadata": {},
   "outputs": [
    {
     "data": {
      "text/html": [
       "<div>\n",
       "<style scoped>\n",
       "    .dataframe tbody tr th:only-of-type {\n",
       "        vertical-align: middle;\n",
       "    }\n",
       "\n",
       "    .dataframe tbody tr th {\n",
       "        vertical-align: top;\n",
       "    }\n",
       "\n",
       "    .dataframe thead th {\n",
       "        text-align: right;\n",
       "    }\n",
       "</style>\n",
       "<table border=\"1\" class=\"dataframe\">\n",
       "  <thead>\n",
       "    <tr style=\"text-align: right;\">\n",
       "      <th></th>\n",
       "      <th>Nearest Neighbors</th>\n",
       "      <th>Linear SVM</th>\n",
       "      <th>RBF SVM</th>\n",
       "      <th>Random Forest</th>\n",
       "      <th>AdaBoost</th>\n",
       "      <th>Naive Bayes</th>\n",
       "      <th>QDA</th>\n",
       "    </tr>\n",
       "  </thead>\n",
       "  <tbody>\n",
       "    <tr>\n",
       "      <th>Train</th>\n",
       "      <td>0.975689</td>\n",
       "      <td>0.602782</td>\n",
       "      <td>1.0</td>\n",
       "      <td>0.787927</td>\n",
       "      <td>0.58767</td>\n",
       "      <td>0.505524</td>\n",
       "      <td>0.999659</td>\n",
       "    </tr>\n",
       "    <tr>\n",
       "      <th>Reflexivity</th>\n",
       "      <td>0.198981</td>\n",
       "      <td>0.000000</td>\n",
       "      <td>0.0</td>\n",
       "      <td>0.044555</td>\n",
       "      <td>0.00000</td>\n",
       "      <td>0.232088</td>\n",
       "      <td>0.000000</td>\n",
       "    </tr>\n",
       "    <tr>\n",
       "      <th>Symmetry</th>\n",
       "      <td>0.052905</td>\n",
       "      <td>0.000000</td>\n",
       "      <td>0.0</td>\n",
       "      <td>0.000000</td>\n",
       "      <td>0.00000</td>\n",
       "      <td>0.000000</td>\n",
       "      <td>0.000000</td>\n",
       "    </tr>\n",
       "    <tr>\n",
       "      <th>Transitivity</th>\n",
       "      <td>0.457698</td>\n",
       "      <td>0.000000</td>\n",
       "      <td>0.0</td>\n",
       "      <td>0.118851</td>\n",
       "      <td>0.00000</td>\n",
       "      <td>0.495490</td>\n",
       "      <td>0.000000</td>\n",
       "    </tr>\n",
       "    <tr>\n",
       "      <th>Transitivity-Symmetry</th>\n",
       "      <td>0.004956</td>\n",
       "      <td>0.000000</td>\n",
       "      <td>0.0</td>\n",
       "      <td>0.000000</td>\n",
       "      <td>0.00000</td>\n",
       "      <td>0.000000</td>\n",
       "      <td>0.000000</td>\n",
       "    </tr>\n",
       "  </tbody>\n",
       "</table>\n",
       "</div>"
      ],
      "text/plain": [
       "                       Nearest Neighbors  Linear SVM  RBF SVM  Random Forest  \\\n",
       "Train                           0.975689    0.602782      1.0       0.787927   \n",
       "Reflexivity                     0.198981    0.000000      0.0       0.044555   \n",
       "Symmetry                        0.052905    0.000000      0.0       0.000000   \n",
       "Transitivity                    0.457698    0.000000      0.0       0.118851   \n",
       "Transitivity-Symmetry           0.004956    0.000000      0.0       0.000000   \n",
       "\n",
       "                       AdaBoost  Naive Bayes       QDA  \n",
       "Train                   0.58767     0.505524  0.999659  \n",
       "Reflexivity             0.00000     0.232088  0.000000  \n",
       "Symmetry                0.00000     0.000000  0.000000  \n",
       "Transitivity            0.00000     0.495490  0.000000  \n",
       "Transitivity-Symmetry   0.00000     0.000000  0.000000  "
      ]
     },
     "execution_count": 44,
     "metadata": {},
     "output_type": "execute_result"
    }
   ],
   "source": [
    "results_df=pd.DataFrame(np.column_stack([avg_scores_train,avg_scores_reflexivity,avg_scores_symmetry,avg_scores_transitivity,avg_scores_equivalence]),\n",
    "                        index=names, \n",
    "                        columns=[\"Train\", \"Reflexivity\", \"Symmetry\",\"Transitivity\",\"Transitivity-Symmetry\"])\n",
    "results_df.T"
   ]
  },
  {
   "cell_type": "code",
   "execution_count": 45,
   "metadata": {},
   "outputs": [],
   "source": [
    "# results_df.to_csv(\"train_only.csv\")\n",
    "#results_df.to_csv(\"train_wexplicit.csv\")\n",
    "# results_df.to_csSeven alv(\"train_wnogo.csv\")\n",
    "# results_df.to_csv(\"train_wexplicit_wnogo.csv\")\n"
   ]
  },
  {
   "cell_type": "code",
   "execution_count": 46,
   "metadata": {},
   "outputs": [
    {
     "data": {
      "text/plain": [
       "<AxesSubplot:title={'center':'Agents Performance LS'}>"
      ]
     },
     "execution_count": 46,
     "metadata": {},
     "output_type": "execute_result"
    },
    {
     "data": {
      "image/png": "[encoded data removed]",
      "text/plain": [
       "<Figure size 1152x648 with 1 Axes>"
      ]
     },
     "metadata": {},
     "output_type": "display_data"
    }
   ],
   "source": [
    "# results_df.T.plot(kind=\"bar\", figsize=(16,9), title=\"Train only\")\n",
    "# results_df.T.plot(kind=\"bar\", figsize=(16,9), title=\"Train with explicit relations\")\n",
    "# results_df.T.plot(kind=\"bar\", figsize=(16,9), title=\"Train with no-go trials\")\n",
    "results_df.T.plot(kind=\"bar\", figsize=(16,9), title=\"Agents Performance LS\")"
   ]
  },
  {
   "cell_type": "markdown",
   "metadata": {},
   "source": [
    "# Samples Evaluations"
   ]
  },
  {
   "cell_type": "code",
   "execution_count": 47,
   "metadata": {},
   "outputs": [],
   "source": [
    "stim_list_train=list(train_info.st_sample.value_counts().sort_index().index)\n",
    "stim_list_explicit_train=list(explicit_train_info.st_sample.value_counts().sort_index().index)\n",
    "stim_list_reflexivity=list(reflexivity_info.st_sample.value_counts().sort_index().index)\n",
    "stim_list_symmetry=list(symmetry_info.st_sample.value_counts().sort_index().index)\n",
    "stim_list_transitivity=list(transitivity_info.st_sample.value_counts().sort_index().index)\n",
    "stim_list_equivalence=list(equivalence_info.st_sample.value_counts().sort_index().index)"
   ]
  },
  {
   "cell_type": "code",
   "execution_count": 48,
   "metadata": {},
   "outputs": [],
   "source": [
    "stims_lists_dic={\n",
    "    \"train\":[stim_list_train,train_values, train_answers, train_info],\n",
    "    \"explicit_train\":[stim_list_explicit_train,explicit_train_values, explicit_train_answers, explicit_train_info],\n",
    "    \"reflexivity\":[stim_list_reflexivity, reflexivity_values, reflexivity_answers, reflexivity_info],\n",
    "    \"symmetry\":[stim_list_symmetry, symmetry_values, symmetry_answers, symmetry_info],\n",
    "    \"transitivity\":[stim_list_transitivity, transitivity_values, transitivity_answers, transitivity_info],\n",
    "    \"equivalence\":[stim_list_equivalence, equivalence_values, equivalence_answers, equivalence_info],\n",
    "}"
   ]
  },
  {
   "cell_type": "code",
   "execution_count": 49,
   "metadata": {},
   "outputs": [],
   "source": [
    "# stims_lists_dic[list(stims_lists_dic.keys())[0]][1]"
   ]
  },
  {
   "cell_type": "code",
   "execution_count": 50,
   "metadata": {},
   "outputs": [],
   "source": [
    "samples_scores=[]\n",
    "for name, clasif in zip(names, train_clasif):\n",
    "    for subset_sample in list(stims_lists_dic.keys()):\n",
    "        for stim in stims_lists_dic[subset_sample][0]:\n",
    "            filt_vect=stims_lists_dic[subset_sample][3].st_sample==stim\n",
    "            predict=clasif.predict(stims_lists_dic[subset_sample][1])\n",
    "            f1_score_sample=f1_score(stims_lists_dic[subset_sample][2][filt_vect],\n",
    "                                     predict[filt_vect], \n",
    "                                     average='weighted')\n",
    "            samples_scores.append({\"clasif\":name,\n",
    "                                   \"evaluate\":subset_sample,\n",
    "                                   \"sample_stim\":stim,\n",
    "                                   \"score\":f1_score_sample})\n",
    "                "
   ]
  },
  {
   "cell_type": "code",
   "execution_count": 51,
   "metadata": {},
   "outputs": [],
   "source": [
    "stim_samples_scores_pdf=pd.DataFrame(samples_scores)"
   ]
  },
  {
   "cell_type": "code",
   "execution_count": 52,
   "metadata": {},
   "outputs": [],
   "source": [
    "# ((stim_samples_scores_pdf[stim_samples_scores_pdf[\"evaluate\"]==list(stims_lists_dic.keys())[5]].pivot_table(index=\"sample_stim\", columns=\"clasif\", values=\"score\")).round(2))"
   ]
  },
  {
   "cell_type": "code",
   "execution_count": 53,
   "metadata": {},
   "outputs": [
    {
     "data": {
      "text/html": [
       "<div>\n",
       "<style scoped>\n",
       "    .dataframe tbody tr th:only-of-type {\n",
       "        vertical-align: middle;\n",
       "    }\n",
       "\n",
       "    .dataframe tbody tr th {\n",
       "        vertical-align: top;\n",
       "    }\n",
       "\n",
       "    .dataframe thead th {\n",
       "        text-align: right;\n",
       "    }\n",
       "</style>\n",
       "<table border=\"1\" class=\"dataframe\">\n",
       "  <thead>\n",
       "    <tr style=\"text-align: right;\">\n",
       "      <th></th>\n",
       "      <th>clasif</th>\n",
       "      <th>AdaBoost</th>\n",
       "      <th>Linear SVM</th>\n",
       "      <th>Naive Bayes</th>\n",
       "      <th>Nearest Neighbors</th>\n",
       "      <th>QDA</th>\n",
       "      <th>RBF SVM</th>\n",
       "      <th>Random Forest</th>\n",
       "    </tr>\n",
       "    <tr>\n",
       "      <th>evaluate</th>\n",
       "      <th>sample_stim</th>\n",
       "      <th></th>\n",
       "      <th></th>\n",
       "      <th></th>\n",
       "      <th></th>\n",
       "      <th></th>\n",
       "      <th></th>\n",
       "      <th></th>\n",
       "    </tr>\n",
       "  </thead>\n",
       "  <tbody>\n",
       "    <tr>\n",
       "      <th rowspan=\"4\" valign=\"top\">equivalence</th>\n",
       "      <th>C1</th>\n",
       "      <td>0.0</td>\n",
       "      <td>0.0</td>\n",
       "      <td>0.00</td>\n",
       "      <td>0.00</td>\n",
       "      <td>0.0</td>\n",
       "      <td>0.0</td>\n",
       "      <td>0.00</td>\n",
       "    </tr>\n",
       "    <tr>\n",
       "      <th>C2</th>\n",
       "      <td>0.0</td>\n",
       "      <td>0.0</td>\n",
       "      <td>0.00</td>\n",
       "      <td>0.01</td>\n",
       "      <td>0.0</td>\n",
       "      <td>0.0</td>\n",
       "      <td>0.00</td>\n",
       "    </tr>\n",
       "    <tr>\n",
       "      <th>C3</th>\n",
       "      <td>0.0</td>\n",
       "      <td>0.0</td>\n",
       "      <td>0.00</td>\n",
       "      <td>0.00</td>\n",
       "      <td>0.0</td>\n",
       "      <td>0.0</td>\n",
       "      <td>0.00</td>\n",
       "    </tr>\n",
       "    <tr>\n",
       "      <th>C4</th>\n",
       "      <td>0.0</td>\n",
       "      <td>0.0</td>\n",
       "      <td>0.00</td>\n",
       "      <td>0.00</td>\n",
       "      <td>0.0</td>\n",
       "      <td>0.0</td>\n",
       "      <td>0.00</td>\n",
       "    </tr>\n",
       "    <tr>\n",
       "      <th rowspan=\"3\" valign=\"top\">explicit_train</th>\n",
       "      <th>TX</th>\n",
       "      <td>1.0</td>\n",
       "      <td>1.0</td>\n",
       "      <td>0.60</td>\n",
       "      <td>1.00</td>\n",
       "      <td>1.0</td>\n",
       "      <td>1.0</td>\n",
       "      <td>1.00</td>\n",
       "    </tr>\n",
       "    <tr>\n",
       "      <th>TY</th>\n",
       "      <td>1.0</td>\n",
       "      <td>1.0</td>\n",
       "      <td>0.60</td>\n",
       "      <td>0.99</td>\n",
       "      <td>1.0</td>\n",
       "      <td>1.0</td>\n",
       "      <td>1.00</td>\n",
       "    </tr>\n",
       "    <tr>\n",
       "      <th>TZ</th>\n",
       "      <td>1.0</td>\n",
       "      <td>1.0</td>\n",
       "      <td>0.60</td>\n",
       "      <td>1.00</td>\n",
       "      <td>1.0</td>\n",
       "      <td>1.0</td>\n",
       "      <td>1.00</td>\n",
       "    </tr>\n",
       "    <tr>\n",
       "      <th rowspan=\"12\" valign=\"top\">reflexivity</th>\n",
       "      <th>A1</th>\n",
       "      <td>0.0</td>\n",
       "      <td>0.0</td>\n",
       "      <td>0.00</td>\n",
       "      <td>0.07</td>\n",
       "      <td>0.0</td>\n",
       "      <td>0.0</td>\n",
       "      <td>0.00</td>\n",
       "    </tr>\n",
       "    <tr>\n",
       "      <th>A2</th>\n",
       "      <td>0.0</td>\n",
       "      <td>0.0</td>\n",
       "      <td>0.00</td>\n",
       "      <td>0.06</td>\n",
       "      <td>0.0</td>\n",
       "      <td>0.0</td>\n",
       "      <td>0.00</td>\n",
       "    </tr>\n",
       "    <tr>\n",
       "      <th>A3</th>\n",
       "      <td>0.0</td>\n",
       "      <td>0.0</td>\n",
       "      <td>0.00</td>\n",
       "      <td>0.05</td>\n",
       "      <td>0.0</td>\n",
       "      <td>0.0</td>\n",
       "      <td>0.00</td>\n",
       "    </tr>\n",
       "    <tr>\n",
       "      <th>A4</th>\n",
       "      <td>0.0</td>\n",
       "      <td>0.0</td>\n",
       "      <td>0.00</td>\n",
       "      <td>0.06</td>\n",
       "      <td>0.0</td>\n",
       "      <td>0.0</td>\n",
       "      <td>0.00</td>\n",
       "    </tr>\n",
       "    <tr>\n",
       "      <th>B1</th>\n",
       "      <td>0.0</td>\n",
       "      <td>0.0</td>\n",
       "      <td>0.57</td>\n",
       "      <td>0.47</td>\n",
       "      <td>0.0</td>\n",
       "      <td>0.0</td>\n",
       "      <td>0.14</td>\n",
       "    </tr>\n",
       "    <tr>\n",
       "      <th>B2</th>\n",
       "      <td>0.0</td>\n",
       "      <td>0.0</td>\n",
       "      <td>0.57</td>\n",
       "      <td>0.43</td>\n",
       "      <td>0.0</td>\n",
       "      <td>0.0</td>\n",
       "      <td>0.11</td>\n",
       "    </tr>\n",
       "    <tr>\n",
       "      <th>B3</th>\n",
       "      <td>0.0</td>\n",
       "      <td>0.0</td>\n",
       "      <td>0.57</td>\n",
       "      <td>0.48</td>\n",
       "      <td>0.0</td>\n",
       "      <td>0.0</td>\n",
       "      <td>0.17</td>\n",
       "    </tr>\n",
       "    <tr>\n",
       "      <th>B4</th>\n",
       "      <td>0.0</td>\n",
       "      <td>0.0</td>\n",
       "      <td>0.57</td>\n",
       "      <td>0.47</td>\n",
       "      <td>0.0</td>\n",
       "      <td>0.0</td>\n",
       "      <td>0.12</td>\n",
       "    </tr>\n",
       "    <tr>\n",
       "      <th>C1</th>\n",
       "      <td>0.0</td>\n",
       "      <td>0.0</td>\n",
       "      <td>0.00</td>\n",
       "      <td>0.08</td>\n",
       "      <td>0.0</td>\n",
       "      <td>0.0</td>\n",
       "      <td>0.00</td>\n",
       "    </tr>\n",
       "    <tr>\n",
       "      <th>C2</th>\n",
       "      <td>0.0</td>\n",
       "      <td>0.0</td>\n",
       "      <td>0.00</td>\n",
       "      <td>0.03</td>\n",
       "      <td>0.0</td>\n",
       "      <td>0.0</td>\n",
       "      <td>0.00</td>\n",
       "    </tr>\n",
       "    <tr>\n",
       "      <th>C3</th>\n",
       "      <td>0.0</td>\n",
       "      <td>0.0</td>\n",
       "      <td>0.00</td>\n",
       "      <td>0.05</td>\n",
       "      <td>0.0</td>\n",
       "      <td>0.0</td>\n",
       "      <td>0.00</td>\n",
       "    </tr>\n",
       "    <tr>\n",
       "      <th>C4</th>\n",
       "      <td>0.0</td>\n",
       "      <td>0.0</td>\n",
       "      <td>0.00</td>\n",
       "      <td>0.08</td>\n",
       "      <td>0.0</td>\n",
       "      <td>0.0</td>\n",
       "      <td>0.00</td>\n",
       "    </tr>\n",
       "    <tr>\n",
       "      <th rowspan=\"8\" valign=\"top\">symmetry</th>\n",
       "      <th>B1</th>\n",
       "      <td>0.0</td>\n",
       "      <td>0.0</td>\n",
       "      <td>0.00</td>\n",
       "      <td>0.04</td>\n",
       "      <td>0.0</td>\n",
       "      <td>0.0</td>\n",
       "      <td>0.00</td>\n",
       "    </tr>\n",
       "    <tr>\n",
       "      <th>B2</th>\n",
       "      <td>0.0</td>\n",
       "      <td>0.0</td>\n",
       "      <td>0.00</td>\n",
       "      <td>0.02</td>\n",
       "      <td>0.0</td>\n",
       "      <td>0.0</td>\n",
       "      <td>0.00</td>\n",
       "    </tr>\n",
       "    <tr>\n",
       "      <th>B3</th>\n",
       "      <td>0.0</td>\n",
       "      <td>0.0</td>\n",
       "      <td>0.00</td>\n",
       "      <td>0.04</td>\n",
       "      <td>0.0</td>\n",
       "      <td>0.0</td>\n",
       "      <td>0.00</td>\n",
       "    </tr>\n",
       "    <tr>\n",
       "      <th>B4</th>\n",
       "      <td>0.0</td>\n",
       "      <td>0.0</td>\n",
       "      <td>0.00</td>\n",
       "      <td>0.09</td>\n",
       "      <td>0.0</td>\n",
       "      <td>0.0</td>\n",
       "      <td>0.00</td>\n",
       "    </tr>\n",
       "    <tr>\n",
       "      <th>C1</th>\n",
       "      <td>0.0</td>\n",
       "      <td>0.0</td>\n",
       "      <td>0.00</td>\n",
       "      <td>0.11</td>\n",
       "      <td>0.0</td>\n",
       "      <td>0.0</td>\n",
       "      <td>0.00</td>\n",
       "    </tr>\n",
       "    <tr>\n",
       "      <th>C2</th>\n",
       "      <td>0.0</td>\n",
       "      <td>0.0</td>\n",
       "      <td>0.00</td>\n",
       "      <td>0.05</td>\n",
       "      <td>0.0</td>\n",
       "      <td>0.0</td>\n",
       "      <td>0.00</td>\n",
       "    </tr>\n",
       "    <tr>\n",
       "      <th>C3</th>\n",
       "      <td>0.0</td>\n",
       "      <td>0.0</td>\n",
       "      <td>0.00</td>\n",
       "      <td>0.04</td>\n",
       "      <td>0.0</td>\n",
       "      <td>0.0</td>\n",
       "      <td>0.00</td>\n",
       "    </tr>\n",
       "    <tr>\n",
       "      <th>C4</th>\n",
       "      <td>0.0</td>\n",
       "      <td>0.0</td>\n",
       "      <td>0.00</td>\n",
       "      <td>0.05</td>\n",
       "      <td>0.0</td>\n",
       "      <td>0.0</td>\n",
       "      <td>0.00</td>\n",
       "    </tr>\n",
       "    <tr>\n",
       "      <th rowspan=\"8\" valign=\"top\">train</th>\n",
       "      <th>A1</th>\n",
       "      <td>0.0</td>\n",
       "      <td>0.0</td>\n",
       "      <td>0.57</td>\n",
       "      <td>1.00</td>\n",
       "      <td>1.0</td>\n",
       "      <td>1.0</td>\n",
       "      <td>0.38</td>\n",
       "    </tr>\n",
       "    <tr>\n",
       "      <th>A2</th>\n",
       "      <td>0.0</td>\n",
       "      <td>0.0</td>\n",
       "      <td>0.57</td>\n",
       "      <td>0.99</td>\n",
       "      <td>1.0</td>\n",
       "      <td>1.0</td>\n",
       "      <td>0.37</td>\n",
       "    </tr>\n",
       "    <tr>\n",
       "      <th>A3</th>\n",
       "      <td>0.0</td>\n",
       "      <td>0.0</td>\n",
       "      <td>0.57</td>\n",
       "      <td>0.99</td>\n",
       "      <td>1.0</td>\n",
       "      <td>1.0</td>\n",
       "      <td>0.42</td>\n",
       "    </tr>\n",
       "    <tr>\n",
       "      <th>A4</th>\n",
       "      <td>0.0</td>\n",
       "      <td>0.0</td>\n",
       "      <td>0.57</td>\n",
       "      <td>0.99</td>\n",
       "      <td>1.0</td>\n",
       "      <td>1.0</td>\n",
       "      <td>0.43</td>\n",
       "    </tr>\n",
       "    <tr>\n",
       "      <th>B1</th>\n",
       "      <td>0.0</td>\n",
       "      <td>0.0</td>\n",
       "      <td>0.57</td>\n",
       "      <td>0.99</td>\n",
       "      <td>1.0</td>\n",
       "      <td>1.0</td>\n",
       "      <td>0.38</td>\n",
       "    </tr>\n",
       "    <tr>\n",
       "      <th>B2</th>\n",
       "      <td>0.0</td>\n",
       "      <td>0.0</td>\n",
       "      <td>0.57</td>\n",
       "      <td>0.98</td>\n",
       "      <td>1.0</td>\n",
       "      <td>1.0</td>\n",
       "      <td>0.37</td>\n",
       "    </tr>\n",
       "    <tr>\n",
       "      <th>B3</th>\n",
       "      <td>0.0</td>\n",
       "      <td>0.0</td>\n",
       "      <td>0.57</td>\n",
       "      <td>0.98</td>\n",
       "      <td>1.0</td>\n",
       "      <td>1.0</td>\n",
       "      <td>0.48</td>\n",
       "    </tr>\n",
       "    <tr>\n",
       "      <th>B4</th>\n",
       "      <td>0.0</td>\n",
       "      <td>0.0</td>\n",
       "      <td>0.57</td>\n",
       "      <td>0.99</td>\n",
       "      <td>1.0</td>\n",
       "      <td>1.0</td>\n",
       "      <td>0.46</td>\n",
       "    </tr>\n",
       "    <tr>\n",
       "      <th rowspan=\"4\" valign=\"top\">transitivity</th>\n",
       "      <th>A1</th>\n",
       "      <td>0.0</td>\n",
       "      <td>0.0</td>\n",
       "      <td>0.57</td>\n",
       "      <td>0.46</td>\n",
       "      <td>0.0</td>\n",
       "      <td>0.0</td>\n",
       "      <td>0.13</td>\n",
       "    </tr>\n",
       "    <tr>\n",
       "      <th>A2</th>\n",
       "      <td>0.0</td>\n",
       "      <td>0.0</td>\n",
       "      <td>0.57</td>\n",
       "      <td>0.46</td>\n",
       "      <td>0.0</td>\n",
       "      <td>0.0</td>\n",
       "      <td>0.11</td>\n",
       "    </tr>\n",
       "    <tr>\n",
       "      <th>A3</th>\n",
       "      <td>0.0</td>\n",
       "      <td>0.0</td>\n",
       "      <td>0.57</td>\n",
       "      <td>0.49</td>\n",
       "      <td>0.0</td>\n",
       "      <td>0.0</td>\n",
       "      <td>0.15</td>\n",
       "    </tr>\n",
       "    <tr>\n",
       "      <th>A4</th>\n",
       "      <td>0.0</td>\n",
       "      <td>0.0</td>\n",
       "      <td>0.57</td>\n",
       "      <td>0.51</td>\n",
       "      <td>0.0</td>\n",
       "      <td>0.0</td>\n",
       "      <td>0.09</td>\n",
       "    </tr>\n",
       "  </tbody>\n",
       "</table>\n",
       "</div>"
      ],
      "text/plain": [
       "clasif                      AdaBoost  Linear SVM  Naive Bayes  \\\n",
       "evaluate       sample_stim                                      \n",
       "equivalence    C1                0.0         0.0         0.00   \n",
       "               C2                0.0         0.0         0.00   \n",
       "               C3                0.0         0.0         0.00   \n",
       "               C4                0.0         0.0         0.00   \n",
       "explicit_train TX                1.0         1.0         0.60   \n",
       "               TY                1.0         1.0         0.60   \n",
       "               TZ                1.0         1.0         0.60   \n",
       "reflexivity    A1                0.0         0.0         0.00   \n",
       "               A2                0.0         0.0         0.00   \n",
       "               A3                0.0         0.0         0.00   \n",
       "               A4                0.0         0.0         0.00   \n",
       "               B1                0.0         0.0         0.57   \n",
       "               B2                0.0         0.0         0.57   \n",
       "               B3                0.0         0.0         0.57   \n",
       "               B4                0.0         0.0         0.57   \n",
       "               C1                0.0         0.0         0.00   \n",
       "               C2                0.0         0.0         0.00   \n",
       "               C3                0.0         0.0         0.00   \n",
       "               C4                0.0         0.0         0.00   \n",
       "symmetry       B1                0.0         0.0         0.00   \n",
       "               B2                0.0         0.0         0.00   \n",
       "               B3                0.0         0.0         0.00   \n",
       "               B4                0.0         0.0         0.00   \n",
       "               C1                0.0         0.0         0.00   \n",
       "               C2                0.0         0.0         0.00   \n",
       "               C3                0.0         0.0         0.00   \n",
       "               C4                0.0         0.0         0.00   \n",
       "train          A1                0.0         0.0         0.57   \n",
       "               A2                0.0         0.0         0.57   \n",
       "               A3                0.0         0.0         0.57   \n",
       "               A4                0.0         0.0         0.57   \n",
       "               B1                0.0         0.0         0.57   \n",
       "               B2                0.0         0.0         0.57   \n",
       "               B3                0.0         0.0         0.57   \n",
       "               B4                0.0         0.0         0.57   \n",
       "transitivity   A1                0.0         0.0         0.57   \n",
       "               A2                0.0         0.0         0.57   \n",
       "               A3                0.0         0.0         0.57   \n",
       "               A4                0.0         0.0         0.57   \n",
       "\n",
       "clasif                      Nearest Neighbors  QDA  RBF SVM  Random Forest  \n",
       "evaluate       sample_stim                                                  \n",
       "equivalence    C1                        0.00  0.0      0.0           0.00  \n",
       "               C2                        0.01  0.0      0.0           0.00  \n",
       "               C3                        0.00  0.0      0.0           0.00  \n",
       "               C4                        0.00  0.0      0.0           0.00  \n",
       "explicit_train TX                        1.00  1.0      1.0           1.00  \n",
       "               TY                        0.99  1.0      1.0           1.00  \n",
       "               TZ                        1.00  1.0      1.0           1.00  \n",
       "reflexivity    A1                        0.07  0.0      0.0           0.00  \n",
       "               A2                        0.06  0.0      0.0           0.00  \n",
       "               A3                        0.05  0.0      0.0           0.00  \n",
       "               A4                        0.06  0.0      0.0           0.00  \n",
       "               B1                        0.47  0.0      0.0           0.14  \n",
       "               B2                        0.43  0.0      0.0           0.11  \n",
       "               B3                        0.48  0.0      0.0           0.17  \n",
       "               B4                        0.47  0.0      0.0           0.12  \n",
       "               C1                        0.08  0.0      0.0           0.00  \n",
       "               C2                        0.03  0.0      0.0           0.00  \n",
       "               C3                        0.05  0.0      0.0           0.00  \n",
       "               C4                        0.08  0.0      0.0           0.00  \n",
       "symmetry       B1                        0.04  0.0      0.0           0.00  \n",
       "               B2                        0.02  0.0      0.0           0.00  \n",
       "               B3                        0.04  0.0      0.0           0.00  \n",
       "               B4                        0.09  0.0      0.0           0.00  \n",
       "               C1                        0.11  0.0      0.0           0.00  \n",
       "               C2                        0.05  0.0      0.0           0.00  \n",
       "               C3                        0.04  0.0      0.0           0.00  \n",
       "               C4                        0.05  0.0      0.0           0.00  \n",
       "train          A1                        1.00  1.0      1.0           0.38  \n",
       "               A2                        0.99  1.0      1.0           0.37  \n",
       "               A3                        0.99  1.0      1.0           0.42  \n",
       "               A4                        0.99  1.0      1.0           0.43  \n",
       "               B1                        0.99  1.0      1.0           0.38  \n",
       "               B2                        0.98  1.0      1.0           0.37  \n",
       "               B3                        0.98  1.0      1.0           0.48  \n",
       "               B4                        0.99  1.0      1.0           0.46  \n",
       "transitivity   A1                        0.46  0.0      0.0           0.13  \n",
       "               A2                        0.46  0.0      0.0           0.11  \n",
       "               A3                        0.49  0.0      0.0           0.15  \n",
       "               A4                        0.51  0.0      0.0           0.09  "
      ]
     },
     "execution_count": 53,
     "metadata": {},
     "output_type": "execute_result"
    }
   ],
   "source": [
    "((stim_samples_scores_pdf.pivot_table(index=[\"evaluate\",\"sample_stim\"], columns=\"clasif\", values=\"score\")).round(2))"
   ]
  }
 ],
 "metadata": {
  "kernelspec": {
   "display_name": "Python 3 (ipykernel)",
   "language": "python",
   "name": "python3"
  },
  "language_info": {
   "codemirror_mode": {
    "name": "ipython",
    "version": 3
   },
   "file_extension": ".py",
   "mimetype": "text/x-python",
   "name": "python",
   "nbconvert_exporter": "python",
   "pygments_lexer": "ipython3",
   "version": "3.7.12"
  },
  "nteract": {
   "version": "0.28.0"
  }
 },
 "nbformat": 4,
 "nbformat_minor": 4
}
