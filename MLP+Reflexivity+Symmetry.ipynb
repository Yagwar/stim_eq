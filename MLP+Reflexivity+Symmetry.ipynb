{
 "cells": [
  {
   "cell_type": "code",
   "execution_count": 1,
   "metadata": {},
   "outputs": [],
   "source": [
    "import numpy as np\n",
    "import pandas as pd\n",
    "from matplotlib import pyplot as plt\n",
    "%matplotlib inline\n",
    "\n",
    "#pybrain net\n",
    "import pybrain\n",
    "from pybrain.datasets import UnsupervisedDataSet, SupervisedDataSet\n",
    "from pybrain.tools.shortcuts import buildNetwork\n",
    "from pybrain.supervised.trainers import BackpropTrainer\n",
    "from pybrain.tools.validation import Validator\n",
    "\n",
    "#scikit-learn\n",
    "from sklearn.neural_network import MLPClassifier\n",
    "from sklearn.model_selection import train_test_split\n",
    "\n",
    "#datasets\n",
    "import train_datasets as tr_dat"
   ]
  },
  {
   "cell_type": "code",
   "execution_count": 2,
   "metadata": {
    "collapsed": true
   },
   "outputs": [],
   "source": [
    "def mlp_trainer(X_train,y_train,in_vec=20,out_vec=3, train_length=1500):\n",
    "    # X_train = array de entrenamiento: valores de entrada\n",
    "    # y_train = array de entrenamiento: valores de salida\n",
    "    # in_vec = longitud vector valores de entrada\n",
    "    # out_vec = longitud vector valores de salida\n",
    "    # train_length = Cantidad de ensayos de entrenamiento\n",
    "    Dtrain = SupervisedDataSet(in_vec,out_vec) # define a dataset in pybrain\n",
    "    [Dtrain.addSample(X_train[i],y_train[i]) for i in xrange(len(X_train))]\n",
    "    validator =  Validator()\n",
    "    net = buildNetwork(in_vec,4,out_vec, hiddenclass=pybrain.SigmoidLayer, outclass=pybrain.SigmoidLayer)\n",
    "    T = BackpropTrainer(net, learningrate=0.01, momentum=0.99)\n",
    "    scores = []\n",
    "    for i in xrange(train_length):\n",
    "        T.trainOnDataset(Dtrain, 1)\n",
    "        prediction = net.activateOnDataset(Dtrain)\n",
    "        scores.append(validator.MSE(prediction, Dtrain.getField('target')))\n",
    "    plt.ylabel('Mean Square Error')\n",
    "    plt.xlabel('Iteration')\n",
    "    plt.plot(scores)\n",
    "    print(\"**** Respuestas de entrenamiento\")\n",
    "    print(pd.DataFrame([[net.activate(X_train[i]),y_train[i]] for i in xrange(len(X_train))]))\n",
    "    print (\"Error ensayo final\", scores[train_length-1])\n",
    "    return net\n",
    "    "
   ]
  },
  {
   "cell_type": "markdown",
   "metadata": {},
   "source": [
    "# Reflexivity\n",
    "## Trainning"
   ]
  },
  {
   "cell_type": "code",
   "execution_count": 3,
   "metadata": {
    "collapsed": true
   },
   "outputs": [],
   "source": [
    "reflexiv_A_A=tr_dat.reflexiv"
   ]
  },
  {
   "cell_type": "code",
   "execution_count": 4,
   "metadata": {
    "collapsed": true
   },
   "outputs": [],
   "source": [
    "X_reflexiv_A_A=[dat[0] for dat in reflexiv_A_A]\n",
    "y_reflexiv_A_A=[dat[1] for dat in reflexiv_A_A]\n",
    "\n",
    "X_train_reflexiv_A_A, X_test_reflexiv_A_A, y_train_reflexiv_A_A, y_test_reflexiv_A_A = train_test_split(X_reflexiv_A_A,y_reflexiv_A_A, test_size=0.2)"
   ]
  },
  {
   "cell_type": "code",
   "execution_count": 5,
   "metadata": {},
   "outputs": [
    {
     "name": "stdout",
     "output_type": "stream",
     "text": [
      "**** Respuestas de entrenamiento\n",
      "                                                     0          1\n",
      "0    [0.0116949080778, 3.68106790631e-08, 0.0401990...  [0, 0, 0]\n",
      "1    [3.91527589366e-13, 0.965422977909, 0.05672657...  [0, 1, 0]\n",
      "2    [0.999999999999, 5.37253682328e-25, 0.04662974...  [1, 0, 0]\n",
      "3    [3.61292434792e-07, 0.00547414581348, 0.065130...  [0, 0, 0]\n",
      "4    [0.999999999902, 1.56320016601e-22, 0.04515664...  [1, 0, 0]\n",
      "5    [4.52299209184e-05, 7.30876105981e-05, 0.04722...  [0, 0, 0]\n",
      "6    [0.910475671063, 7.02718827116e-11, 0.03577075...  [1, 0, 0]\n",
      "7    [0.724050315625, 3.22232136125e-10, 0.03688378...  [1, 0, 0]\n",
      "8    [8.34842757611e-10, 0.933106405608, 0.06117741...  [0, 1, 0]\n",
      "9    [0.899954294497, 8.06816425043e-11, 0.03587051...  [1, 0, 0]\n",
      "10   [0.976528039476, 2.14096263071e-13, 0.07874911...  [1, 0, 0]\n",
      "11   [0.000651264749062, 5.38451198641e-07, 0.04222...  [0, 0, 1]\n",
      "12   [1.10693516034e-06, 0.0257160364644, 0.0710834...  [0, 0, 0]\n",
      "13   [4.23540429166e-13, 0.962384566796, 0.05773835...  [0, 1, 0]\n",
      "14   [0.999900436354, 4.40457915829e-16, 0.06900883...  [1, 0, 0]\n",
      "15   [0.999971321503, 3.12030533355e-13, 0.07593219...  [1, 0, 0]\n",
      "16   [0.0525833822101, 2.45882844303e-08, 0.0402365...  [0, 0, 0]\n",
      "17   [0.00142020354388, 1.25866313278e-07, 0.070869...  [0, 0, 0]\n",
      "18   [0.814305585195, 3.92458502271e-12, 0.07695640...  [1, 0, 0]\n",
      "19   [3.08467143592e-12, 0.034815629046, 0.11979306...  [0, 0, 0]\n",
      "20   [0.88115973712, 1.00290505434e-10, 0.036027903...  [0, 0, 0]\n",
      "21   [5.04169639012e-05, 1.05282869328e-05, 0.10681...  [0, 0, 0]\n",
      "22   [9.92200936621e-06, 7.63847502539e-05, 0.06738...  [0, 0, 1]\n",
      "23   [6.36603723553e-07, 0.0400015793106, 0.0697743...  [0, 0, 0]\n",
      "24   [1.03092111847e-09, 0.931518839225, 0.06134075...  [0, 1, 0]\n",
      "25   [2.73419068181e-07, 0.0332747305378, 0.0572577...  [0, 0, 0]\n",
      "26   [7.92010831805e-08, 0.000816682728267, 0.04793...  [0, 0, 0]\n",
      "27   [0.999832926464, 1.86574804426e-14, 0.03824533...  [1, 0, 0]\n",
      "28   [0.0146423643215, 4.72399539555e-13, 0.0746279...  [0, 0, 0]\n",
      "29   [2.76503779504e-13, 0.972990893841, 0.05716773...  [0, 1, 0]\n",
      "..                                                 ...        ...\n",
      "210  [2.64155688049e-11, 0.00321737326941, 0.114579...  [0, 0, 0]\n",
      "211  [5.8647819402e-10, 0.955866960151, 0.060987954...  [0, 1, 0]\n",
      "212  [0.0146384398429, 4.73073178818e-13, 0.0746132...  [0, 0, 1]\n",
      "213  [1.32196579881e-09, 0.899783528298, 0.05950677...  [0, 1, 0]\n",
      "214  [0.000315169786434, 1.98288631291e-08, 0.18335...  [0, 0, 1]\n",
      "215  [5.75739206159e-08, 0.115719577872, 0.05475201...  [0, 0, 0]\n",
      "216  [6.60752118696e-10, 0.949651885111, 0.06103053...  [0, 1, 0]\n",
      "217  [1.36604654713e-05, 0.00232758302567, 0.087004...  [0, 0, 1]\n",
      "218  [7.10394861729e-10, 0.944999575914, 0.06107537...  [0, 1, 0]\n",
      "219  [9.5982915715e-10, 0.9209472353, 0.0612656348225]  [0, 1, 0]\n",
      "220  [6.33425369755e-10, 0.954123755505, 0.06050035...  [0, 1, 0]\n",
      "221  [2.84107595046e-13, 0.972054933769, 0.05718384...  [0, 1, 0]\n",
      "222  [2.4727399832e-09, 0.818142033356, 0.058709522...  [0, 1, 0]\n",
      "223  [2.63863178304e-12, 0.0543498886608, 0.1208749...  [0, 0, 1]\n",
      "224  [2.83384484874e-08, 0.178245703387, 0.05822018...  [0, 0, 1]\n",
      "225  [0.0136954781957, 1.16702353973e-07, 0.0415109...  [0, 0, 1]\n",
      "226  [0.957821180158, 6.80812909161e-09, 0.09914004...  [1, 0, 0]\n",
      "227  [4.43264917818e-06, 0.000992271622959, 0.04972...  [0, 0, 0]\n",
      "228  [0.709049297552, 3.50075658497e-10, 0.03694525...  [1, 0, 0]\n",
      "229  [2.48270023234e-06, 0.000456782161058, 0.06643...  [0, 0, 0]\n",
      "230  [0.00511734221292, 1.55944158702e-12, 0.076351...  [0, 0, 1]\n",
      "231  [8.01234143607e-08, 0.0828922458455, 0.0543672...  [0, 0, 0]\n",
      "232  [0.999999999938, 8.34308582731e-23, 0.04571555...  [1, 0, 0]\n",
      "233  [3.41266718554e-17, 0.999998521025, 0.09208806...  [0, 1, 0]\n",
      "234  [1.54305593153e-08, 0.285205637475, 0.06051488...  [0, 0, 0]\n",
      "235  [0.000150273256647, 1.88978104104e-05, 0.04594...  [0, 0, 0]\n",
      "236  [5.87641107244e-10, 0.957685688921, 0.06059859...  [0, 1, 0]\n",
      "237  [7.36404214331e-10, 0.946101866209, 0.06030054...  [0, 1, 0]\n",
      "238  [2.12896940605e-07, 0.017159772585, 0.05913016...  [0, 0, 0]\n",
      "239  [2.79429768332e-06, 0.000392136902138, 0.06651...  [0, 0, 1]\n",
      "\n",
      "[240 rows x 2 columns]\n",
      "('Error ensayo final', 0.057123749525115661)\n"
     ]
    },
    {
     "data": {
      "image/png": "[encoded data removed]",
      "text/plain": [
       "<matplotlib.figure.Figure at 0x7f7bbad8fad0>"
      ]
     },
     "metadata": {},
     "output_type": "display_data"
    }
   ],
   "source": [
    "a_a_net=mlp_trainer(X_train_reflexiv_A_A,y_train_reflexiv_A_A,train_length=1500)"
   ]
  },
  {
   "cell_type": "markdown",
   "metadata": {},
   "source": [
    "## Trainning Evaluation"
   ]
  },
  {
   "cell_type": "code",
   "execution_count": 6,
   "metadata": {},
   "outputs": [
    {
     "data": {
      "text/plain": [
       "[[array([  8.79512776e-01,   1.02065814e-10,   3.60406175e-02]), [0, 0, 0]],\n",
       " [array([  1.39863428e-11,   9.98027960e-01,   6.59181453e-02]), [0, 1, 0]],\n",
       " [array([  4.52724972e-01,   1.11198585e-09,   3.83079476e-02]), [0, 0, 0]],\n",
       " [array([  9.04321629e-01,   1.45567048e-12,   7.75604240e-02]), [1, 0, 0]],\n",
       " [array([  9.03648937e-05,   3.34754764e-05,   4.64735533e-02]), [0, 0, 1]],\n",
       " [array([  6.76147535e-01,   4.17033901e-10,   3.70785046e-02]), [0, 0, 0]],\n",
       " [array([  2.22260110e-09,   8.35465808e-01,   5.88469960e-02]), [0, 0, 0]],\n",
       " [array([  4.85329031e-07,   1.17774532e-02,   5.22207185e-02]), [0, 0, 1]],\n",
       " [array([  1.29965663e-04,   6.30884742e-08,   1.81473966e-01]), [0, 0, 0]],\n",
       " [array([  9.99940667e-01,   6.02120076e-13,   7.64573710e-02]), [1, 0, 0]],\n",
       " [array([  2.72656319e-13,   9.73462334e-01,   5.71594146e-02]), [0, 1, 0]],\n",
       " [array([  8.06915917e-10,   9.35878278e-01,   6.11442379e-02]), [0, 1, 0]],\n",
       " [array([  1.96398462e-07,   1.94228372e-02,   5.88286712e-02]), [0, 0, 0]],\n",
       " [array([  2.31853433e-10,   1.52716785e-02,   6.28309097e-02]), [0, 0, 1]],\n",
       " [array([  1.34919673e-06,   1.07218455e-03,   6.61300895e-02]), [0, 0, 1]],\n",
       " [array([  9.76335185e-01,   2.16731301e-13,   7.87324528e-02]), [1, 0, 0]],\n",
       " [array([  7.63805977e-09,   5.41661837e-03,   4.90122495e-02]), [0, 0, 1]],\n",
       " [array([  1.00000000e+00,   9.45012943e-24,   4.92703274e-02]), [1, 0, 0]],\n",
       " [array([  9.99999841e-01,   3.38036641e-19,   5.95824458e-02]), [1, 0, 0]],\n",
       " [array([  7.04785301e-08,   4.74368276e-02,   6.29126449e-02]), [0, 0, 0]],\n",
       " [array([  2.00961219e-09,   8.51214319e-01,   5.90586143e-02]), [0, 1, 0]],\n",
       " [array([  1.99193520e-02,   3.35388767e-13,   7.39843355e-02]), [0, 0, 0]],\n",
       " [array([  6.17312746e-11,   3.45101994e-02,   6.02504323e-02]), [0, 0, 0]],\n",
       " [array([  4.68350261e-04,   6.21483636e-05,   1.16942361e-01]), [0, 0, 1]],\n",
       " [array([  1.61162334e-06,   1.02453871e-02,   1.24890563e-01]), [0, 0, 1]],\n",
       " [array([  7.04747631e-05,   3.97049200e-04,   1.18596562e-01]), [0, 0, 0]],\n",
       " [array([  9.36304066e-01,   9.90613448e-09,   9.99694594e-02]), [1, 0, 0]],\n",
       " [array([  5.82570197e-02,   9.65580057e-10,   7.36408072e-02]), [0, 0, 1]],\n",
       " [array([  5.31212547e-10,   9.62049688e-01,   6.07345781e-02]), [0, 1, 0]],\n",
       " [array([  3.90610934e-01,   1.52131288e-09,   3.83254544e-02]), [0, 0, 0]],\n",
       " [array([  2.01228842e-02,   4.01039472e-09,   7.28149379e-02]), [0, 0, 1]],\n",
       " [array([  1.93946801e-06,   1.02160837e-03,   6.03202494e-02]), [0, 0, 1]],\n",
       " [array([  9.86719091e-01,   1.05787422e-09,   1.01724125e-01]), [1, 0, 0]],\n",
       " [array([  1.87320121e-02,   3.63669290e-13,   7.39366491e-02]), [0, 0, 1]],\n",
       " [array([  3.10842089e-10,   4.29985656e-03,   6.14192805e-02]), [0, 0, 0]],\n",
       " [array([  6.78264749e-07,   3.69304846e-03,   6.04648586e-02]), [0, 0, 1]],\n",
       " [array([  9.13118787e-01,   1.32434731e-08,   1.00443674e-01]), [1, 0, 0]],\n",
       " [array([  4.95901292e-10,   9.64887554e-01,   6.08574609e-02]), [0, 0, 1]],\n",
       " [array([  3.69860339e-02,   8.82507379e-09,   3.89322901e-02]), [0, 0, 0]],\n",
       " [array([  4.62728196e-02,   1.41726530e-06,   8.74691626e-02]), [0, 0, 0]],\n",
       " [array([  5.14071221e-02,   2.76201940e-08,   4.09619529e-02]), [0, 0, 1]],\n",
       " [array([  4.47374849e-11,   9.88208791e-01,   1.44729573e-01]), [0, 1, 0]],\n",
       " [array([  6.27727873e-11,   3.90847449e-02,   5.98033749e-02]), [0, 0, 1]],\n",
       " [array([  5.27811534e-11,   9.93570035e-01,   6.45190560e-02]), [0, 1, 0]],\n",
       " [array([  8.61738552e-01,   1.21893886e-10,   3.61695604e-02]), [0, 0, 1]],\n",
       " [array([  9.84240734e-01,   1.43571005e-09,   1.00957163e-01]), [1, 0, 0]],\n",
       " [array([  2.34143116e-14,   9.98927152e-01,   6.45182668e-02]), [0, 1, 0]],\n",
       " [array([  1.53870761e-07,   2.71714555e-02,   5.65463473e-02]), [1, 0, 0]],\n",
       " [array([  9.32734222e-01,   1.04182830e-08,   1.00052295e-01]), [1, 0, 0]],\n",
       " [array([  7.47971703e-02,   1.61076129e-08,   3.98968451e-02]), [0, 0, 0]],\n",
       " [array([  1.44994743e-01,   6.99869922e-09,   3.92354694e-02]), [1, 0, 0]],\n",
       " [array([  7.66593485e-09,   4.14663104e-05,   1.45267558e-01]), [0, 0, 0]],\n",
       " [array([  6.63496998e-01,   4.44788029e-10,   3.71274731e-02]), [0, 0, 1]],\n",
       " [array([  2.17610327e-12,   6.34856806e-02,   1.21208175e-01]), [0, 0, 0]],\n",
       " [array([  5.79340185e-02,   1.39955686e-06,   8.83483383e-02]), [0, 0, 1]],\n",
       " [array([  3.89023143e-04,   6.78846373e-07,   6.97763760e-02]), [0, 0, 0]],\n",
       " [array([  1.52621520e-09,   2.15611179e-02,   5.02087531e-02]), [0, 0, 0]],\n",
       " [array([  1.00000000e+00,   1.16149740e-22,   4.53076492e-02]), [1, 0, 0]],\n",
       " [array([  3.74038601e-10,   7.23283837e-03,   5.87578919e-02]), [0, 0, 1]],\n",
       " [array([  3.32948462e-05,   1.03193432e-04,   4.75562414e-02]), [0, 0, 1]]]"
      ]
     },
     "execution_count": 6,
     "metadata": {},
     "output_type": "execute_result"
    }
   ],
   "source": [
    "([[a_a_net.activate(X_test_reflexiv_A_A[i]),y_test_reflexiv_A_A[i]] for i in xrange(len(X_test_reflexiv_A_A))])"
   ]
  },
  {
   "cell_type": "markdown",
   "metadata": {},
   "source": [
    "# Symmetry\n",
    "## Trainning (A-B)"
   ]
  },
  {
   "cell_type": "code",
   "execution_count": 7,
   "metadata": {
    "collapsed": true
   },
   "outputs": [],
   "source": [
    "symmetry_A_B=tr_dat.symmetry_A_B"
   ]
  },
  {
   "cell_type": "code",
   "execution_count": 8,
   "metadata": {
    "collapsed": true
   },
   "outputs": [],
   "source": [
    "X_symmetry_A_B=[dat[0] for dat in symmetry_A_B]\n",
    "y_symmetry_A_B=[dat[1] for dat in symmetry_A_B]\n",
    "\n",
    "X_train_symmetry_A_B, X_test_symmetry_A_B, y_train_symmetry_A_B, y_test_symmetry_A_B = train_test_split(X_symmetry_A_B,y_symmetry_A_B, test_size=0.2)"
   ]
  },
  {
   "cell_type": "code",
   "execution_count": 9,
   "metadata": {},
   "outputs": [
    {
     "name": "stdout",
     "output_type": "stream",
     "text": [
      "**** Respuestas de entrenamiento\n",
      "                                                    0          1\n",
      "0   [0.987880300896, 2.49738667903e-05, 0.00479888...  [1, 0, 0]\n",
      "1   [0.986955078903, 2.42301610746e-05, 0.00533746...  [1, 0, 0]\n",
      "2   [0.00800949372036, 0.0115262395275, 0.98561821...  [0, 0, 1]\n",
      "3   [0.00920622907095, 0.0083671115182, 0.00588913...  [0, 0, 0]\n",
      "4   [0.0110796649299, 0.0106126064581, 0.984699198...  [0, 0, 1]\n",
      "5   [1.53032366985e-05, 0.990696993499, 0.00392205...  [0, 1, 0]\n",
      "6   [0.0094261544892, 0.00951787842569, 0.00509672...  [0, 0, 0]\n",
      "7   [0.0103192450345, 0.0109704606593, 0.005458947...  [0, 0, 0]\n",
      "8   [0.986866217348, 2.58091575389e-05, 0.00494592...  [1, 0, 0]\n",
      "9   [1.64976053077e-05, 0.988610124307, 0.00390252...  [0, 1, 0]\n",
      "10  [0.00933719348995, 0.0112890276074, 0.00638008...  [0, 0, 0]\n",
      "11  [1.60457282664e-05, 0.988890181365, 0.00420845...  [0, 1, 0]\n",
      "12  [0.985595507177, 2.50172561572e-05, 0.00554731...  [1, 0, 0]\n",
      "13  [0.00962253891813, 0.0116326704019, 0.98542075...  [0, 0, 1]\n",
      "14  [1.5445812513e-05, 0.988889705203, 0.005648644...  [0, 1, 0]\n",
      "15  [0.00978847386179, 0.00682644325268, 0.0089640...  [0, 0, 0]\n",
      "16  [0.0100922098157, 0.0111593896569, 0.985080950...  [0, 0, 1]\n",
      "17  [0.0077107144081, 0.00669774900022, 0.00797311...  [0, 0, 0]\n",
      "18  [1.61127258178e-05, 0.98698969618, 0.005628062...  [0, 1, 0]\n",
      "('Error ensayo final', 8.0848677726485943e-05)\n"
     ]
    },
    {
     "data": {
      "image/png": "[encoded data removed]",
      "text/plain": [
       "<matplotlib.figure.Figure at 0x7f7ba6014a90>"
      ]
     },
     "metadata": {},
     "output_type": "display_data"
    }
   ],
   "source": [
    "a_b_net=mlp_trainer(X_train_symmetry_A_B,y_train_symmetry_A_B,train_length=1500)"
   ]
  },
  {
   "cell_type": "markdown",
   "metadata": {},
   "source": [
    "## Trainning Evaluation"
   ]
  },
  {
   "cell_type": "code",
   "execution_count": 10,
   "metadata": {},
   "outputs": [
    {
     "data": {
      "text/plain": [
       "[[array([  2.49531468e-05,   9.45145368e-01,   1.74970996e-02]), [0, 1, 0]],\n",
       " [array([  9.85622248e-01,   2.48821173e-05,   6.52086096e-03]), [1, 0, 0]],\n",
       " [array([ 0.00800184,  0.01256778,  0.98360742]), [0, 0, 1]],\n",
       " [array([  9.84432030e-01,   2.62569377e-05,   5.26651679e-03]), [1, 0, 0]],\n",
       " [array([ 0.01386434,  0.01443292,  0.9815604 ]), [0, 0, 1]]]"
      ]
     },
     "execution_count": 10,
     "metadata": {},
     "output_type": "execute_result"
    }
   ],
   "source": [
    "([[a_b_net.activate(X_test_symmetry_A_B[i]),y_test_symmetry_A_B[i]] for i in xrange(len(X_test_symmetry_A_B))])"
   ]
  },
  {
   "cell_type": "markdown",
   "metadata": {},
   "source": [
    "## Relational Response Symmetry Evaluation (B-A)\n"
   ]
  },
  {
   "cell_type": "code",
   "execution_count": 11,
   "metadata": {
    "collapsed": true
   },
   "outputs": [],
   "source": [
    "symmetry_B_A=tr_dat.symmetry_B_A"
   ]
  },
  {
   "cell_type": "code",
   "execution_count": 12,
   "metadata": {
    "collapsed": true
   },
   "outputs": [],
   "source": [
    "X_symmetry_B_A=[dat[0] for dat in symmetry_B_A]\n",
    "y_symmetry_B_A=[dat[1] for dat in symmetry_B_A]"
   ]
  },
  {
   "cell_type": "code",
   "execution_count": 13,
   "metadata": {},
   "outputs": [
    {
     "data": {
      "text/plain": [
       "[[array([ 0.07589395,  0.00290598,  0.00591387]), [1, 0, 0]],\n",
       " [array([ 0.08493619,  0.04935951,  0.00083386]), [1, 0, 0]],\n",
       " [array([ 0.04408018,  0.0120672 ,  0.00809116]), [1, 0, 0]],\n",
       " [array([ 0.0980643 ,  0.00510569,  0.00357931]), [1, 0, 0]],\n",
       " [array([ 0.03847909,  0.07480018,  0.00105519]), [1, 0, 0]],\n",
       " [array([ 0.06797406,  0.00236631,  0.00506752]), [1, 0, 0]],\n",
       " [array([ 0.0061395 ,  0.00524467,  0.02577416]), [0, 1, 0]],\n",
       " [array([ 0.0040227 ,  0.021644  ,  0.00674914]), [0, 1, 0]],\n",
       " [array([ 0.005389  ,  0.01766098,  0.00696624]), [0, 1, 0]],\n",
       " [array([ 0.00409689,  0.02028475,  0.00580062]), [0, 1, 0]],\n",
       " [array([ 0.0015797 ,  0.29816037,  0.00193466]), [0, 1, 0]],\n",
       " [array([ 0.0048443 ,  0.01201091,  0.00917788]), [0, 1, 0]],\n",
       " [array([ 0.00120187,  0.00959619,  0.64367874]), [0, 0, 1]],\n",
       " [array([ 0.00083446,  0.01773791,  0.49802627]), [0, 0, 1]],\n",
       " [array([ 0.00119997,  0.01343715,  0.43821158]), [0, 0, 1]],\n",
       " [array([ 0.0008986 ,  0.01699405,  0.43565654]), [0, 0, 1]],\n",
       " [array([ 0.00064547,  0.06004059,  0.23728616]), [0, 0, 1]],\n",
       " [array([ 0.00087465,  0.01702903,  0.54899031]), [0, 0, 1]]]"
      ]
     },
     "execution_count": 13,
     "metadata": {},
     "output_type": "execute_result"
    }
   ],
   "source": [
    "([[a_b_net.activate(X_symmetry_B_A[i]),y_symmetry_B_A[i]] for i in xrange(len(X_symmetry_B_A))])"
   ]
  }
 ],
 "metadata": {
  "kernelspec": {
   "display_name": "Python [default]",
   "language": "python",
   "name": "python2"
  },
  "language_info": {
   "codemirror_mode": {
    "name": "ipython",
    "version": 2
   },
   "file_extension": ".py",
   "mimetype": "text/x-python",
   "name": "python",
   "nbconvert_exporter": "python",
   "pygments_lexer": "ipython2",
   "version": "2.7.13"
  }
 },
 "nbformat": 4,
 "nbformat_minor": 2
}
