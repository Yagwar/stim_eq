{
 "cells": [
  {
   "cell_type": "markdown",
   "metadata": {},
   "source": [
    "# EQUIVALENCE CLASS:\n",
    "A stimulus class (usually produced through conditional discrimination in matching-to-sample) that includes all possible emergent relations among its members. The properties of an equivalence class are derived from the logical relations of reflexivity, symmetry, and transitivity. **Reflexivity** *refers to the matching of a sample to itself*, sometimes called identity matching (AA, BB, CC, in these examples, each letter pair represents a sample and its matching comparison stimulus). **Symmetry** *refers to the reversibility of a relation (if AB, then BA)*. **Transitivity** *refers to the transfer of the relation to new combinations through shared membership (if AB and BC, then AC)*. \n",
    "If these properties are characteristics of a matching to-sample performance, then training AB and BC may produce AC, BA, CA, and CB as emergent relations (reflexivity provides the three other possible relations, AA, BB, and CC). Given AB and BC, for example, the combination of symmetry and transitivity implies the CA relation. The emergence of all possible stimulus relations after only AB and BC are trained through contingencies is the criterion for calling the three stimuli members of an equivalence class. The class can be extended by training new stimulus relations (e.g., if CD is learned, then AD, DA, BD, DB, and DC may be created as emergent relations). Stimuli that are members of an equivalence class are likely also to be functionally equivalent. It remains to be seen whether the logical properties of these classes are fully consistent with their behavioral ones. Cf. **EQUIVALENCE RELATION**. ([source](http://www.scienceofbehavior.com/lms/mod/glossary/view.php?id=408&mode=letter&hook=E&sortkey=CREATION&sortorder=asc&fullsearch=0&page=3))\n"
   ]
  },
  {
   "cell_type": "markdown",
   "metadata": {},
   "source": [
    "# Libraries"
   ]
  },
  {
   "cell_type": "code",
   "execution_count": 1,
   "metadata": {},
   "outputs": [],
   "source": [
    "import numpy as np\n",
    "import pandas as pd\n",
    "import random\n",
    "import matplotlib.pyplot as plt\n",
    "from time import localtime, strftime\n",
    "\n",
    "%matplotlib inline\n",
    "plt.style.use('seaborn')"
   ]
  },
  {
   "cell_type": "code",
   "execution_count": 2,
   "metadata": {},
   "outputs": [
    {
     "name": "stdout",
     "output_type": "stream",
     "text": [
      "Python 3.7.7 (default, May  6 2020, 11:45:54) [MSC v.1916 64 bit (AMD64)]\n"
     ]
    }
   ],
   "source": [
    "import sys\n",
    "print(\"Python\", sys.version)"
   ]
  },
  {
   "cell_type": "code",
   "execution_count": 3,
   "metadata": {},
   "outputs": [
    {
     "name": "stdout",
     "output_type": "stream",
     "text": [
      "\n",
      "     active environment : sociadisticas\n",
      "    active env location : C:\\Users\\Usuario\\.conda\\envs\\sociadisticas\n",
      "            shell level : 2\n",
      "       user config file : C:\\Users\\Usuario\\.condarc\n",
      " populated config files : C:\\Users\\Usuario\\.condarc\n",
      "          conda version : 4.8.3\n",
      "    conda-build version : 3.18.11\n",
      "         python version : 3.7.7.final.0\n",
      "       virtual packages : \n",
      "       base environment : C:\\ProgramData\\Anaconda3  (writable)\n",
      "           channel URLs : https://repo.anaconda.com/pkgs/main/win-64\n",
      "                          https://repo.anaconda.com/pkgs/main/noarch\n",
      "                          https://repo.anaconda.com/pkgs/r/win-64\n",
      "                          https://repo.anaconda.com/pkgs/r/noarch\n",
      "                          https://repo.anaconda.com/pkgs/msys2/win-64\n",
      "                          https://repo.anaconda.com/pkgs/msys2/noarch\n",
      "          package cache : C:\\ProgramData\\Anaconda3\\pkgs\n",
      "                          C:\\Users\\Usuario\\.conda\\pkgs\n",
      "                          C:\\Users\\Usuario\\AppData\\Local\\conda\\conda\\pkgs\n",
      "       envs directories : C:\\ProgramData\\Anaconda3\\envs\n",
      "                          C:\\Users\\Usuario\\.conda\\envs\n",
      "                          C:\\Users\\Usuario\\AppData\\Local\\conda\\conda\\envs\n",
      "               platform : win-64\n",
      "             user-agent : conda/4.8.3 requests/2.23.0 CPython/3.7.7 Windows/10 Windows/10.0.18362\n",
      "          administrator : True\n",
      "             netrc file : None\n",
      "           offline mode : False\n",
      "\n"
     ]
    }
   ],
   "source": [
    "!conda info"
   ]
  },
  {
   "cell_type": "code",
   "execution_count": 4,
   "metadata": {},
   "outputs": [],
   "source": [
    "def get_trials_subset(trials_info_df, trial_subset_name, array_embeddings_trials, array_answers_trials):\n",
    "    element = array_embeddings_trials[:,0]\n",
    "    test_elements = list(trials_info_df.index[((trials_info_df[[\"sample_c1_subset\",\"sample_c2_subset\",\"sample_c3_subset\"]]==trial_subset_name).sum(axis=1)>0)])\n",
    "    mask = np.isin(element, test_elements)\n",
    "    values_subset= array_embeddings_trials[mask][:,1:]\n",
    "    answers_subset=array_answers_trials[mask][:,1:]\n",
    "    info_subset=trials_info_df.loc[test_elements,:]\n",
    "    return values_subset,answers_subset,info_subset\n",
    "\n",
    "def view_trial(trials_info_df,trial_values,trial_ans, n_trial, n_stimuli=4, n_modes=3, n_classes=5):\n",
    "    print (trials_info_df.iloc[n_trial,:])\n",
    "    print (np.array(trial_values[n_trial]).reshape((n_stimuli,n_modes,n_classes)))\n",
    "    print (trial_ans[n_trial])"
   ]
  },
  {
   "cell_type": "code",
   "execution_count": 5,
   "metadata": {},
   "outputs": [],
   "source": [
    "stims={\"A1\":[1,0,0,0,0,0,0,0,0,0,0,0,0,0,0],\n",
    "       \"A2\":[0,1,0,0,0,0,0,0,0,0,0,0,0,0,0],\n",
    "       \"A3\":[0,0,1,0,0,0,0,0,0,0,0,0,0,0,0],\n",
    "       \"A4\":[0,0,0,1,0,0,0,0,0,0,0,0,0,0,0],\n",
    "       \"TX\":[0,0,0,0,1,0,0,0,0,0,0,0,0,0,0],# For explicitly train class emergency\n",
    "       \"B1\":[0,0,0,0,0,1,0,0,0,0,0,0,0,0,0],\n",
    "       \"B2\":[0,0,0,0,0,0,1,0,0,0,0,0,0,0,0],\n",
    "       \"B3\":[0,0,0,0,0,0,0,1,0,0,0,0,0,0,0],\n",
    "       \"B4\":[0,0,0,0,0,0,0,0,1,0,0,0,0,0,0],\n",
    "       \"TY\":[0,0,0,0,0,0,0,0,0,1,0,0,0,0,0],# For explicitly train class emergency\n",
    "       \"C1\":[0,0,0,0,0,0,0,0,0,0,1,0,0,0,0],\n",
    "       \"C2\":[0,0,0,0,0,0,0,0,0,0,0,1,0,0,0],\n",
    "       \"C3\":[0,0,0,0,0,0,0,0,0,0,0,0,1,0,0],\n",
    "       \"C4\":[0,0,0,0,0,0,0,0,0,0,0,0,0,1,0],\n",
    "       \"TZ\":[0,0,0,0,0,0,0,0,0,0,0,0,0,0,1]# For explicitly train class emergency\n",
    "      }\n",
    "\n",
    "options={\"O_1\":[1,0,0],\n",
    "         \"O_2\":[0,1,0],\n",
    "         \"O_3\":[0,0,1],\n",
    "         \"O_0\":[0,0,0],\n",
    "        }"
   ]
  },
  {
   "cell_type": "markdown",
   "metadata": {},
   "source": [
    "# Stimuli subsets"
   ]
  },
  {
   "cell_type": "markdown",
   "metadata": {},
   "source": [
    "## Trainning \n",
    "### Relation $A_{n}-B_{n}$ and $B_{n}-C_{n}$"
   ]
  },
  {
   "cell_type": "code",
   "execution_count": 6,
   "metadata": {},
   "outputs": [],
   "source": [
    "train_pairs=np.array([[\"A1\",\"B1\"],[\"B1\",\"C1\"],\n",
    "                      [\"A2\",\"B2\"],[\"B2\",\"C2\"],\n",
    "                      [\"A3\",\"B3\"],[\"B3\",\"C3\"],\n",
    "                      [\"A4\",\"B4\"],[\"B4\",\"C4\"],\n",
    "                      [\"A5\",\"B5\"],[\"B5\",\"C5\"],\n",
    "                      [\"A6\",\"B6\"],[\"B6\",\"C6\"]\n",
    "                     ])\n",
    "explicit_train_pairs=np.array([[\"TX\",\"TY\"],[\"TY\",\"TZ\"], # Pairs for Explicit Training\n",
    "                               [\"TX\",\"TZ\"], # Transitivity trainning\n",
    "                               [\"TZ\",\"TX\"], # Equivalence  trainning\n",
    "                               [\"TX\",\"TX\"],[\"TY\",\"TY\"],[\"TZ\",\"TZ\"], # Reflexivity trainning\n",
    "                               [\"TY\",\"TX\"],[\"TZ\",\"TY\"]# Symmetry trainning\n",
    "                              ])"
   ]
  },
  {
   "cell_type": "markdown",
   "metadata": {},
   "source": [
    "## Reflexivity evaluation\n",
    "\n",
    "### Given the sample stimulus $A_{n}$ the agent must select $A_{n}$ among the comparator stimuli"
   ]
  },
  {
   "cell_type": "code",
   "execution_count": 7,
   "metadata": {},
   "outputs": [
    {
     "data": {
      "text/plain": [
       "array([['A1', 'A1'],\n",
       "       ['A2', 'A2'],\n",
       "       ['A3', 'A3'],\n",
       "       ['A4', 'A4'],\n",
       "       ['A5', 'A5'],\n",
       "       ['A6', 'A6'],\n",
       "       ['B1', 'B1'],\n",
       "       ['B2', 'B2'],\n",
       "       ['B3', 'B3'],\n",
       "       ['B4', 'B4'],\n",
       "       ['B5', 'B5'],\n",
       "       ['B6', 'B6'],\n",
       "       ['C1', 'C1'],\n",
       "       ['C2', 'C2'],\n",
       "       ['C3', 'C3'],\n",
       "       ['C4', 'C4'],\n",
       "       ['C5', 'C5'],\n",
       "       ['C6', 'C6']], dtype='<U2')"
      ]
     },
     "execution_count": 7,
     "metadata": {},
     "output_type": "execute_result"
    }
   ],
   "source": [
    "reflexiv_pairs=np.array([[stm,stm]for stm in [let+str(num) for let in [\"A\",\"B\",\"C\"] for num in range(1,7)]])\n",
    "reflexiv_pairs"
   ]
  },
  {
   "cell_type": "markdown",
   "metadata": {},
   "source": [
    "## Symmetry evaluation\n",
    "### Given the trainning pairs, the agent must select the comparator $A_{n}$ in presence of the sample $B_{n}$  and the comparator $B_{n}$ in presence of the sample $C_{n}$ "
   ]
  },
  {
   "cell_type": "code",
   "execution_count": 8,
   "metadata": {},
   "outputs": [
    {
     "data": {
      "text/plain": [
       "array([['B1', 'A1'],\n",
       "       ['C1', 'B1'],\n",
       "       ['B2', 'A2'],\n",
       "       ['C2', 'B2'],\n",
       "       ['B3', 'A3'],\n",
       "       ['C3', 'B3'],\n",
       "       ['B4', 'A4'],\n",
       "       ['C4', 'B4'],\n",
       "       ['B5', 'A5'],\n",
       "       ['C5', 'B5'],\n",
       "       ['B6', 'A6'],\n",
       "       ['C6', 'B6']], dtype='<U2')"
      ]
     },
     "execution_count": 8,
     "metadata": {},
     "output_type": "execute_result"
    }
   ],
   "source": [
    "symmetry_pairs=np.array([[tr_pr[1],tr_pr[0]]for tr_pr in train_pairs])\n",
    "symmetry_pairs"
   ]
  },
  {
   "cell_type": "markdown",
   "metadata": {},
   "source": [
    "## Transitivity\n",
    "### Given the trainning pairs, the agent must select the comparator $C_{n}$ in presence of the sample $A_{n}$"
   ]
  },
  {
   "cell_type": "code",
   "execution_count": 9,
   "metadata": {},
   "outputs": [],
   "source": [
    "transitivity_pairs=np.array([[\"A1\",\"C1\"],\n",
    "                             [\"A2\",\"C2\"],\n",
    "                             [\"A3\",\"C3\"],\n",
    "                             [\"A4\",\"C4\"],\n",
    "                             [\"A5\",\"C5\"],\n",
    "                             [\"A6\",\"C6\"]\n",
    "                            ])"
   ]
  },
  {
   "cell_type": "markdown",
   "metadata": {},
   "source": [
    "## Equivalence\n",
    "### Given the trainning pairs, the agent must select the comparator $A_{n}$ in presence of the sample $C_{n}$"
   ]
  },
  {
   "cell_type": "code",
   "execution_count": 10,
   "metadata": {},
   "outputs": [],
   "source": [
    "equivalence_pairs=np.array([[tr_pr[1],tr_pr[0]]for tr_pr in transitivity_pairs])"
   ]
  },
  {
   "cell_type": "code",
   "execution_count": 11,
   "metadata": {},
   "outputs": [],
   "source": [
    "train_df=pd.DataFrame(train_pairs, columns=[\"st_sample\", \"st_comparator\"])\n",
    "train_df[\"pair_subset\"]=\"train\"\n",
    "\n",
    "explicit_train_df=pd.DataFrame(explicit_train_pairs, columns=[\"st_sample\", \"st_comparator\"])\n",
    "explicit_train_df[\"pair_subset\"]=\"explicit_train\"\n",
    "\n",
    "reflexivity_df=pd.DataFrame(reflexiv_pairs, columns=[\"st_sample\", \"st_comparator\"])\n",
    "reflexivity_df[\"pair_subset\"]=\"reflexivity\"\n",
    "\n",
    "symmetry_df=pd.DataFrame(symmetry_pairs, columns=[\"st_sample\", \"st_comparator\"])\n",
    "symmetry_df[\"pair_subset\"]=\"symmetry\"\n",
    "\n",
    "transitivity_df=pd.DataFrame(transitivity_pairs, columns=[\"st_sample\", \"st_comparator\"])\n",
    "transitivity_df[\"pair_subset\"]=\"transitivity\"\n",
    "\n",
    "equivalence_df=pd.DataFrame(equivalence_pairs, columns=[\"st_sample\", \"st_comparator\"])\n",
    "equivalence_df[\"pair_subset\"]=\"equivalence\"\n",
    "\n",
    "pairs_dataset=pd.concat([train_df,\n",
    "                         explicit_train_df,\n",
    "                         reflexivity_df,\n",
    "                         symmetry_df,\n",
    "                         transitivity_df,\n",
    "                         equivalence_df], \n",
    "                        ignore_index=True, sort=False)"
   ]
  },
  {
   "cell_type": "code",
   "execution_count": 12,
   "metadata": {},
   "outputs": [
    {
     "name": "stdout",
     "output_type": "stream",
     "text": [
      "(63, 3)\n"
     ]
    },
    {
     "data": {
      "text/html": [
       "<div>\n",
       "<style scoped>\n",
       "    .dataframe tbody tr th:only-of-type {\n",
       "        vertical-align: middle;\n",
       "    }\n",
       "\n",
       "    .dataframe tbody tr th {\n",
       "        vertical-align: top;\n",
       "    }\n",
       "\n",
       "    .dataframe thead th {\n",
       "        text-align: right;\n",
       "    }\n",
       "</style>\n",
       "<table border=\"1\" class=\"dataframe\">\n",
       "  <thead>\n",
       "    <tr style=\"text-align: right;\">\n",
       "      <th></th>\n",
       "      <th>st_sample</th>\n",
       "      <th>st_comparator</th>\n",
       "      <th>pair_subset</th>\n",
       "    </tr>\n",
       "  </thead>\n",
       "  <tbody>\n",
       "    <tr>\n",
       "      <th>0</th>\n",
       "      <td>A1</td>\n",
       "      <td>B1</td>\n",
       "      <td>train</td>\n",
       "    </tr>\n",
       "    <tr>\n",
       "      <th>1</th>\n",
       "      <td>B1</td>\n",
       "      <td>C1</td>\n",
       "      <td>train</td>\n",
       "    </tr>\n",
       "    <tr>\n",
       "      <th>2</th>\n",
       "      <td>A2</td>\n",
       "      <td>B2</td>\n",
       "      <td>train</td>\n",
       "    </tr>\n",
       "    <tr>\n",
       "      <th>3</th>\n",
       "      <td>B2</td>\n",
       "      <td>C2</td>\n",
       "      <td>train</td>\n",
       "    </tr>\n",
       "    <tr>\n",
       "      <th>4</th>\n",
       "      <td>A3</td>\n",
       "      <td>B3</td>\n",
       "      <td>train</td>\n",
       "    </tr>\n",
       "    <tr>\n",
       "      <th>...</th>\n",
       "      <td>...</td>\n",
       "      <td>...</td>\n",
       "      <td>...</td>\n",
       "    </tr>\n",
       "    <tr>\n",
       "      <th>58</th>\n",
       "      <td>C2</td>\n",
       "      <td>A2</td>\n",
       "      <td>equivalence</td>\n",
       "    </tr>\n",
       "    <tr>\n",
       "      <th>59</th>\n",
       "      <td>C3</td>\n",
       "      <td>A3</td>\n",
       "      <td>equivalence</td>\n",
       "    </tr>\n",
       "    <tr>\n",
       "      <th>60</th>\n",
       "      <td>C4</td>\n",
       "      <td>A4</td>\n",
       "      <td>equivalence</td>\n",
       "    </tr>\n",
       "    <tr>\n",
       "      <th>61</th>\n",
       "      <td>C5</td>\n",
       "      <td>A5</td>\n",
       "      <td>equivalence</td>\n",
       "    </tr>\n",
       "    <tr>\n",
       "      <th>62</th>\n",
       "      <td>C6</td>\n",
       "      <td>A6</td>\n",
       "      <td>equivalence</td>\n",
       "    </tr>\n",
       "  </tbody>\n",
       "</table>\n",
       "<p>63 rows × 3 columns</p>\n",
       "</div>"
      ],
      "text/plain": [
       "   st_sample st_comparator  pair_subset\n",
       "0         A1            B1        train\n",
       "1         B1            C1        train\n",
       "2         A2            B2        train\n",
       "3         B2            C2        train\n",
       "4         A3            B3        train\n",
       "..       ...           ...          ...\n",
       "58        C2            A2  equivalence\n",
       "59        C3            A3  equivalence\n",
       "60        C4            A4  equivalence\n",
       "61        C5            A5  equivalence\n",
       "62        C6            A6  equivalence\n",
       "\n",
       "[63 rows x 3 columns]"
      ]
     },
     "execution_count": 12,
     "metadata": {},
     "output_type": "execute_result"
    }
   ],
   "source": [
    "print(pairs_dataset.shape)\n",
    "pairs_dataset"
   ]
  },
  {
   "cell_type": "code",
   "execution_count": 13,
   "metadata": {},
   "outputs": [
    {
     "data": {
      "text/plain": [
       "reflexivity       18\n",
       "symmetry          12\n",
       "train             12\n",
       "explicit_train     9\n",
       "equivalence        6\n",
       "transitivity       6\n",
       "Name: pair_subset, dtype: int64"
      ]
     },
     "execution_count": 13,
     "metadata": {},
     "output_type": "execute_result"
    }
   ],
   "source": [
    "pairs_dataset.pair_subset.value_counts()"
   ]
  },
  {
   "cell_type": "markdown",
   "metadata": {},
   "source": [
    "## Complete combination creation\n",
    "Complete combination creation with 5 options and 7 classes costs time and memory. 21 stimuli combinations are $21^{6}=85766121$. Too much for a local machine.\n",
    "\n",
    "Alternative  (until you find a better method): \n",
    "1. create loop for every combination. (for for for...)\n",
    "2. evaluate each pair on trial. (train-eq-sym-tran-refl) inside the creation of the pair\n",
    "3. Select trials with one pair identified. If pair not in subsets, then no-go pair (Marked as str_zero)"
   ]
  },
  {
   "cell_type": "code",
   "execution_count": 14,
   "metadata": {},
   "outputs": [
    {
     "data": {
      "text/plain": [
       "50625"
      ]
     },
     "execution_count": 14,
     "metadata": {},
     "output_type": "execute_result"
    }
   ],
   "source": [
    "15**4"
   ]
  },
  {
   "cell_type": "code",
   "execution_count": 15,
   "metadata": {},
   "outputs": [
    {
     "data": {
      "text/plain": [
       "(50625, 4)"
      ]
     },
     "execution_count": 15,
     "metadata": {},
     "output_type": "execute_result"
    }
   ],
   "source": [
    "test_combinations=np.array([[st_sample, st_comp1, st_comp2,st_comp3] \n",
    "                            for st_sample in list(stims.keys()) \n",
    "                            for st_comp1 in list(stims.keys())\n",
    "                            for st_comp2 in list(stims.keys())\n",
    "                            for st_comp3 in list(stims.keys())\n",
    "])\n",
    "test_combinations.shape"
   ]
  },
  {
   "cell_type": "code",
   "execution_count": 16,
   "metadata": {},
   "outputs": [
    {
     "name": "stdout",
     "output_type": "stream",
     "text": [
      "Start::::::: Sun, 24 May 2020 22:46:44\n",
      "A1 processed Sun, 24 May 2020 22:46:54\n",
      "A2 processed Sun, 24 May 2020 22:47:06\n",
      "A3 processed Sun, 24 May 2020 22:47:19\n",
      "A4 processed Sun, 24 May 2020 22:47:35\n",
      "TX processed Sun, 24 May 2020 22:47:47\n",
      "B1 processed Sun, 24 May 2020 22:48:00\n",
      "B2 processed Sun, 24 May 2020 22:48:13\n",
      "B3 processed Sun, 24 May 2020 22:48:24\n",
      "B4 processed Sun, 24 May 2020 22:48:37\n",
      "TY processed Sun, 24 May 2020 22:48:51\n",
      "C1 processed Sun, 24 May 2020 22:49:05\n",
      "C2 processed Sun, 24 May 2020 22:49:17\n",
      "C3 processed Sun, 24 May 2020 22:49:28\n",
      "C4 processed Sun, 24 May 2020 22:49:40\n",
      "TZ processed Sun, 24 May 2020 22:49:51\n"
     ]
    }
   ],
   "source": [
    "# break_loop=500\n",
    "print(\"Start:::::::\",strftime(\"%a, %d %b %Y %H:%M:%S\", localtime()))\n",
    "pair_info=[]\n",
    "trial_comb=[]\n",
    "trial_select=[]\n",
    "trial_answer=[]\n",
    "trial_values=[]\n",
    "id_trial=0\n",
    "for st_sample in list(stims.keys()):\n",
    "    for st_comp1 in list(stims.keys()):\n",
    "        for st_comp2 in list(stims.keys()):\n",
    "            for st_comp3 in list(stims.keys()):\n",
    "                trial=[id_trial,st_sample,\n",
    "                       st_comp1,st_comp2,st_comp3]#,st_comp4,st_comp5\n",
    "                trial_comb.append(trial)\n",
    "                trial_pairs=[]\n",
    "                for st_comparator_loop in [st_comp1,st_comp2,st_comp3]:#,st_comp4,st_comp5\n",
    "                    search_pair=pairs_dataset.pair_subset[(pairs_dataset.st_sample==st_sample)&\n",
    "                                                          (pairs_dataset.st_comparator==st_comparator_loop)]\n",
    "                    trial_pairs.append(str(search_pair.sum()))\n",
    "                    pair_info.append([id_trial,st_sample, st_comparator_loop, search_pair.sum()])# export line to file\n",
    "                if (sum([pair_eval==\"0\" for pair_eval in trial_pairs])>1)&(len(list(set(trial_pairs)))<3):\n",
    "                    option_filter=([not(pair_eval==\"0\") for pair_eval in trial_pairs])*1\n",
    "                    option_key=list(options.keys())[list(options.values()).index(option_filter)]\n",
    "                    trial_select.append([id_trial,st_sample,\n",
    "                                         st_comp1,st_comp2,st_comp3,#st_comp4,st_comp5,\n",
    "                                         trial_pairs[0],trial_pairs[1],trial_pairs[2],#,trial_pairs[3],trial_pairs[4]\n",
    "                                         option_key\n",
    "                                        ])\n",
    "                    trial_embedding=[bit_emb for stml in [st_sample,st_comp1,st_comp2,st_comp3] for bit_emb in stims[stml]]\n",
    "                    trial_embedding.insert(0,id_trial)\n",
    "                    trial_values.append(trial_embedding)\n",
    "                    option_embedding=options[option_key].copy()\n",
    "                    option_embedding.insert(0,id_trial)\n",
    "                    trial_answer.append(option_embedding)\n",
    "                id_trial+=1\n",
    "    print(st_sample, \"processed\", strftime(\"%a, %d %b %Y %H:%M:%S\", localtime()))\n",
    "#     if id_trial>break_loop:\n",
    "#         print(\"break loop\")\n",
    "#         break\n"
   ]
  },
  {
   "cell_type": "code",
   "execution_count": 17,
   "metadata": {},
   "outputs": [
    {
     "name": "stdout",
     "output_type": "stream",
     "text": [
      "pair_info (151875, 4)\n",
      "trial_comb (50625, 5)\n",
      "trial_select (45360, 9)\n",
      "trial_answer (45360, 4)\n",
      "trial_values (45360, 61)\n"
     ]
    }
   ],
   "source": [
    "pair_info_array=np.array(pair_info)\n",
    "trial_comb_array=np.array(trial_comb)\n",
    "trial_select_array=np.array(trial_select)\n",
    "trial_answer_array=np.array(trial_answer)\n",
    "trial_values_array=np.array(trial_values)\n",
    "\n",
    "print(\"pair_info\",pair_info_array.shape)\n",
    "print(\"trial_comb\",trial_comb_array.shape)\n",
    "print(\"trial_select\",trial_select_array.shape)\n",
    "print(\"trial_answer\",trial_answer_array.shape)\n",
    "print(\"trial_values\",trial_values_array.shape)"
   ]
  },
  {
   "cell_type": "code",
   "execution_count": 18,
   "metadata": {},
   "outputs": [],
   "source": [
    "pd.DataFrame(pair_info_array).to_csv(\"pair_info_array.csv\")\n",
    "pd.DataFrame(trial_comb_array).to_csv(\"trial_comb_array.csv\")\n",
    "pd.DataFrame(trial_select_array).to_csv(\"trial_select_array.csv\")\n",
    "pd.DataFrame(trial_answer_array).to_csv(\"trial_answer_array.csv\")\n",
    "pd.DataFrame(trial_values_array).to_csv(\"trial_values_array.csv\")"
   ]
  },
  {
   "cell_type": "code",
   "execution_count": 19,
   "metadata": {},
   "outputs": [],
   "source": [
    "dat_selected_df=pd.DataFrame(trial_select_array)\n",
    "dat_selected_df.columns=[\"id_trial\",\"st_sample\",\n",
    "                      \"st_comp1\",\"st_comp2\",\"st_comp3\",\n",
    "                      \"sample_c1_subset\",\"sample_c2_subset\",\"sample_c3_subset\",\n",
    "                      \"option_answer\"\n",
    "                     ]\n",
    "dat_selected_df.id_trial=pd.to_numeric(dat_selected_df.id_trial)\n",
    "dat_selected_df.set_index(\"id_trial\", inplace=True)"
   ]
  },
  {
   "cell_type": "code",
   "execution_count": 20,
   "metadata": {},
   "outputs": [
    {
     "name": "stdout",
     "output_type": "stream",
     "text": [
      "no-go trials  25920\n",
      "train trials  3456\n",
      "explicit_train trials  3888\n",
      "reflexivity trials  5184\n",
      "symmetry trials  3456\n",
      "transitivity trials  1728\n",
      "equivalence trials  1728\n"
     ]
    }
   ],
   "source": [
    "print(\"no-go trials \",((dat_selected_df[[\"sample_c1_subset\",\"sample_c2_subset\",\"sample_c3_subset\"]]==\"0\").sum(axis=1)>2).sum())\n",
    "print(\"train trials \",((dat_selected_df[[\"sample_c1_subset\",\"sample_c2_subset\",\"sample_c3_subset\"]]==\"train\").sum(axis=1)>0).sum())\n",
    "print(\"explicit_train trials \",((dat_selected_df[[\"sample_c1_subset\",\"sample_c2_subset\",\"sample_c3_subset\"]]==\"explicit_train\").sum(axis=1)>0).sum())\n",
    "print(\"reflexivity trials \",((dat_selected_df[[\"sample_c1_subset\",\"sample_c2_subset\",\"sample_c3_subset\"]]==\"reflexivity\").sum(axis=1)>0).sum())\n",
    "print(\"symmetry trials \",((dat_selected_df[[\"sample_c1_subset\",\"sample_c2_subset\",\"sample_c3_subset\"]]==\"symmetry\").sum(axis=1)>0).sum())\n",
    "print(\"transitivity trials \",((dat_selected_df[[\"sample_c1_subset\",\"sample_c2_subset\",\"sample_c3_subset\"]]==\"transitivity\").sum(axis=1)>0).sum())\n",
    "print(\"equivalence trials \",((dat_selected_df[[\"sample_c1_subset\",\"sample_c2_subset\",\"sample_c3_subset\"]]==\"equivalence\").sum(axis=1)>0).sum())"
   ]
  },
  {
   "cell_type": "code",
   "execution_count": 21,
   "metadata": {},
   "outputs": [],
   "source": [
    "nogo_values, nogo_answers, nogo_info=get_trials_subset(dat_selected_df,\"0\",trial_values_array,trial_answer_array)"
   ]
  },
  {
   "cell_type": "code",
   "execution_count": 22,
   "metadata": {},
   "outputs": [],
   "source": [
    "train_values, train_answers, train_info=get_trials_subset(dat_selected_df,\"train\",trial_values_array,trial_answer_array)"
   ]
  },
  {
   "cell_type": "code",
   "execution_count": 23,
   "metadata": {},
   "outputs": [],
   "source": [
    "explicit_train_values, explicit_train_answers, explicit_train_info=get_trials_subset(dat_selected_df,\"explicit_train\",trial_values_array,trial_answer_array)"
   ]
  },
  {
   "cell_type": "code",
   "execution_count": 24,
   "metadata": {},
   "outputs": [],
   "source": [
    "reflexivity_values, reflexivity_answers, reflexivity_info=get_trials_subset(dat_selected_df,\"reflexivity\",trial_values_array,trial_answer_array)"
   ]
  },
  {
   "cell_type": "code",
   "execution_count": 25,
   "metadata": {},
   "outputs": [],
   "source": [
    "symmetry_values, symmetry_answers, symmetry_info=get_trials_subset(dat_selected_df,\"symmetry\",trial_values_array,trial_answer_array)"
   ]
  },
  {
   "cell_type": "code",
   "execution_count": 26,
   "metadata": {},
   "outputs": [],
   "source": [
    "transitivity_values, transitivity_answers, transitivity_info=get_trials_subset(dat_selected_df,\"transitivity\",trial_values_array,trial_answer_array)"
   ]
  },
  {
   "cell_type": "code",
   "execution_count": 27,
   "metadata": {},
   "outputs": [],
   "source": [
    "equivalence_values, equivalence_answers, equivalence_info=get_trials_subset(dat_selected_df,\"equivalence\",trial_values_array,trial_answer_array)"
   ]
  }
 ],
 "metadata": {
  "kernelspec": {
   "display_name": "Python 3",
   "language": "python",
   "name": "python3"
  },
  "language_info": {
   "codemirror_mode": {
    "name": "ipython",
    "version": 3
   },
   "file_extension": ".py",
   "mimetype": "text/x-python",
   "name": "python",
   "nbconvert_exporter": "python",
   "pygments_lexer": "ipython3",
   "version": "3.7.7"
  }
 },
 "nbformat": 4,
 "nbformat_minor": 4
}
